{
 "cells": [
  {
   "cell_type": "markdown",
   "metadata": {},
   "source": [
    "These are code snippets that I use to try new things before putting them into a tutorial notebook."
   ]
  },
  {
   "cell_type": "markdown",
   "metadata": {},
   "source": [
    "1. Diamond Square Lattice"
   ]
  },
  {
   "cell_type": "code",
   "execution_count": null,
   "metadata": {},
   "outputs": [],
   "source": [
    "from crystalbuilder import *\n",
    "import numpy as np\n",
    "import crystalbuilder.geometry as geo\n",
    "import matplotlib.pyplot as plt\n",
    "import numpy as np\n",
    "import vedo\n",
    "\n",
    "diam = bilbao.SpaceGroup(227)\n",
    "\n",
    "points = diam.calculate_points([(1/8,1/8,1/8)])\n",
    "\n"
   ]
  },
  {
   "cell_type": "code",
   "execution_count": 2,
   "metadata": {},
   "outputs": [
    {
     "name": "stdout",
     "output_type": "stream",
     "text": [
      "[[-0.125 -0.125 -0.125]\n",
      " [-0.125  0.375  0.375]\n",
      " [-0.125  0.875  0.875]\n",
      " [ 0.125  0.125  0.125]\n",
      " [ 0.125  0.625  0.625]\n",
      " [ 0.375 -0.125  0.375]\n",
      " [ 0.375  0.375 -0.125]\n",
      " [ 0.375  0.375  0.875]\n",
      " [ 0.375  0.875  0.375]\n",
      " [ 0.625  0.125  0.625]\n",
      " [ 0.625  0.625  0.125]\n",
      " [ 0.875 -0.125  0.875]\n",
      " [ 0.875  0.375  0.375]\n",
      " [ 0.875  0.875 -0.125]]\n",
      "(14, 3)\n"
     ]
    }
   ],
   "source": [
    "newpoints = np.unique((points), axis=0)\n",
    "print(newpoints)\n",
    "print(newpoints.shape)\n",
    "\n",
    "a1 = [1, 0, 0]\n",
    "a2 = [0, 1 ,0]\n",
    "a3 = [0, 0, 1]\n",
    "\n",
    "a_mag = 1\n",
    "\n",
    "geo_lattice = lattice.Lattice(a1, a2, a3, magnitude = [a_mag, a_mag, a_mag])\n",
    "\n",
    "radius = .01\n",
    "\n",
    "conn = geo.NearestNeighbors(newpoints, radius=radius, neighborhood_range=.45)\n",
    "a1_reps = 5\n",
    "a2_reps = 5\n",
    "a3_reps = 5\n",
    "crystal = geo_lattice.tile_geogeometry(conn.structure_list, a1_reps, a2_reps, a3_reps )\n"
   ]
  },
  {
   "cell_type": "code",
   "execution_count": 3,
   "metadata": {},
   "outputs": [
    {
     "data": {
      "text/plain": [
       "<vedo.plotter.Plotter at 0x7fb958214790>"
      ]
     },
     "execution_count": 3,
     "metadata": {},
     "output_type": "execute_result"
    }
   ],
   "source": [
    "plot = viewer.visualize(crystal)\n",
    "plot.show().close()"
   ]
  }
 ],
 "metadata": {
  "kernelspec": {
   "display_name": "simulation",
   "language": "python",
   "name": "python3"
  },
  "language_info": {
   "codemirror_mode": {
    "name": "ipython",
    "version": 3
   },
   "file_extension": ".py",
   "mimetype": "text/x-python",
   "name": "python",
   "nbconvert_exporter": "python",
   "pygments_lexer": "ipython3",
   "version": "3.11.5"
  }
 },
 "nbformat": 4,
 "nbformat_minor": 2
}
