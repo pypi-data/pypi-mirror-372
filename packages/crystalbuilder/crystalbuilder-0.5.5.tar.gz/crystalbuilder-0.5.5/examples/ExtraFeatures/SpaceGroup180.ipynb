{
 "cells": [
  {
   "cell_type": "code",
   "execution_count": 37,
   "metadata": {},
   "outputs": [],
   "source": [
    "from crystalbuilder import *\n",
    "import crystalbuilder.geometry as geo\n",
    "import matplotlib.pyplot as plt\n",
    "import numpy as np\n",
    "import vedo"
   ]
  },
  {
   "cell_type": "markdown",
   "metadata": {},
   "source": [
    "This notebook will show how CrystalBuilder can be used to create arbitrary crystals for visualization or further simulation.\n",
    "\n",
    "Specifically, let's look at space group #180\n",
    "\n",
    "This is a hexagonal crystal system with Hermann Mauguin symbol $P6_{2}22$\n",
    "\n",
    "Interestingly, this is one of the chiral space groups. It is enantiomorphic with space group #181, $P6_{4}22$"
   ]
  },
  {
   "cell_type": "code",
   "execution_count": 38,
   "metadata": {},
   "outputs": [],
   "source": [
    "a1 = [1/2, -np.sqrt(3)/2, 0] # (1/2)x - (sqrt(3)/2)y\n",
    "a2 = [1/2, np.sqrt(3)/2, 0] #(1/2)x + (sqrt(3)/2)y\n",
    "a3 = [0, 0, 1] # cz\n",
    "\n",
    "a_mag = 1\n",
    "\n",
    "geo_lattice = lattice.Lattice(a1, a2, a3, magnitude = [a_mag, a_mag, a_mag])"
   ]
  },
  {
   "cell_type": "markdown",
   "metadata": {},
   "source": [
    "We've defined our lattice, now let's get the positions of the \"atoms.\"\n",
    "\n",
    "To avoid manually specifying those sites, let's take advantage of the Bilbao Crystallographic Server. Fortunately, CrystalBuilder includes a package that can grab and parse the generators from [the Bilbao site](https://www.cryst.ehu.es). \n",
    "<br>\n",
    "<summary>The Bilbao database is summarized in the following papers, which should be cited if this function is used. </summary>\n",
    "\n",
    "<details>\n",
    "\n",
    ">\n",
    ">M. I. Aroyo, J. M. Perez-Mato, D. Orobengoa, E. Tasci, G. de la Flor, A. Kirov\n",
    "\"Crystallography online: Bilbao Crystallographic Server\"\n",
    "Bulg. Chem. Commun. 43(2) 183-197 (2011).\n",
    ">\n",
    ">M. I. Aroyo, J. M. Perez-Mato, C. Capillas, E. Kroumova, S. Ivantchev, G. Madariaga, A. Kirov & H. Wondratschek\n",
    "\"Bilbao Crystallographic Server I: Databases and crystallographic computing programs\"\n",
    " Z. Krist. 221, 1, 15-27 (2006)\n",
    ">\n",
    ">M. I. Aroyo, A. Kirov, C. Capillas, J. M. Perez-Mato & H. Wondratschek\n",
    "\"Bilbao Crystallographic Server II: Representations of crystallographic point groups and space groups\"\n",
    "Acta Cryst. A62, 115-128 (2006)\n",
    ">\n",
    "</details>\n",
    "\n",
    "The bilbao.SpaceGroup() class contains functions for applying symmetry operations to specified points. An instance of the space group must be initialized, with the only argument being the IUCr space group number (1-230).\n",
    "\n",
    "After this, the calculate_points function will accept any number of input coordinates and perform all of the symmetry operations. The output will be either a numpy array (default) or a list. If using a numpy array, the output will contain only the unique results of the symmetry operations. A list will contain duplicates, as np.unique() requires a conversion to an ndarray. For this reason, it is strongly recommended to use the default numpy output.\n",
    "\n",
    "<br>\n",
    "\n",
    "To emphasize the chirality of this space group, let's choose the 3b Wyckoff position (0,0,5/6). The generators "
   ]
  },
  {
   "cell_type": "code",
   "execution_count": null,
   "metadata": {},
   "outputs": [],
   "source": [
    "group = bilbao.SpaceGroup(180)\n",
    "\n",
    "points = group.calculate_points(point_list=[(0, 0, 5/6)]) #This is the 3b wyckoff position"
   ]
  },
  {
   "cell_type": "markdown",
   "metadata": {},
   "source": [
    "We'll just represent these atoms as spheres. "
   ]
  },
  {
   "cell_type": "code",
   "execution_count": 40,
   "metadata": {},
   "outputs": [],
   "source": [
    "radius = .125\n",
    "atoms = [geo.Sphere(center=point, radius=radius) for point in points]"
   ]
  },
  {
   "cell_type": "markdown",
   "metadata": {},
   "source": [
    "Now lets use our previously defined lattice to tile these into a crystal."
   ]
  },
  {
   "cell_type": "code",
   "execution_count": 41,
   "metadata": {},
   "outputs": [],
   "source": [
    "a1_reps = 2\n",
    "a2_reps = 2\n",
    "a3_reps = 2\n",
    "crystal = geo_lattice.tile_geogeometry(atoms, a1_reps, a2_reps, a3_reps )"
   ]
  },
  {
   "cell_type": "markdown",
   "metadata": {},
   "source": [
    "We can visualize this using CrystalBuilder's viewer package, which builds the structure as a Vedo scene. "
   ]
  },
  {
   "cell_type": "code",
   "execution_count": 42,
   "metadata": {},
   "outputs": [
    {
     "data": {
      "text/plain": [
       "<vedo.plotter.Plotter at 0x7bbf3df231d0>"
      ]
     },
     "execution_count": 42,
     "metadata": {},
     "output_type": "execute_result"
    }
   ],
   "source": [
    "scene = viewer.visualize(crystal)\n",
    "scene.show().close()"
   ]
  },
  {
   "cell_type": "markdown",
   "metadata": {},
   "source": [
    "This looks pretty boring. We can choose a different wyckoff site, but let's go ahead and compare it to #181."
   ]
  },
  {
   "cell_type": "code",
   "execution_count": null,
   "metadata": {},
   "outputs": [],
   "source": [
    "other_group = bilbao.SpaceGroup(181)\n",
    "other_points = other_group.calculate_points(point_list=[(0, 0, 5/6)]) #This is the 3b wyckoff position\n",
    "other_radius = .125\n",
    "other_atoms = [geo.Sphere(center=point, radius=other_radius) for point in other_points]\n",
    "\n",
    "a1_reps = 2\n",
    "a2_reps = 2\n",
    "a3_reps = 2\n",
    "other_crystal = geo_lattice.tile_geogeometry(other_atoms, a1_reps, a2_reps, a3_reps )"
   ]
  },
  {
   "cell_type": "markdown",
   "metadata": {},
   "source": [
    "And let's add it to our visualizer and display everything again."
   ]
  },
  {
   "cell_type": "code",
   "execution_count": 44,
   "metadata": {},
   "outputs": [
    {
     "data": {
      "text/plain": [
       "<vedo.plotter.Plotter at 0x7bbf3df7d910>"
      ]
     },
     "execution_count": 44,
     "metadata": {},
     "output_type": "execute_result"
    }
   ],
   "source": [
    "scene = viewer.visualize(crystal, c='blue', alpha=.5)\n",
    "viewer.add_to_visualizer(other_crystal, scene, c='red', alpha=.5)\n",
    "scene.show().close()"
   ]
  }
 ],
 "metadata": {
  "kernelspec": {
   "display_name": "simulation",
   "language": "python",
   "name": "python3"
  },
  "language_info": {
   "codemirror_mode": {
    "name": "ipython",
    "version": 3
   },
   "file_extension": ".py",
   "mimetype": "text/x-python",
   "name": "python",
   "nbconvert_exporter": "python",
   "pygments_lexer": "ipython3",
   "version": "3.11.0"
  }
 },
 "nbformat": 4,
 "nbformat_minor": 2
}
