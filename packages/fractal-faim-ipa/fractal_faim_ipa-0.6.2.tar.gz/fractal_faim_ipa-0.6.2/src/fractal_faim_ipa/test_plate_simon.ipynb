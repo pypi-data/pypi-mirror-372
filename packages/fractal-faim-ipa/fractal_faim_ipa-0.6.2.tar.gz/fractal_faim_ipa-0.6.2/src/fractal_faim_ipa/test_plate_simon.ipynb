{
 "cells": [
  {
   "cell_type": "code",
   "execution_count": null,
   "id": "24809d62",
   "metadata": {},
   "outputs": [],
   "source": [
    "from fractal_faim_ipa.convert_md_to_ome_zarr import convert_md_to_ome_zarr"
   ]
  },
  {
   "cell_type": "code",
   "execution_count": null,
   "id": "d3e5990f",
   "metadata": {},
   "outputs": [
    {
     "name": "stderr",
     "output_type": "stream",
     "text": [
      "2025-05-12 14:47:19,484; INFO; Processing a multiplexing acquisition with plates acquisitions=[AcquisitionInputModel(path='/Users/joel/Desktop/MP-Pilot/20250507-MP-Pilot-R0', plate_name='Simon_multiplexing_plate', acquisition_id=0), AcquisitionInputModel(path='/Users/joel/Desktop/MP-Pilot/20250507-MP-Pilot-R1', plate_name='Simon_multiplexing_plate', acquisition_id=1), AcquisitionInputModel(path='/Users/joel/Desktop/MP-Pilot/20250507-MP-Pilot-R2', plate_name='Simon_multiplexing_plate', acquisition_id=2)]\n"
     ]
    },
    {
     "name": "stdout",
     "output_type": "stream",
     "text": [
      "3\n",
      "3\n"
     ]
    },
    {
     "name": "stderr",
     "output_type": "stream",
     "text": [
      "100%|██████████| 3/3 [00:03<00:00,  1.07s/it]\n",
      "100%|██████████| 3/3 [00:03<00:00,  1.16s/it]\n",
      "100%|██████████| 3/3 [00:03<00:00,  1.05s/it]\n"
     ]
    },
    {
     "data": {
      "text/plain": [
       "{'image_list_updates': [{'zarr_url': '/Users/joel/Desktop/MP-Pilot/zarr_output/Simon_multiplexing_plate.zarr/B/02/0',\n",
       "   'attributes': {'plate': 'Simon_multiplexing_plate.zarr',\n",
       "    'well': 'B02',\n",
       "    'acquisition': 0},\n",
       "   'types': {'is_3D': True}},\n",
       "  {'zarr_url': '/Users/joel/Desktop/MP-Pilot/zarr_output/Simon_multiplexing_plate.zarr/B/09/0',\n",
       "   'attributes': {'plate': 'Simon_multiplexing_plate.zarr',\n",
       "    'well': 'B09',\n",
       "    'acquisition': 0},\n",
       "   'types': {'is_3D': True}},\n",
       "  {'zarr_url': '/Users/joel/Desktop/MP-Pilot/zarr_output/Simon_multiplexing_plate.zarr/B/05/0',\n",
       "   'attributes': {'plate': 'Simon_multiplexing_plate.zarr',\n",
       "    'well': 'B05',\n",
       "    'acquisition': 0},\n",
       "   'types': {'is_3D': True}},\n",
       "  {'zarr_url': '/Users/joel/Desktop/MP-Pilot/zarr_output/Simon_multiplexing_plate.zarr/B/09/1',\n",
       "   'attributes': {'plate': 'Simon_multiplexing_plate.zarr',\n",
       "    'well': 'B09',\n",
       "    'acquisition': 1},\n",
       "   'types': {'is_3D': True}},\n",
       "  {'zarr_url': '/Users/joel/Desktop/MP-Pilot/zarr_output/Simon_multiplexing_plate.zarr/B/02/1',\n",
       "   'attributes': {'plate': 'Simon_multiplexing_plate.zarr',\n",
       "    'well': 'B02',\n",
       "    'acquisition': 1},\n",
       "   'types': {'is_3D': True}},\n",
       "  {'zarr_url': '/Users/joel/Desktop/MP-Pilot/zarr_output/Simon_multiplexing_plate.zarr/B/05/1',\n",
       "   'attributes': {'plate': 'Simon_multiplexing_plate.zarr',\n",
       "    'well': 'B05',\n",
       "    'acquisition': 1},\n",
       "   'types': {'is_3D': True}},\n",
       "  {'zarr_url': '/Users/joel/Desktop/MP-Pilot/zarr_output/Simon_multiplexing_plate.zarr/B/02/2',\n",
       "   'attributes': {'plate': 'Simon_multiplexing_plate.zarr',\n",
       "    'well': 'B02',\n",
       "    'acquisition': 2},\n",
       "   'types': {'is_3D': True}},\n",
       "  {'zarr_url': '/Users/joel/Desktop/MP-Pilot/zarr_output/Simon_multiplexing_plate.zarr/B/09/2',\n",
       "   'attributes': {'plate': 'Simon_multiplexing_plate.zarr',\n",
       "    'well': 'B09',\n",
       "    'acquisition': 2},\n",
       "   'types': {'is_3D': True}},\n",
       "  {'zarr_url': '/Users/joel/Desktop/MP-Pilot/zarr_output/Simon_multiplexing_plate.zarr/B/05/2',\n",
       "   'attributes': {'plate': 'Simon_multiplexing_plate.zarr',\n",
       "    'well': 'B05',\n",
       "    'acquisition': 2},\n",
       "   'types': {'is_3D': True}}]}"
      ]
     },
     "execution_count": 3,
     "metadata": {},
     "output_type": "execute_result"
    }
   ],
   "source": [
    "zarr_dir = \"/Users/joel/Desktop/MP-Pilot/zarr_output\"\n",
    "\n",
    "acquisitions = [\n",
    "    {\n",
    "        \"path\": \"/Users/joel/Desktop/MP-Pilot/20250507-MP-Pilot-R0\",\n",
    "        \"plate_name\": \"Simon_multiplexing_plate\",\n",
    "        \"acquisition_id\": 0,\n",
    "    },\n",
    "    {\n",
    "        \"path\": \"/Users/joel/Desktop/MP-Pilot/20250507-MP-Pilot-R1\",\n",
    "        \"plate_name\": \"Simon_multiplexing_plate\",\n",
    "        \"acquisition_id\": 1,\n",
    "    },\n",
    "    {\n",
    "        \"path\": \"/Users/joel/Desktop/MP-Pilot/20250507-MP-Pilot-R2\",\n",
    "        \"plate_name\": \"Simon_multiplexing_plate\",\n",
    "        \"acquisition_id\": 2,\n",
    "    },\n",
    "]\n",
    "\n",
    "convert_md_to_ome_zarr(\n",
    "    zarr_dir=zarr_dir,\n",
    "    acquisitions=acquisitions,\n",
    "    mode=\"Mixed Acquisition\",\n",
    "    tile_alignment=\"GridAlignment\",\n",
    "    layout=96,\n",
    "    reset_plates=True,\n",
    ")"
   ]
  },
  {
   "cell_type": "code",
   "execution_count": null,
   "id": "f3a01e69",
   "metadata": {},
   "outputs": [],
   "source": []
  }
 ],
 "metadata": {
  "kernelspec": {
   "display_name": "fractal-faim-ipa",
   "language": "python",
   "name": "python3"
  },
  "language_info": {
   "codemirror_mode": {
    "name": "ipython",
    "version": 3
   },
   "file_extension": ".py",
   "mimetype": "text/x-python",
   "name": "python",
   "nbconvert_exporter": "python",
   "pygments_lexer": "ipython3",
   "version": "3.11.11"
  }
 },
 "nbformat": 4,
 "nbformat_minor": 5
}
