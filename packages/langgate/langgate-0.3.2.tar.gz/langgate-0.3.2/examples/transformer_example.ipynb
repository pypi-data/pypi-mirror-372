{
 "cells": [
  {
   "cell_type": "markdown",
   "metadata": {},
   "source": [
    "# Parameter Transformation Example\n",
    "\n",
    "This notebook demonstrates how to use the `LocalTransformerClient` to transform input parameters for LLM requests based on model-specific configurations."
   ]
  },
  {
   "cell_type": "code",
   "execution_count": 1,
   "metadata": {},
   "outputs": [],
   "source": [
    "import os\n",
    "from pprint import pprint as pp\n",
    "\n",
    "# Optional environment variables\n",
    "# os.environ[\"LANGGATE_CONFIG\"] = \"path/to/langgate_config.yaml\"\n",
    "# os.environ[\"LOG_LEVEL\"] = \"debug\""
   ]
  },
  {
   "cell_type": "markdown",
   "metadata": {},
   "source": [
    "## Initialize the Transformer Client"
   ]
  },
  {
   "cell_type": "code",
   "execution_count": 3,
   "metadata": {},
   "outputs": [],
   "source": [
    "from langgate.transform import LocalTransformerClient\n",
    "\n",
    "# Initialize the transformer client\n",
    "transformer = LocalTransformerClient()"
   ]
  },
  {
   "cell_type": "markdown",
   "metadata": {},
   "source": [
    "## Define Input Parameters\n",
    "\n",
    "These are the parameters that would typically be provided by your application code."
   ]
  },
  {
   "cell_type": "code",
   "execution_count": 4,
   "metadata": {},
   "outputs": [],
   "source": [
    "# Sample user parameters\n",
    "input_params = {\n",
    "    \"temperature\": 0.7,\n",
    "    \"max_tokens\": 1000,\n",
    "    \"stream\": True,\n",
    "}"
   ]
  },
  {
   "cell_type": "markdown",
   "metadata": {},
   "source": [
    "## Transform Parameters for a Specific Model\n",
    "\n",
    "The transformer will apply transformations based on the model configuration in `langgate_config.yaml`."
   ]
  },
  {
   "cell_type": "code",
   "execution_count": 5,
   "metadata": {},
   "outputs": [
    {
     "name": "stdout",
     "output_type": "stream",
     "text": [
      "Original parameters for anthropic/claude-sonnet-4:\n",
      "{'max_tokens': 1000, 'stream': True, 'temperature': 0.7}\n",
      "\n",
      "Transformed parameters:\n",
      "('anthropic',\n",
      " {'api_key': SecretStr('**********'),\n",
      "  'base_url': 'https://api.anthropic.com',\n",
      "  'max_tokens': 1000,\n",
      "  'model': 'claude-sonnet-4-0',\n",
      "  'stream': True,\n",
      "  'temperature': 0.7})\n"
     ]
    }
   ],
   "source": [
    "# Transform parameters for an Anthropic model\n",
    "model_id = \"anthropic/claude-sonnet-4\"\n",
    "\n",
    "transformed = await transformer.get_params(model_id, input_params)\n",
    "\n",
    "print(f\"Original parameters for {model_id}:\")\n",
    "pp(input_params)\n",
    "\n",
    "print(\"\\nTransformed parameters:\")\n",
    "pp(transformed)"
   ]
  },
  {
   "cell_type": "markdown",
   "metadata": {},
   "source": [
    "## Working with Model-Specific Configurations\n",
    "\n",
    "Different models may have different parameter transformations defined in `langgate_config.yaml`.\n",
    "You can define \"virtual models\" with IDs referring to a model + a configuration."
   ]
  },
  {
   "cell_type": "code",
   "execution_count": 6,
   "metadata": {},
   "outputs": [
    {
     "name": "stdout",
     "output_type": "stream",
     "text": [
      "Original parameters for anthropic/claude-sonnet-4-reasoning:\n",
      "{'max_tokens': 1000, 'stream': True, 'temperature': 0.7}\n",
      "\n",
      "Transformed parameters:\n",
      "('anthropic',\n",
      " {'api_key': SecretStr('**********'),\n",
      "  'base_url': 'https://api.anthropic.com',\n",
      "  'max_tokens': 1000,\n",
      "  'model': 'claude-sonnet-4-0',\n",
      "  'stream': True,\n",
      "  'thinking': {'budget_tokens': 1024, 'type': 'enabled'}})\n"
     ]
    }
   ],
   "source": [
    "# Using a model with a specific configuration.\n",
    "# Anthropic has no actual model with this ID. We define it ourselves,\n",
    "# to reference claude-sonnet-4 with a specific reasoning configuration.\n",
    "model_id = \"anthropic/claude-sonnet-4-reasoning\"\n",
    "\n",
    "transformed = await transformer.get_params(model_id, input_params)\n",
    "\n",
    "print(f\"Original parameters for {model_id}:\")\n",
    "pp(input_params)\n",
    "\n",
    "print(\"\\nTransformed parameters:\")\n",
    "pp(transformed)"
   ]
  },
  {
   "cell_type": "markdown",
   "metadata": {},
   "source": [
    "## Transform Parameters for Image Models\n",
    "\n",
    "The transformer also works with image generation models."
   ]
  },
  {
   "cell_type": "code",
   "execution_count": 7,
   "metadata": {},
   "outputs": [
    {
     "name": "stdout",
     "output_type": "stream",
     "text": [
      "Original parameters for openai/dall-e-3:\n",
      "{'prompt': 'A serene landscape with mountains',\n",
      " 'quality': 'standard',\n",
      " 'size': '1024x1024'}\n",
      "\n",
      "Transformed parameters:\n",
      "('openai',\n",
      " {'api_key': SecretStr('**********'),\n",
      "  'base_url': 'https://api.openai.com/v1',\n",
      "  'model': 'dall-e-3',\n",
      "  'prompt': 'A serene landscape with mountains',\n",
      "  'quality': 'standard',\n",
      "  'size': '1024x1024'})\n"
     ]
    }
   ],
   "source": [
    "# Image generation parameters\n",
    "image_params = {\n",
    "    \"prompt\": \"A serene landscape with mountains\",\n",
    "    \"size\": \"1024x1024\",\n",
    "    \"quality\": \"standard\",\n",
    "}\n",
    "\n",
    "# Transform parameters for an image model\n",
    "image_model_id = \"openai/dall-e-3\"\n",
    "\n",
    "transformed = await transformer.get_params(image_model_id, image_params)\n",
    "\n",
    "print(f\"Original parameters for {image_model_id}:\")\n",
    "pp(image_params)\n",
    "\n",
    "print(\"\\nTransformed parameters:\")\n",
    "pp(transformed)"
   ]
  },
  {
   "cell_type": "code",
   "execution_count": 8,
   "metadata": {},
   "outputs": [
    {
     "name": "stdout",
     "output_type": "stream",
     "text": [
      "\u001b[2m2025-08-18 14:01:21\u001b[0m [\u001b[33m\u001b[1mwarning  \u001b[0m] \u001b[1mapi_key_env_var_not_found     \u001b[0m \u001b[36mservice\u001b[0m=\u001b[35mreplicate\u001b[0m \u001b[36mvariable\u001b[0m=\u001b[35mREPLICATE_API_KEY\u001b[0m\n",
      "Original parameters for black-forest-labs/flux-dev:\n",
      "{'height': 1024,\n",
      " 'num_inference_steps': 30,\n",
      " 'prompt': 'A futuristic cityscape at night',\n",
      " 'width': 1024}\n",
      "\n",
      "Transformed parameters:\n",
      "('replicate',\n",
      " {'disable_safety_checker': True,\n",
      "  'height': 1024,\n",
      "  'model': 'black-forest-labs/flux-dev',\n",
      "  'num_inference_steps': 30,\n",
      "  'prompt': 'A futuristic cityscape at night',\n",
      "  'width': 1024})\n"
     ]
    }
   ],
   "source": [
    "# Transform parameters for a different image model provider\n",
    "replicate_model_id = \"black-forest-labs/flux-dev\"\n",
    "\n",
    "# Different providers may have different parameter formats\n",
    "replicate_params = {\n",
    "    \"prompt\": \"A futuristic cityscape at night\",\n",
    "    \"width\": 1024,\n",
    "    \"height\": 1024,\n",
    "    \"num_inference_steps\": 30,\n",
    "}\n",
    "\n",
    "transformed = await transformer.get_params(replicate_model_id, replicate_params)\n",
    "\n",
    "print(f\"Original parameters for {replicate_model_id}:\")\n",
    "pp(replicate_params)\n",
    "\n",
    "print(\"\\nTransformed parameters:\")\n",
    "pp(transformed)"
   ]
  }
 ],
 "metadata": {
  "kernelspec": {
   "display_name": "langgate",
   "language": "python",
   "name": "python3"
  },
  "language_info": {
   "codemirror_mode": {
    "name": "ipython",
    "version": 3
   },
   "file_extension": ".py",
   "mimetype": "text/x-python",
   "name": "python",
   "nbconvert_exporter": "python",
   "pygments_lexer": "ipython3",
   "version": "3.13.2"
  }
 },
 "nbformat": 4,
 "nbformat_minor": 4
}
