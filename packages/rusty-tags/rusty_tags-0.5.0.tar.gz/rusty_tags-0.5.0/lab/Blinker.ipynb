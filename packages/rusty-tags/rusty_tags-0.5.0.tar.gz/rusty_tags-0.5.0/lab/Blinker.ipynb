{
 "cells": [
  {
   "cell_type": "code",
   "execution_count": 1,
   "id": "e932ffe7",
   "metadata": {},
   "outputs": [],
   "source": [
    "from blinker import signal\n",
    "\n",
    "def send_sig(signal_name, **kwargs):\n",
    "    s = signal(\"events\")\n",
    "    s.send(signal_name,**kwargs)\n",
    "\n",
    "\n",
    "events = signal(\"events\")\n",
    "@events.connect_via(\"test\")\n",
    "def on_test(sender, message: str):\n",
    "    print(f\"Received notification: {message}\")\n",
    "\n",
    "@events.connect\n",
    "def log(sender, **kwargs):\n",
    "    print(f\"Logging signal: Sender: {sender} Args: {kwargs}\")"
   ]
  },
  {
   "cell_type": "code",
   "execution_count": 2,
   "id": "ee27832f",
   "metadata": {},
   "outputs": [
    {
     "name": "stdout",
     "output_type": "stream",
     "text": [
      "Logging signal: Sender: test Args: {'message': 'Hello'}\n",
      "Received notification: Hello\n",
      "Logging signal: Sender: test3 Args: {'a': 2, 'b': 2}\n"
     ]
    },
    {
     "data": {
      "text/plain": [
       "[]"
      ]
     },
     "execution_count": 2,
     "metadata": {},
     "output_type": "execute_result"
    }
   ],
   "source": [
    "send_sig(\"test\", message=\"Hello\")\n",
    "send_sig(\"test3\", **{\"a\": 2, \"b\": 2})\n",
    "signal(\"test2\").send(\"test2\", message=\"Hello THERE!!\")"
   ]
  },
  {
   "cell_type": "code",
   "execution_count": 3,
   "id": "989d03b3",
   "metadata": {},
   "outputs": [
    {
     "name": "stdout",
     "output_type": "stream",
     "text": [
      "Logging signal: Sender: test Args: {'message': 'Hello from Tester'}\n",
      "Received notification: Hello from Tester\n"
     ]
    }
   ],
   "source": [
    "class Notifcation:\n",
    "    def __init__(self, message: str):\n",
    "        events.send(\"test\", message=message)\n",
    "\n",
    "\n",
    "tester = Notifcation(\"Hello from Tester\")"
   ]
  },
  {
   "cell_type": "code",
   "execution_count": 4,
   "id": "1b39a79a",
   "metadata": {},
   "outputs": [
    {
     "name": "stdout",
     "output_type": "stream",
     "text": [
      "Logging signal: Sender: test Args: {'message': 'Hello from Second Tester'}\n",
      "Received notification: Hello from Second Tester\n"
     ]
    },
    {
     "data": {
      "text/plain": [
       "<__main__.Notifcation at 0x7f29293a1100>"
      ]
     },
     "execution_count": 4,
     "metadata": {},
     "output_type": "execute_result"
    }
   ],
   "source": [
    "Notifcation(\"Hello from Second Tester\")\n"
   ]
  },
  {
   "cell_type": "code",
   "execution_count": 5,
   "id": "087d4c91",
   "metadata": {},
   "outputs": [],
   "source": [
    "from blinker import ANY, signal\n",
    "from typing import TypeVar, Any, Callable\n",
    "import collections.abc as c\n",
    "test2 = signal(\"test2\")\n",
    "\n",
    "F = TypeVar(\"F\", bound=c.Callable[..., Any])\n",
    "\n",
    "def event(signal_name: str, sender: Any = ANY, weak: bool = True) -> c.Callable[[F], F]:\n",
    "    sig = signal(signal_name)\n",
    "    def decorator(fn):\n",
    "        sig.connect(fn, sender, weak)\n",
    "        return fn\n",
    "    return decorator\n"
   ]
  },
  {
   "cell_type": "code",
   "execution_count": 6,
   "id": "9b244e4f",
   "metadata": {},
   "outputs": [],
   "source": [
    "@event(\"test2\")\n",
    "def on_test(sender, message: str):\n",
    "    print(f\"Received notification2: {message}\")"
   ]
  },
  {
   "cell_type": "code",
   "execution_count": 7,
   "id": "a2f1e7e1",
   "metadata": {},
   "outputs": [
    {
     "name": "stdout",
     "output_type": "stream",
     "text": [
      "Received notification2: Hello THERE!!\n"
     ]
    },
    {
     "data": {
      "text/plain": [
       "[(<function __main__.on_test(sender, message: str)>, None)]"
      ]
     },
     "execution_count": 7,
     "metadata": {},
     "output_type": "execute_result"
    }
   ],
   "source": [
    "test2.send(\"test2\", message=\"Hello THERE!!\")"
   ]
  },
  {
   "cell_type": "code",
   "execution_count": 8,
   "id": "6c487102",
   "metadata": {},
   "outputs": [
    {
     "name": "stdout",
     "output_type": "stream",
     "text": [
      "deque([('job3', 14), ('job4', 15)])\n",
      "Processing: ('job3', 14)\n",
      "Processing: ('job4', 15)\n",
      "deque([])\n"
     ]
    }
   ],
   "source": [
    "from collections import deque\n",
    "\n",
    "queue = deque([])  # list of tuples is fine\n",
    "\n",
    "queue.extend([(\"job3\", 14), (\"job4\", 15)])\n",
    "\n",
    "print(queue)\n",
    "\n",
    "while queue:\n",
    "    item = queue.popleft()  # fast O(1)\n",
    "    print(\"Processing:\", item)\n",
    "    \n",
    "print(queue)"
   ]
  },
  {
   "cell_type": "code",
   "execution_count": 10,
   "id": "749e45e7",
   "metadata": {},
   "outputs": [
    {
     "name": "stdout",
     "output_type": "stream",
     "text": [
      "Logging signal: Sender: user Args: {'message': 'Hello'}\n"
     ]
    },
    {
     "data": {
      "text/plain": [
       "[(<function __main__.log(sender, **kwargs)>, None)]"
      ]
     },
     "execution_count": 10,
     "metadata": {},
     "output_type": "execute_result"
    }
   ],
   "source": [
    "signal(\"events\").send(\"user\", message=\"Hello\")"
   ]
  }
 ],
 "metadata": {
  "kernelspec": {
   "display_name": ".venv",
   "language": "python",
   "name": "python3"
  },
  "language_info": {
   "codemirror_mode": {
    "name": "ipython",
    "version": 3
   },
   "file_extension": ".py",
   "mimetype": "text/x-python",
   "name": "python",
   "nbconvert_exporter": "python",
   "pygments_lexer": "ipython3",
   "version": "3.12.9"
  }
 },
 "nbformat": 4,
 "nbformat_minor": 5
}
