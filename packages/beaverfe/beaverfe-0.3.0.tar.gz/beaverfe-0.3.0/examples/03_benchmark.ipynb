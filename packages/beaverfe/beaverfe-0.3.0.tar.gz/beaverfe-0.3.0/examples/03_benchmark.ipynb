{
 "cells": [
  {
   "cell_type": "markdown",
   "id": "435c2fcf",
   "metadata": {},
   "source": [
    "# 1. Imports and Global Configuration"
   ]
  },
  {
   "cell_type": "code",
   "execution_count": 1,
   "id": "4c5fe0fb",
   "metadata": {},
   "outputs": [],
   "source": [
    "import os\n",
    "import warnings\n",
    "\n",
    "import matplotlib.pyplot as plt\n",
    "import numpy as np\n",
    "import pandas as pd\n",
    "import seaborn as sns\n",
    "\n",
    "from sklearn.discriminant_analysis import LinearDiscriminantAnalysis\n",
    "from sklearn.linear_model import LogisticRegression\n",
    "from sklearn.metrics import roc_auc_score\n",
    "from sklearn.model_selection import train_test_split\n",
    "from sklearn.preprocessing import label_binarize, OrdinalEncoder\n",
    "\n",
    "from xgboost import XGBClassifier\n",
    "\n",
    "from beaverfe import auto_feature_pipeline, BeaverPipeline\n",
    "\n",
    "# Suppress warnings and set Seaborn style\n",
    "warnings.filterwarnings(\"ignore\")\n",
    "sns.set(style=\"whitegrid\")\n",
    "\n",
    "# Path to dataset directory\n",
    "DATASET_DIR = \"datasets\""
   ]
  },
  {
   "cell_type": "markdown",
   "id": "fdcc7356",
   "metadata": {},
   "source": [
    "# 2. Dataset Loaders"
   ]
  },
  {
   "cell_type": "code",
   "execution_count": 2,
   "id": "5c5a3306",
   "metadata": {},
   "outputs": [],
   "source": [
    "def load_adult():\n",
    "    \"\"\"Load the Adult Income dataset.\"\"\"\n",
    "    df = pd.read_csv(os.path.join(DATASET_DIR, \"adult.csv\"))\n",
    "    X = df.drop(\"income\", axis=1)\n",
    "    y = df[\"income\"].apply(lambda x: 1 if \">50K\" in str(x) else 0)\n",
    "    return X, y\n",
    "\n",
    "\n",
    "def load_bank():\n",
    "    \"\"\"Load the Bank Marketing dataset.\"\"\"\n",
    "    df = pd.read_csv(os.path.join(DATASET_DIR, \"bank.csv\"))\n",
    "    X = df.drop(\"y\", axis=1)\n",
    "    y = df[\"y\"].apply(lambda x: 1 if x == \"yes\" else 0)\n",
    "    return X, y\n",
    "\n",
    "\n",
    "def load_credit():\n",
    "    \"\"\"Load the Credit Default dataset.\"\"\"\n",
    "    df = pd.read_csv(os.path.join(DATASET_DIR, \"default_of_credit_card_clients.csv\"))\n",
    "    X = df.drop(columns=[\"default\", \"ID\"])\n",
    "    y = df[\"default\"]\n",
    "    return X, y\n",
    "\n",
    "\n",
    "# Dictionary of dataset loaders\n",
    "datasets = {\n",
    "    \"adult\": load_adult,\n",
    "    \"bank\": load_bank,\n",
    "    \"credit\": load_credit,\n",
    "}"
   ]
  },
  {
   "cell_type": "markdown",
   "id": "cd312d16",
   "metadata": {},
   "source": [
    "# 3. Model Factory"
   ]
  },
  {
   "cell_type": "code",
   "execution_count": 3,
   "id": "eebbe6d2",
   "metadata": {},
   "outputs": [],
   "source": [
    "def load_models():\n",
    "    \"\"\"Return a dictionary of models to benchmark.\"\"\"\n",
    "    return {\n",
    "        \"LDA\": LinearDiscriminantAnalysis(),\n",
    "        \"LogisticRegression\": LogisticRegression(max_iter=1000),\n",
    "        \"XGBoost\": XGBClassifier(use_label_encoder=False, eval_metric=\"logloss\"),\n",
    "    }"
   ]
  },
  {
   "cell_type": "markdown",
   "id": "eddea37f",
   "metadata": {},
   "source": [
    "# 4. Benchmark Function"
   ]
  },
  {
   "cell_type": "code",
   "execution_count": 4,
   "id": "577b68e4",
   "metadata": {},
   "outputs": [],
   "source": [
    "def run_benchmark():\n",
    "    \"\"\"Run baseline vs BeaverFE benchmark on all datasets and models.\"\"\"\n",
    "    results = []\n",
    "\n",
    "    for dataset_name, loader in datasets.items():\n",
    "        print(f\"\\n📁 Dataset: {dataset_name.upper()}\")\n",
    "        X, y = loader()\n",
    "\n",
    "        is_binary = len(np.unique(y)) == 2\n",
    "        scoring = \"roc_auc\" if is_binary else \"roc_auc_ovr\"\n",
    "\n",
    "        # Identify categorical columns\n",
    "        cat_cols = X.select_dtypes(include=[\"object\", \"category\"]).columns.tolist()\n",
    "\n",
    "        for model_name, model in load_models().items():\n",
    "            print(f\"   🔸 Model: {model_name}\")\n",
    "\n",
    "            # -------- Baseline Pipeline --------\n",
    "            x_base = X.copy()\n",
    "\n",
    "            if cat_cols:\n",
    "                encoder = OrdinalEncoder(\n",
    "                    handle_unknown=\"use_encoded_value\", unknown_value=-1\n",
    "                )\n",
    "                x_encoded = encoder.fit_transform(x_base)\n",
    "                x_base = pd.DataFrame(\n",
    "                    x_encoded, columns=x_base.columns, index=x_base.index\n",
    "                )\n",
    "\n",
    "            x_train, x_test, y_train, y_test = train_test_split(\n",
    "                x_base, y, test_size=0.3, random_state=42\n",
    "            )\n",
    "\n",
    "            model.fit(x_train, y_train)\n",
    "            y_score = model.predict_proba(x_test)\n",
    "\n",
    "            if is_binary:\n",
    "                baseline_score = roc_auc_score(y_test, y_score[:, 1])\n",
    "            else:\n",
    "                y_test_bin = label_binarize(y_test, classes=np.unique(y_test))\n",
    "                baseline_score = roc_auc_score(\n",
    "                    y_test_bin, y_score, multi_class=\"ovr\", average=\"weighted\"\n",
    "                )\n",
    "\n",
    "            results.append(\n",
    "                {\n",
    "                    \"dataset\": dataset_name,\n",
    "                    \"model\": model_name,\n",
    "                    \"pipeline\": \"baseline\",\n",
    "                    \"roc_auc\": baseline_score,\n",
    "                }\n",
    "            )\n",
    "\n",
    "            # -------- BeaverFE Pipeline --------\n",
    "            print(\"      🧠 Running BeaverFE...\")\n",
    "\n",
    "            x_train_bfe, x_test_bfe, y_train_bfe, y_test_bfe = train_test_split(\n",
    "                X, y, test_size=0.3, random_state=42\n",
    "            )\n",
    "\n",
    "            transformations = auto_feature_pipeline(\n",
    "                x_train_bfe,\n",
    "                y_train_bfe,\n",
    "                model,\n",
    "                scoring=scoring,\n",
    "                direction=\"maximize\",\n",
    "                verbose=False,\n",
    "            )\n",
    "\n",
    "            bfe = BeaverPipeline(transformations)\n",
    "            x_train_bfe = bfe.fit_transform(x_train_bfe, y_train_bfe)\n",
    "            x_test_bfe = bfe.transform(x_test_bfe, y_test_bfe)\n",
    "\n",
    "            model.fit(x_train_bfe, y_train_bfe)\n",
    "            y_score_bfe = model.predict_proba(x_test_bfe)\n",
    "\n",
    "            if is_binary:\n",
    "                bfe_score = roc_auc_score(y_test_bfe, y_score_bfe[:, 1])\n",
    "            else:\n",
    "                y_test_bin = label_binarize(y_test_bfe, classes=np.unique(y_test_bfe))\n",
    "                bfe_score = roc_auc_score(\n",
    "                    y_test_bin, y_score_bfe, multi_class=\"ovr\", average=\"weighted\"\n",
    "                )\n",
    "\n",
    "            results.append(\n",
    "                {\n",
    "                    \"dataset\": dataset_name,\n",
    "                    \"model\": model_name,\n",
    "                    \"pipeline\": \"beaverfe\",\n",
    "                    \"roc_auc\": bfe_score,\n",
    "                }\n",
    "            )\n",
    "\n",
    "    return pd.DataFrame(results)"
   ]
  },
  {
   "cell_type": "markdown",
   "id": "d2129c93",
   "metadata": {},
   "source": [
    "# 5. Execute Benchmark"
   ]
  },
  {
   "cell_type": "code",
   "execution_count": 5,
   "id": "b11d932b",
   "metadata": {},
   "outputs": [
    {
     "name": "stdout",
     "output_type": "stream",
     "text": [
      "🏁 Starting full benchmark across datasets and models...\n",
      "\n",
      "📁 Dataset: ADULT\n",
      "   🔸 Model: LDA\n",
      "      🧠 Running BeaverFE...\n",
      "   🔸 Model: LogisticRegression\n",
      "      🧠 Running BeaverFE...\n",
      "   🔸 Model: XGBoost\n",
      "      🧠 Running BeaverFE...\n",
      "\n",
      "📁 Dataset: BANK\n",
      "   🔸 Model: LDA\n",
      "      🧠 Running BeaverFE...\n",
      "   🔸 Model: LogisticRegression\n",
      "      🧠 Running BeaverFE...\n",
      "   🔸 Model: XGBoost\n",
      "      🧠 Running BeaverFE...\n",
      "\n",
      "📁 Dataset: CREDIT\n",
      "   🔸 Model: LDA\n",
      "      🧠 Running BeaverFE...\n",
      "   🔸 Model: LogisticRegression\n",
      "      🧠 Running BeaverFE...\n",
      "   🔸 Model: XGBoost\n",
      "      🧠 Running BeaverFE...\n",
      "✅ Benchmarking completed.\n"
     ]
    }
   ],
   "source": [
    "print(\"🏁 Starting full benchmark across datasets and models...\")\n",
    "df_results = run_benchmark()\n",
    "print(\"✅ Benchmarking completed.\")"
   ]
  },
  {
   "cell_type": "markdown",
   "id": "7267c51e",
   "metadata": {},
   "source": [
    "# 6. Results Summary Table"
   ]
  },
  {
   "cell_type": "code",
   "execution_count": null,
   "id": "943a1764",
   "metadata": {},
   "outputs": [
    {
     "name": "stdout",
     "output_type": "stream",
     "text": [
      "pipeline Dataset               Model  Baseline  BeaverFE Improvement %\n",
      "0          adult                 LDA     0.848     0.905        +6.72%\n",
      "1          adult  LogisticRegression     0.822     0.900        +9.49%\n",
      "2          adult             XGBoost     0.921     0.923        +0.22%\n",
      "3           bank                 LDA     0.874     0.911        +4.23%\n",
      "4           bank  LogisticRegression     0.854     0.909        +6.44%\n",
      "5           bank             XGBoost     0.927     0.929        +0.22%\n",
      "6         credit                 LDA     0.717     0.761        +6.14%\n",
      "7         credit  LogisticRegression     0.696     0.747        +7.33%\n",
      "8         credit             XGBoost     0.760     0.757        -0.39%\n"
     ]
    }
   ],
   "source": [
    "# Pivot results for comparison\n",
    "pivot = df_results.pivot(\n",
    "    index=[\"dataset\", \"model\"], columns=\"pipeline\", values=\"roc_auc\"\n",
    ").reset_index()\n",
    "\n",
    "# Round and calculate percentage improvement\n",
    "pivot[\"baseline\"] = pivot[\"baseline\"].round(3)\n",
    "pivot[\"beaverfe\"] = pivot[\"beaverfe\"].round(3)\n",
    "pivot[\"Improvement %\"] = (\n",
    "    100 * (pivot[\"beaverfe\"] - pivot[\"baseline\"]) / pivot[\"baseline\"]\n",
    ")\n",
    "pivot[\"Improvement %\"] = pivot[\"Improvement %\"].map(lambda x: f\"{x:+.2f}%\")\n",
    "\n",
    "# Rename columns for clarity\n",
    "pivot = pivot.rename(\n",
    "    columns={\n",
    "        \"dataset\": \"Dataset\",\n",
    "        \"model\": \"Model\",\n",
    "        \"baseline\": \"Baseline\",\n",
    "        \"beaverfe\": \"BeaverFE\",\n",
    "    }\n",
    ")\n",
    "\n",
    "# Sort and display\n",
    "pivot = pivot.sort_values(by=[\"Dataset\", \"Model\"]).reset_index(drop=True)\n",
    "print(pivot)"
   ]
  },
  {
   "cell_type": "markdown",
   "id": "d63444e5",
   "metadata": {},
   "source": [
    "# 7. ROC AUC Plot"
   ]
  },
  {
   "cell_type": "code",
   "execution_count": 11,
   "id": "6c6a60d9",
   "metadata": {},
   "outputs": [
    {
     "data": {
      "image/png": "[encoded data removed]",
      "text/plain": [
       "<Figure size 1614.5x500 with 3 Axes>"
      ]
     },
     "metadata": {},
     "output_type": "display_data"
    }
   ],
   "source": [
    "g = sns.catplot(\n",
    "    data=df_results,\n",
    "    kind=\"bar\",\n",
    "    x=\"model\",\n",
    "    y=\"roc_auc\",\n",
    "    hue=\"pipeline\",\n",
    "    col=\"dataset\",\n",
    "    palette=\"Set2\",\n",
    "    height=5,\n",
    "    aspect=1,\n",
    ")\n",
    "\n",
    "g.fig.subplots_adjust(top=0.85)\n",
    "g.fig.suptitle(\"ROC AUC by Model and Pipeline (per Dataset)\")\n",
    "g.set_axis_labels(\"Model\", \"ROC AUC\")\n",
    "g.set_titles(col_template=\"{col_name}\")\n",
    "g._legend.set_title(\"Pipeline\")\n",
    "\n",
    "# Set y-axis range for consistency\n",
    "for ax in g.axes.flat:\n",
    "    ax.set_ylim(0.5, 1.0)\n",
    "\n",
    "plt.show()"
   ]
  },
  {
   "cell_type": "code",
   "execution_count": null,
   "id": "baae4ce3",
   "metadata": {},
   "outputs": [],
   "source": []
  }
 ],
 "metadata": {
  "kernelspec": {
   "display_name": "beaverfe",
   "language": "python",
   "name": "python3"
  },
  "language_info": {
   "codemirror_mode": {
    "name": "ipython",
    "version": 3
   },
   "file_extension": ".py",
   "mimetype": "text/x-python",
   "name": "python",
   "nbconvert_exporter": "python",
   "pygments_lexer": "ipython3",
   "version": "3.11.7"
  }
 },
 "nbformat": 4,
 "nbformat_minor": 5
}
