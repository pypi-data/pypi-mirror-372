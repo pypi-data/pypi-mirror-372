{
 "cells": [
  {
   "cell_type": "markdown",
   "metadata": {
    "tags": [
     "ide-samples-no-python"
    ]
   },
   "source": [
    "# FX Forward Curves Fundamentals"
   ]
  },
  {
   "cell_type": "markdown",
   "metadata": {},
   "source": [
    "## Namespaces\n",
    "\n",
    "You can use namespaces in your Python by importing the necessary modules."
   ]
  },
  {
   "cell_type": "code",
   "execution_count": 1,
   "metadata": {
    "execution": {
     "iopub.execute_input": "2025-08-21T06:03:12.570581Z",
     "iopub.status.busy": "2025-08-21T06:03:12.570196Z",
     "iopub.status.idle": "2025-08-21T06:03:13.397257Z",
     "shell.execute_reply": "2025-08-21T06:03:13.396420Z"
    }
   },
   "outputs": [],
   "source": [
    "import datetime\n",
    "\n",
    "from lseg_analytics.common import Description, TenorType, Quote, QuoteDefinition\n",
    "\n",
    "from lseg_analytics.market_data.fx_forward_curves import (\n",
    "    DepositFxConstituent,\n",
    "    DepositConstituentDefinition,\n",
    "    CurrencyBasisSwapConstituent,\n",
    "    CurrencyBasisSwapConstituentDefinition,\n",
    "    FxForwardConstituent,\n",
    "    FxSpotConstituentDefinition,\n",
    "    FxForwardConstituentDefinition,\n",
    "    FxSpotConstituent,\n",
    "    IndirectSourcesDeposits,\n",
    "    IndirectSourcesSwaps,\n",
    "    FxForwardCurve,\n",
    "    FxForwardCurveDefinition,\n",
    "    delete,\n",
    "    load,\n",
    "    search,\n",
    ")"
   ]
  },
  {
   "cell_type": "markdown",
   "metadata": {},
   "source": [
    "You can import api modules using their original names:"
   ]
  },
  {
   "cell_type": "code",
   "execution_count": 2,
   "metadata": {
    "execution": {
     "iopub.execute_input": "2025-08-21T06:03:13.403081Z",
     "iopub.status.busy": "2025-08-21T06:03:13.400456Z",
     "iopub.status.idle": "2025-08-21T06:03:13.410054Z",
     "shell.execute_reply": "2025-08-21T06:03:13.409418Z"
    }
   },
   "outputs": [
    {
     "data": {
      "text/plain": [
       "'lseg_analytics.market_data.fx_forward_curves'"
      ]
     },
     "execution_count": 2,
     "metadata": {},
     "output_type": "execute_result"
    }
   ],
   "source": [
    "from lseg_analytics.market_data import fx_forward_curves\n",
    "\n",
    "fx_forward_curves.__name__"
   ]
  },
  {
   "cell_type": "markdown",
   "metadata": {},
   "source": [
    "Or you can import them using an alias to prevent name conflicts:"
   ]
  },
  {
   "cell_type": "code",
   "execution_count": 3,
   "metadata": {
    "execution": {
     "iopub.execute_input": "2025-08-21T06:03:13.412859Z",
     "iopub.status.busy": "2025-08-21T06:03:13.412455Z",
     "iopub.status.idle": "2025-08-21T06:03:13.417093Z",
     "shell.execute_reply": "2025-08-21T06:03:13.416546Z"
    }
   },
   "outputs": [
    {
     "data": {
      "text/plain": [
       "(lseg_analytics.market_data.fx_forward_curves._fx_forward_curve.FxForwardCurve,\n",
       " <function lseg_analytics.market_data.fx_forward_curves._functions.load(*, resource_id: Optional[str] = None, name: Optional[str] = None, space: Optional[str] = None)>)"
      ]
     },
     "execution_count": 3,
     "metadata": {},
     "output_type": "execute_result"
    }
   ],
   "source": [
    "from lseg_analytics.market_data import fx_forward_curves as ffc\n",
    "\n",
    "ffc.FxForwardCurve, ffc.load"
   ]
  },
  {
   "cell_type": "markdown",
   "metadata": {},
   "source": [
    "## Constructors\n",
    "\n",
    "Each object might have the following parameters:\n",
    "\n",
    "- A definition containing information that *defines* a resource, used to build the resource object itself.\n",
    "- A description containing information that *describes* a resource, for example a summary and/or tags.\n",
    "\n",
    "The definition is mandatory while description is optional.\n"
   ]
  },
  {
   "cell_type": "markdown",
   "metadata": {},
   "source": [
    "### Definition\n",
    "\n",
    "You can construct objects in more than one way. \n",
    "\n",
    "In this case, define the FxForwardCurve with a simple 'definition':"
   ]
  },
  {
   "cell_type": "code",
   "execution_count": 4,
   "metadata": {
    "execution": {
     "iopub.execute_input": "2025-08-21T06:03:13.420166Z",
     "iopub.status.busy": "2025-08-21T06:03:13.419728Z",
     "iopub.status.idle": "2025-08-21T06:03:13.425637Z",
     "shell.execute_reply": "2025-08-21T06:03:13.425092Z"
    }
   },
   "outputs": [
    {
     "data": {
      "text/plain": [
       "<FxForwardCurve space=None name='' unsaved>"
      ]
     },
     "execution_count": 4,
     "metadata": {},
     "output_type": "execute_result"
    }
   ],
   "source": [
    "# Create a FxForwardCurve instance.\n",
    "new_curve = FxForwardCurve(\n",
    "    FxForwardCurveDefinition(\n",
    "        cross_currency=\"USDJPY\", reference_currency=\"JPY\"\n",
    "    )\n",
    ")\n",
    "\n",
    "new_curve"
   ]
  },
  {
   "cell_type": "markdown",
   "metadata": {},
   "source": [
    "### Description\n",
    "\n",
    "You can add the description later:"
   ]
  },
  {
   "cell_type": "code",
   "execution_count": 5,
   "metadata": {
    "execution": {
     "iopub.execute_input": "2025-08-21T06:03:13.428045Z",
     "iopub.status.busy": "2025-08-21T06:03:13.427617Z",
     "iopub.status.idle": "2025-08-21T06:03:13.431246Z",
     "shell.execute_reply": "2025-08-21T06:03:13.430725Z"
    }
   },
   "outputs": [
    {
     "data": {
      "text/plain": [
       "'New curve'"
      ]
     },
     "execution_count": 5,
     "metadata": {},
     "output_type": "execute_result"
    }
   ],
   "source": [
    "new_curve.description.summary=\"New curve\"\n",
    "\n",
    "new_curve.description.summary"
   ]
  },
  {
   "cell_type": "markdown",
   "metadata": {},
   "source": [
    "## Builders\n",
    "\n",
    "Curves can have a large number of parameters to enable them to cover many use cases. This provides flexibility, but makes curve creation complex.\n",
    "\n",
    "The platform provides dedicated endpoints to create curves for specific use cases, allowing creation using only the parameters necessary for that use.\n",
    "\n",
    "These endpoints are exposed as functions."
   ]
  },
  {
   "cell_type": "markdown",
   "metadata": {},
   "source": [
    "### Create FxForwardCurve from scratch.\n",
    "This example creates a FX forward curve without using one of the dedicated functions."
   ]
  },
  {
   "cell_type": "code",
   "execution_count": 6,
   "metadata": {
    "execution": {
     "iopub.execute_input": "2025-08-21T06:03:13.433439Z",
     "iopub.status.busy": "2025-08-21T06:03:13.433086Z",
     "iopub.status.idle": "2025-08-21T06:03:13.441105Z",
     "shell.execute_reply": "2025-08-21T06:03:13.440549Z"
    }
   },
   "outputs": [
    {
     "data": {
      "text/plain": [
       "<FxForwardCurve space=None name='' unsaved>"
      ]
     },
     "execution_count": 6,
     "metadata": {},
     "output_type": "execute_result"
    }
   ],
   "source": [
    "curve_from_scratch = FxForwardCurve(\n",
    "    description=Description(summary=\"My FX Forward Curve\", tags=[\"tag1\", \"tag2\"]),\n",
    "    definition=FxForwardCurveDefinition(\n",
    "        cross_currency=\"EURCHF\",\n",
    "        reference_currency=\"TRY\",\n",
    "        constituents=[\n",
    "            FxSpotConstituent(\n",
    "                quote=Quote(definition=QuoteDefinition(instrument_code=\"TRY=\")),\n",
    "                definition=FxSpotConstituentDefinition(template=\"USDEUR\"),\n",
    "            ),\n",
    "            FxForwardConstituent(\n",
    "                definition=FxForwardConstituentDefinition(template=\"USDEUR\"),\n",
    "            ),\n",
    "            CurrencyBasisSwapConstituent(\n",
    "                definition=CurrencyBasisSwapConstituentDefinition(\n",
    "                    template=\"USDEUR\", tenor=\"1W\"\n",
    "                ),\n",
    "            ),\n",
    "            DepositFxConstituent(\n",
    "                definition=DepositConstituentDefinition(\n",
    "                    tenor=\"1D\", template=\"USDEUR\"\n",
    "                )\n",
    "            ),\n",
    "        ],\n",
    "    ),\n",
    ")\n",
    "\n",
    "curve_from_scratch"
   ]
  },
  {
   "cell_type": "markdown",
   "metadata": {},
   "source": [
    "### Create definition from FXForwards\n",
    "This example creates a curve from FXForwards."
   ]
  },
  {
   "cell_type": "code",
   "execution_count": 7,
   "metadata": {
    "execution": {
     "iopub.execute_input": "2025-08-21T06:03:13.443446Z",
     "iopub.status.busy": "2025-08-21T06:03:13.443017Z",
     "iopub.status.idle": "2025-08-21T06:03:14.012182Z",
     "shell.execute_reply": "2025-08-21T06:03:14.011588Z"
    }
   },
   "outputs": [
    {
     "data": {
      "text/plain": [
       "<FxForwardCurve space=None name='' unsaved>"
      ]
     },
     "execution_count": 7,
     "metadata": {},
     "output_type": "execute_result"
    }
   ],
   "source": [
    "from_fx_forwards = fx_forward_curves.create_from_fx_forwards(\n",
    "            cross_currency=\"EURGBP\",\n",
    "            reference_currency=\"USD\",\n",
    "            sources=IndirectSourcesSwaps(base_fx_forwards=\"RFB\"),\n",
    "            additional_tenor_types=[TenorType.LONG, TenorType.END_OF_MONTH],\n",
    "        )\n",
    "\n",
    "from_fx_forwards"
   ]
  },
  {
   "cell_type": "markdown",
   "metadata": {},
   "source": [
    "### Create definition from deposits\n",
    "This example creates a curve from Deposits."
   ]
  },
  {
   "cell_type": "code",
   "execution_count": 8,
   "metadata": {
    "execution": {
     "iopub.execute_input": "2025-08-21T06:03:14.014870Z",
     "iopub.status.busy": "2025-08-21T06:03:14.014614Z",
     "iopub.status.idle": "2025-08-21T06:03:16.943799Z",
     "shell.execute_reply": "2025-08-21T06:03:16.943254Z"
    }
   },
   "outputs": [
    {
     "data": {
      "text/plain": [
       "<FxForwardCurve space=None name='' unsaved>"
      ]
     },
     "execution_count": 8,
     "metadata": {},
     "output_type": "execute_result"
    }
   ],
   "source": [
    "from_deposits = fx_forward_curves.create_from_deposits(\n",
    "            cross_currency=\"EURGBP\",\n",
    "            additional_tenor_types=[TenorType.LONG, TenorType.END_OF_MONTH],\n",
    "        )\n",
    "\n",
    "from_deposits"
   ]
  },
  {
   "cell_type": "markdown",
   "metadata": {},
   "source": [
    "## Save\n",
    "This example illustrates how you can save a curve to a space.\n"
   ]
  },
  {
   "cell_type": "code",
   "execution_count": 9,
   "metadata": {
    "execution": {
     "iopub.execute_input": "2025-08-21T06:03:16.946097Z",
     "iopub.status.busy": "2025-08-21T06:03:16.945738Z",
     "iopub.status.idle": "2025-08-21T06:03:16.949410Z",
     "shell.execute_reply": "2025-08-21T06:03:16.949014Z"
    }
   },
   "outputs": [
    {
     "data": {
      "text/plain": [
       "<FxForwardCurve space=None name='' unsaved>"
      ]
     },
     "execution_count": 9,
     "metadata": {},
     "output_type": "execute_result"
    }
   ],
   "source": [
    "from os import name\n",
    "\n",
    "\n",
    "curve = FxForwardCurve(\n",
    "    definition=from_fx_forwards.definition,\n",
    "    description=Description(summary=\"EURGBP Fx Forward Curve via USD\", tags=[\"EURGBP\", \"EUR\", \"GBP\", \"FxCurve\"]),\n",
    ")\n",
    "\n",
    "curve"
   ]
  },
  {
   "cell_type": "code",
   "execution_count": 10,
   "metadata": {
    "execution": {
     "iopub.execute_input": "2025-08-21T06:03:16.951284Z",
     "iopub.status.busy": "2025-08-21T06:03:16.950981Z",
     "iopub.status.idle": "2025-08-21T06:03:17.284815Z",
     "shell.execute_reply": "2025-08-21T06:03:17.284341Z"
    }
   },
   "outputs": [
    {
     "data": {
      "text/plain": [
       "True"
      ]
     },
     "execution_count": 10,
     "metadata": {},
     "output_type": "execute_result"
    }
   ],
   "source": [
    "curve.save(name=\"EURGBP_Fx_Forward_Curve\", space=\"HOME\")"
   ]
  },
  {
   "cell_type": "markdown",
   "metadata": {},
   "source": [
    "## Clone\n",
    "\n",
    "Clone the existing instance on definition and description."
   ]
  },
  {
   "cell_type": "code",
   "execution_count": 11,
   "metadata": {
    "execution": {
     "iopub.execute_input": "2025-08-21T06:03:17.286945Z",
     "iopub.status.busy": "2025-08-21T06:03:17.286550Z",
     "iopub.status.idle": "2025-08-21T06:03:17.825959Z",
     "shell.execute_reply": "2025-08-21T06:03:17.825510Z"
    }
   },
   "outputs": [
    {
     "name": "stdout",
     "output_type": "stream",
     "text": [
      "Curve_id: cafce93f-beeb-4086-9931-46e706e91d05\n",
      "Cloned_fx_forwards_id: 2f82b073-c650-41e3-9ff9-a6d3bb9cf2cc\n"
     ]
    },
    {
     "data": {
      "text/plain": [
       "True"
      ]
     },
     "execution_count": 11,
     "metadata": {},
     "output_type": "execute_result"
    }
   ],
   "source": [
    "cloned_fx_forward = curve.clone()\n",
    "cloned_fx_forward.save(name=\"my_saved_curve2\", space=\"HOME\")\n",
    "\n",
    "print(f\"Curve_id: {curve.id}\")\n",
    "print(f\"Cloned_fx_forwards_id: {cloned_fx_forward.id}\")\n",
    "\n",
    "delete(resource_id=cloned_fx_forward.id)"
   ]
  },
  {
   "cell_type": "markdown",
   "metadata": {},
   "source": [
    "## Location\n",
    "\n",
    "Name and space are location attributes, which are automatically set when a resource object is saved for the first time.\n",
    "\n",
    "Unsaved resources have thier name and space set to None.\n",
    "\n",
    "Location attributes are read-only."
   ]
  },
  {
   "cell_type": "code",
   "execution_count": 12,
   "metadata": {
    "execution": {
     "iopub.execute_input": "2025-08-21T06:03:17.827998Z",
     "iopub.status.busy": "2025-08-21T06:03:17.827803Z",
     "iopub.status.idle": "2025-08-21T06:03:17.831148Z",
     "shell.execute_reply": "2025-08-21T06:03:17.830699Z"
    }
   },
   "outputs": [
    {
     "name": "stdout",
     "output_type": "stream",
     "text": [
      "Curve name: EURGBP_Fx_Forward_Curve\n",
      "Curve space: HOME\n"
     ]
    }
   ],
   "source": [
    "print(f\"Curve name: {curve.location.name}\")\n",
    "print(f\"Curve space: {curve.location.space}\")"
   ]
  },
  {
   "cell_type": "markdown",
   "metadata": {},
   "source": [
    "## Resource ID\n",
    "\n",
    "A resource ID is the unique resource identifier for an object on the platform.\n",
    "\n",
    "The resource ID is created on saving.\n",
    "\n",
    "IDs are read-only."
   ]
  },
  {
   "cell_type": "code",
   "execution_count": 13,
   "metadata": {
    "execution": {
     "iopub.execute_input": "2025-08-21T06:03:17.832961Z",
     "iopub.status.busy": "2025-08-21T06:03:17.832694Z",
     "iopub.status.idle": "2025-08-21T06:03:17.836015Z",
     "shell.execute_reply": "2025-08-21T06:03:17.835575Z"
    }
   },
   "outputs": [
    {
     "data": {
      "text/plain": [
       "'cafce93f-beeb-4086-9931-46e706e91d05'"
      ]
     },
     "execution_count": 13,
     "metadata": {},
     "output_type": "execute_result"
    }
   ],
   "source": [
    "curve_id = curve.id\n",
    "\n",
    "curve_id"
   ]
  },
  {
   "cell_type": "markdown",
   "metadata": {},
   "source": [
    "## Load\n",
    "\n",
    "Previously saved resources can be loaded in either by name or by ID."
   ]
  },
  {
   "cell_type": "markdown",
   "metadata": {},
   "source": [
    "### By name"
   ]
  },
  {
   "cell_type": "code",
   "execution_count": 14,
   "metadata": {
    "execution": {
     "iopub.execute_input": "2025-08-21T06:03:17.837710Z",
     "iopub.status.busy": "2025-08-21T06:03:17.837543Z",
     "iopub.status.idle": "2025-08-21T06:03:18.080139Z",
     "shell.execute_reply": "2025-08-21T06:03:18.079709Z"
    }
   },
   "outputs": [
    {
     "data": {
      "text/plain": [
       "<FxForwardCurve space='HOME' name='EURGBP_Fx_Forward_Curve' cafce93f‥>"
      ]
     },
     "execution_count": 14,
     "metadata": {},
     "output_type": "execute_result"
    }
   ],
   "source": [
    "loaded_by_name_curve = load(name=\"EURGBP_Fx_Forward_Curve\")\n",
    "loaded_by_name_curve"
   ]
  },
  {
   "cell_type": "markdown",
   "metadata": {},
   "source": [
    "### By ID"
   ]
  },
  {
   "cell_type": "code",
   "execution_count": 15,
   "metadata": {
    "execution": {
     "iopub.execute_input": "2025-08-21T06:03:18.082059Z",
     "iopub.status.busy": "2025-08-21T06:03:18.081791Z",
     "iopub.status.idle": "2025-08-21T06:03:18.214802Z",
     "shell.execute_reply": "2025-08-21T06:03:18.214149Z"
    }
   },
   "outputs": [
    {
     "data": {
      "text/plain": [
       "<FxForwardCurve space='HOME' name='EURGBP_Fx_Forward_Curve' cafce93f‥>"
      ]
     },
     "execution_count": 15,
     "metadata": {},
     "output_type": "execute_result"
    }
   ],
   "source": [
    "loaded_by_id_curve = load(resource_id=curve_id)\n",
    "loaded_by_id_curve"
   ]
  },
  {
   "cell_type": "markdown",
   "metadata": {},
   "source": [
    "Space is optional, but crucial if you need to have resources with the same name in different spaces:"
   ]
  },
  {
   "cell_type": "code",
   "execution_count": 16,
   "metadata": {
    "execution": {
     "iopub.execute_input": "2025-08-21T06:03:18.217552Z",
     "iopub.status.busy": "2025-08-21T06:03:18.217135Z",
     "iopub.status.idle": "2025-08-21T06:03:18.464067Z",
     "shell.execute_reply": "2025-08-21T06:03:18.463344Z"
    }
   },
   "outputs": [
    {
     "data": {
      "text/plain": [
       "<FxForwardCurve space='HOME' name='EURGBP_Fx_Forward_Curve' cafce93f‥>"
      ]
     },
     "execution_count": 16,
     "metadata": {},
     "output_type": "execute_result"
    }
   ],
   "source": [
    "loaded_by_name_and_space_curve = load(name=\"EURGBP_Fx_Forward_Curve\", space=\"HOME\")\n",
    "loaded_by_name_and_space_curve"
   ]
  },
  {
   "cell_type": "markdown",
   "metadata": {},
   "source": [
    "## Search\n",
    "\n",
    "You can search for previously saved curves using the following techniques."
   ]
  },
  {
   "cell_type": "markdown",
   "metadata": {},
   "source": [
    "### Search for all curves"
   ]
  },
  {
   "cell_type": "code",
   "execution_count": 17,
   "metadata": {
    "execution": {
     "iopub.execute_input": "2025-08-21T06:03:18.466737Z",
     "iopub.status.busy": "2025-08-21T06:03:18.466520Z",
     "iopub.status.idle": "2025-08-21T06:03:18.586776Z",
     "shell.execute_reply": "2025-08-21T06:03:18.586182Z"
    }
   },
   "outputs": [
    {
     "data": {
      "text/plain": [
       "[{'type': 'FxForwardCurve', 'id': '7b0b0b75-d913-4a75-9640-d4aab56e1ce9', 'location': {'space': 'HOME', 'name': 'EURGBP_curve_from_Deposits_testUJXC98'}, 'description': {'summary': 'My EURGBP curve from Deposits', 'tags': []}},\n",
       " {'type': 'FxForwardCurve', 'id': '3b4e3e18-810b-43b1-8e87-de25cb1c658e', 'location': {'space': 'HOME', 'name': 'EURGBP_curve_from_FxForward_testnNVlpi'}, 'description': {'summary': 'My EURGBP curve from FxForward', 'tags': []}},\n",
       " {'type': 'FxForwardCurve', 'id': '2584bd42-948e-44b8-b44c-6028a9047e4a', 'location': {'space': 'HOME', 'name': 'EURGBP_curve_from_FxForward_testqYtpao'}, 'description': {'summary': 'My EURGBP curve from FxForward', 'tags': []}},\n",
       " {'type': 'FxForwardCurve', 'id': 'cafce93f-beeb-4086-9931-46e706e91d05', 'location': {'space': 'HOME', 'name': 'EURGBP_Fx_Forward_Curve'}, 'description': {'summary': 'EURGBP Fx Forward Curve via USD', 'tags': ['EURGBP', 'EUR', 'GBP', 'FxCurve']}},\n",
       " {'type': 'FxForwardCurve', 'id': '07fbe09d-9968-4056-a87f-80b13c395547', 'location': {'space': 'HOME', 'name': 'GBPAUD_curve_from_FxForward_testIQs2kK'}, 'description': {'summary': 'My GBPAUD curve from FxForward', 'tags': []}},\n",
       " {'type': 'FxForwardCurve', 'id': '4bb6f784-18e1-4e98-a87f-14c5ea65aa2d', 'location': {'space': 'HOME', 'name': 'GBPAUD_curve_from_FxForward_testv2Padw'}, 'description': {'summary': 'My GBPAUD curve from FxForward', 'tags': []}},\n",
       " {'type': 'FxForwardCurve', 'id': '2831b25b-545c-473d-ae1c-aaf44f2022e6', 'location': {'space': 'HOME', 'name': 'TestCurve_0BiZMW'}, 'description': {'summary': '', 'tags': []}},\n",
       " {'type': 'FxForwardCurve', 'id': '8aff6885-037a-43cb-833c-7825610b2f5b', 'location': {'space': 'HOME', 'name': 'TestCurve_1adusg'}, 'description': {'summary': '', 'tags': []}},\n",
       " {'type': 'FxForwardCurve', 'id': 'da7f91c2-eae5-484b-8557-1d7d60b76cc5', 'location': {'space': 'HOME', 'name': 'TestCurve_1GA9vH'}, 'description': {'summary': '', 'tags': []}},\n",
       " {'type': 'FxForwardCurve', 'id': '4c6f163f-774c-4c56-bec3-d1c2f799ad65', 'location': {'space': 'HOME', 'name': 'TestCurve_1IcMC0'}, 'description': {'summary': '', 'tags': []}},\n",
       " {'type': 'FxForwardCurve', 'id': 'b7668e52-9451-4525-aaff-81b696a57b63', 'location': {'space': 'HOME', 'name': 'TestCurve_1m9z9y'}, 'description': {'summary': '', 'tags': []}},\n",
       " {'type': 'FxForwardCurve', 'id': 'be7dc609-920c-4f07-8051-48b8de35d4e7', 'location': {'space': 'HOME', 'name': 'TestCurve_3AQbQK'}, 'description': {'summary': '', 'tags': []}},\n",
       " {'type': 'FxForwardCurve', 'id': '974ebcf0-4625-43b1-a416-564d14694be2', 'location': {'space': 'HOME', 'name': 'TestCurve_3PYacr'}, 'description': {'summary': '', 'tags': []}},\n",
       " {'type': 'FxForwardCurve', 'id': '82d35a63-a47f-4c13-b99b-da37cf8edbde', 'location': {'space': 'HOME', 'name': 'TestCurve_47KTcT'}, 'description': {'summary': '', 'tags': []}},\n",
       " {'type': 'FxForwardCurve', 'id': 'aa0b90ba-f5b1-4d03-b04b-523b7f3b2fc8', 'location': {'space': 'HOME', 'name': 'TestCurve_4H1odg'}, 'description': {'summary': '', 'tags': []}},\n",
       " {'type': 'FxForwardCurve', 'id': '499fffe2-c4e3-4cf4-b077-f322ab0ce8d0', 'location': {'space': 'HOME', 'name': 'TestCurve_4jX500'}, 'description': {'summary': '', 'tags': []}},\n",
       " {'type': 'FxForwardCurve', 'id': '0e7c222c-84be-4104-a776-c0ee14e7740b', 'location': {'space': 'HOME', 'name': 'TestCurve_4XyDdo'}, 'description': {'summary': '', 'tags': []}},\n",
       " {'type': 'FxForwardCurve', 'id': 'dff747d8-889b-4e43-9915-3f25b335e401', 'location': {'space': 'HOME', 'name': 'TestCurve_6VEzsA'}, 'description': {'summary': '', 'tags': []}},\n",
       " {'type': 'FxForwardCurve', 'id': '31985b3e-78fa-4c2d-8ed3-dcdfb35f7576', 'location': {'space': 'HOME', 'name': 'TestCurve_7a1jTD'}, 'description': {'summary': '', 'tags': []}},\n",
       " {'type': 'FxForwardCurve', 'id': '65a0723c-3813-4745-b2b6-b00ace14fd8a', 'location': {'space': 'HOME', 'name': 'TestCurve_7gkZ10'}, 'description': {'summary': '', 'tags': []}},\n",
       " {'type': 'FxForwardCurve', 'id': '95f211f9-f160-4c14-b3f5-bcb4035b05b2', 'location': {'space': 'HOME', 'name': 'TestCurve_9bY0l6'}, 'description': {'summary': '', 'tags': []}},\n",
       " {'type': 'FxForwardCurve', 'id': '0a9c3cd7-ff5d-476e-9ade-7062d865f516', 'location': {'space': 'HOME', 'name': 'TestCurve_9f7SiA'}, 'description': {'summary': '', 'tags': []}},\n",
       " {'type': 'FxForwardCurve', 'id': 'bfa437ab-0d8c-43b9-a0d7-3ff7fc929100', 'location': {'space': 'HOME', 'name': 'TestCurve_9VcXYS'}, 'description': {'summary': '', 'tags': []}},\n",
       " {'type': 'FxForwardCurve', 'id': '7bb77b77-d734-46c9-be68-170508ad970d', 'location': {'space': 'HOME', 'name': 'TestCurve_a5DIeO'}, 'description': {'summary': '', 'tags': []}},\n",
       " {'type': 'FxForwardCurve', 'id': 'e9376664-529a-4b3c-bf91-eb863f45e543', 'location': {'space': 'HOME', 'name': 'TestCurve_bgbPj4'}, 'description': {'summary': '', 'tags': []}},\n",
       " {'type': 'FxForwardCurve', 'id': '87c76d36-6921-4d38-8c86-dd7321f71fb1', 'location': {'space': 'HOME', 'name': 'TestCurve_bNIMBa'}, 'description': {'summary': '', 'tags': []}},\n",
       " {'type': 'FxForwardCurve', 'id': '984dc625-a2fe-4809-8716-403687cc1a20', 'location': {'space': 'HOME', 'name': 'TestCurve_bXFton'}, 'description': {'summary': '', 'tags': []}},\n",
       " {'type': 'FxForwardCurve', 'id': '808e97b4-0afa-4001-bc25-230ecadaa27f', 'location': {'space': 'HOME', 'name': 'TestCurve_CNDYFa'}, 'description': {'summary': '', 'tags': []}},\n",
       " {'type': 'FxForwardCurve', 'id': '2e16f02b-511f-431f-b8a0-4f0f5edc85ce', 'location': {'space': 'HOME', 'name': 'TestCurve_CpaVOv'}, 'description': {'summary': '', 'tags': []}},\n",
       " {'type': 'FxForwardCurve', 'id': '33631960-fec3-4891-8915-2b89a2a8dd44', 'location': {'space': 'HOME', 'name': 'TestCurve_D0YmNR'}, 'description': {'summary': '', 'tags': []}},\n",
       " {'type': 'FxForwardCurve', 'id': 'e7691454-dede-42a4-826d-06a40b36b153', 'location': {'space': 'HOME', 'name': 'TestCurve_D34dng'}, 'description': {'summary': '', 'tags': []}},\n",
       " {'type': 'FxForwardCurve', 'id': '780dda43-326b-47bb-adba-ceb534c49cb2', 'location': {'space': 'HOME', 'name': 'TestCurve_dAzgIu'}, 'description': {'summary': '', 'tags': []}},\n",
       " {'type': 'FxForwardCurve', 'id': 'a89811da-7193-4d39-9f23-f3f4fe5750d1', 'location': {'space': 'HOME', 'name': 'TestCurve_dEBosh'}, 'description': {'summary': '', 'tags': []}},\n",
       " {'type': 'FxForwardCurve', 'id': 'd651f0b4-e055-4854-9df3-d172233d593e', 'location': {'space': 'HOME', 'name': 'TestCurve_DJWuFb'}, 'description': {'summary': '', 'tags': []}},\n",
       " {'type': 'FxForwardCurve', 'id': '76b14964-65b3-49c9-97a0-eabf6ffc65d1', 'location': {'space': 'HOME', 'name': 'TestCurve_fn6fVj'}, 'description': {'summary': '', 'tags': []}},\n",
       " {'type': 'FxForwardCurve', 'id': '1c5bb7dd-9d5f-405d-9117-23a5d2248c9d', 'location': {'space': 'HOME', 'name': 'TestCurve_foOcI5'}, 'description': {'summary': '', 'tags': []}},\n",
       " {'type': 'FxForwardCurve', 'id': 'ad9b20ad-cb9d-462c-99c4-a2cc829f3b46', 'location': {'space': 'HOME', 'name': 'TestCurve_G1Za10'}, 'description': {'summary': '', 'tags': []}},\n",
       " {'type': 'FxForwardCurve', 'id': '3c2c0ded-8196-4ecb-bb78-d89c239ea237', 'location': {'space': 'HOME', 'name': 'TestCurve_G7SYQH'}, 'description': {'summary': '', 'tags': []}},\n",
       " {'type': 'FxForwardCurve', 'id': '578d1c55-9aa8-49ee-bbf0-23c7b6ad9662', 'location': {'space': 'HOME', 'name': 'TestCurve_gjOdjz'}, 'description': {'summary': '', 'tags': []}},\n",
       " {'type': 'FxForwardCurve', 'id': '2e0a4c4f-0e5f-4799-91c0-7f3baa60d90a', 'location': {'space': 'HOME', 'name': 'TestCurve_gjU7C8'}, 'description': {'summary': '', 'tags': []}},\n",
       " {'type': 'FxForwardCurve', 'id': '60b93f11-28a2-41de-a1b2-85bd9507234f', 'location': {'space': 'HOME', 'name': 'TestCurve_gkGvzV'}, 'description': {'summary': '', 'tags': []}},\n",
       " {'type': 'FxForwardCurve', 'id': '881f2c0b-1918-4006-98a0-aa29bfb6a133', 'location': {'space': 'HOME', 'name': 'TestCurve_gLSMQP'}, 'description': {'summary': '', 'tags': []}},\n",
       " {'type': 'FxForwardCurve', 'id': '4c6503be-cbc1-4cc8-b2bd-2b21671e68e3', 'location': {'space': 'HOME', 'name': 'TestCurve_Gu1u8I'}, 'description': {'summary': '', 'tags': []}},\n",
       " {'type': 'FxForwardCurve', 'id': 'd9cde4c4-cca0-42cc-aadb-184c985c7a79', 'location': {'space': 'HOME', 'name': 'TestCurve_HiMVr9'}, 'description': {'summary': '', 'tags': []}},\n",
       " {'type': 'FxForwardCurve', 'id': '7b0a735d-6591-4dc0-93cc-3d4db4712c98', 'location': {'space': 'HOME', 'name': 'TestCurve_I6FtZY'}, 'description': {'summary': '', 'tags': []}},\n",
       " {'type': 'FxForwardCurve', 'id': 'c97d684a-6f23-49b5-b25c-40e8c5054886', 'location': {'space': 'HOME', 'name': 'TestCurve_ibH7Dm'}, 'description': {'summary': '', 'tags': []}},\n",
       " {'type': 'FxForwardCurve', 'id': '957446d5-1188-438f-b3b8-f19f0c61831b', 'location': {'space': 'HOME', 'name': 'TestCurve_IHO0dg'}, 'description': {'summary': '', 'tags': []}},\n",
       " {'type': 'FxForwardCurve', 'id': 'ddf797e1-2077-479b-b658-dd1f4d52942c', 'location': {'space': 'HOME', 'name': 'TestCurve_IL3kJH'}, 'description': {'summary': '', 'tags': []}},\n",
       " {'type': 'FxForwardCurve', 'id': '649064b8-c197-48e5-8e35-cacbce8dc230', 'location': {'space': 'HOME', 'name': 'TestCurve_J7mTAT'}, 'description': {'summary': '', 'tags': []}},\n",
       " {'type': 'FxForwardCurve', 'id': 'a6926914-dab4-4205-8219-d13eae59f0a5', 'location': {'space': 'HOME', 'name': 'TestCurve_jdKU19'}, 'description': {'summary': '', 'tags': []}}]"
      ]
     },
     "execution_count": 17,
     "metadata": {},
     "output_type": "execute_result"
    }
   ],
   "source": [
    "curves = search()\n",
    "\n",
    "curves"
   ]
  },
  {
   "cell_type": "markdown",
   "metadata": {},
   "source": [
    "### Search for curves by names"
   ]
  },
  {
   "cell_type": "code",
   "execution_count": 18,
   "metadata": {
    "execution": {
     "iopub.execute_input": "2025-08-21T06:03:18.589116Z",
     "iopub.status.busy": "2025-08-21T06:03:18.588783Z",
     "iopub.status.idle": "2025-08-21T06:03:18.705837Z",
     "shell.execute_reply": "2025-08-21T06:03:18.705176Z"
    }
   },
   "outputs": [
    {
     "data": {
      "text/plain": [
       "<FxForwardCurve space=None name='' unsaved>"
      ]
     },
     "execution_count": 18,
     "metadata": {},
     "output_type": "execute_result"
    }
   ],
   "source": [
    "curves_by_name = search(names=[\"EURGBP_Fx_Forward_Curve\"])\n",
    "\n",
    "new_curve"
   ]
  },
  {
   "cell_type": "markdown",
   "metadata": {},
   "source": [
    "### Search for curves by spaces"
   ]
  },
  {
   "cell_type": "code",
   "execution_count": 19,
   "metadata": {
    "execution": {
     "iopub.execute_input": "2025-08-21T06:03:18.708060Z",
     "iopub.status.busy": "2025-08-21T06:03:18.707702Z",
     "iopub.status.idle": "2025-08-21T06:03:18.833378Z",
     "shell.execute_reply": "2025-08-21T06:03:18.832931Z"
    }
   },
   "outputs": [
    {
     "data": {
      "text/plain": [
       "[{'type': 'FxForwardCurve', 'id': '8624ce0d-ad56-42ac-acd0-f7d21f32be2b', 'location': {'space': 'LSEG', 'name': 'AUD_AONIAUSD_SOFR_FxCross'}, 'description': {'summary': 'LSEG AUD AONIA/USD SOFR FxCross', 'tags': []}},\n",
       " {'type': 'FxForwardCurve', 'id': '3a45f4cb-29b7-4607-9f2e-7ab8a8086535', 'location': {'space': 'LSEG', 'name': 'AUD_BBSWUSD_SOFR_FxCross'}, 'description': {'summary': 'LSEG AUD BBSW/USD SOFR FxCross', 'tags': []}},\n",
       " {'type': 'FxForwardCurve', 'id': '1d3c2ac9-2761-499a-8df4-cc7e054bb029', 'location': {'space': 'LSEG', 'name': 'AUD_CAD_FxForward'}, 'description': {'summary': 'LSEG AUD CAD FxForward', 'tags': []}},\n",
       " {'type': 'FxForwardCurve', 'id': '9bac7c80-4d50-45ad-b66a-d935a8cf5655', 'location': {'space': 'LSEG', 'name': 'AUD_CHF_FxForward'}, 'description': {'summary': 'LSEG AUD CHF FxForward', 'tags': []}},\n",
       " {'type': 'FxForwardCurve', 'id': '11edca10-aa9b-4cc3-9b86-54d5d78119df', 'location': {'space': 'LSEG', 'name': 'AUD_JPY_FxForward'}, 'description': {'summary': 'LSEG AUD JPY FxForward', 'tags': []}},\n",
       " {'type': 'FxForwardCurve', 'id': '01ea94d4-710e-4769-b937-fa485a0dea36', 'location': {'space': 'LSEG', 'name': 'AUD_NZD_FxForward'}, 'description': {'summary': 'LSEG AUD NZD FxForward', 'tags': []}},\n",
       " {'type': 'FxForwardCurve', 'id': '310211eb-0490-4d16-9550-86780aa4639b', 'location': {'space': 'LSEG', 'name': 'AUD_USD_FxCross'}, 'description': {'summary': 'LSEG AUD USD FxCross', 'tags': []}},\n",
       " {'type': 'FxForwardCurve', 'id': 'cc31e969-e64c-4e11-b266-75b335c0d788', 'location': {'space': 'LSEG', 'name': 'AUD_USD_FxForward'}, 'description': {'summary': 'LSEG AUD USD FxForward', 'tags': []}},\n",
       " {'type': 'FxForwardCurve', 'id': '35c6b411-1f40-4442-81fd-0250b33fa879', 'location': {'space': 'LSEG', 'name': 'CAD_CHF_FxForward'}, 'description': {'summary': 'LSEG CAD CHF FxForward', 'tags': []}},\n",
       " {'type': 'FxForwardCurve', 'id': 'f719ef29-9348-42d5-86e6-e36f8468ad17', 'location': {'space': 'LSEG', 'name': 'CAD_JPY_FxForward'}, 'description': {'summary': 'LSEG CAD JPY FxForward', 'tags': []}},\n",
       " {'type': 'FxForwardCurve', 'id': '2f01b9d5-39a6-44f5-b1ef-9c88a5530c42', 'location': {'space': 'LSEG', 'name': 'CHF_JPY_FxForward'}, 'description': {'summary': 'LSEG CHF JPY FxForward', 'tags': []}},\n",
       " {'type': 'FxForwardCurve', 'id': 'ffc4704e-78f1-4b76-81fb-238abdda27c9', 'location': {'space': 'LSEG', 'name': 'EUR_AUD_FxForward'}, 'description': {'summary': 'LSEG EUR AUD FxForward', 'tags': []}},\n",
       " {'type': 'FxForwardCurve', 'id': 'c5568d63-c7c8-483f-baa9-2eb1a0a4e577', 'location': {'space': 'LSEG', 'name': 'EUR_CAD_FxForward'}, 'description': {'summary': 'LSEG EUR CAD FxForward', 'tags': []}},\n",
       " {'type': 'FxForwardCurve', 'id': 'b4abc17d-c199-4dc5-87de-7c2f206dfcaa', 'location': {'space': 'LSEG', 'name': 'EUR_CHF_FxCross'}, 'description': {'summary': 'LSEG EUR CHF FxCross', 'tags': []}},\n",
       " {'type': 'FxForwardCurve', 'id': 'd53ef572-55dd-4b43-8c13-6f0c831f81b2', 'location': {'space': 'LSEG', 'name': 'EUR_CHF_FxForward'}, 'description': {'summary': 'LSEG EUR CHF FxForward', 'tags': []}},\n",
       " {'type': 'FxForwardCurve', 'id': 'fea72a89-3fb8-4e3b-a972-e586c2862f50', 'location': {'space': 'LSEG', 'name': 'EUR_DKK_FxCross'}, 'description': {'summary': 'LSEG EUR DKK FxCross', 'tags': []}},\n",
       " {'type': 'FxForwardCurve', 'id': '1b62cb08-f23c-4880-af20-dfa0bc5a7634', 'location': {'space': 'LSEG', 'name': 'EUR_EONIAUSD_SOFR_FxCross'}, 'description': {'summary': 'LSEG EUR EONIA/USD SOFR FxCross', 'tags': []}},\n",
       " {'type': 'FxForwardCurve', 'id': 'd410fda2-e29c-4d92-be5b-e53b590f8814', 'location': {'space': 'LSEG', 'name': 'EUR_ESTRCAD_CORRA_FxCross'}, 'description': {'summary': 'LSEG EUR ESTR/CAD CORRA FxCross', 'tags': []}},\n",
       " {'type': 'FxForwardCurve', 'id': 'be1fb842-fa7b-42a5-9a39-f077aca70636', 'location': {'space': 'LSEG', 'name': 'EUR_ESTRCHF_SARON_FxCross'}, 'description': {'summary': 'LSEG EUR ESTR/CHF SARON FxCross', 'tags': []}},\n",
       " {'type': 'FxForwardCurve', 'id': 'a9b1d9b5-8d8f-417c-908d-9ff346300c4d', 'location': {'space': 'LSEG', 'name': 'EUR_ESTRDKK_CIBOR_FxCross'}, 'description': {'summary': 'LSEG EUR ESTR/DKK CIBOR FxCross', 'tags': []}},\n",
       " {'type': 'FxForwardCurve', 'id': 'c0782845-1551-4efb-9562-0f1ea2c48f9d', 'location': {'space': 'LSEG', 'name': 'EUR_ESTRDKK_DESTR_FxCross'}, 'description': {'summary': 'LSEG EUR ESTR/DKK DESTR FxCross', 'tags': []}},\n",
       " {'type': 'FxForwardCurve', 'id': '6449fcf8-dead-4ceb-be17-109ff3af1108', 'location': {'space': 'LSEG', 'name': 'EUR_ESTRNOK_OIBOR_FxCross'}, 'description': {'summary': 'LSEG EUR ESTR/NOK OIBOR FxCross', 'tags': []}},\n",
       " {'type': 'FxForwardCurve', 'id': '3c3ee380-37f2-468e-9b6f-faba92e13880', 'location': {'space': 'LSEG', 'name': 'EUR_ESTRSEK_STIBOR_FxCross'}, 'description': {'summary': 'LSEG EUR ESTR/SEK STIBOR FxCross', 'tags': []}},\n",
       " {'type': 'FxForwardCurve', 'id': '99b3b2d3-d541-4fef-9b14-7e335bb5a6e5', 'location': {'space': 'LSEG', 'name': 'EUR_ESTRUSD_SOFR_FxCross'}, 'description': {'summary': 'LSEG EUR ESTR/USD SOFR FxCross', 'tags': []}},\n",
       " {'type': 'FxForwardCurve', 'id': '882c9997-df44-4a23-b06f-bb1729d87b4e', 'location': {'space': 'LSEG', 'name': 'EUR_EURIBORUSD_SOFR_FxCross'}, 'description': {'summary': 'LSEG EUR EURIBOR/USD SOFR FxCross', 'tags': []}},\n",
       " {'type': 'FxForwardCurve', 'id': '402b67df-9193-4516-bb6e-57dcf3264f41', 'location': {'space': 'LSEG', 'name': 'EUR_GBP_FxCross'}, 'description': {'summary': 'LSEG EUR GBP FxCross', 'tags': []}},\n",
       " {'type': 'FxForwardCurve', 'id': '765d23ef-c270-43c0-b274-9ec724bb77b5', 'location': {'space': 'LSEG', 'name': 'EUR_GBP_FxForward'}, 'description': {'summary': 'LSEG EUR GBP FxForward', 'tags': []}},\n",
       " {'type': 'FxForwardCurve', 'id': '99cd7624-df17-485d-8ffb-b1b4f1a788c3', 'location': {'space': 'LSEG', 'name': 'EUR_JPY_FxCross'}, 'description': {'summary': 'LSEG EUR JPY FxCross', 'tags': []}},\n",
       " {'type': 'FxForwardCurve', 'id': '345d2beb-487f-4e60-93e9-42e106720233', 'location': {'space': 'LSEG', 'name': 'EUR_JPY_FxForward'}, 'description': {'summary': 'LSEG EUR JPY FxForward', 'tags': []}},\n",
       " {'type': 'FxForwardCurve', 'id': 'fa0dd0c7-5d79-493a-909b-31bc6bb68b2d', 'location': {'space': 'LSEG', 'name': 'EUR_NOK_FxCross'}, 'description': {'summary': 'LSEG EUR NOK FxCross', 'tags': []}},\n",
       " {'type': 'FxForwardCurve', 'id': 'ba918d6f-693f-476f-a4a3-000fa701188e', 'location': {'space': 'LSEG', 'name': 'EUR_NZD_FxForward'}, 'description': {'summary': 'LSEG EUR NZD FxForward', 'tags': []}},\n",
       " {'type': 'FxForwardCurve', 'id': 'cd524336-5956-4eae-bfdc-40a3fc607f39', 'location': {'space': 'LSEG', 'name': 'EUR_RON_FxCross'}, 'description': {'summary': 'LSEG EUR RON FxCross', 'tags': []}},\n",
       " {'type': 'FxForwardCurve', 'id': 'cef9add0-e4e1-48b1-b2f7-aedebda0224b', 'location': {'space': 'LSEG', 'name': 'EUR_SEK_FxCross'}, 'description': {'summary': 'LSEG EUR SEK FxCross', 'tags': []}},\n",
       " {'type': 'FxForwardCurve', 'id': 'd1822c9c-b08e-42bb-9a11-ce40a73b0b41', 'location': {'space': 'LSEG', 'name': 'EUR_USD_FxCross'}, 'description': {'summary': 'LSEG EUR USD FxCross', 'tags': []}},\n",
       " {'type': 'FxForwardCurve', 'id': '7b7fe9d2-9beb-409d-8078-efe07698a1e1', 'location': {'space': 'LSEG', 'name': 'EUR_USD_FxForward'}, 'description': {'summary': 'LSEG EUR USD FxForward', 'tags': []}},\n",
       " {'type': 'FxForwardCurve', 'id': '2a080cda-d54e-4476-8ca7-c1894d263840', 'location': {'space': 'LSEG', 'name': 'EURUSD_WMR_Fixing'}, 'description': {'summary': 'LSEG EURUSD WMR Fixing', 'tags': []}},\n",
       " {'type': 'FxForwardCurve', 'id': '9c0a63f9-8559-4ac5-8c9e-cded045000f4', 'location': {'space': 'LSEG', 'name': 'GBP_AUD_FxForward'}, 'description': {'summary': 'LSEG GBP AUD FxForward', 'tags': []}},\n",
       " {'type': 'FxForwardCurve', 'id': '08b1e53f-1cb9-4aeb-8827-efcf74861387', 'location': {'space': 'LSEG', 'name': 'GBP_CAD_FxForward'}, 'description': {'summary': 'LSEG GBP CAD FxForward', 'tags': []}},\n",
       " {'type': 'FxForwardCurve', 'id': '31e2572a-a683-495e-ae73-fa8e10c0ad0e', 'location': {'space': 'LSEG', 'name': 'GBP_CHF_FxForward'}, 'description': {'summary': 'LSEG GBP CHF FxForward', 'tags': []}},\n",
       " {'type': 'FxForwardCurve', 'id': '5631a762-9d8a-4062-a941-f65ed3d8ae5c', 'location': {'space': 'LSEG', 'name': 'GBP_JPY_FxForward'}, 'description': {'summary': 'LSEG GBP JPY FxForward', 'tags': []}},\n",
       " {'type': 'FxForwardCurve', 'id': 'd1a51af9-44b5-4dc4-bee0-56b404d52f09', 'location': {'space': 'LSEG', 'name': 'GBP_NZD_FxForward'}, 'description': {'summary': 'LSEG GBP NZD FxForward', 'tags': []}},\n",
       " {'type': 'FxForwardCurve', 'id': 'd9bbda8a-d873-4383-8137-cbf7c6d246cc', 'location': {'space': 'LSEG', 'name': 'GBP_SONIAEUR_ESTR_FxCross'}, 'description': {'summary': 'LSEG GBP SONIA/EUR ESTR FxCross', 'tags': []}},\n",
       " {'type': 'FxForwardCurve', 'id': '3940f35a-ef55-4eec-b537-2f48d2dce4fd', 'location': {'space': 'LSEG', 'name': 'GBP_SONIAUSD_FFER_FxCross'}, 'description': {'summary': 'LSEG GBP SONIA/USD FFER FxCross', 'tags': []}},\n",
       " {'type': 'FxForwardCurve', 'id': 'b1c9ff9a-b6fb-445f-a9c1-7d6f5010efc8', 'location': {'space': 'LSEG', 'name': 'GBP_SONIAUSD_SOFR_FxCross'}, 'description': {'summary': 'LSEG GBP SONIA/USD SOFR FxCross', 'tags': []}},\n",
       " {'type': 'FxForwardCurve', 'id': '0d8ca898-3903-4313-9bba-9579e67c5542', 'location': {'space': 'LSEG', 'name': 'GBP_USD_FxCross'}, 'description': {'summary': 'LSEG GBP USD FxCross', 'tags': []}},\n",
       " {'type': 'FxForwardCurve', 'id': 'c6c1f844-8566-4e1c-b8a9-3d3e49904b14', 'location': {'space': 'LSEG', 'name': 'GBP_USD_FxForward'}, 'description': {'summary': 'LSEG GBP USD FxForward', 'tags': []}},\n",
       " {'type': 'FxForwardCurve', 'id': 'f772fe45-8a62-4f01-98df-83939a70b465', 'location': {'space': 'LSEG', 'name': 'MXV_MXN_FxCross'}, 'description': {'summary': 'LSEG MXV MXN FxCross', 'tags': []}},\n",
       " {'type': 'FxForwardCurve', 'id': '62f42329-a40e-4470-a7f9-4e2ad7ec7d77', 'location': {'space': 'LSEG', 'name': 'NOK_NOWAEUR_ESTR_FxCross'}, 'description': {'summary': 'LSEG NOK NOWA/EUR ESTR FxCross', 'tags': []}},\n",
       " {'type': 'FxForwardCurve', 'id': '4e724ca1-3a75-4134-bea1-c93e8e67c775', 'location': {'space': 'LSEG', 'name': 'NZD_BKBMUSD_SOFR_FxCross'}, 'description': {'summary': 'LSEG NZD BKBM/USD SOFR FxCross', 'tags': []}},\n",
       " {'type': 'FxForwardCurve', 'id': 'b1245d1d-c63a-471c-a62c-3f1793e898ec', 'location': {'space': 'LSEG', 'name': 'NZD_JPY_FxForward'}, 'description': {'summary': 'LSEG NZD JPY FxForward', 'tags': []}}]"
      ]
     },
     "execution_count": 19,
     "metadata": {},
     "output_type": "execute_result"
    }
   ],
   "source": [
    "curves_by_spaces = search(spaces=[\"LSEG\"])\n",
    "\n",
    "curves_by_spaces"
   ]
  },
  {
   "cell_type": "markdown",
   "metadata": {},
   "source": [
    "### Search for curves by tags"
   ]
  },
  {
   "cell_type": "code",
   "execution_count": 20,
   "metadata": {
    "execution": {
     "iopub.execute_input": "2025-08-21T06:03:18.835530Z",
     "iopub.status.busy": "2025-08-21T06:03:18.835075Z",
     "iopub.status.idle": "2025-08-21T06:03:18.958273Z",
     "shell.execute_reply": "2025-08-21T06:03:18.957826Z"
    }
   },
   "outputs": [
    {
     "data": {
      "text/plain": [
       "[]"
      ]
     },
     "execution_count": 20,
     "metadata": {},
     "output_type": "execute_result"
    }
   ],
   "source": [
    "curves_by_tags = search(tags=[\"EUR\", \"USD\"])\n",
    "\n",
    "curves_by_tags"
   ]
  },
  {
   "cell_type": "markdown",
   "metadata": {},
   "source": [
    "### Combine search criteria\n",
    "It's also possible to combine search items:"
   ]
  },
  {
   "cell_type": "code",
   "execution_count": 21,
   "metadata": {
    "execution": {
     "iopub.execute_input": "2025-08-21T06:03:18.960507Z",
     "iopub.status.busy": "2025-08-21T06:03:18.960017Z",
     "iopub.status.idle": "2025-08-21T06:03:19.075252Z",
     "shell.execute_reply": "2025-08-21T06:03:19.074813Z"
    }
   },
   "outputs": [
    {
     "data": {
      "text/plain": [
       "[]"
      ]
     },
     "execution_count": 21,
     "metadata": {},
     "output_type": "execute_result"
    }
   ],
   "source": [
    "searched_curves = search(spaces=[\"LSEG\"], tags=[\"EUR\"])\n",
    "\n",
    "searched_curves"
   ]
  },
  {
   "cell_type": "markdown",
   "metadata": {},
   "source": [
    "## Data access\n",
    "\n",
    "You can access resource data through the root attributes of the resource object:"
   ]
  },
  {
   "cell_type": "code",
   "execution_count": 22,
   "metadata": {
    "execution": {
     "iopub.execute_input": "2025-08-21T06:03:19.077227Z",
     "iopub.status.busy": "2025-08-21T06:03:19.076869Z",
     "iopub.status.idle": "2025-08-21T06:03:19.079703Z",
     "shell.execute_reply": "2025-08-21T06:03:19.079228Z"
    }
   },
   "outputs": [
    {
     "name": "stdout",
     "output_type": "stream",
     "text": [
      "Curve cross currency: EURGBP\n",
      "Curve reference currency: USD\n"
     ]
    }
   ],
   "source": [
    "print(f\"Curve cross currency: {curve.definition.cross_currency}\")\n",
    "print(f\"Curve reference currency: {curve.definition.reference_currency}\")\n"
   ]
  },
  {
   "cell_type": "markdown",
   "metadata": {},
   "source": [
    "## Curves functions"
   ]
  },
  {
   "cell_type": "markdown",
   "metadata": {},
   "source": [
    "### Calculate\n",
    "\n",
    "You can use Calculte to calculate an FxForward curve.\n",
    "\n",
    "You can pass in the valuation date as a datetime.date object, or as a date string:"
   ]
  },
  {
   "cell_type": "code",
   "execution_count": 23,
   "metadata": {
    "execution": {
     "iopub.execute_input": "2025-08-21T06:03:19.081732Z",
     "iopub.status.busy": "2025-08-21T06:03:19.081455Z",
     "iopub.status.idle": "2025-08-21T06:03:20.453814Z",
     "shell.execute_reply": "2025-08-21T06:03:20.453392Z"
    }
   },
   "outputs": [
    {
     "data": {
      "text/plain": [
       "{'resource': {'type': 'FxForwardCurve', 'id': 'cafce93f-beeb-4086-9931-46e706e91d05', 'location': {'space': 'HOME', 'name': 'EURGBP_Fx_Forward_Curve'}, 'description': {'summary': 'EURGBP Fx Forward Curve via USD', 'tags': ['EURGBP', 'EUR', 'GBP', 'FxCurve']}, 'definition': {'crossCurrency': 'EURGBP', 'referenceCurrency': 'USD', 'constituents': [{'type': 'FxSpot', 'definition': {'template': 'EURUSD'}, 'quote': {'definition': {'instrumentCode': 'EUR=', 'source': 'Composite'}, 'values': {'bid': {'value': 1.1647}, 'ask': {'value': 1.1649}}}}, {'type': 'FxForward', 'definition': {'tenor': 'ON', 'template': 'EURUSD'}, 'quote': {'definition': {'instrumentCode': 'EURON=RFB', 'source': 'RFB'}, 'values': {'bid': {'value': 0.7691}, 'ask': {'value': 0.7701}}}}, {'type': 'FxForward', 'definition': {'tenor': 'TN', 'template': 'EURUSD'}, 'quote': {'definition': {'instrumentCode': 'EURTN=RFB', 'source': 'RFB'}, 'values': {'bid': {'value': 2.3027}, 'ask': {'value': 2.3127}}}}, {'type': 'FxForward', 'definition': {'tenor': 'SN', 'template': 'EURUSD'}, 'quote': {'definition': {'instrumentCode': 'EURSN=RFB', 'source': 'RFB'}, 'values': {'bid': {'value': 0.7685}, 'ask': {'value': 0.7745}}}}, {'type': 'FxForward', 'definition': {'tenor': 'AUGM', 'template': 'EURUSD'}, 'quote': {'definition': {'instrumentCode': 'EURAUGM=RFB', 'source': 'RFB'}, 'values': {'bid': {'value': 3.08}, 'ask': {'value': 3.09}}}}, {'type': 'FxForward', 'definition': {'tenor': 'SW', 'template': 'EURUSD'}, 'quote': {'definition': {'instrumentCode': 'EURSW=RFB', 'source': 'RFB'}, 'values': {'bid': {'value': 6.24}, 'ask': {'value': 6.26}}}}, {'type': 'FxForward', 'definition': {'tenor': '1M', 'template': 'EURUSD'}, 'quote': {'definition': {'instrumentCode': 'EUR1M=RFB', 'source': 'RFB'}, 'values': {'bid': {'value': 23.63}, 'ask': {'value': 23.69}}}}, {'type': 'FxForward', 'definition': {'tenor': 'SEPM', 'template': 'EURUSD'}, 'quote': {'definition': {'instrumentCode': 'EURSEPM=RFB', 'source': 'RFB'}, 'values': {'bid': {'value': 27.22}, 'ask': {'value': 27.29}}}}, {'type': 'FxForward', 'definition': {'tenor': '2M', 'template': 'EURUSD'}, 'quote': {'definition': {'instrumentCode': 'EUR2M=RFB', 'source': 'RFB'}, 'values': {'bid': {'value': 46.95}, 'ask': {'value': 47.07}}}}, {'type': 'FxForward', 'definition': {'tenor': 'OCTM', 'template': 'EURUSD'}, 'quote': {'definition': {'instrumentCode': 'EUROCTM=RFB', 'source': 'RFB'}, 'values': {'bid': {'value': 49.76}, 'ask': {'value': 49.87}}}}, {'type': 'FxForward', 'definition': {'tenor': '3M', 'template': 'EURUSD'}, 'quote': {'definition': {'instrumentCode': 'EUR3M=RFB', 'source': 'RFB'}, 'values': {'bid': {'value': 67.25}, 'ask': {'value': 67.43}}}}, {'type': 'FxForward', 'definition': {'tenor': 'NOVM', 'template': 'EURUSD'}, 'quote': {'definition': {'instrumentCode': 'EURNOVM=RFB', 'source': 'RFB'}, 'values': {'bid': {'value': 69.28}, 'ask': {'value': 69.47}}}}, {'type': 'FxForward', 'definition': {'tenor': 'DECM', 'template': 'EURUSD'}, 'quote': {'definition': {'instrumentCode': 'EURDECM=RFB', 'source': 'RFB'}, 'values': {'bid': {'value': 91.41}, 'ask': {'value': 91.66}}}}, {'type': 'FxForward', 'definition': {'tenor': 'JANM', 'template': 'EURUSD'}, 'quote': {'definition': {'instrumentCode': 'EURJANM=RFB', 'source': 'RFB'}, 'values': {'bid': {'value': 112.97}, 'ask': {'value': 113.28}}}}, {'type': 'FxForward', 'definition': {'tenor': '6M', 'template': 'EURUSD'}, 'quote': {'definition': {'instrumentCode': 'EUR6M=RFB', 'source': 'RFB'}, 'values': {'bid': {'value': 129.61}, 'ask': {'value': 130.01}}}}, {'type': 'FxForward', 'definition': {'tenor': 'FEBM', 'template': 'EURUSD'}, 'quote': {'definition': {'instrumentCode': 'EURFEBM=RFB', 'source': 'RFB'}, 'values': {'bid': {'value': 130.87}, 'ask': {'value': 131.26}}}}, {'type': 'FxForward', 'definition': {'tenor': 'MARM', 'template': 'EURUSD'}, 'quote': {'definition': {'instrumentCode': 'EURMARM=RFB', 'source': 'RFB'}, 'values': {'bid': {'value': 151.12}, 'ask': {'value': 151.41}}}}, {'type': 'FxForward', 'definition': {'tenor': 'APRM', 'template': 'EURUSD'}, 'quote': {'definition': {'instrumentCode': 'EURAPRM=RFB', 'source': 'RFB'}, 'values': {'bid': {'value': 169.52}, 'ask': {'value': 170.15}}}}, {'type': 'FxForward', 'definition': {'tenor': '9M', 'template': 'EURUSD'}, 'quote': {'definition': {'instrumentCode': 'EUR9M=RFB', 'source': 'RFB'}, 'values': {'bid': {'value': 184.98}, 'ask': {'value': 185.78}}}}, {'type': 'FxForward', 'definition': {'tenor': 'MAYM', 'template': 'EURUSD'}, 'quote': {'definition': {'instrumentCode': 'EURMAYM=RFB', 'source': 'RFB'}, 'values': {'bid': {'value': 186.73}, 'ask': {'value': 187.48}}}}, {'type': 'FxForward', 'definition': {'tenor': 'JUNM', 'template': 'EURUSD'}, 'quote': {'definition': {'instrumentCode': 'EURJUNM=RFB', 'source': 'RFB'}, 'values': {'bid': {'value': 205.39}, 'ask': {'value': 205.74}}}}, {'type': 'FxForward', 'definition': {'tenor': 'JULM', 'template': 'EURUSD'}, 'quote': {'definition': {'instrumentCode': 'EURJULM=RFB', 'source': 'RFB'}, 'values': {'bid': {'value': 222.36}, 'ask': {'value': 222.84}}}}, {'type': 'FxForward', 'definition': {'tenor': '1Y', 'template': 'EURUSD'}, 'quote': {'definition': {'instrumentCode': 'EUR1Y=RFB', 'source': 'RFB'}, 'values': {'bid': {'value': 235.18}, 'ask': {'value': 236.18}}}}, {'type': 'FxForward', 'definition': {'tenor': '2Y', 'template': 'EURUSD'}, 'quote': {'definition': {'instrumentCode': 'EUR2Y=RFB', 'source': 'RFB'}, 'values': {'bid': {'value': 394.27}, 'ask': {'value': 397.69}}}}, {'type': 'FxForward', 'definition': {'tenor': '3Y', 'template': 'EURUSD'}, 'quote': {'definition': {'instrumentCode': 'EUR3Y=RFB', 'source': 'RFB'}, 'values': {'bid': {'value': 533.2}, 'ask': {'value': 538.2}}}}, {'type': 'FxForward', 'definition': {'tenor': '4Y', 'template': 'EURUSD'}, 'quote': {'definition': {'instrumentCode': 'EUR4Y=RFB', 'source': 'RFB'}, 'values': {'bid': {'value': 673.77}, 'ask': {'value': 678.45}}}}, {'type': 'FxForward', 'definition': {'tenor': '5Y', 'template': 'EURUSD'}, 'quote': {'definition': {'instrumentCode': 'EUR5Y=RFB', 'source': 'RFB'}, 'values': {'bid': {'value': 816.94}, 'ask': {'value': 827.94}}}}, {'type': 'FxForward', 'definition': {'tenor': '6Y', 'template': 'EURUSD'}, 'quote': {'definition': {'instrumentCode': 'EUR6Y=RFB', 'source': 'RFB'}, 'values': {'bid': {'value': 973.63}, 'ask': {'value': 987.63}}}}, {'type': 'FxForward', 'definition': {'tenor': '7Y', 'template': 'EURUSD'}, 'quote': {'definition': {'instrumentCode': 'EUR7Y=RFB', 'source': 'RFB'}, 'values': {'bid': {'value': 1139.38}, 'ask': {'value': 1155.38}}}}, {'type': 'FxForward', 'definition': {'tenor': '8Y', 'template': 'EURUSD'}, 'quote': {'definition': {'instrumentCode': 'EUR8Y=RFB', 'source': 'RFB'}, 'values': {'bid': {'value': 1294.88}, 'ask': {'value': 1333.88}}}}, {'type': 'FxForward', 'definition': {'tenor': '9Y', 'template': 'EURUSD'}, 'quote': {'definition': {'instrumentCode': 'EUR9Y=RFB', 'source': 'RFB'}, 'values': {'bid': {'value': 1458.5}, 'ask': {'value': 1508.5}}}}, {'type': 'FxForward', 'definition': {'tenor': '10Y', 'template': 'EURUSD'}, 'quote': {'definition': {'instrumentCode': 'EUR10Y=RFB', 'source': 'RFB'}, 'values': {'bid': {'value': 1650.25}, 'ask': {'value': 1685.25}}}}, {'type': 'FxSpot', 'definition': {'template': 'GBPUSD'}, 'quote': {'definition': {'instrumentCode': 'GBP=', 'source': 'Composite'}, 'values': {'bid': {'value': 1.345}, 'ask': {'value': 1.3455}}}}, {'type': 'FxForward', 'definition': {'tenor': 'ON', 'template': 'GBPUSD'}, 'quote': {'definition': {'instrumentCode': 'GBPON=', 'source': 'Composite'}, 'values': {'bid': {'value': 0.135}, 'ask': {'value': 0.185}}}}, {'type': 'FxForward', 'definition': {'tenor': 'TN', 'template': 'GBPUSD'}, 'quote': {'definition': {'instrumentCode': 'GBPTN=', 'source': 'Composite'}, 'values': {'bid': {'value': 0.58}, 'ask': {'value': 0.63}}}}, {'type': 'FxForward', 'definition': {'tenor': 'SN', 'template': 'GBPUSD'}, 'quote': {'definition': {'instrumentCode': 'GBPSN=', 'source': 'Composite'}, 'values': {'bid': {'value': 0.15}, 'ask': {'value': 0.16}}}}, {'type': 'FxForward', 'definition': {'tenor': 'SW', 'template': 'GBPUSD'}, 'quote': {'definition': {'instrumentCode': 'GBPSW=', 'source': 'Composite'}, 'values': {'bid': {'value': 0.69}, 'ask': {'value': 0.87}}}}, {'type': 'FxForward', 'definition': {'tenor': '1M', 'template': 'GBPUSD'}, 'quote': {'definition': {'instrumentCode': 'GBP1M=', 'source': 'Composite'}, 'values': {'bid': {'value': 3.83}, 'ask': {'value': 3.86}}}}, {'type': 'FxForward', 'definition': {'tenor': '2M', 'template': 'GBPUSD'}, 'quote': {'definition': {'instrumentCode': 'GBP2M=', 'source': 'Composite'}, 'values': {'bid': {'value': 6.02}, 'ask': {'value': 6.58}}}}, {'type': 'FxForward', 'definition': {'tenor': '3M', 'template': 'GBPUSD'}, 'quote': {'definition': {'instrumentCode': 'GBP3M=', 'source': 'Composite'}, 'values': {'bid': {'value': 7.36}, 'ask': {'value': 8.27}}}}, {'type': 'FxForward', 'definition': {'tenor': '6M', 'template': 'GBPUSD'}, 'quote': {'definition': {'instrumentCode': 'GBP6M=', 'source': 'Composite'}, 'values': {'bid': {'value': 6.79}, 'ask': {'value': 8.71}}}}, {'type': 'FxForward', 'definition': {'tenor': '9M', 'template': 'GBPUSD'}, 'quote': {'definition': {'instrumentCode': 'GBP9M=', 'source': 'Composite'}, 'values': {'bid': {'value': 3.23}, 'ask': {'value': 7.73}}}}, {'type': 'FxForward', 'definition': {'tenor': '1Y', 'template': 'GBPUSD'}, 'quote': {'definition': {'instrumentCode': 'GBP1Y=', 'source': 'Composite'}, 'values': {'bid': {'value': -4.73}, 'ask': {'value': 2.03}}}}, {'type': 'FxForward', 'definition': {'tenor': '2Y', 'template': 'GBPUSD'}, 'quote': {'definition': {'instrumentCode': 'GBP2Y=', 'source': 'Composite'}, 'values': {'bid': {'value': -62.0}, 'ask': {'value': -50.0}}}}, {'type': 'FxForward', 'definition': {'tenor': '3Y', 'template': 'GBPUSD'}, 'quote': {'definition': {'instrumentCode': 'GBP3Y=', 'source': 'Composite'}, 'values': {'bid': {'value': -128.27}, 'ask': {'value': -90.75}}}}, {'type': 'FxForward', 'definition': {'tenor': '4Y', 'template': 'GBPUSD'}, 'quote': {'definition': {'instrumentCode': 'GBP4Y=', 'source': 'Composite'}, 'values': {'bid': {'value': -177.0}, 'ask': {'value': -137.0}}}}, {'type': 'FxForward', 'definition': {'tenor': '5Y', 'template': 'GBPUSD'}, 'quote': {'definition': {'instrumentCode': 'GBP5Y=', 'source': 'Composite'}, 'values': {'bid': {'value': -219.75}, 'ask': {'value': -170.0}}}}, {'type': 'FxForward', 'definition': {'tenor': '6Y', 'template': 'GBPUSD'}, 'quote': {'definition': {'instrumentCode': 'GBP6Y=', 'source': 'Composite'}, 'values': {'bid': {'value': -259.0}, 'ask': {'value': -204.0}}}}, {'type': 'FxForward', 'definition': {'tenor': '7Y', 'template': 'GBPUSD'}, 'quote': {'definition': {'instrumentCode': 'GBP7Y=', 'source': 'Composite'}, 'values': {'bid': {'value': -293.0}, 'ask': {'value': -231.0}}}}, {'type': 'FxForward', 'definition': {'tenor': '8Y', 'template': 'GBPUSD'}, 'quote': {'definition': {'instrumentCode': 'GBP8Y=', 'source': 'Composite'}, 'values': {'bid': {'value': -332.0}, 'ask': {'value': -265.0}}}}, {'type': 'FxForward', 'definition': {'tenor': '9Y', 'template': 'GBPUSD'}, 'quote': {'definition': {'instrumentCode': 'GBP9Y=', 'source': 'Composite'}, 'values': {'bid': {'value': -374.0}, 'ask': {'value': -301.0}}}}, {'type': 'FxForward', 'definition': {'tenor': '10Y', 'template': 'GBPUSD'}, 'quote': {'definition': {'instrumentCode': 'GBP10Y=', 'source': 'Composite'}, 'values': {'bid': {'value': -414.0}, 'ask': {'value': -337.0}}}}]}}, 'pricingPreferences': {'fxForwardCurveCalculationPreferences': {'extrapolationMode': 'Constant', 'interpolationMode': 'Linear', 'useDelayedDataIfDenied': False, 'ignoreInvalidInstruments': True, 'ignorePivotCurrencyHolidays': False}, 'valuationDate': '2023-10-10'}, 'analytics': {'constituents': [{'type': 'FxSpot', 'definition': {'template': 'EURUSD'}, 'quote': {'startDate': '2023-10-10', 'endDate': '2023-10-12', 'definition': {'instrumentCode': 'EUR='}, 'values': {'bid': {'value': 1.1647, 'isOverridden': True, 'marketValue': 1.0603}, 'ask': {'value': 1.1649, 'isOverridden': True, 'marketValue': 1.0607}}}}, {'type': 'FxForward', 'definition': {'tenor': 'ON', 'template': 'EURUSD'}, 'quote': {'startDate': '2023-10-10', 'endDate': '2023-10-11', 'definition': {'instrumentCode': 'EURON=RFB'}, 'values': {'bid': {'value': 0.7691, 'isOverridden': True, 'marketValue': 0.4151}, 'ask': {'value': 0.7701, 'isOverridden': True, 'marketValue': 0.4171}}}}, {'type': 'FxForward', 'definition': {'tenor': 'TN', 'template': 'EURUSD'}, 'quote': {'startDate': '2023-10-11', 'endDate': '2023-10-12', 'definition': {'instrumentCode': 'EURTN=RFB'}, 'values': {'bid': {'value': 2.3027, 'isOverridden': True, 'marketValue': 0.4124}, 'ask': {'value': 2.3127, 'isOverridden': True, 'marketValue': 0.4134}}}}, {'type': 'FxForward', 'definition': {'tenor': 'SN', 'template': 'EURUSD'}, 'quote': {'startDate': '2023-10-12', 'endDate': '2023-10-13', 'definition': {'instrumentCode': 'EURSN=RFB'}, 'values': {'bid': {'value': 0.7685, 'isOverridden': True, 'marketValue': 0.4131}, 'ask': {'value': 0.7745, 'isOverridden': True, 'marketValue': 0.4191}}}}, {'type': 'FxForward', 'definition': {'tenor': 'SW', 'template': 'EURUSD'}, 'quote': {'startDate': '2023-10-12', 'endDate': '2023-10-19', 'definition': {'instrumentCode': 'EURSW=RFB'}, 'values': {'bid': {'value': 6.24, 'isOverridden': True, 'marketValue': 2.92}, 'ask': {'value': 6.26, 'isOverridden': True, 'marketValue': 2.96}}}}, {'type': 'FxForward', 'definition': {'tenor': 'OCTM', 'template': 'EURUSD'}, 'quote': {'startDate': '2023-10-12', 'endDate': '2023-10-31', 'definition': {'instrumentCode': 'EUROCTM=RFB'}, 'values': {'bid': {'value': 49.76, 'isOverridden': True, 'marketValue': 8.09}, 'ask': {'value': 49.87, 'isOverridden': True, 'marketValue': 8.14}}}}, {'type': 'FxForward', 'definition': {'tenor': '1M', 'template': 'EURUSD'}, 'quote': {'startDate': '2023-10-12', 'endDate': '2023-11-13', 'definition': {'instrumentCode': 'EUR1M=RFB'}, 'values': {'bid': {'value': 23.63, 'isOverridden': True, 'marketValue': 13.91}, 'ask': {'value': 23.69, 'isOverridden': True, 'marketValue': 13.93}}}}, {'type': 'FxForward', 'definition': {'tenor': 'NOVM', 'template': 'EURUSD'}, 'quote': {'startDate': '2023-10-12', 'endDate': '2023-11-30', 'definition': {'instrumentCode': 'EURNOVM=RFB'}, 'values': {'bid': {'value': 69.28, 'isOverridden': True, 'marketValue': 21.7}, 'ask': {'value': 69.47, 'isOverridden': True, 'marketValue': 21.76}}}}, {'type': 'FxForward', 'definition': {'tenor': '2M', 'template': 'EURUSD'}, 'quote': {'startDate': '2023-10-12', 'endDate': '2023-12-12', 'definition': {'instrumentCode': 'EUR2M=RFB'}, 'values': {'bid': {'value': 46.95, 'isOverridden': True, 'marketValue': 27.11}, 'ask': {'value': 47.07, 'isOverridden': True, 'marketValue': 27.2}}}}, {'type': 'FxForward', 'definition': {'tenor': 'DECM', 'template': 'EURUSD'}, 'quote': {'startDate': '2023-10-12', 'endDate': '2023-12-29', 'definition': {'instrumentCode': 'EURDECM=RFB'}, 'values': {'bid': {'value': 91.41, 'isOverridden': True, 'marketValue': 35.05}, 'ask': {'value': 91.66, 'isOverridden': True, 'marketValue': 35.16}}}}, {'type': 'FxForward', 'definition': {'tenor': '3M', 'template': 'EURUSD'}, 'quote': {'startDate': '2023-10-12', 'endDate': '2024-01-12', 'definition': {'instrumentCode': 'EUR3M=RFB'}, 'values': {'bid': {'value': 67.25, 'isOverridden': True, 'marketValue': 47.4}, 'ask': {'value': 67.43, 'isOverridden': True, 'marketValue': 47.53}}}}, {'type': 'FxForward', 'definition': {'tenor': 'JANM', 'template': 'EURUSD'}, 'quote': {'startDate': '2023-10-12', 'endDate': '2024-01-31', 'definition': {'instrumentCode': 'EURJANM=RFB'}, 'values': {'bid': {'value': 112.97, 'isOverridden': True, 'marketValue': 56.39}, 'ask': {'value': 113.28, 'isOverridden': True, 'marketValue': 56.61}}}}, {'type': 'FxForward', 'definition': {'tenor': 'FEBM', 'template': 'EURUSD'}, 'quote': {'startDate': '2023-10-12', 'endDate': '2024-02-29', 'definition': {'instrumentCode': 'EURFEBM=RFB'}, 'values': {'bid': {'value': 130.87, 'isOverridden': True, 'marketValue': 70.42}, 'ask': {'value': 131.26, 'isOverridden': True, 'marketValue': 70.71}}}}, {'type': 'FxForward', 'definition': {'tenor': 'MARM', 'template': 'EURUSD'}, 'quote': {'startDate': '2023-10-12', 'endDate': '2024-03-28', 'definition': {'instrumentCode': 'EURMARM=RFB'}, 'values': {'bid': {'value': 151.12, 'isOverridden': True, 'marketValue': 84.0}, 'ask': {'value': 151.41, 'isOverridden': True, 'marketValue': 84.33}}}}, {'type': 'FxForward', 'definition': {'tenor': '6M', 'template': 'EURUSD'}, 'quote': {'startDate': '2023-10-12', 'endDate': '2024-04-12', 'definition': {'instrumentCode': 'EUR6M=RFB'}, 'values': {'bid': {'value': 129.61, 'isOverridden': True, 'marketValue': 92.06}, 'ask': {'value': 130.01, 'isOverridden': True, 'marketValue': 92.41}}}}, {'type': 'FxForward', 'definition': {'tenor': 'APRM', 'template': 'EURUSD'}, 'quote': {'startDate': '2023-10-12', 'endDate': '2024-04-30', 'definition': {'instrumentCode': 'EURAPRM=RFB'}, 'values': {'bid': {'value': 169.52, 'isOverridden': True, 'marketValue': 100.69}, 'ask': {'value': 170.15, 'isOverridden': True, 'marketValue': 101.18}}}}, {'type': 'FxForward', 'definition': {'tenor': 'MAYM', 'template': 'EURUSD'}, 'quote': {'startDate': '2023-10-12', 'endDate': '2024-05-31', 'definition': {'instrumentCode': 'EURMAYM=RFB'}, 'values': {'bid': {'value': 186.73, 'isOverridden': True, 'marketValue': 116.11}, 'ask': {'value': 187.48, 'isOverridden': True, 'marketValue': 116.62}}}}, {'type': 'FxForward', 'definition': {'tenor': 'JUNM', 'template': 'EURUSD'}, 'quote': {'startDate': '2023-10-12', 'endDate': '2024-06-28', 'definition': {'instrumentCode': 'EURJUNM=RFB'}, 'values': {'bid': {'value': 205.39, 'isOverridden': True, 'marketValue': 129.45}, 'ask': {'value': 205.74, 'isOverridden': True, 'marketValue': 129.93}}}}, {'type': 'FxForward', 'definition': {'tenor': '9M', 'template': 'EURUSD'}, 'quote': {'startDate': '2023-10-12', 'endDate': '2024-07-12', 'definition': {'instrumentCode': 'EUR9M=RFB'}, 'values': {'bid': {'value': 184.98, 'isOverridden': True, 'marketValue': 136.88}, 'ask': {'value': 185.78, 'isOverridden': True, 'marketValue': 137.38}}}}, {'type': 'FxForward', 'definition': {'tenor': 'JULM', 'template': 'EURUSD'}, 'quote': {'startDate': '2023-10-12', 'endDate': '2024-07-31', 'definition': {'instrumentCode': 'EURJULM=RFB'}, 'values': {'bid': {'value': 222.36, 'isOverridden': True, 'marketValue': 146.1}, 'ask': {'value': 222.84, 'isOverridden': True, 'marketValue': 146.67}}}}, {'type': 'FxForward', 'definition': {'tenor': 'AUGM', 'template': 'EURUSD'}, 'quote': {'startDate': '2023-10-12', 'endDate': '2024-08-30', 'definition': {'instrumentCode': 'EURAUGM=RFB'}, 'values': {'bid': {'value': 3.08, 'isOverridden': True, 'marketValue': 161.24}, 'ask': {'value': 3.09, 'isOverridden': True, 'marketValue': 161.9}}}}, {'type': 'FxForward', 'definition': {'tenor': 'SEPM', 'template': 'EURUSD'}, 'quote': {'startDate': '2023-10-12', 'endDate': '2024-09-30', 'definition': {'instrumentCode': 'EURSEPM=RFB'}, 'values': {'bid': {'value': 27.22, 'isOverridden': True, 'marketValue': 176.37}, 'ask': {'value': 27.29, 'isOverridden': True, 'marketValue': 177.23}}}}, {'type': 'FxForward', 'definition': {'tenor': '1Y', 'template': 'EURUSD'}, 'quote': {'startDate': '2023-10-12', 'endDate': '2024-10-15', 'definition': {'instrumentCode': 'EUR1Y=RFB'}, 'values': {'bid': {'value': 235.18, 'isOverridden': True, 'marketValue': 183.65}, 'ask': {'value': 236.18, 'isOverridden': True, 'marketValue': 184.65}}}}, {'type': 'FxForward', 'definition': {'tenor': '2Y', 'template': 'EURUSD'}, 'quote': {'startDate': '2023-10-12', 'endDate': '2025-10-14', 'definition': {'instrumentCode': 'EUR2Y=RFB'}, 'values': {'bid': {'value': 394.27, 'isOverridden': True, 'marketValue': 354.24}, 'ask': {'value': 397.69, 'isOverridden': True, 'marketValue': 357.66}}}}, {'type': 'FxForward', 'definition': {'tenor': '3Y', 'template': 'EURUSD'}, 'quote': {'startDate': '2023-10-12', 'endDate': '2026-10-13', 'definition': {'instrumentCode': 'EUR3Y=RFB'}, 'values': {'bid': {'value': 533.2, 'isOverridden': True, 'marketValue': 513.63}, 'ask': {'value': 538.2, 'isOverridden': True, 'marketValue': 518.63}}}}, {'type': 'FxForward', 'definition': {'tenor': '4Y', 'template': 'EURUSD'}, 'quote': {'startDate': '2023-10-12', 'endDate': '2027-10-12', 'definition': {'instrumentCode': 'EUR4Y=RFB'}, 'values': {'bid': {'value': 673.77, 'isOverridden': True, 'marketValue': 673.65}, 'ask': {'value': 678.45, 'isOverridden': True, 'marketValue': 680.65}}}}, {'type': 'FxForward', 'definition': {'tenor': '5Y', 'template': 'EURUSD'}, 'quote': {'startDate': '2023-10-12', 'endDate': '2028-10-12', 'definition': {'instrumentCode': 'EUR5Y=RFB'}, 'values': {'bid': {'value': 816.94, 'isOverridden': True, 'marketValue': 836.68}, 'ask': {'value': 827.94, 'isOverridden': True, 'marketValue': 847.68}}}}, {'type': 'FxForward', 'definition': {'tenor': '6Y', 'template': 'EURUSD'}, 'quote': {'startDate': '2023-10-12', 'endDate': '2029-10-12', 'definition': {'instrumentCode': 'EUR6Y=RFB'}, 'values': {'bid': {'value': 973.63, 'isOverridden': True, 'marketValue': 1001.63}, 'ask': {'value': 987.63, 'isOverridden': True, 'marketValue': 1015.63}}}}, {'type': 'FxForward', 'definition': {'tenor': '7Y', 'template': 'EURUSD'}, 'quote': {'startDate': '2023-10-12', 'endDate': '2030-10-15', 'definition': {'instrumentCode': 'EUR7Y=RFB'}, 'values': {'bid': {'value': 1139.38, 'isOverridden': True, 'marketValue': 1165.75}, 'ask': {'value': 1155.38, 'isOverridden': True, 'marketValue': 1181.75}}}}, {'type': 'FxForward', 'definition': {'tenor': '8Y', 'template': 'EURUSD'}, 'quote': {'startDate': '2023-10-12', 'endDate': '2031-10-14', 'definition': {'instrumentCode': 'EUR8Y=RFB'}, 'values': {'bid': {'value': 1294.88, 'isOverridden': True, 'marketValue': 1315.0}, 'ask': {'value': 1333.88, 'isOverridden': True, 'marketValue': 1354.0}}}}, {'type': 'FxForward', 'definition': {'tenor': '9Y', 'template': 'EURUSD'}, 'quote': {'startDate': '2023-10-12', 'endDate': '2032-10-12', 'definition': {'instrumentCode': 'EUR9Y=RFB'}, 'values': {'bid': {'value': 1458.5, 'isOverridden': True, 'marketValue': 1469.5}, 'ask': {'value': 1508.5, 'isOverridden': True, 'marketValue': 1519.5}}}}, {'type': 'FxForward', 'definition': {'tenor': '10Y', 'template': 'EURUSD'}, 'quote': {'startDate': '2023-10-12', 'endDate': '2033-10-12', 'definition': {'instrumentCode': 'EUR10Y=RFB'}, 'values': {'bid': {'value': 1650.25, 'isOverridden': True, 'marketValue': 1629.67}, 'ask': {'value': 1685.25, 'isOverridden': True, 'marketValue': 1664.67}}}}, {'type': 'FxSpot', 'definition': {'template': 'GBPUSD'}, 'quote': {'startDate': '2023-10-10', 'endDate': '2023-10-12', 'definition': {'instrumentCode': 'GBP='}, 'values': {'bid': {'value': 1.345, 'isOverridden': True, 'marketValue': 1.2285}, 'ask': {'value': 1.3455, 'isOverridden': True, 'marketValue': 1.2288}}}}, {'type': 'FxForward', 'definition': {'tenor': 'ON', 'template': 'GBPUSD'}, 'quote': {'startDate': '2023-10-10', 'endDate': '2023-10-11', 'definition': {'instrumentCode': 'GBPON='}, 'values': {'bid': {'value': 0.135, 'isOverridden': True, 'marketValue': 0.03}, 'ask': {'value': 0.185, 'isOverridden': True, 'marketValue': 0.13}}}}, {'type': 'FxForward', 'definition': {'tenor': 'TN', 'template': 'GBPUSD'}, 'quote': {'startDate': '2023-10-11', 'endDate': '2023-10-12', 'definition': {'instrumentCode': 'GBPTN='}, 'values': {'bid': {'value': 0.58, 'isOverridden': True, 'marketValue': 0.025}, 'ask': {'value': 0.63, 'isOverridden': True, 'marketValue': 0.125}}}}, {'type': 'FxForward', 'definition': {'tenor': 'SN', 'template': 'GBPUSD'}, 'quote': {'startDate': '2023-10-12', 'endDate': '2023-10-13', 'definition': {'instrumentCode': 'GBPSN='}, 'values': {'bid': {'value': 0.15, 'isOverridden': True, 'marketValue': 0.068}, 'ask': {'value': 0.16, 'isOverridden': True, 'marketValue': 0.082}}}}, {'type': 'FxForward', 'definition': {'tenor': 'SW', 'template': 'GBPUSD'}, 'quote': {'startDate': '2023-10-12', 'endDate': '2023-10-19', 'definition': {'instrumentCode': 'GBPSW='}, 'values': {'bid': {'value': 0.69, 'isOverridden': True, 'marketValue': 0.41}, 'ask': {'value': 0.87, 'isOverridden': True, 'marketValue': 0.61}}}}, {'type': 'FxForward', 'definition': {'tenor': '1M', 'template': 'GBPUSD'}, 'quote': {'startDate': '2023-10-12', 'endDate': '2023-11-13', 'definition': {'instrumentCode': 'GBP1M='}, 'values': {'bid': {'value': 3.83, 'isOverridden': True, 'marketValue': 2.23}, 'ask': {'value': 3.86, 'isOverridden': True, 'marketValue': 2.28}}}}, {'type': 'FxForward', 'definition': {'tenor': '2M', 'template': 'GBPUSD'}, 'quote': {'startDate': '2023-10-12', 'endDate': '2023-12-12', 'definition': {'instrumentCode': 'GBP2M='}, 'values': {'bid': {'value': 6.02, 'isOverridden': True, 'marketValue': 3.81}, 'ask': {'value': 6.58, 'isOverridden': True, 'marketValue': 4.49}}}}, {'type': 'FxForward', 'definition': {'tenor': '3M', 'template': 'GBPUSD'}, 'quote': {'startDate': '2023-10-12', 'endDate': '2024-01-12', 'definition': {'instrumentCode': 'GBP3M='}, 'values': {'bid': {'value': 7.36, 'isOverridden': True, 'marketValue': 9.03}, 'ask': {'value': 8.27, 'isOverridden': True, 'marketValue': 9.27}}}}, {'type': 'FxForward', 'definition': {'tenor': '6M', 'template': 'GBPUSD'}, 'quote': {'startDate': '2023-10-12', 'endDate': '2024-04-12', 'definition': {'instrumentCode': 'GBP6M='}, 'values': {'bid': {'value': 6.79, 'isOverridden': True, 'marketValue': 13.56}, 'ask': {'value': 8.71, 'isOverridden': True, 'marketValue': 16.06}}}}, {'type': 'FxForward', 'definition': {'tenor': '9M', 'template': 'GBPUSD'}, 'quote': {'startDate': '2023-10-12', 'endDate': '2024-07-12', 'definition': {'instrumentCode': 'GBP9M='}, 'values': {'bid': {'value': 3.23, 'isOverridden': True, 'marketValue': 15.49}, 'ask': {'value': 7.73, 'isOverridden': True, 'marketValue': 18.89}}}}, {'type': 'FxForward', 'definition': {'tenor': '1Y', 'template': 'GBPUSD'}, 'quote': {'startDate': '2023-10-12', 'endDate': '2024-10-15', 'definition': {'instrumentCode': 'GBP1Y='}, 'values': {'bid': {'value': -4.73, 'isOverridden': True, 'marketValue': 13.85}, 'ask': {'value': 2.03, 'isOverridden': True, 'marketValue': 18.85}}}}, {'type': 'FxForward', 'definition': {'tenor': '2Y', 'template': 'GBPUSD'}, 'quote': {'startDate': '2023-10-12', 'endDate': '2025-10-14', 'definition': {'instrumentCode': 'GBP2Y='}, 'values': {'bid': {'value': -62.0, 'isOverridden': True, 'marketValue': -18.4}, 'ask': {'value': -50.0, 'isOverridden': True, 'marketValue': -0.6}}}}, {'type': 'FxForward', 'definition': {'tenor': '3Y', 'template': 'GBPUSD'}, 'quote': {'startDate': '2023-10-12', 'endDate': '2026-10-13', 'definition': {'instrumentCode': 'GBP3Y='}, 'values': {'bid': {'value': -128.27, 'isOverridden': True, 'marketValue': -36.0}, 'ask': {'value': -90.75, 'isOverridden': True, 'marketValue': 15.25}}}}, {'type': 'FxForward', 'definition': {'tenor': '4Y', 'template': 'GBPUSD'}, 'quote': {'startDate': '2023-10-12', 'endDate': '2027-10-12', 'definition': {'instrumentCode': 'GBP4Y='}, 'values': {'bid': {'value': -177.0, 'isOverridden': True, 'marketValue': -22.25}, 'ask': {'value': -137.0, 'isOverridden': True, 'marketValue': 43.5}}}}, {'type': 'FxForward', 'definition': {'tenor': '5Y', 'template': 'GBPUSD'}, 'quote': {'startDate': '2023-10-12', 'endDate': '2028-10-12', 'definition': {'instrumentCode': 'GBP5Y='}, 'values': {'bid': {'value': -219.75, 'isOverridden': True, 'marketValue': 23.75}, 'ask': {'value': -170.0, 'isOverridden': True, 'marketValue': 103.25}}}}, {'type': 'FxForward', 'definition': {'tenor': '6Y', 'template': 'GBPUSD'}, 'quote': {'startDate': '2023-10-12', 'endDate': '2029-10-12', 'definition': {'instrumentCode': 'GBP6Y='}, 'values': {'bid': {'value': -259.0, 'isOverridden': True, 'marketValue': 113.0}, 'ask': {'value': -204.0, 'isOverridden': True, 'marketValue': 155.0}}}}, {'type': 'FxForward', 'definition': {'tenor': '7Y', 'template': 'GBPUSD'}, 'quote': {'startDate': '2023-10-12', 'endDate': '2030-10-15', 'definition': {'instrumentCode': 'GBP7Y='}, 'values': {'bid': {'value': -293.0, 'isOverridden': True, 'marketValue': 175.0}, 'ask': {'value': -231.0, 'isOverridden': True, 'marketValue': 222.0}}}}, {'type': 'FxForward', 'definition': {'tenor': '8Y', 'template': 'GBPUSD'}, 'quote': {'startDate': '2023-10-12', 'endDate': '2031-10-14', 'definition': {'instrumentCode': 'GBP8Y='}, 'values': {'bid': {'value': -332.0, 'isOverridden': True, 'marketValue': 245.0}, 'ask': {'value': -265.0, 'isOverridden': True, 'marketValue': 275.0}}}}, {'type': 'FxForward', 'definition': {'tenor': '9Y', 'template': 'GBPUSD'}, 'quote': {'startDate': '2023-10-12', 'endDate': '2032-10-12', 'definition': {'instrumentCode': 'GBP9Y='}, 'values': {'bid': {'value': -374.0, 'isOverridden': True, 'marketValue': 289.0}, 'ask': {'value': -301.0, 'isOverridden': True, 'marketValue': 347.0}}}}, {'type': 'FxForward', 'definition': {'tenor': '10Y', 'template': 'GBPUSD'}, 'quote': {'startDate': '2023-10-12', 'endDate': '2033-10-12', 'definition': {'instrumentCode': 'GBP10Y='}, 'values': {'bid': {'value': -414.0, 'isOverridden': True, 'marketValue': 350.0}, 'ask': {'value': -337.0, 'isOverridden': True, 'marketValue': 386.0}}}}], 'outrightCurve': {'curveType': 'FxOutrightCurve', 'crossCurrency': 'EURGBP', 'points': [{'startDate': '2023-10-10', 'tenor': 'ON', 'endDate': '2023-10-11', 'outright': {'bid': 0.8654430317181478, 'ask': 0.8659207379480616, 'mid': 0.8656818848331047}, 'instruments': [{'instrumentCode': 'EURON=RFB'}, {'instrumentCode': 'GBPON='}]}, {'startDate': '2023-10-11', 'tenor': 'TN', 'endDate': '2023-10-12', 'outright': {'bid': 0.8654915856647852, 'ask': 0.8659660117908868, 'mid': 0.865728798727836}, 'instruments': [{'instrumentCode': 'EURTN=RFB'}, {'instrumentCode': 'GBPTN='}]}, {'startDate': '2023-10-12', 'tenor': 'SPOT', 'endDate': '2023-10-12', 'outright': {'bid': 0.8656261612783352, 'ask': 0.866096654275093, 'mid': 0.8658614077767142}, 'instruments': [{'instrumentCode': 'EUR='}, {'instrumentCode': 'GBP='}]}, {'startDate': '2023-10-12', 'tenor': 'SN', 'endDate': '2023-10-13', 'outright': {'bid': 0.8656729834502154, 'ask': 0.866144578313253, 'mid': 0.8659087808817342}, 'instruments': [{'instrumentCode': 'EURSN=RFB'}, {'instrumentCode': 'GBPSN='}]}, {'startDate': '2023-10-12', 'tenor': 'SW', 'endDate': '2023-10-19', 'outright': {'bid': 0.8660339316595658, 'ask': 0.8665176284636699, 'mid': 0.8662757800616179}, 'instruments': [{'instrumentCode': 'EURSW=RFB'}, {'instrumentCode': 'GBPSW='}]}, {'startDate': '2023-10-12', 'tenor': 'OCTM', 'endDate': '2023-10-31', 'outright': {'bid': 0.8691755017936282, 'ask': 0.869662392400849, 'mid': 0.8694189470972387}, 'instruments': [{'instrumentCode': 'EUROCTM=RFB'}]}, {'startDate': '2023-10-12', 'tenor': '1M', 'endDate': '2023-11-13', 'outright': {'bid': 0.8671336205295248, 'ask': 0.8676109330948883, 'mid': 0.8673722768122065}, 'instruments': [{'instrumentCode': 'EUR1M=RFB'}, {'instrumentCode': 'GBP1M='}]}, {'startDate': '2023-10-12', 'tenor': 'NOVM', 'endDate': '2023-11-30', 'outright': {'bid': 0.8704223185782682, 'ask': 0.8709305755560699, 'mid': 0.8706764470671691}, 'instruments': [{'instrumentCode': 'EURNOVM=RFB'}]}, {'startDate': '2023-10-12', 'tenor': '2M', 'endDate': '2023-12-12', 'outright': {'bid': 0.8686907480399775, 'ask': 0.869207239584959, 'mid': 0.8689489938124683}, 'instruments': [{'instrumentCode': 'EUR2M=RFB'}, {'instrumentCode': 'GBP2M='}]}, {'startDate': '2023-10-12', 'tenor': 'DECM', 'endDate': '2023-12-29', 'outright': {'bid': 0.8719334516883225, 'ask': 0.8724733519129618, 'mid': 0.8722034018006422}, 'instruments': [{'instrumentCode': 'EURDECM=RFB'}]}, {'startDate': '2023-10-12', 'tenor': '3M', 'endDate': '2024-01-12', 'outright': {'bid': 0.8700895102007167, 'ask': 0.8706336161030098, 'mid': 0.8703615631518633}, 'instruments': [{'instrumentCode': 'EUR3M=RFB'}, {'instrumentCode': 'GBP3M='}]}, {'startDate': '2023-10-12', 'tenor': 'JANM', 'endDate': '2024-01-31', 'outright': {'bid': 0.8734794559623447, 'ask': 0.8740484033543673, 'mid': 0.8737639296583559}, 'instruments': [{'instrumentCode': 'EURJANM=RFB'}]}, {'startDate': '2023-10-12', 'tenor': 'FEBM', 'endDate': '2024-02-29', 'outright': {'bid': 0.8747998791914999, 'ask': 0.8753963032924261, 'mid': 0.875098091241963}, 'instruments': [{'instrumentCode': 'EURFEBM=RFB'}]}, {'startDate': '2023-10-12', 'tenor': 'MARM', 'endDate': '2024-03-28', 'outright': {'bid': 0.8762951337685706, 'ask': 0.8769050872806274, 'mid': 0.8766001105245991}, 'instruments': [{'instrumentCode': 'EURMARM=RFB'}]}, {'startDate': '2023-10-12', 'tenor': '6M', 'endDate': '2024-04-12', 'outright': {'bid': 0.8746927852724101, 'ask': 0.8753209346359719, 'mid': 0.875006859954191}, 'instruments': [{'instrumentCode': 'EUR6M=RFB'}, {'instrumentCode': 'GBP6M='}]}, {'startDate': '2023-10-12', 'tenor': 'APRM', 'endDate': '2024-04-30', 'outright': {'bid': 0.8776696863563646, 'ask': 0.8783497782665127, 'mid': 0.8780097323114386}, 'instruments': [{'instrumentCode': 'EURAPRM=RFB'}]}, {'startDate': '2023-10-12', 'tenor': 'MAYM', 'endDate': '2024-05-31', 'outright': {'bid': 0.878969750950984, 'ask': 0.8797169569961355, 'mid': 0.8793433539735598}, 'instruments': [{'instrumentCode': 'EURMAYM=RFB'}]}, {'startDate': '2023-10-12', 'tenor': 'JUNM', 'endDate': '2024-06-28', 'outright': {'bid': 0.880375471131593, 'ask': 0.881145821725451, 'mid': 0.880760646428522}, 'instruments': [{'instrumentCode': 'EURJUNM=RFB'}]}, {'startDate': '2023-10-12', 'tenor': '9M', 'endDate': '2024-07-12', 'outright': {'bid': 0.8788692932265596, 'ask': 0.8796980353416985, 'mid': 0.8792836642841291}, 'instruments': [{'instrumentCode': 'EUR9M=RFB'}, {'instrumentCode': 'GBP9M='}]}, {'startDate': '2023-10-12', 'tenor': 'JULM', 'endDate': '2024-07-31', 'outright': {'bid': 0.8817205099843333, 'ask': 0.88255720232733, 'mid': 0.8821388561558317}, 'instruments': [{'instrumentCode': 'EURJULM=RFB'}]}, {'startDate': '2023-10-12', 'tenor': 'AUGM', 'endDate': '2024-08-30', 'outright': {'bid': 0.8655469364678053, 'ask': 0.8663828013189134, 'mid': 0.8659648688933594}, 'instruments': [{'instrumentCode': 'EURAUGM=RFB'}]}, {'startDate': '2023-10-12', 'tenor': 'SEPM', 'endDate': '2024-09-30', 'outright': {'bid': 0.8674603003582275, 'ask': 0.8683498822489909, 'mid': 0.8679050913036093}, 'instruments': [{'instrumentCode': 'EURSEPM=RFB'}]}, {'startDate': '2023-10-12', 'tenor': '1Y', 'endDate': '2024-10-15', 'outright': {'bid': 0.8829719484908632, 'ask': 0.8839673729125558, 'mid': 0.8834696607017095}, 'instruments': [{'instrumentCode': 'EUR1Y=RFB'}, {'instrumentCode': 'GBP1Y='}]}, {'startDate': '2023-10-12', 'tenor': '2Y', 'endDate': '2025-10-14', 'outright': {'bid': 0.8982670645281613, 'ask': 0.8998125186734389, 'mid': 0.8990397916008002}, 'instruments': [{'instrumentCode': 'EUR2Y=RFB'}, {'instrumentCode': 'GBP2Y='}]}, {'startDate': '2023-10-12', 'tenor': '3Y', 'endDate': '2026-10-13', 'outright': {'bid': 0.9114016873374863, 'ask': 0.9148361361474824, 'mid': 0.9131189117424843}, 'instruments': [{'instrumentCode': 'EUR3Y=RFB'}, {'instrumentCode': 'GBP3Y='}]}, {'startDate': '2023-10-12', 'tenor': '4Y', 'endDate': '2027-10-12', 'outright': {'bid': 0.9251216398858689, 'ask': 0.928761395313795, 'mid': 0.9269415175998319}, 'instruments': [{'instrumentCode': 'EUR4Y=RFB'}, {'instrumentCode': 'GBP4Y='}]}, {'startDate': '2023-10-12', 'tenor': '5Y', 'endDate': '2028-10-12', 'outright': {'bid': 0.9381964621753858, 'ask': 0.9430615445664293, 'mid': 0.9406290033709075}, 'instruments': [{'instrumentCode': 'EUR5Y=RFB'}, {'instrumentCode': 'GBP5Y='}]}, {'startDate': '2023-10-12', 'tenor': '6Y', 'endDate': '2029-10-12', 'outright': {'bid': 0.9524284959625691, 'ask': 0.9579736183761656, 'mid': 0.9552010571693673}, 'instruments': [{'instrumentCode': 'EUR6Y=RFB'}, {'instrumentCode': 'GBP6Y='}]}, {'startDate': '2023-10-12', 'tenor': '7Y', 'endDate': '2030-10-15', 'outright': {'bid': 0.9669071385359953, 'ask': 0.9731990575359125, 'mid': 0.9700530980359539}, 'instruments': [{'instrumentCode': 'EUR7Y=RFB'}, {'instrumentCode': 'GBP7Y='}]}, {'startDate': '2023-10-12', 'tenor': '8Y', 'endDate': '2031-10-14', 'outright': {'bid': 0.981188779378317, 'ask': 0.9896996493367892, 'mid': 0.9854442143575531}, 'instruments': [{'instrumentCode': 'EUR8Y=RFB'}, {'instrumentCode': 'GBP8Y='}]}, {'startDate': '2023-10-12', 'tenor': '9Y', 'endDate': '2032-10-12', 'outright': {'bid': 0.996312908620952, 'ask': 1.0062327929030286, 'mid': 1.0012728507619904}, 'instruments': [{'instrumentCode': 'EUR9Y=RFB'}, {'instrumentCode': 'GBP9Y='}]}, {'startDate': '2023-10-12', 'tenor': '10Y', 'endDate': '2033-10-12', 'outright': {'bid': 1.0136644305534381, 'ask': 1.022878950598343, 'mid': 1.0182716905758906}, 'instruments': [{'instrumentCode': 'EUR10Y=RFB'}, {'instrumentCode': 'GBP10Y='}]}]}, 'underlyingCurves': [{'curveType': 'FxOutrightCurve', 'crossCurrency': 'EURGBP', 'points': [{'startDate': '2023-10-10', 'tenor': 'ON', 'endDate': '2023-10-11', 'outright': {'bid': 0.8654430317181478, 'ask': 0.8659207379480616, 'mid': 0.8656818848331047}, 'instruments': [{'instrumentCode': 'EURON=RFB'}, {'instrumentCode': 'GBPON='}]}, {'startDate': '2023-10-11', 'tenor': 'TN', 'endDate': '2023-10-12', 'outright': {'bid': 0.8654915856647852, 'ask': 0.8659660117908868, 'mid': 0.865728798727836}, 'instruments': [{'instrumentCode': 'EURTN=RFB'}, {'instrumentCode': 'GBPTN='}]}, {'startDate': '2023-10-12', 'tenor': 'SPOT', 'endDate': '2023-10-12', 'outright': {'bid': 0.8656261612783352, 'ask': 0.866096654275093, 'mid': 0.8658614077767142}, 'instruments': [{'instrumentCode': 'EUR='}, {'instrumentCode': 'GBP='}]}, {'startDate': '2023-10-12', 'tenor': 'SN', 'endDate': '2023-10-13', 'outright': {'bid': 0.8656729834502154, 'ask': 0.866144578313253, 'mid': 0.8659087808817342}, 'instruments': [{'instrumentCode': 'EURSN=RFB'}, {'instrumentCode': 'GBPSN='}]}, {'startDate': '2023-10-12', 'tenor': 'SW', 'endDate': '2023-10-19', 'outright': {'bid': 0.8660339316595658, 'ask': 0.8665176284636699, 'mid': 0.8662757800616179}, 'instruments': [{'instrumentCode': 'EURSW=RFB'}, {'instrumentCode': 'GBPSW='}]}, {'startDate': '2023-10-12', 'tenor': 'OCTM', 'endDate': '2023-10-31', 'outright': {'bid': 0.8691755017936282, 'ask': 0.869662392400849, 'mid': 0.8694189470972387}, 'instruments': [{'instrumentCode': 'EUROCTM=RFB'}]}, {'startDate': '2023-10-12', 'tenor': '1M', 'endDate': '2023-11-13', 'outright': {'bid': 0.8671336205295248, 'ask': 0.8676109330948883, 'mid': 0.8673722768122065}, 'instruments': [{'instrumentCode': 'EUR1M=RFB'}, {'instrumentCode': 'GBP1M='}]}, {'startDate': '2023-10-12', 'tenor': 'NOVM', 'endDate': '2023-11-30', 'outright': {'bid': 0.8704223185782682, 'ask': 0.8709305755560699, 'mid': 0.8706764470671691}, 'instruments': [{'instrumentCode': 'EURNOVM=RFB'}]}, {'startDate': '2023-10-12', 'tenor': '2M', 'endDate': '2023-12-12', 'outright': {'bid': 0.8686907480399775, 'ask': 0.869207239584959, 'mid': 0.8689489938124683}, 'instruments': [{'instrumentCode': 'EUR2M=RFB'}, {'instrumentCode': 'GBP2M='}]}, {'startDate': '2023-10-12', 'tenor': 'DECM', 'endDate': '2023-12-29', 'outright': {'bid': 0.8719334516883225, 'ask': 0.8724733519129618, 'mid': 0.8722034018006422}, 'instruments': [{'instrumentCode': 'EURDECM=RFB'}]}, {'startDate': '2023-10-12', 'tenor': '3M', 'endDate': '2024-01-12', 'outright': {'bid': 0.8700895102007167, 'ask': 0.8706336161030098, 'mid': 0.8703615631518633}, 'instruments': [{'instrumentCode': 'EUR3M=RFB'}, {'instrumentCode': 'GBP3M='}]}, {'startDate': '2023-10-12', 'tenor': 'JANM', 'endDate': '2024-01-31', 'outright': {'bid': 0.8734794559623447, 'ask': 0.8740484033543673, 'mid': 0.8737639296583559}, 'instruments': [{'instrumentCode': 'EURJANM=RFB'}]}, {'startDate': '2023-10-12', 'tenor': 'FEBM', 'endDate': '2024-02-29', 'outright': {'bid': 0.8747998791914999, 'ask': 0.8753963032924261, 'mid': 0.875098091241963}, 'instruments': [{'instrumentCode': 'EURFEBM=RFB'}]}, {'startDate': '2023-10-12', 'tenor': 'MARM', 'endDate': '2024-03-28', 'outright': {'bid': 0.8762951337685706, 'ask': 0.8769050872806274, 'mid': 0.8766001105245991}, 'instruments': [{'instrumentCode': 'EURMARM=RFB'}]}, {'startDate': '2023-10-12', 'tenor': '6M', 'endDate': '2024-04-12', 'outright': {'bid': 0.8746927852724101, 'ask': 0.8753209346359719, 'mid': 0.875006859954191}, 'instruments': [{'instrumentCode': 'EUR6M=RFB'}, {'instrumentCode': 'GBP6M='}]}, {'startDate': '2023-10-12', 'tenor': 'APRM', 'endDate': '2024-04-30', 'outright': {'bid': 0.8776696863563646, 'ask': 0.8783497782665127, 'mid': 0.8780097323114386}, 'instruments': [{'instrumentCode': 'EURAPRM=RFB'}]}, {'startDate': '2023-10-12', 'tenor': 'MAYM', 'endDate': '2024-05-31', 'outright': {'bid': 0.878969750950984, 'ask': 0.8797169569961355, 'mid': 0.8793433539735598}, 'instruments': [{'instrumentCode': 'EURMAYM=RFB'}]}, {'startDate': '2023-10-12', 'tenor': 'JUNM', 'endDate': '2024-06-28', 'outright': {'bid': 0.880375471131593, 'ask': 0.881145821725451, 'mid': 0.880760646428522}, 'instruments': [{'instrumentCode': 'EURJUNM=RFB'}]}, {'startDate': '2023-10-12', 'tenor': '9M', 'endDate': '2024-07-12', 'outright': {'bid': 0.8788692932265596, 'ask': 0.8796980353416985, 'mid': 0.8792836642841291}, 'instruments': [{'instrumentCode': 'EUR9M=RFB'}, {'instrumentCode': 'GBP9M='}]}, {'startDate': '2023-10-12', 'tenor': 'JULM', 'endDate': '2024-07-31', 'outright': {'bid': 0.8817205099843333, 'ask': 0.88255720232733, 'mid': 0.8821388561558317}, 'instruments': [{'instrumentCode': 'EURJULM=RFB'}]}, {'startDate': '2023-10-12', 'tenor': 'AUGM', 'endDate': '2024-08-30', 'outright': {'bid': 0.8655469364678053, 'ask': 0.8663828013189134, 'mid': 0.8659648688933594}, 'instruments': [{'instrumentCode': 'EURAUGM=RFB'}]}, {'startDate': '2023-10-12', 'tenor': 'SEPM', 'endDate': '2024-09-30', 'outright': {'bid': 0.8674603003582275, 'ask': 0.8683498822489909, 'mid': 0.8679050913036093}, 'instruments': [{'instrumentCode': 'EURSEPM=RFB'}]}, {'startDate': '2023-10-12', 'tenor': '1Y', 'endDate': '2024-10-15', 'outright': {'bid': 0.8829719484908632, 'ask': 0.8839673729125558, 'mid': 0.8834696607017095}, 'instruments': [{'instrumentCode': 'EUR1Y=RFB'}, {'instrumentCode': 'GBP1Y='}]}, {'startDate': '2023-10-12', 'tenor': '2Y', 'endDate': '2025-10-14', 'outright': {'bid': 0.8982670645281613, 'ask': 0.8998125186734389, 'mid': 0.8990397916008002}, 'instruments': [{'instrumentCode': 'EUR2Y=RFB'}, {'instrumentCode': 'GBP2Y='}]}, {'startDate': '2023-10-12', 'tenor': '3Y', 'endDate': '2026-10-13', 'outright': {'bid': 0.9114016873374863, 'ask': 0.9148361361474824, 'mid': 0.9131189117424843}, 'instruments': [{'instrumentCode': 'EUR3Y=RFB'}, {'instrumentCode': 'GBP3Y='}]}, {'startDate': '2023-10-12', 'tenor': '4Y', 'endDate': '2027-10-12', 'outright': {'bid': 0.9251216398858689, 'ask': 0.928761395313795, 'mid': 0.9269415175998319}, 'instruments': [{'instrumentCode': 'EUR4Y=RFB'}, {'instrumentCode': 'GBP4Y='}]}, {'startDate': '2023-10-12', 'tenor': '5Y', 'endDate': '2028-10-12', 'outright': {'bid': 0.9381964621753858, 'ask': 0.9430615445664293, 'mid': 0.9406290033709075}, 'instruments': [{'instrumentCode': 'EUR5Y=RFB'}, {'instrumentCode': 'GBP5Y='}]}, {'startDate': '2023-10-12', 'tenor': '6Y', 'endDate': '2029-10-12', 'outright': {'bid': 0.9524284959625691, 'ask': 0.9579736183761656, 'mid': 0.9552010571693673}, 'instruments': [{'instrumentCode': 'EUR6Y=RFB'}, {'instrumentCode': 'GBP6Y='}]}, {'startDate': '2023-10-12', 'tenor': '7Y', 'endDate': '2030-10-15', 'outright': {'bid': 0.9669071385359953, 'ask': 0.9731990575359125, 'mid': 0.9700530980359539}, 'instruments': [{'instrumentCode': 'EUR7Y=RFB'}, {'instrumentCode': 'GBP7Y='}]}, {'startDate': '2023-10-12', 'tenor': '8Y', 'endDate': '2031-10-14', 'outright': {'bid': 0.981188779378317, 'ask': 0.9896996493367892, 'mid': 0.9854442143575531}, 'instruments': [{'instrumentCode': 'EUR8Y=RFB'}, {'instrumentCode': 'GBP8Y='}]}, {'startDate': '2023-10-12', 'tenor': '9Y', 'endDate': '2032-10-12', 'outright': {'bid': 0.996312908620952, 'ask': 1.0062327929030286, 'mid': 1.0012728507619904}, 'instruments': [{'instrumentCode': 'EUR9Y=RFB'}, {'instrumentCode': 'GBP9Y='}]}, {'startDate': '2023-10-12', 'tenor': '10Y', 'endDate': '2033-10-12', 'outright': {'bid': 1.0136644305534381, 'ask': 1.022878950598343, 'mid': 1.0182716905758906}, 'instruments': [{'instrumentCode': 'EUR10Y=RFB'}, {'instrumentCode': 'GBP10Y='}]}]}, {'curveType': 'FxOutrightCurve', 'crossCurrency': 'EURUSD', 'points': [{'startDate': '2023-10-10', 'tenor': 'ON', 'endDate': '2023-10-11', 'outright': {'bid': 1.16477691, 'ask': 1.16497701, 'mid': 1.16487696}, 'instruments': [{'instrumentCode': 'EURON=RFB'}]}, {'startDate': '2023-10-11', 'tenor': 'TN', 'endDate': '2023-10-12', 'outright': {'bid': 1.1649302700000002, 'ask': 1.16513127, 'mid': 1.16503077}, 'instruments': [{'instrumentCode': 'EURTN=RFB'}]}, {'startDate': '2023-10-12', 'tenor': 'SPOT', 'endDate': '2023-10-12', 'outright': {'bid': 1.1647, 'ask': 1.1649, 'mid': 1.1648}, 'instruments': [{'instrumentCode': 'EUR='}]}, {'startDate': '2023-10-12', 'tenor': 'SN', 'endDate': '2023-10-13', 'outright': {'bid': 1.16477685, 'ask': 1.16497745, 'mid': 1.1648771500000001}, 'instruments': [{'instrumentCode': 'EURSN=RFB'}]}, {'startDate': '2023-10-12', 'tenor': 'SW', 'endDate': '2023-10-19', 'outright': {'bid': 1.165324, 'ask': 1.165526, 'mid': 1.165425}, 'instruments': [{'instrumentCode': 'EURSW=RFB'}]}, {'startDate': '2023-10-12', 'tenor': 'OCTM', 'endDate': '2023-10-31', 'outright': {'bid': 1.1696760000000002, 'ask': 1.1698870000000001, 'mid': 1.1697815}, 'instruments': [{'instrumentCode': 'EUROCTM=RFB'}]}, {'startDate': '2023-10-12', 'tenor': '1M', 'endDate': '2023-11-13', 'outright': {'bid': 1.167063, 'ask': 1.1672690000000001, 'mid': 1.167166}, 'instruments': [{'instrumentCode': 'EUR1M=RFB'}]}, {'startDate': '2023-10-12', 'tenor': 'NOVM', 'endDate': '2023-11-30', 'outright': {'bid': 1.1716280000000001, 'ask': 1.171847, 'mid': 1.1717375}, 'instruments': [{'instrumentCode': 'EURNOVM=RFB'}]}, {'startDate': '2023-10-12', 'tenor': '2M', 'endDate': '2023-12-12', 'outright': {'bid': 1.169395, 'ask': 1.169607, 'mid': 1.169501}, 'instruments': [{'instrumentCode': 'EUR2M=RFB'}]}, {'startDate': '2023-10-12', 'tenor': 'DECM', 'endDate': '2023-12-29', 'outright': {'bid': 1.1738410000000001, 'ask': 1.174066, 'mid': 1.1739535}, 'instruments': [{'instrumentCode': 'EURDECM=RFB'}]}, {'startDate': '2023-10-12', 'tenor': '3M', 'endDate': '2024-01-12', 'outright': {'bid': 1.1714250000000002, 'ask': 1.171643, 'mid': 1.171534}, 'instruments': [{'instrumentCode': 'EUR3M=RFB'}]}, {'startDate': '2023-10-12', 'tenor': 'JANM', 'endDate': '2024-01-31', 'outright': {'bid': 1.175997, 'ask': 1.176228, 'mid': 1.1761125}, 'instruments': [{'instrumentCode': 'EURJANM=RFB'}]}, {'startDate': '2023-10-12', 'tenor': 'FEBM', 'endDate': '2024-02-29', 'outright': {'bid': 1.1777870000000001, 'ask': 1.178026, 'mid': 1.1779065000000002}, 'instruments': [{'instrumentCode': 'EURFEBM=RFB'}]}, {'startDate': '2023-10-12', 'tenor': 'MARM', 'endDate': '2024-03-28', 'outright': {'bid': 1.179812, 'ask': 1.1800410000000001, 'mid': 1.1799265}, 'instruments': [{'instrumentCode': 'EURMARM=RFB'}]}, {'startDate': '2023-10-12', 'tenor': '6M', 'endDate': '2024-04-12', 'outright': {'bid': 1.177661, 'ask': 1.177901, 'mid': 1.177781}, 'instruments': [{'instrumentCode': 'EUR6M=RFB'}]}, {'startDate': '2023-10-12', 'tenor': 'APRM', 'endDate': '2024-04-30', 'outright': {'bid': 1.1816520000000001, 'ask': 1.181915, 'mid': 1.1817835}, 'instruments': [{'instrumentCode': 'EURAPRM=RFB'}]}, {'startDate': '2023-10-12', 'tenor': 'MAYM', 'endDate': '2024-05-31', 'outright': {'bid': 1.183373, 'ask': 1.183648, 'mid': 1.1835105000000001}, 'instruments': [{'instrumentCode': 'EURMAYM=RFB'}]}, {'startDate': '2023-10-12', 'tenor': 'JUNM', 'endDate': '2024-06-28', 'outright': {'bid': 1.1852390000000002, 'ask': 1.1854740000000001, 'mid': 1.1853565000000001}, 'instruments': [{'instrumentCode': 'EURJUNM=RFB'}]}, {'startDate': '2023-10-12', 'tenor': '9M', 'endDate': '2024-07-12', 'outright': {'bid': 1.183198, 'ask': 1.183478, 'mid': 1.183338}, 'instruments': [{'instrumentCode': 'EUR9M=RFB'}]}, {'startDate': '2023-10-12', 'tenor': 'JULM', 'endDate': '2024-07-31', 'outright': {'bid': 1.186936, 'ask': 1.187184, 'mid': 1.18706}, 'instruments': [{'instrumentCode': 'EURJULM=RFB'}]}, {'startDate': '2023-10-12', 'tenor': 'AUGM', 'endDate': '2024-08-30', 'outright': {'bid': 1.165008, 'ask': 1.165209, 'mid': 1.1651085}, 'instruments': [{'instrumentCode': 'EURAUGM=RFB'}]}, {'startDate': '2023-10-12', 'tenor': 'SEPM', 'endDate': '2024-09-30', 'outright': {'bid': 1.167422, 'ask': 1.167629, 'mid': 1.1675255}, 'instruments': [{'instrumentCode': 'EURSEPM=RFB'}]}, {'startDate': '2023-10-12', 'tenor': '1Y', 'endDate': '2024-10-15', 'outright': {'bid': 1.188218, 'ask': 1.188518, 'mid': 1.188368}, 'instruments': [{'instrumentCode': 'EUR1Y=RFB'}]}, {'startDate': '2023-10-12', 'tenor': '2Y', 'endDate': '2025-10-14', 'outright': {'bid': 1.2041270000000002, 'ask': 1.204669, 'mid': 1.204398}, 'instruments': [{'instrumentCode': 'EUR2Y=RFB'}]}, {'startDate': '2023-10-12', 'tenor': '3Y', 'endDate': '2026-10-13', 'outright': {'bid': 1.21802, 'ask': 1.21872, 'mid': 1.2183700000000002}, 'instruments': [{'instrumentCode': 'EUR3Y=RFB'}]}, {'startDate': '2023-10-12', 'tenor': '4Y', 'endDate': '2027-10-12', 'outright': {'bid': 1.232077, 'ask': 1.232745, 'mid': 1.232411}, 'instruments': [{'instrumentCode': 'EUR4Y=RFB'}]}, {'startDate': '2023-10-12', 'tenor': '5Y', 'endDate': '2028-10-12', 'outright': {'bid': 1.246394, 'ask': 1.247694, 'mid': 1.247044}, 'instruments': [{'instrumentCode': 'EUR5Y=RFB'}]}, {'startDate': '2023-10-12', 'tenor': '6Y', 'endDate': '2029-10-12', 'outright': {'bid': 1.2620630000000002, 'ask': 1.263663, 'mid': 1.262863}, 'instruments': [{'instrumentCode': 'EUR6Y=RFB'}]}, {'startDate': '2023-10-12', 'tenor': '7Y', 'endDate': '2030-10-15', 'outright': {'bid': 1.2786380000000002, 'ask': 1.280438, 'mid': 1.279538}, 'instruments': [{'instrumentCode': 'EUR7Y=RFB'}]}, {'startDate': '2023-10-12', 'tenor': '8Y', 'endDate': '2031-10-14', 'outright': {'bid': 1.2941880000000001, 'ask': 1.298288, 'mid': 1.2962380000000002}, 'instruments': [{'instrumentCode': 'EUR8Y=RFB'}]}, {'startDate': '2023-10-12', 'tenor': '9Y', 'endDate': '2032-10-12', 'outright': {'bid': 1.31055, 'ask': 1.31575, 'mid': 1.31315}, 'instruments': [{'instrumentCode': 'EUR9Y=RFB'}]}, {'startDate': '2023-10-12', 'tenor': '10Y', 'endDate': '2033-10-12', 'outright': {'bid': 1.329725, 'ask': 1.333425, 'mid': 1.331575}, 'instruments': [{'instrumentCode': 'EUR10Y=RFB'}]}]}, {'curveType': 'FxOutrightCurve', 'crossCurrency': 'GBPUSD', 'points': [{'startDate': '2023-10-10', 'tenor': 'ON', 'endDate': '2023-10-11', 'outright': {'bid': 1.3450135, 'ask': 1.3455184999999998, 'mid': 1.345266}, 'instruments': [{'instrumentCode': 'GBPON='}]}, {'startDate': '2023-10-11', 'tenor': 'TN', 'endDate': '2023-10-12', 'outright': {'bid': 1.3450579999999999, 'ask': 1.3455629999999998, 'mid': 1.3453104999999999}, 'instruments': [{'instrumentCode': 'GBPTN='}]}, {'startDate': '2023-10-12', 'tenor': 'SPOT', 'endDate': '2023-10-12', 'outright': {'bid': 1.345, 'ask': 1.3455, 'mid': 1.34525}, 'instruments': [{'instrumentCode': 'GBP='}]}, {'startDate': '2023-10-12', 'tenor': 'SN', 'endDate': '2023-10-13', 'outright': {'bid': 1.345015, 'ask': 1.345516, 'mid': 1.3452655}, 'instruments': [{'instrumentCode': 'GBPSN='}]}, {'startDate': '2023-10-12', 'tenor': 'SW', 'endDate': '2023-10-19', 'outright': {'bid': 1.345069, 'ask': 1.3455869999999999, 'mid': 1.3453279999999999}, 'instruments': [{'instrumentCode': 'GBPSW='}]}, {'startDate': '2023-10-12', 'tenor': 'OCTM', 'endDate': '2023-10-31', 'outright': {'bid': 1.34521972, 'ask': 1.3457305199999998, 'mid': 1.34547512}}, {'startDate': '2023-10-12', 'tenor': '1M', 'endDate': '2023-11-13', 'outright': {'bid': 1.345383, 'ask': 1.345886, 'mid': 1.3456345}, 'instruments': [{'instrumentCode': 'GBP1M='}]}, {'startDate': '2023-10-12', 'tenor': 'NOVM', 'endDate': '2023-11-30', 'outright': {'bid': 1.3455113793103448, 'ask': 1.346045448275862, 'mid': 1.3457784137931035}}, {'startDate': '2023-10-12', 'tenor': '2M', 'endDate': '2023-12-12', 'outright': {'bid': 1.345602, 'ask': 1.346158, 'mid': 1.34588}, 'instruments': [{'instrumentCode': 'GBP2M='}]}, {'startDate': '2023-10-12', 'tenor': 'DECM', 'endDate': '2023-12-29', 'outright': {'bid': 1.3456754838709677, 'ask': 1.3462506774193546, 'mid': 1.345963080645161}}, {'startDate': '2023-10-12', 'tenor': '3M', 'endDate': '2024-01-12', 'outright': {'bid': 1.345736, 'ask': 1.3463269999999998, 'mid': 1.3460315}, 'instruments': [{'instrumentCode': 'GBP3M='}]}, {'startDate': '2023-10-12', 'tenor': 'JANM', 'endDate': '2024-01-31', 'outright': {'bid': 1.3457240989010988, 'ask': 1.3463361868131867, 'mid': 1.3460301428571428}}, {'startDate': '2023-10-12', 'tenor': 'FEBM', 'endDate': '2024-02-29', 'outright': {'bid': 1.345705934065934, 'ask': 1.3463502087912087, 'mid': 1.3460280714285715}}, {'startDate': '2023-10-12', 'tenor': 'MARM', 'endDate': '2024-03-28', 'outright': {'bid': 1.3456883956043957, 'ask': 1.3463637472527472, 'mid': 1.3460260714285714}}, {'startDate': '2023-10-12', 'tenor': '6M', 'endDate': '2024-04-12', 'outright': {'bid': 1.345679, 'ask': 1.346371, 'mid': 1.346025}, 'instruments': [{'instrumentCode': 'GBP6M='}]}, {'startDate': '2023-10-12', 'tenor': 'APRM', 'endDate': '2024-04-30', 'outright': {'bid': 1.3456085824175825, 'ask': 1.3463516153846153, 'mid': 1.3459800989010988}}, {'startDate': '2023-10-12', 'tenor': 'MAYM', 'endDate': '2024-05-31', 'outright': {'bid': 1.3454873076923077, 'ask': 1.3463182307692307, 'mid': 1.3459027692307692}}, {'startDate': '2023-10-12', 'tenor': 'JUNM', 'endDate': '2024-06-28', 'outright': {'bid': 1.3453777692307691, 'ask': 1.346288076923077, 'mid': 1.345832923076923}}, {'startDate': '2023-10-12', 'tenor': '9M', 'endDate': '2024-07-12', 'outright': {'bid': 1.345323, 'ask': 1.3462729999999998, 'mid': 1.3457979999999998}, 'instruments': [{'instrumentCode': 'GBP9M='}]}, {'startDate': '2023-10-12', 'tenor': 'JULM', 'endDate': '2024-07-31', 'outright': {'bid': 1.3451638, 'ask': 1.3461589999999999, 'mid': 1.3456614}}, {'startDate': '2023-10-12', 'tenor': 'AUGM', 'endDate': '2024-08-30', 'outright': {'bid': 1.3449124315789474, 'ask': 1.3459789999999998, 'mid': 1.3454457157894737}}, {'startDate': '2023-10-12', 'tenor': 'SEPM', 'endDate': '2024-09-30', 'outright': {'bid': 1.3446526842105262, 'ask': 1.3457929999999998, 'mid': 1.345222842105263}}, {'startDate': '2023-10-12', 'tenor': '1Y', 'endDate': '2024-10-15', 'outright': {'bid': 1.344527, 'ask': 1.3457029999999999, 'mid': 1.3451149999999998}, 'instruments': [{'instrumentCode': 'GBP1Y='}]}, {'startDate': '2023-10-12', 'tenor': '2Y', 'endDate': '2025-10-14', 'outright': {'bid': 1.3388, 'ask': 1.3405, 'mid': 1.33965}, 'instruments': [{'instrumentCode': 'GBP2Y='}]}, {'startDate': '2023-10-12', 'tenor': '3Y', 'endDate': '2026-10-13', 'outright': {'bid': 1.332173, 'ask': 1.336425, 'mid': 1.3342990000000001}, 'instruments': [{'instrumentCode': 'GBP3Y='}]}, {'startDate': '2023-10-12', 'tenor': '4Y', 'endDate': '2027-10-12', 'outright': {'bid': 1.3273, 'ask': 1.3317999999999999, 'mid': 1.3295499999999998}, 'instruments': [{'instrumentCode': 'GBP4Y='}]}, {'startDate': '2023-10-12', 'tenor': '5Y', 'endDate': '2028-10-12', 'outright': {'bid': 1.323025, 'ask': 1.3285, 'mid': 1.3257625}, 'instruments': [{'instrumentCode': 'GBP5Y='}]}, {'startDate': '2023-10-12', 'tenor': '6Y', 'endDate': '2029-10-12', 'outright': {'bid': 1.3191, 'ask': 1.3251, 'mid': 1.3220999999999998}, 'instruments': [{'instrumentCode': 'GBP6Y='}]}, {'startDate': '2023-10-12', 'tenor': '7Y', 'endDate': '2030-10-15', 'outright': {'bid': 1.3156999999999999, 'ask': 1.3224, 'mid': 1.3190499999999998}, 'instruments': [{'instrumentCode': 'GBP7Y='}]}, {'startDate': '2023-10-12', 'tenor': '8Y', 'endDate': '2031-10-14', 'outright': {'bid': 1.3118, 'ask': 1.319, 'mid': 1.3154}, 'instruments': [{'instrumentCode': 'GBP8Y='}]}, {'startDate': '2023-10-12', 'tenor': '9Y', 'endDate': '2032-10-12', 'outright': {'bid': 1.3075999999999999, 'ask': 1.3154, 'mid': 1.3114999999999999}, 'instruments': [{'instrumentCode': 'GBP9Y='}]}, {'startDate': '2023-10-12', 'tenor': '10Y', 'endDate': '2033-10-12', 'outright': {'bid': 1.3035999999999999, 'ask': 1.3117999999999999, 'mid': 1.3076999999999999}, 'instruments': [{'instrumentCode': 'GBP10Y='}]}]}], 'invalidConstituents': []}}"
      ]
     },
     "execution_count": 23,
     "metadata": {},
     "output_type": "execute_result"
    }
   ],
   "source": [
    "from lseg_analytics_basic_client.models import (\n",
    "    FxForwardCurveCalculationParameters,\n",
    ")\n",
    "\n",
    "curve.calculate(\n",
    "    pricing_preferences=FxForwardCurveCalculationParameters(\n",
    "        valuation_date=datetime.date(2023, 10, 10)\n",
    "    )\n",
    ")\n",
    "\n",
    "curve.calculate(\n",
    "    pricing_preferences=FxForwardCurveCalculationParameters(valuation_date=\"2023-10-10\")\n",
    ")"
   ]
  },
  {
   "cell_type": "markdown",
   "metadata": {},
   "source": [
    "## Delete\n",
    "\n",
    "You can delete a curve from the server in the following ways:"
   ]
  },
  {
   "cell_type": "markdown",
   "metadata": {},
   "source": [
    "### By ID:"
   ]
  },
  {
   "cell_type": "code",
   "execution_count": 24,
   "metadata": {
    "execution": {
     "iopub.execute_input": "2025-08-21T06:03:20.455910Z",
     "iopub.status.busy": "2025-08-21T06:03:20.455603Z",
     "iopub.status.idle": "2025-08-21T06:03:20.603722Z",
     "shell.execute_reply": "2025-08-21T06:03:20.603181Z"
    }
   },
   "outputs": [
    {
     "data": {
      "text/plain": [
       "True"
      ]
     },
     "execution_count": 24,
     "metadata": {},
     "output_type": "execute_result"
    }
   ],
   "source": [
    "delete(resource_id=curve_id)"
   ]
  },
  {
   "cell_type": "markdown",
   "metadata": {},
   "source": [
    "### By name and space unique pair:"
   ]
  },
  {
   "cell_type": "code",
   "execution_count": 25,
   "metadata": {
    "execution": {
     "iopub.execute_input": "2025-08-21T06:03:20.605886Z",
     "iopub.status.busy": "2025-08-21T06:03:20.605551Z",
     "iopub.status.idle": "2025-08-21T06:03:21.075424Z",
     "shell.execute_reply": "2025-08-21T06:03:21.074954Z"
    }
   },
   "outputs": [
    {
     "data": {
      "text/plain": [
       "True"
      ]
     },
     "execution_count": 25,
     "metadata": {},
     "output_type": "execute_result"
    }
   ],
   "source": [
    "new_curve = FxForwardCurve(\n",
    "    definition=FxForwardCurveDefinition(cross_currency=\"GPBEUR\"),\n",
    "    description=Description(summary=\"GPBCurve\", tags=[\"GPB\", \"EUR\"]),\n",
    ")\n",
    "\n",
    "new_curve.save(name=\"new_curve\", space=\"newspace\")\n",
    "\n",
    "delete(name=\"new_curve\", space=\"newspace\")"
   ]
  }
 ],
 "metadata": {
  "kernelspec": {
   "display_name": "Python 3",
   "language": "python",
   "name": "python3"
  },
  "language_info": {
   "codemirror_mode": {
    "name": "ipython",
    "version": 3
   },
   "file_extension": ".py",
   "mimetype": "text/x-python",
   "name": "python",
   "nbconvert_exporter": "python",
   "pygments_lexer": "ipython3",
   "version": "3.11.6"
  }
 },
 "nbformat": 4,
 "nbformat_minor": 2
}
