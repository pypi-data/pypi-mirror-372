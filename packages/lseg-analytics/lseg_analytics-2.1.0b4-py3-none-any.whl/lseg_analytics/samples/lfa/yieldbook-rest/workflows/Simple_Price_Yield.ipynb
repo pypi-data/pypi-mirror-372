{
 "cells": [
  {
   "cell_type": "markdown",
   "id": "1a108871",
   "metadata": {},
   "source": [
    "# Simple Price Yield"
   ]
  },
  {
   "cell_type": "markdown",
   "id": "3a4cef20",
   "metadata": {},
   "source": [
    "This notebook demonstrates how to access and use the functionalities of **Price Yield** which are part of our **Yiedbook** module within LSEG Financial Analytics SDK. The notebook outlines the most simple method of using performing Price Yield, where only the required set of arguments are present.\n",
    "\n",
    "The main goal of this notebook is to explore and display different approaches in retrieval of single instrument simple Price Yield calcuation by using any of 4 available methods:\n",
    "1. Synchronous POST\n",
    "2. Synchronous GET\n",
    "3. Asynchronous POST\n",
    "4. Asynchronous GET"
   ]
  },
  {
   "cell_type": "markdown",
   "id": "7cd0ad84",
   "metadata": {},
   "source": [
    "## Imports"
   ]
  },
  {
   "cell_type": "markdown",
   "id": "37a963b7",
   "metadata": {},
   "source": [
    "Import the following necessary modules:\n",
    "\n",
    "- *request_py_calculation_sync_by_id* - main Synchronous GET method\n",
    "- *request_py_calculation_sync* - main Synchronous POST method\n",
    "- *request_py_calculation_async_by_id* - main Asynchronous GET method\n",
    "- *request_py_calculation_async* - main Asynchronous POST method\n",
    "- *get_result* - method for obtaining results of Async method executions\n",
    "- *json* - for display purposes \n",
    "- *time* - for response delay handling"
   ]
  },
  {
   "cell_type": "code",
   "execution_count": 1,
   "id": "fb2218f1",
   "metadata": {
    "execution": {
     "iopub.execute_input": "2025-08-21T06:02:21.621609Z",
     "iopub.status.busy": "2025-08-21T06:02:21.621295Z",
     "iopub.status.idle": "2025-08-21T06:02:22.010961Z",
     "shell.execute_reply": "2025-08-21T06:02:22.010261Z"
    }
   },
   "outputs": [],
   "source": [
    "from lseg_analytics.yield_book_rest import (\n",
    "    request_py_calculation_sync_by_id,\n",
    "    request_py_calculation_sync,\n",
    "    request_py_calculation_async_by_id,    \n",
    "    request_py_calculation_async,\n",
    "    get_result,\n",
    "    PyCalcGlobalSettings,\n",
    "    PyCalcInput,\n",
    "    CurveTypeAndCurrency,\n",
    "    Volatility\n",
    ")\n",
    "\n",
    "from datetime import date\n",
    "\n",
    "import json as js\n",
    "\n",
    "import time"
   ]
  },
  {
   "cell_type": "markdown",
   "id": "b9c3dd46",
   "metadata": {},
   "source": [
    "## Data Preparation"
   ]
  },
  {
   "cell_type": "markdown",
   "id": "99cc4078",
   "metadata": {},
   "source": [
    "Prepare the 'input' argument which contains an identifier and price level. It will be consumed by multiple methods."
   ]
  },
  {
   "cell_type": "code",
   "execution_count": 2,
   "id": "de772105",
   "metadata": {
    "execution": {
     "iopub.execute_input": "2025-08-21T06:02:22.015660Z",
     "iopub.status.busy": "2025-08-21T06:02:22.013711Z",
     "iopub.status.idle": "2025-08-21T06:02:22.018274Z",
     "shell.execute_reply": "2025-08-21T06:02:22.017740Z"
    }
   },
   "outputs": [],
   "source": [
    "# Select an ISIN or CUSIP ID of the instrument\n",
    "identifier=\"31398GY86\"\n",
    "\n",
    "# Set a pricing level for the calculation\n",
    "price_level = 99\n"
   ]
  },
  {
   "cell_type": "markdown",
   "id": "56ca1621",
   "metadata": {},
   "source": [
    "Outlined below are all the available properties the user can set for the POST request. For arguments that are not required, default values will be used in their absence."
   ]
  },
  {
   "cell_type": "code",
   "execution_count": 3,
   "id": "72459f93",
   "metadata": {
    "execution": {
     "iopub.execute_input": "2025-08-21T06:02:22.020624Z",
     "iopub.status.busy": "2025-08-21T06:02:22.020169Z",
     "iopub.status.idle": "2025-08-21T06:02:22.029931Z",
     "shell.execute_reply": "2025-08-21T06:02:22.029281Z"
    }
   },
   "outputs": [],
   "source": [
    "global_settings = PyCalcGlobalSettings(\n",
    "            pricing_date=date(2025, 1, 1)\n",
    "        )\n",
    "\n",
    "input = [\n",
    "            PyCalcInput(\n",
    "                identifier=identifier,\n",
    "                level=price_level,   \n",
    "                curve=CurveTypeAndCurrency(\n",
    "                    curve_type=\"GVT\",\n",
    "                    currency=\"USD\",\n",
    "                    retrieve_curve=False,\n",
    "                    snapshot=\"EOD\",\n",
    "                ),                  \n",
    "                volatility=Volatility(\n",
    "                    type=\"LMMDD\"\n",
    "                ),               \n",
    "            )\n",
    "        ]"
   ]
  },
  {
   "cell_type": "markdown",
   "id": "a120b720",
   "metadata": {},
   "source": [
    "## Synchronous POST Data retrieval\n",
    "\n",
    "Once the input arguments are ready, they can be passed through the main method for data retrieval."
   ]
  },
  {
   "cell_type": "code",
   "execution_count": 4,
   "id": "bb2ba0b4",
   "metadata": {
    "execution": {
     "iopub.execute_input": "2025-08-21T06:02:22.032634Z",
     "iopub.status.busy": "2025-08-21T06:02:22.032151Z",
     "iopub.status.idle": "2025-08-21T06:02:23.357545Z",
     "shell.execute_reply": "2025-08-21T06:02:23.356810Z"
    }
   },
   "outputs": [],
   "source": [
    "# Request bond PY with sync POST\n",
    "py_sync_post_response = request_py_calculation_sync(\n",
    "            global_settings=global_settings,\n",
    "            input=input,\n",
    "            keywords=[\"yield\"]\n",
    "        )"
   ]
  },
  {
   "cell_type": "markdown",
   "id": "4556c1e6",
   "metadata": {},
   "source": [
    "## Synchronous GET Data retrieval\n",
    "\n",
    "As opposed to the POST method, the GET method requires the identifier itself and the price level. The remaining arguments are optional."
   ]
  },
  {
   "cell_type": "code",
   "execution_count": 5,
   "id": "e6ff74f1",
   "metadata": {
    "execution": {
     "iopub.execute_input": "2025-08-21T06:02:23.361033Z",
     "iopub.status.busy": "2025-08-21T06:02:23.360483Z",
     "iopub.status.idle": "2025-08-21T06:02:24.355606Z",
     "shell.execute_reply": "2025-08-21T06:02:24.354918Z"
    }
   },
   "outputs": [],
   "source": [
    "# Request bond PY with sync GET\n",
    "py_sync_get_response = request_py_calculation_sync_by_id(\n",
    "            id=identifier,\n",
    "            level=price_level,\n",
    "            curve_type=\"GVT\",\n",
    "            pricing_date=\"2025-01-01\",\n",
    "            currency=\"USD\"\n",
    "        )"
   ]
  },
  {
   "cell_type": "markdown",
   "id": "6b920fcb",
   "metadata": {},
   "source": [
    "## Asynchronous POST Data retrieval\n",
    "\n",
    "The main difference between the Sync and Async approach is that Async methods allow execution of code on the user's side while waiting for a response. Once execution is complete, the user can 'collect' the results whenever they need them.\n",
    "\n",
    "So this approach has 2 steps:\n",
    "1. Provide input data to execution method\n",
    "2. Use the request_id received in step 1 to retrieve the result"
   ]
  },
  {
   "cell_type": "code",
   "execution_count": 6,
   "id": "38b59671",
   "metadata": {
    "execution": {
     "iopub.execute_input": "2025-08-21T06:02:24.358527Z",
     "iopub.status.busy": "2025-08-21T06:02:24.358146Z",
     "iopub.status.idle": "2025-08-21T06:02:27.751886Z",
     "shell.execute_reply": "2025-08-21T06:02:27.751284Z"
    }
   },
   "outputs": [
    {
     "name": "stdout",
     "output_type": "stream",
     "text": [
      "[ERROR]\t[2025-08-21 06:02:24,619]\t[MainThread]\t[lseg_analytics.yield_book_rest]\t[_functions.py:8479]\t Error get_result.\n",
      "[ERROR]\t[2025-08-21 06:02:24,620]\t[MainThread]\t[lseg_analytics]\t[exceptions.py:78]\t Exception: Resource not found: code=404 {'meta': {'requestId': 'R-22926', 'status': 'RUNNING', 'responseType': 'PY_CALC', 'message': 'The result is not ready yet for requestID:R-22926', 'interval': 0.1}}\n",
      "Attempt 1 resulted in error retrieving results from:R-22926\n"
     ]
    }
   ],
   "source": [
    "# Request bond PY with async post\n",
    "py_async_post_response = request_py_calculation_async(\n",
    "            global_settings=global_settings,\n",
    "            input=input,\n",
    "            keywords=[\"yield\"]\n",
    "        )\n",
    "\n",
    "attempt = 1\n",
    "\n",
    "while attempt < 10:\n",
    "\n",
    "    from lseg_analytics.exceptions import ResourceNotFound\n",
    "    try:\n",
    "        # Request bond indic with async post\n",
    "        async_post_results_response = get_result(request_id_parameter=py_async_post_response.request_id)\n",
    "        break\n",
    "    except Exception as err:\n",
    "        print(f\"Attempt \" + str(\n",
    "            attempt) + \" resulted in error retrieving results from:\" + py_async_post_response.request_id)\n",
    "        if (isinstance(err, ResourceNotFound)\n",
    "                and f\"The result is not ready yet for requestID:{py_async_post_response.request_id}\" in str(err)):\n",
    "            time.sleep(3)\n",
    "            attempt += 1\n",
    "        else:\n",
    "            raise err"
   ]
  },
  {
   "cell_type": "markdown",
   "id": "e607c75c",
   "metadata": {},
   "source": [
    "## Asynchronous GET Data retrieval\n",
    "\n",
    "Difference between Sync and Async can be found in description above.\n",
    "\n",
    "As Async execution is in queue-form it's not necessarily instantly finished. It can take time between submission of request and execution, and results are not in real-time.\n",
    "\n",
    "Hence we present also the form of iterative results-request repetition to fetch the results as soon as they are ready.\n",
    "\n",
    "**NOTE:** Alternative to this is wrapping the request in the job, and then using a method to check the job status. See the fundamentals notebook for information on jobs."
   ]
  },
  {
   "cell_type": "code",
   "execution_count": 7,
   "id": "fee1ee3d",
   "metadata": {
    "execution": {
     "iopub.execute_input": "2025-08-21T06:02:27.754326Z",
     "iopub.status.busy": "2025-08-21T06:02:27.754127Z",
     "iopub.status.idle": "2025-08-21T06:02:31.130006Z",
     "shell.execute_reply": "2025-08-21T06:02:31.129368Z"
    }
   },
   "outputs": [
    {
     "name": "stdout",
     "output_type": "stream",
     "text": [
      "[ERROR]\t[2025-08-21 06:02:28,005]\t[MainThread]\t[lseg_analytics.yield_book_rest]\t[_functions.py:8479]\t Error get_result.\n",
      "[ERROR]\t[2025-08-21 06:02:28,006]\t[MainThread]\t[lseg_analytics]\t[exceptions.py:78]\t Exception: Resource not found: code=404 {'meta': {'requestId': 'R-22927', 'status': 'RUNNING', 'responseType': 'PY_CALC', 'message': 'The result is not ready yet for requestID:R-22927', 'interval': 0.1}}\n",
      "Attempt 1 resulted in error retrieving results from:R-22927\n"
     ]
    }
   ],
   "source": [
    "# Request bond PY with async get\n",
    "py_async_get_response = request_py_calculation_async_by_id(\n",
    "            id=identifier,\n",
    "            level=price_level,\n",
    "            curve_type=\"GVT\",\n",
    "            pricing_date=\"2025-01-01\",\n",
    "            currency=\"USD\"\n",
    "        )\n",
    "\n",
    "# Due to async nature, code Will perform the fetch 10 times, as result is not always ready instantly, with 3 second lapse between attempts\n",
    "attempt = 1\n",
    "\n",
    "while attempt < 10:\n",
    "\n",
    "    from lseg_analytics.exceptions import ResourceNotFound\n",
    "    try:\n",
    "        # Request bond indic with async post\n",
    "        async_get_results_response = get_result(request_id_parameter=py_async_get_response.request_id)\n",
    "        break\n",
    "    except Exception as err:\n",
    "        print(f\"Attempt \" + str(\n",
    "            attempt) + \" resulted in error retrieving results from:\" + py_async_get_response.request_id)\n",
    "        if (isinstance(err, ResourceNotFound)\n",
    "                and f\"The result is not ready yet for requestID:{py_async_get_response.request_id}\" in str(err)):\n",
    "            time.sleep(3)\n",
    "            attempt += 1\n",
    "        else:\n",
    "            raise err"
   ]
  },
  {
   "cell_type": "markdown",
   "id": "6b7ec6ed",
   "metadata": {},
   "source": [
    "## Display results"
   ]
  },
  {
   "cell_type": "markdown",
   "id": "5a4bd41e",
   "metadata": {},
   "source": [
    "Results data is structured in JSON format so it can be easily displayed using print function."
   ]
  },
  {
   "cell_type": "markdown",
   "id": "aee8130d",
   "metadata": {},
   "source": [
    "### Synchronous POST results"
   ]
  },
  {
   "cell_type": "code",
   "execution_count": 8,
   "id": "6be03632",
   "metadata": {
    "execution": {
     "iopub.execute_input": "2025-08-21T06:02:31.133106Z",
     "iopub.status.busy": "2025-08-21T06:02:31.132853Z",
     "iopub.status.idle": "2025-08-21T06:02:31.136311Z",
     "shell.execute_reply": "2025-08-21T06:02:31.135782Z"
    }
   },
   "outputs": [
    {
     "name": "stdout",
     "output_type": "stream",
     "text": [
      "{\n",
      "    \"meta\": {\n",
      "        \"status\": \"DONE\",\n",
      "        \"requestId\": \"R-22924\",\n",
      "        \"timeStamp\": \"2025-08-21T02:02:23Z\",\n",
      "        \"responseType\": \"PY_CALC\",\n",
      "        \"resultsStatus\": \"ALL\"\n",
      "    },\n",
      "    \"results\": [\n",
      "        {\n",
      "            \"py\": {\n",
      "                \"yield\": 4.686698\n",
      "            },\n",
      "            \"securityID\": \"31398GY8\"\n",
      "        }\n",
      "    ]\n",
      "}\n"
     ]
    }
   ],
   "source": [
    "# Print results in json format\n",
    "print(js.dumps(py_sync_post_response, indent=4))"
   ]
  },
  {
   "cell_type": "markdown",
   "id": "58f3289c",
   "metadata": {},
   "source": [
    "### Synchronous GET results"
   ]
  },
  {
   "cell_type": "code",
   "execution_count": 9,
   "id": "f8f13ef1",
   "metadata": {
    "execution": {
     "iopub.execute_input": "2025-08-21T06:02:31.138984Z",
     "iopub.status.busy": "2025-08-21T06:02:31.138412Z",
     "iopub.status.idle": "2025-08-21T06:02:31.142663Z",
     "shell.execute_reply": "2025-08-21T06:02:31.142076Z"
    }
   },
   "outputs": [
    {
     "name": "stdout",
     "output_type": "stream",
     "text": [
      "{\n",
      "    \"data\": {\n",
      "        \"py\": {\n",
      "            \"wal\": 5.958549,\n",
      "            \"dv01\": 0.048282798,\n",
      "            \"isin\": \"US31398GY867\",\n",
      "            \"cusip\": \"31398GY86\",\n",
      "            \"price\": 99.0,\n",
      "            \"yield\": 4.686698,\n",
      "            \"ticker\": \"FNMA10.10\",\n",
      "            \"cdYield\": 0.0,\n",
      "            \"pyLevel\": \"99\",\n",
      "            \"zSpread\": 18.615854,\n",
      "            \"duration\": 4.873359,\n",
      "            \"ziSpread\": 18.615854,\n",
      "            \"znSpread\": 55.374691,\n",
      "            \"benchmark\": \"5 yr\",\n",
      "            \"className\": \"ZA\",\n",
      "            \"convexity\": 0.3818,\n",
      "            \"curveDate\": \"2024-12-31\",\n",
      "            \"curveType\": \"Govt\",\n",
      "            \"fullPrice\": 99.075,\n",
      "            \"modelCode\": 2501,\n",
      "            \"prepayRate\": 100.0,\n",
      "            \"prepayType\": \"VEC\",\n",
      "            \"securityID\": \"31398GY8\",\n",
      "            \"tsyCurveID\": \"USDo1231\",\n",
      "            \"accruedDays\": 6,\n",
      "            \"description\": \"FEDERAL NATIONAL MORTGAGE ASSOCIATION 2010-10 ZA\",\n",
      "            \"grossSpread\": 24.7449,\n",
      "            \"pricingDate\": \"2024-12-31\",\n",
      "            \"swapCurveID\": \"SUSo1231Q2\",\n",
      "            \"currentYield\": 4.545,\n",
      "            \"maturityDate\": \"2040-02-25\",\n",
      "            \"nextCallDate\": \"2039-07-25\",\n",
      "            \"securityType\": \"CMO\",\n",
      "            \"staticSpread\": 18.6159,\n",
      "            \"volModelType\": \"LMMSOFRFLAT\",\n",
      "            \"yieldToWorst\": 4.686698,\n",
      "            \"currentCoupon\": 4.5,\n",
      "            \"cmoProcessTime\": 0,\n",
      "            \"marketSettings\": {\n",
      "                \"settlementDate\": \"2025-01-07\"\n",
      "            },\n",
      "            \"settlementDate\": \"2025-01-07\",\n",
      "            \"accruedInterest\": 0.075,\n",
      "            \"annualizedYield\": 4.742,\n",
      "            \"compoundingFreq\": 2,\n",
      "            \"dataPpmProjList\": [\n",
      "                {\n",
      "                    \"oneYear\": 97.1313,\n",
      "                    \"longTerm\": 109.9346,\n",
      "                    \"oneMonth\": 106.828,\n",
      "                    \"sixMonth\": 98.317,\n",
      "                    \"prepayType\": \"PSA\",\n",
      "                    \"threeMonth\": 102.421\n",
      "                },\n",
      "                {\n",
      "                    \"oneYear\": 5.8279,\n",
      "                    \"longTerm\": 6.5961,\n",
      "                    \"oneMonth\": 6.41,\n",
      "                    \"sixMonth\": 5.899,\n",
      "                    \"prepayType\": \"CPR\",\n",
      "                    \"threeMonth\": 6.145\n",
      "                },\n",
      "                {\n",
      "                    \"oneYear\": 5.7694,\n",
      "                    \"longTerm\": 6.5514,\n",
      "                    \"oneMonth\": 6.389,\n",
      "                    \"sixMonth\": 5.846,\n",
      "                    \"prepayType\": \"VPR\",\n",
      "                    \"threeMonth\": 6.11\n",
      "                },\n",
      "                {\n",
      "                    \"oneYear\": 0.0618,\n",
      "                    \"longTerm\": 0.0477,\n",
      "                    \"oneMonth\": 0.022,\n",
      "                    \"sixMonth\": 0.056,\n",
      "                    \"prepayType\": \"CDR\",\n",
      "                    \"threeMonth\": 0.037\n",
      "                },\n",
      "                {\n",
      "                    \"oneYear\": 3.3326,\n",
      "                    \"longTerm\": 3.5923,\n",
      "                    \"oneMonth\": 3.892,\n",
      "                    \"sixMonth\": 3.389,\n",
      "                    \"prepayType\": \"Turnover\",\n",
      "                    \"threeMonth\": 3.64\n",
      "                },\n",
      "                {\n",
      "                    \"oneYear\": 1.7361,\n",
      "                    \"longTerm\": 2.3525,\n",
      "                    \"oneMonth\": 1.682,\n",
      "                    \"sixMonth\": 1.704,\n",
      "                    \"prepayType\": \"Curtail\",\n",
      "                    \"threeMonth\": 1.69\n",
      "                },\n",
      "                {\n",
      "                    \"oneYear\": 0.7902,\n",
      "                    \"longTerm\": 0.7246,\n",
      "                    \"oneMonth\": 0.922,\n",
      "                    \"sixMonth\": 0.845,\n",
      "                    \"prepayType\": \"Refi\",\n",
      "                    \"threeMonth\": 0.88\n",
      "                },\n",
      "                {\n",
      "                    \"oneYear\": 0.7902,\n",
      "                    \"longTerm\": 0.7246,\n",
      "                    \"oneMonth\": 0.922,\n",
      "                    \"sixMonth\": 0.845,\n",
      "                    \"prepayType\": \"RefiCashout\",\n",
      "                    \"threeMonth\": 0.88\n",
      "                },\n",
      "                {\n",
      "                    \"oneYear\": 0.0,\n",
      "                    \"longTerm\": 0.0005,\n",
      "                    \"oneMonth\": 0.0,\n",
      "                    \"sixMonth\": 0.0,\n",
      "                    \"prepayType\": \"RefiRateterm\",\n",
      "                    \"threeMonth\": 0.0\n",
      "                },\n",
      "                {\n",
      "                    \"oneYear\": 0.0,\n",
      "                    \"longTerm\": 0.0005,\n",
      "                    \"oneMonth\": 0.0,\n",
      "                    \"sixMonth\": 0.0,\n",
      "                    \"prepayType\": \"RefiCredit\",\n",
      "                    \"threeMonth\": 0.0\n",
      "                },\n",
      "                {\n",
      "                    \"oneMonth\": 0.0,\n",
      "                    \"sixMonth\": 0.0,\n",
      "                    \"prepayType\": \"FwdCPR\",\n",
      "                    \"threeMonth\": 0.0\n",
      "                },\n",
      "                {\n",
      "                    \"oneYear\": 0.0,\n",
      "                    \"longTerm\": 0.0,\n",
      "                    \"oneMonth\": 0.0,\n",
      "                    \"sixMonth\": 0.0,\n",
      "                    \"prepayType\": \"FwdCDR\",\n",
      "                    \"threeMonth\": 0.0\n",
      "                },\n",
      "                {\n",
      "                    \"oneMonth\": 0.0,\n",
      "                    \"sixMonth\": 0.0,\n",
      "                    \"prepayType\": \"FwdVPR\",\n",
      "                    \"threeMonth\": 0.0\n",
      "                },\n",
      "                {\n",
      "                    \"oneYear\": 0.0,\n",
      "                    \"longTerm\": 0.0,\n",
      "                    \"oneMonth\": 0.0,\n",
      "                    \"sixMonth\": 0.0,\n",
      "                    \"prepayType\": \"FwdVPRTurnover\",\n",
      "                    \"threeMonth\": 0.0\n",
      "                },\n",
      "                {\n",
      "                    \"oneYear\": 0.0,\n",
      "                    \"longTerm\": 0.0,\n",
      "                    \"oneMonth\": 0.0,\n",
      "                    \"sixMonth\": 0.0,\n",
      "                    \"prepayType\": \"FwdVPRCurtail\",\n",
      "                    \"threeMonth\": 0.0\n",
      "                },\n",
      "                {\n",
      "                    \"oneYear\": 0.0,\n",
      "                    \"longTerm\": 0.0,\n",
      "                    \"oneMonth\": 0.0,\n",
      "                    \"sixMonth\": 0.0,\n",
      "                    \"prepayType\": \"FwdVPRRefi\",\n",
      "                    \"threeMonth\": 0.0\n",
      "                },\n",
      "                {\n",
      "                    \"oneYear\": 0.0,\n",
      "                    \"longTerm\": 0.0,\n",
      "                    \"oneMonth\": 0.0,\n",
      "                    \"sixMonth\": 0.0,\n",
      "                    \"prepayType\": \"FwdVPRRefiRateterm\",\n",
      "                    \"threeMonth\": 0.0\n",
      "                },\n",
      "                {\n",
      "                    \"oneYear\": 0.0,\n",
      "                    \"longTerm\": 0.0,\n",
      "                    \"oneMonth\": 0.0,\n",
      "                    \"sixMonth\": 0.0,\n",
      "                    \"prepayType\": \"FwdVPRRefiCashout\",\n",
      "                    \"threeMonth\": 0.0\n",
      "                }\n",
      "            ],\n",
      "            \"nextPaymentDate\": \"2025-02-25\",\n",
      "            \"yearsToMaturity\": 14.55,\n",
      "            \"yieldToNextCall\": 4.686698,\n",
      "            \"macaulayDuration\": 4.9876,\n",
      "            \"settleDateFactor\": 0.05059897,\n",
      "            \"spreadToActCurve\": 24.7449,\n",
      "            \"spreadToTsyCurve\": 24.7718,\n",
      "            \"yieldToWorstCall\": 4.686698,\n",
      "            \"macaulayConvexity\": 37.5008,\n",
      "            \"spreadToBenchmark\": 29.4165,\n",
      "            \"spreadToSwapCurve\": 34.5717,\n",
      "            \"spreadToWorstCall\": 25,\n",
      "            \"currentAccrualDate\": \"2025-01-01\",\n",
      "            \"optionModelCurveID\": \"USDo1231\",\n",
      "            \"benchmarkToNextCall\": \"30 yr\",\n",
      "            \"durationToWorstCase\": 4.873359,\n",
      "            \"semiAnnualizedYield\": 4.686698,\n",
      "            \"spreadToRFRSwapCurve\": 63.0574,\n",
      "            \"yearsToFinalMaturity\": 15.133,\n",
      "            \"lastPrincipalPaymentDate\": \"2039-07-25\",\n",
      "            \"firstPrincipalPaymentDate\": \"2025-02-25\",\n",
      "            \"spreadToActCurveToNextCall\": -9.455,\n",
      "            \"spreadToTsyCurveToNextCall\": -9.455,\n",
      "            \"spreadToBenchmarkToNextCall\": -9.455,\n",
      "            \"spreadToSwapCurveToNextCall\": 46.526,\n",
      "            \"cumulativeLossToNextCallCurrent\": 0.0,\n",
      "            \"cumulativeLossToNextCallOriginal\": 0.0,\n",
      "            \"spreadToTsyCurveAtBenchmarkTenor\": 29.4165,\n",
      "            \"cumulativeDefaultToNextCallCurrent\": 0.0,\n",
      "            \"cumulativeDefaultToNextCallOriginal\": 0.0\n",
      "        },\n",
      "        \"securityID\": \"31398GY8\"\n",
      "    },\n",
      "    \"meta\": {\n",
      "        \"status\": \"DONE\",\n",
      "        \"requestId\": \"R-22925\",\n",
      "        \"timeStamp\": \"2025-08-21T02:02:24Z\",\n",
      "        \"responseType\": \"PY_CALC\"\n",
      "    }\n",
      "}\n"
     ]
    }
   ],
   "source": [
    "# Print results in json format\n",
    "print(js.dumps(py_sync_get_response, indent=4))"
   ]
  },
  {
   "cell_type": "markdown",
   "id": "fc276423",
   "metadata": {},
   "source": [
    "### Asynchronous POST results"
   ]
  },
  {
   "cell_type": "code",
   "execution_count": 10,
   "id": "1f72db84",
   "metadata": {
    "execution": {
     "iopub.execute_input": "2025-08-21T06:02:31.145103Z",
     "iopub.status.busy": "2025-08-21T06:02:31.144760Z",
     "iopub.status.idle": "2025-08-21T06:02:31.148117Z",
     "shell.execute_reply": "2025-08-21T06:02:31.147479Z"
    }
   },
   "outputs": [
    {
     "name": "stdout",
     "output_type": "stream",
     "text": [
      "{\n",
      "    \"meta\": {\n",
      "        \"status\": \"DONE\",\n",
      "        \"requestId\": \"R-22926\",\n",
      "        \"timeStamp\": \"2025-08-21T02:02:25Z\",\n",
      "        \"responseType\": \"PY_CALC\",\n",
      "        \"resultsStatus\": \"ALL\"\n",
      "    },\n",
      "    \"results\": [\n",
      "        {\n",
      "            \"py\": {\n",
      "                \"yield\": 4.686698\n",
      "            },\n",
      "            \"securityID\": \"31398GY8\"\n",
      "        }\n",
      "    ]\n",
      "}\n"
     ]
    }
   ],
   "source": [
    "# Print results in json format\n",
    "print(js.dumps(async_post_results_response, indent=4))"
   ]
  },
  {
   "cell_type": "markdown",
   "id": "46e3c8e9",
   "metadata": {},
   "source": [
    "### Asynchronous GET results"
   ]
  },
  {
   "cell_type": "code",
   "execution_count": 11,
   "id": "c2dafd4c",
   "metadata": {
    "execution": {
     "iopub.execute_input": "2025-08-21T06:02:31.150294Z",
     "iopub.status.busy": "2025-08-21T06:02:31.149917Z",
     "iopub.status.idle": "2025-08-21T06:02:31.153949Z",
     "shell.execute_reply": "2025-08-21T06:02:31.153357Z"
    }
   },
   "outputs": [
    {
     "name": "stdout",
     "output_type": "stream",
     "text": [
      "{\n",
      "    \"data\": {\n",
      "        \"py\": {\n",
      "            \"wal\": 5.958549,\n",
      "            \"dv01\": 0.048282798,\n",
      "            \"isin\": \"US31398GY867\",\n",
      "            \"cusip\": \"31398GY86\",\n",
      "            \"price\": 99.0,\n",
      "            \"yield\": 4.686698,\n",
      "            \"ticker\": \"FNMA10.10\",\n",
      "            \"cdYield\": 0.0,\n",
      "            \"pyLevel\": \"99\",\n",
      "            \"zSpread\": 18.615854,\n",
      "            \"duration\": 4.873359,\n",
      "            \"ziSpread\": 18.615854,\n",
      "            \"znSpread\": 55.374691,\n",
      "            \"benchmark\": \"5 yr\",\n",
      "            \"className\": \"ZA\",\n",
      "            \"convexity\": 0.3818,\n",
      "            \"curveDate\": \"2024-12-31\",\n",
      "            \"curveType\": \"Govt\",\n",
      "            \"fullPrice\": 99.075,\n",
      "            \"modelCode\": 2501,\n",
      "            \"prepayRate\": 100.0,\n",
      "            \"prepayType\": \"VEC\",\n",
      "            \"securityID\": \"31398GY8\",\n",
      "            \"tsyCurveID\": \"USDo1231\",\n",
      "            \"accruedDays\": 6,\n",
      "            \"description\": \"FEDERAL NATIONAL MORTGAGE ASSOCIATION 2010-10 ZA\",\n",
      "            \"grossSpread\": 24.7449,\n",
      "            \"pricingDate\": \"2024-12-31\",\n",
      "            \"swapCurveID\": \"SUSo1231Q2\",\n",
      "            \"currentYield\": 4.545,\n",
      "            \"maturityDate\": \"2040-02-25\",\n",
      "            \"nextCallDate\": \"2039-07-25\",\n",
      "            \"securityType\": \"CMO\",\n",
      "            \"staticSpread\": 18.6159,\n",
      "            \"volModelType\": \"LMMSOFRFLAT\",\n",
      "            \"yieldToWorst\": 4.686698,\n",
      "            \"currentCoupon\": 4.5,\n",
      "            \"cmoProcessTime\": 0,\n",
      "            \"marketSettings\": {\n",
      "                \"settlementDate\": \"2025-01-07\"\n",
      "            },\n",
      "            \"settlementDate\": \"2025-01-07\",\n",
      "            \"accruedInterest\": 0.075,\n",
      "            \"annualizedYield\": 4.742,\n",
      "            \"compoundingFreq\": 2,\n",
      "            \"dataPpmProjList\": [\n",
      "                {\n",
      "                    \"oneYear\": 97.1313,\n",
      "                    \"longTerm\": 109.9346,\n",
      "                    \"oneMonth\": 106.828,\n",
      "                    \"sixMonth\": 98.317,\n",
      "                    \"prepayType\": \"PSA\",\n",
      "                    \"threeMonth\": 102.421\n",
      "                },\n",
      "                {\n",
      "                    \"oneYear\": 5.8279,\n",
      "                    \"longTerm\": 6.5961,\n",
      "                    \"oneMonth\": 6.41,\n",
      "                    \"sixMonth\": 5.899,\n",
      "                    \"prepayType\": \"CPR\",\n",
      "                    \"threeMonth\": 6.145\n",
      "                },\n",
      "                {\n",
      "                    \"oneYear\": 5.7694,\n",
      "                    \"longTerm\": 6.5514,\n",
      "                    \"oneMonth\": 6.389,\n",
      "                    \"sixMonth\": 5.846,\n",
      "                    \"prepayType\": \"VPR\",\n",
      "                    \"threeMonth\": 6.11\n",
      "                },\n",
      "                {\n",
      "                    \"oneYear\": 0.0618,\n",
      "                    \"longTerm\": 0.0477,\n",
      "                    \"oneMonth\": 0.022,\n",
      "                    \"sixMonth\": 0.056,\n",
      "                    \"prepayType\": \"CDR\",\n",
      "                    \"threeMonth\": 0.037\n",
      "                },\n",
      "                {\n",
      "                    \"oneYear\": 3.3326,\n",
      "                    \"longTerm\": 3.5923,\n",
      "                    \"oneMonth\": 3.892,\n",
      "                    \"sixMonth\": 3.389,\n",
      "                    \"prepayType\": \"Turnover\",\n",
      "                    \"threeMonth\": 3.64\n",
      "                },\n",
      "                {\n",
      "                    \"oneYear\": 1.7361,\n",
      "                    \"longTerm\": 2.3525,\n",
      "                    \"oneMonth\": 1.682,\n",
      "                    \"sixMonth\": 1.704,\n",
      "                    \"prepayType\": \"Curtail\",\n",
      "                    \"threeMonth\": 1.69\n",
      "                },\n",
      "                {\n",
      "                    \"oneYear\": 0.7902,\n",
      "                    \"longTerm\": 0.7246,\n",
      "                    \"oneMonth\": 0.922,\n",
      "                    \"sixMonth\": 0.845,\n",
      "                    \"prepayType\": \"Refi\",\n",
      "                    \"threeMonth\": 0.88\n",
      "                },\n",
      "                {\n",
      "                    \"oneYear\": 0.7902,\n",
      "                    \"longTerm\": 0.7246,\n",
      "                    \"oneMonth\": 0.922,\n",
      "                    \"sixMonth\": 0.845,\n",
      "                    \"prepayType\": \"RefiCashout\",\n",
      "                    \"threeMonth\": 0.88\n",
      "                },\n",
      "                {\n",
      "                    \"oneYear\": 0.0,\n",
      "                    \"longTerm\": 0.0005,\n",
      "                    \"oneMonth\": 0.0,\n",
      "                    \"sixMonth\": 0.0,\n",
      "                    \"prepayType\": \"RefiRateterm\",\n",
      "                    \"threeMonth\": 0.0\n",
      "                },\n",
      "                {\n",
      "                    \"oneYear\": 0.0,\n",
      "                    \"longTerm\": 0.0005,\n",
      "                    \"oneMonth\": 0.0,\n",
      "                    \"sixMonth\": 0.0,\n",
      "                    \"prepayType\": \"RefiCredit\",\n",
      "                    \"threeMonth\": 0.0\n",
      "                },\n",
      "                {\n",
      "                    \"oneMonth\": 0.0,\n",
      "                    \"sixMonth\": 0.0,\n",
      "                    \"prepayType\": \"FwdCPR\",\n",
      "                    \"threeMonth\": 0.0\n",
      "                },\n",
      "                {\n",
      "                    \"oneYear\": 0.0,\n",
      "                    \"longTerm\": 0.0,\n",
      "                    \"oneMonth\": 0.0,\n",
      "                    \"sixMonth\": 0.0,\n",
      "                    \"prepayType\": \"FwdCDR\",\n",
      "                    \"threeMonth\": 0.0\n",
      "                },\n",
      "                {\n",
      "                    \"oneMonth\": 0.0,\n",
      "                    \"sixMonth\": 0.0,\n",
      "                    \"prepayType\": \"FwdVPR\",\n",
      "                    \"threeMonth\": 0.0\n",
      "                },\n",
      "                {\n",
      "                    \"oneYear\": 0.0,\n",
      "                    \"longTerm\": 0.0,\n",
      "                    \"oneMonth\": 0.0,\n",
      "                    \"sixMonth\": 0.0,\n",
      "                    \"prepayType\": \"FwdVPRTurnover\",\n",
      "                    \"threeMonth\": 0.0\n",
      "                },\n",
      "                {\n",
      "                    \"oneYear\": 0.0,\n",
      "                    \"longTerm\": 0.0,\n",
      "                    \"oneMonth\": 0.0,\n",
      "                    \"sixMonth\": 0.0,\n",
      "                    \"prepayType\": \"FwdVPRCurtail\",\n",
      "                    \"threeMonth\": 0.0\n",
      "                },\n",
      "                {\n",
      "                    \"oneYear\": 0.0,\n",
      "                    \"longTerm\": 0.0,\n",
      "                    \"oneMonth\": 0.0,\n",
      "                    \"sixMonth\": 0.0,\n",
      "                    \"prepayType\": \"FwdVPRRefi\",\n",
      "                    \"threeMonth\": 0.0\n",
      "                },\n",
      "                {\n",
      "                    \"oneYear\": 0.0,\n",
      "                    \"longTerm\": 0.0,\n",
      "                    \"oneMonth\": 0.0,\n",
      "                    \"sixMonth\": 0.0,\n",
      "                    \"prepayType\": \"FwdVPRRefiRateterm\",\n",
      "                    \"threeMonth\": 0.0\n",
      "                },\n",
      "                {\n",
      "                    \"oneYear\": 0.0,\n",
      "                    \"longTerm\": 0.0,\n",
      "                    \"oneMonth\": 0.0,\n",
      "                    \"sixMonth\": 0.0,\n",
      "                    \"prepayType\": \"FwdVPRRefiCashout\",\n",
      "                    \"threeMonth\": 0.0\n",
      "                }\n",
      "            ],\n",
      "            \"nextPaymentDate\": \"2025-02-25\",\n",
      "            \"yearsToMaturity\": 14.55,\n",
      "            \"yieldToNextCall\": 4.686698,\n",
      "            \"macaulayDuration\": 4.9876,\n",
      "            \"settleDateFactor\": 0.05059897,\n",
      "            \"spreadToActCurve\": 24.7449,\n",
      "            \"spreadToTsyCurve\": 24.7718,\n",
      "            \"yieldToWorstCall\": 4.686698,\n",
      "            \"macaulayConvexity\": 37.5008,\n",
      "            \"spreadToBenchmark\": 29.4165,\n",
      "            \"spreadToSwapCurve\": 34.5717,\n",
      "            \"spreadToWorstCall\": 25,\n",
      "            \"currentAccrualDate\": \"2025-01-01\",\n",
      "            \"optionModelCurveID\": \"USDo1231\",\n",
      "            \"benchmarkToNextCall\": \"30 yr\",\n",
      "            \"durationToWorstCase\": 4.873359,\n",
      "            \"semiAnnualizedYield\": 4.686698,\n",
      "            \"spreadToRFRSwapCurve\": 63.0574,\n",
      "            \"yearsToFinalMaturity\": 15.133,\n",
      "            \"lastPrincipalPaymentDate\": \"2039-07-25\",\n",
      "            \"firstPrincipalPaymentDate\": \"2025-02-25\",\n",
      "            \"spreadToActCurveToNextCall\": -9.455,\n",
      "            \"spreadToTsyCurveToNextCall\": -9.455,\n",
      "            \"spreadToBenchmarkToNextCall\": -9.455,\n",
      "            \"spreadToSwapCurveToNextCall\": 46.526,\n",
      "            \"cumulativeLossToNextCallCurrent\": 0.0,\n",
      "            \"cumulativeLossToNextCallOriginal\": 0.0,\n",
      "            \"spreadToTsyCurveAtBenchmarkTenor\": 29.4165,\n",
      "            \"cumulativeDefaultToNextCallCurrent\": 0.0,\n",
      "            \"cumulativeDefaultToNextCallOriginal\": 0.0\n",
      "        },\n",
      "        \"securityID\": \"31398GY8\"\n",
      "    },\n",
      "    \"meta\": {\n",
      "        \"status\": \"DONE\",\n",
      "        \"requestId\": \"R-22927\",\n",
      "        \"timeStamp\": \"2025-08-21T02:02:28Z\",\n",
      "        \"responseType\": \"PY_CALC\"\n",
      "    }\n",
      "}\n"
     ]
    }
   ],
   "source": [
    "# Print results in json format\n",
    "print(js.dumps(async_get_results_response, indent=4))"
   ]
  }
 ],
 "metadata": {
  "kernelspec": {
   "display_name": "env",
   "language": "python",
   "name": "python3"
  },
  "language_info": {
   "codemirror_mode": {
    "name": "ipython",
    "version": 3
   },
   "file_extension": ".py",
   "mimetype": "text/x-python",
   "name": "python",
   "nbconvert_exporter": "python",
   "pygments_lexer": "ipython3",
   "version": "3.11.6"
  }
 },
 "nbformat": 4,
 "nbformat_minor": 5
}
