{
 "cells": [
  {
   "cell_type": "markdown",
   "metadata": {},
   "source": [
    "# Adding periods to a date, taking holidays into account\n",
    "\n",
    "This notebook explains how to use one or several calendars to add a period to a date taking holidays into account. The example demonstrates how to do this referencing an individual calendar or multiple calendars."
   ]
  },
  {
   "cell_type": "markdown",
   "metadata": {},
   "source": [
    "## Start by importing the required libraries"
   ]
  },
  {
   "cell_type": "code",
   "execution_count": 1,
   "metadata": {
    "execution": {
     "iopub.execute_input": "2025-08-21T06:04:18.714460Z",
     "iopub.status.busy": "2025-08-21T06:04:18.714030Z",
     "iopub.status.idle": "2025-08-21T06:04:19.051381Z",
     "shell.execute_reply": "2025-08-21T06:04:19.050741Z"
    }
   },
   "outputs": [],
   "source": [
    "from lseg_analytics.reference_data import calendars\n",
    "from lseg_analytics.common import DateMovingConvention"
   ]
  },
  {
   "cell_type": "markdown",
   "metadata": {},
   "source": [
    "## Load an individual calendar\n",
    "To load the calendar, you need to provide the space where to load the calendar from and the name of the calendar. The space can either be 'HOME' or 'LSEG'. This example loads an LSEG-defined calendar, so it loads the calendar from the 'LSEG' space. \n",
    "\n",
    "To see the possible calendar names, place your cursor after the equals sign and trigger the autocompletion using the _Trigger Suggest_ command (`Ctrl`/`Cmd` + `i`)."
   ]
  },
  {
   "cell_type": "code",
   "execution_count": 2,
   "metadata": {
    "execution": {
     "iopub.execute_input": "2025-08-21T06:04:19.055645Z",
     "iopub.status.busy": "2025-08-21T06:04:19.053949Z",
     "iopub.status.idle": "2025-08-21T06:04:19.609370Z",
     "shell.execute_reply": "2025-08-21T06:04:19.608727Z"
    }
   },
   "outputs": [],
   "source": [
    "lseg_ukg_cal = calendars.load(name=\"UKG\", space = \"LSEG\")"
   ]
  },
  {
   "cell_type": "markdown",
   "metadata": {},
   "source": [
    "## Compute the dates\n",
    "Select the period from which you want to compute the dates from by setting the start_date. Specify the tenors to set each date that you wish to compute.\n",
    "A tenor is a combination of days (D) , weeks (W), months (M) and years (Y)"
   ]
  },
  {
   "cell_type": "code",
   "execution_count": 3,
   "metadata": {
    "execution": {
     "iopub.execute_input": "2025-08-21T06:04:19.612325Z",
     "iopub.status.busy": "2025-08-21T06:04:19.611910Z",
     "iopub.status.idle": "2025-08-21T06:04:19.760930Z",
     "shell.execute_reply": "2025-08-21T06:04:19.760347Z"
    }
   },
   "outputs": [],
   "source": [
    "# Compute dates 2 day, 3 weeks, 6 months , 1 year after the 1st of January 2024\n",
    "tenors=[\"2D\", \"3W\", \"6M\", \"1Y\"]\n",
    "dates = lseg_ukg_cal.compute_dates(start_date=\"2024-01-01\", tenors=tenors)"
   ]
  },
  {
   "cell_type": "markdown",
   "metadata": {},
   "source": [
    "## Print the computed dates"
   ]
  },
  {
   "cell_type": "code",
   "execution_count": 4,
   "metadata": {
    "execution": {
     "iopub.execute_input": "2025-08-21T06:04:19.763236Z",
     "iopub.status.busy": "2025-08-21T06:04:19.763038Z",
     "iopub.status.idle": "2025-08-21T06:04:19.766253Z",
     "shell.execute_reply": "2025-08-21T06:04:19.765771Z"
    }
   },
   "outputs": [
    {
     "name": "stdout",
     "output_type": "stream",
     "text": [
      "Today + 2D = {'tenor': '2D', 'endDate': '2024-01-03'}\n",
      "Today + 3W = {'tenor': '3W', 'endDate': '2024-01-22'}\n",
      "Today + 6M = {'tenor': '6M', 'endDate': '2024-07-01'}\n",
      "Today + 1Y = {'tenor': '1Y', 'endDate': '2025-01-02'}\n"
     ]
    }
   ],
   "source": [
    "for tenor, date in zip(tenors, dates):\n",
    "    print('Today +', tenor, '=', date)"
   ]
  },
  {
   "cell_type": "markdown",
   "metadata": {},
   "source": [
    "## Reference multiple calendars\n",
    "To follow the same process for multiple calendars, simply pass the names of the calendars into the 'compute_dates' method in the format 'SPACE/NAME'"
   ]
  },
  {
   "cell_type": "code",
   "execution_count": 5,
   "metadata": {
    "execution": {
     "iopub.execute_input": "2025-08-21T06:04:19.768189Z",
     "iopub.status.busy": "2025-08-21T06:04:19.768006Z",
     "iopub.status.idle": "2025-08-21T06:04:20.041107Z",
     "shell.execute_reply": "2025-08-21T06:04:20.040495Z"
    }
   },
   "outputs": [
    {
     "name": "stdout",
     "output_type": "stream",
     "text": [
      "Today + 2M = {'tenor': '2M', 'endDate': '2024-03-01'}\n",
      "Today + 3M = {'tenor': '3M', 'endDate': '2024-04-02'}\n",
      "Today + 6M = {'tenor': '6M', 'endDate': '2024-07-02'}\n",
      "Today + 1Y = {'tenor': '1Y', 'endDate': '2025-01-02'}\n"
     ]
    }
   ],
   "source": [
    "# Compute dates 2, 3, 6 months and 1 year after the 1st of January 2024\n",
    "tenors=[\"2M\", \"3M\", \"6M\", \"1Y\"]\n",
    "dates = calendars.compute_dates(\n",
    "    calendars=[\n",
    "        \"LSEG/UKG\",\n",
    "        \"LSEG/EUR\",\n",
    "        \"LSEG/USA\",\n",
    "        \"LSEG/HKG\",\n",
    "    ],\n",
    "    start_date = \"2024-01-01\",\n",
    "    tenors = tenors,\n",
    "    date_moving_convention=DateMovingConvention.NEXT_BUSINESS_DAY\n",
    ")\n",
    "  \n",
    "# Display the computed dates\n",
    "for tenor, date in zip(tenors, dates):\n",
    "    print('Today +', tenor, '=', date)"
   ]
  }
 ],
 "metadata": {
  "kernelspec": {
   "display_name": ".venv",
   "language": "python",
   "name": "python3"
  },
  "language_info": {
   "codemirror_mode": {
    "name": "ipython",
    "version": 3
   },
   "file_extension": ".py",
   "mimetype": "text/x-python",
   "name": "python",
   "nbconvert_exporter": "python",
   "pygments_lexer": "ipython3",
   "version": "3.11.6"
  }
 },
 "nbformat": 4,
 "nbformat_minor": 2
}
