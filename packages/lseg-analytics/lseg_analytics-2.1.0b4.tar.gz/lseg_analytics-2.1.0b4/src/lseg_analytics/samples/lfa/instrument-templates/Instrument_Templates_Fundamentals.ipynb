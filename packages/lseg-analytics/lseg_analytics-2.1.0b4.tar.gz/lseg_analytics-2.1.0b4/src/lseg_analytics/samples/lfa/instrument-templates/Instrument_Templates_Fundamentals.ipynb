{
 "cells": [
  {
   "cell_type": "markdown",
   "id": "1a108871",
   "metadata": {
    "tags": [
     "ide-samples-ignore"
    ]
   },
   "source": [
    "# Instrument Templates Fundamentals"
   ]
  },
  {
   "cell_type": "markdown",
   "id": "3a4cef20",
   "metadata": {},
   "source": [
    "This notebook demonstrates how to access and use the functionalities of **Instrument Templates** which are part of our **QPS** module within LSEG Financial Analytics SDK."
   ]
  },
  {
   "cell_type": "markdown",
   "id": "b9c3dd46",
   "metadata": {},
   "source": [
    "## Interest rate swaps templates"
   ]
  },
  {
   "cell_type": "markdown",
   "id": "fd1afec0",
   "metadata": {},
   "source": [
    "### Imports"
   ]
  },
  {
   "cell_type": "markdown",
   "id": "722a9f23",
   "metadata": {},
   "source": [
    "Import the following necessary modules:"
   ]
  },
  {
   "cell_type": "code",
   "execution_count": 1,
   "id": "f075d05d",
   "metadata": {
    "execution": {
     "iopub.execute_input": "2025-08-21T06:03:44.488573Z",
     "iopub.status.busy": "2025-08-21T06:03:44.488285Z",
     "iopub.status.idle": "2025-08-21T06:03:44.930255Z",
     "shell.execute_reply": "2025-08-21T06:03:44.929408Z"
    }
   },
   "outputs": [],
   "source": [
    "from lseg_analytics.templates.instrument_templates import search, load, delete"
   ]
  },
  {
   "cell_type": "markdown",
   "id": "99cc4078",
   "metadata": {},
   "source": [
    "### Searching for instrument templates"
   ]
  },
  {
   "cell_type": "markdown",
   "id": "38a624be",
   "metadata": {},
   "source": [
    "Before any further calculations can take place a user might want to search and retrieve a number of swap templates from the available set (e.g. 'LSEG' space), sorted in expected order.\n",
    "\n",
    "System returns a list of InstrumentTemplates existing in the platform (depending on permissions).\n",
    "\n",
    "Search function takes no mandatory arguments in which case it simply returns all templates available to the user."
   ]
  },
  {
   "cell_type": "code",
   "execution_count": 2,
   "id": "b44c8367",
   "metadata": {
    "execution": {
     "iopub.execute_input": "2025-08-21T06:03:44.935219Z",
     "iopub.status.busy": "2025-08-21T06:03:44.933100Z",
     "iopub.status.idle": "2025-08-21T06:03:45.567630Z",
     "shell.execute_reply": "2025-08-21T06:03:45.566984Z"
    },
    "tags": [
     "search.static"
    ]
   },
   "outputs": [
    {
     "name": "stdout",
     "output_type": "stream",
     "text": [
      "[{'type': 'InstrumentTemplate', 'id': '033afcd3-ab70-4d1f-8b4a-a9552c8450ba', 'location': {'space': 'HOME', 'name': 'Dummy_CrossCcySwap_Template'}, 'description': {'summary': 'this is a leg template summary', 'tags': ['tag1Test', 'tag2Test', 'tag3Test']}}, {'type': 'InstrumentTemplate', 'id': '1adafa94-84f8-4aaa-8788-bcd3ac2fc80d', 'location': {'space': 'HOME', 'name': 'TEMPLATE_FXFORWARD_SDKTest_DO_NOT_DELETE'}, 'description': {'summary': '', 'tags': []}}, {'type': 'InstrumentTemplate', 'id': '40c96e9c-f66f-4eab-91ff-9a322014a1cc', 'location': {'space': 'HOME', 'name': 'TEMPLATE_FXSPOT_SDKTest_DO_NOT_DELETE'}, 'description': {'summary': '', 'tags': []}}, {'type': 'InstrumentTemplate', 'id': '53384cdf-1a11-4fcd-bb3f-789f5456189c', 'location': {'space': 'HOME', 'name': 'TestInstrumentTemplate1744336856818232'}, 'description': {'summary': 'Test instrument_template description', 'tags': ['tag1', 'tag2']}}, {'type': 'InstrumentTemplate', 'id': 'ee630d2a-ad6a-4d84-97b5-f0e8cb2a961e', 'location': {'space': 'HOME', 'name': 'TestInstrumentTemplate1744336996396009'}, 'description': {'summary': 'Test instrument_template description', 'tags': ['tag1', 'tag2']}}]\n"
     ]
    }
   ],
   "source": [
    "# Full search with no filters\n",
    "instrument_templates = search()\n",
    "\n",
    "print(instrument_templates[:5])"
   ]
  },
  {
   "cell_type": "markdown",
   "id": "a120b720",
   "metadata": {},
   "source": [
    "### Loading a specific template"
   ]
  },
  {
   "cell_type": "markdown",
   "id": "0c5fcfe5",
   "metadata": {},
   "source": [
    "User can load a specific template by either providing a unique template name or resource ID.\n",
    "\n",
    "Mandatory arguments: \n",
    "- resource_id - mutually exclusive with name\n",
    "- name - mutually exclusive with resource_id"
   ]
  },
  {
   "cell_type": "code",
   "execution_count": 3,
   "id": "bb2ba0b4",
   "metadata": {
    "execution": {
     "iopub.execute_input": "2025-08-21T06:03:45.570570Z",
     "iopub.status.busy": "2025-08-21T06:03:45.570096Z",
     "iopub.status.idle": "2025-08-21T06:03:45.886257Z",
     "shell.execute_reply": "2025-08-21T06:03:45.885788Z"
    },
    "tags": [
     "load"
    ]
   },
   "outputs": [
    {
     "name": "stdout",
     "output_type": "stream",
     "text": [
      "<InstrumentTemplate space='HOME' name='Dummy_CrossCcySwap_Template' 033afcd3‥>\n"
     ]
    }
   ],
   "source": [
    "# Loading using template resource_id\n",
    "template_by_id = load(resource_id=instrument_templates[0].id)\n",
    "\n",
    "print(template_by_id)\n"
   ]
  },
  {
   "cell_type": "code",
   "execution_count": 4,
   "id": "01eea776",
   "metadata": {
    "execution": {
     "iopub.execute_input": "2025-08-21T06:03:45.888246Z",
     "iopub.status.busy": "2025-08-21T06:03:45.887937Z",
     "iopub.status.idle": "2025-08-21T06:03:46.343695Z",
     "shell.execute_reply": "2025-08-21T06:03:46.342902Z"
    },
    "tags": [
     "load"
    ]
   },
   "outputs": [
    {
     "name": "stdout",
     "output_type": "stream",
     "text": [
      "<InstrumentTemplate space='HOME' name='Dummy_CrossCcySwap_Template' 033afcd3‥>\n"
     ]
    }
   ],
   "source": [
    "# Load using template name\n",
    "template_by_name = load(name=instrument_templates[0].location.name, space=instrument_templates[0].location.space)\n",
    "\n",
    "print(template_by_name)\n"
   ]
  },
  {
   "cell_type": "markdown",
   "id": "e54c698a",
   "metadata": {},
   "source": [
    "### Deleting a template\n",
    "\n",
    "Given they have right set of access rights, users can perform a deletion operations on their own or shared resources.\n"
   ]
  },
  {
   "cell_type": "code",
   "execution_count": 5,
   "id": "5f2159c7",
   "metadata": {
    "execution": {
     "iopub.execute_input": "2025-08-21T06:03:46.346540Z",
     "iopub.status.busy": "2025-08-21T06:03:46.346074Z",
     "iopub.status.idle": "2025-08-21T06:03:46.989988Z",
     "shell.execute_reply": "2025-08-21T06:03:46.989365Z"
    },
    "tags": [
     "delete"
    ]
   },
   "outputs": [
    {
     "data": {
      "text/plain": [
       "True"
      ]
     },
     "execution_count": 5,
     "metadata": {},
     "output_type": "execute_result"
    }
   ],
   "source": [
    "# Load an existing template\n",
    "template_by_name = load(name=instrument_templates[0].location.name, space=instrument_templates[0].location.space)\n",
    "\n",
    "# Clone the template so that the original remains\n",
    "user_template = template_by_name.clone()\n",
    "\n",
    "# Save under a new name and local user space\n",
    "user_template.save(name=\"test_save\")\n",
    "\n",
    "# Delete the newly created template\n",
    "delete(resource_id=user_template.id)"
   ]
  }
 ],
 "metadata": {
  "kernelspec": {
   "display_name": ".venv",
   "language": "python",
   "name": "python3"
  },
  "language_info": {
   "codemirror_mode": {
    "name": "ipython",
    "version": 3
   },
   "file_extension": ".py",
   "mimetype": "text/x-python",
   "name": "python",
   "nbconvert_exporter": "python",
   "pygments_lexer": "ipython3",
   "version": "3.11.6"
  }
 },
 "nbformat": 4,
 "nbformat_minor": 5
}
