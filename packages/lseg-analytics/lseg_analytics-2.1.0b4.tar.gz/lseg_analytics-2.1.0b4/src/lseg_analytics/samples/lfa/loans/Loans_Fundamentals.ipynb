{
 "cells": [
  {
   "cell_type": "markdown",
   "id": "1a108871",
   "metadata": {
    "tags": [
     "ide-samples-ignore"
    ]
   },
   "source": [
    "# Loans Fundamentals"
   ]
  },
  {
   "cell_type": "markdown",
   "id": "3a4cef20",
   "metadata": {},
   "source": [
    "This notebook demonstrates how to access and use the functionalities of **Loans** which are part of our **QPS** module within LSEG Financial Analytics SDK."
   ]
  },
  {
   "cell_type": "code",
   "execution_count": 1,
   "id": "7df1f746",
   "metadata": {
    "execution": {
     "iopub.execute_input": "2025-08-21T06:04:02.496487Z",
     "iopub.status.busy": "2025-08-21T06:04:02.496144Z",
     "iopub.status.idle": "2025-08-21T06:04:02.819434Z",
     "shell.execute_reply": "2025-08-21T06:04:02.818904Z"
    }
   },
   "outputs": [],
   "source": [
    "from lseg_analytics.instruments.loans import search, load, delete"
   ]
  },
  {
   "cell_type": "markdown",
   "id": "392df013",
   "metadata": {},
   "source": [
    "Search code:"
   ]
  },
  {
   "cell_type": "code",
   "execution_count": 2,
   "id": "663f4ea8",
   "metadata": {
    "execution": {
     "iopub.execute_input": "2025-08-21T06:04:02.823291Z",
     "iopub.status.busy": "2025-08-21T06:04:02.821803Z",
     "iopub.status.idle": "2025-08-21T06:04:03.230910Z",
     "shell.execute_reply": "2025-08-21T06:04:03.230348Z"
    },
    "tags": [
     "search.static"
    ]
   },
   "outputs": [
    {
     "name": "stdout",
     "output_type": "stream",
     "text": [
      "[{'type': 'Loan', 'id': '7caf85a5-7c3c-4ce8-b9f5-7db8918cb7a8', 'location': {'space': 'HOME', 'name': 'LoanResourceCreatd_For_Sdk_Notebooks'}, 'description': {'summary': '', 'tags': ['test']}}]\n"
     ]
    }
   ],
   "source": [
    "# execute the search of loan templates\n",
    "loan_templates = search()\n",
    "\n",
    "print(loan_templates)"
   ]
  },
  {
   "cell_type": "markdown",
   "id": "5ccccb77",
   "metadata": {},
   "source": [
    "### Loading a specific loan template"
   ]
  },
  {
   "cell_type": "markdown",
   "id": "bd0a0656",
   "metadata": {},
   "source": [
    "User can load a specific loan template by either providing a unique template name or resource ID.\n",
    "\n",
    "Mandatory arguments: \n",
    "- resource_id - mutually exclusive with name\n",
    "- name - mutually exclusive with resource_id"
   ]
  },
  {
   "cell_type": "code",
   "execution_count": 3,
   "id": "f5ae18b3",
   "metadata": {
    "execution": {
     "iopub.execute_input": "2025-08-21T06:04:03.233325Z",
     "iopub.status.busy": "2025-08-21T06:04:03.233005Z",
     "iopub.status.idle": "2025-08-21T06:04:03.373068Z",
     "shell.execute_reply": "2025-08-21T06:04:03.372572Z"
    },
    "tags": [
     "load"
    ]
   },
   "outputs": [
    {
     "name": "stdout",
     "output_type": "stream",
     "text": [
      "<Loan space='HOME' name='LoanResourceCreatd_For_Sdk_Notebooks' 7caf85a5‥>\n"
     ]
    }
   ],
   "source": [
    "# execute the search of loan templates using id\n",
    "loaded_template = load(resource_id=loan_templates[0].id)\n",
    "\n",
    "print(loaded_template)"
   ]
  },
  {
   "cell_type": "code",
   "execution_count": 4,
   "id": "0e2326ce",
   "metadata": {
    "execution": {
     "iopub.execute_input": "2025-08-21T06:04:03.375256Z",
     "iopub.status.busy": "2025-08-21T06:04:03.374903Z",
     "iopub.status.idle": "2025-08-21T06:04:03.613065Z",
     "shell.execute_reply": "2025-08-21T06:04:03.612572Z"
    }
   },
   "outputs": [
    {
     "name": "stdout",
     "output_type": "stream",
     "text": [
      "<Loan space='HOME' name='LoanResourceCreatd_For_Sdk_Notebooks' 7caf85a5‥>\n"
     ]
    }
   ],
   "source": [
    "# execute the search of loan templates using name\n",
    "loaded_template = load(name= loan_templates[0].location.name)\n",
    "\n",
    "print(loaded_template)"
   ]
  },
  {
   "cell_type": "markdown",
   "id": "d2d804e9",
   "metadata": {},
   "source": [
    "### Deleting a specific loan template"
   ]
  },
  {
   "cell_type": "code",
   "execution_count": 5,
   "id": "18d83faa",
   "metadata": {
    "execution": {
     "iopub.execute_input": "2025-08-21T06:04:03.615744Z",
     "iopub.status.busy": "2025-08-21T06:04:03.615322Z",
     "iopub.status.idle": "2025-08-21T06:04:03.933661Z",
     "shell.execute_reply": "2025-08-21T06:04:03.933125Z"
    },
    "tags": [
     "save"
    ]
   },
   "outputs": [
    {
     "name": "stdout",
     "output_type": "stream",
     "text": [
      "[{'type': 'Loan', 'id': '7caf85a5-7c3c-4ce8-b9f5-7db8918cb7a8', 'location': {'space': 'HOME', 'name': 'LoanResourceCreatd_For_Sdk_Notebooks'}, 'description': {'summary': '', 'tags': ['test']}}, {'type': 'Loan', 'id': '3a57e3ff-ec3c-4b60-99d1-4d60abb84e62', 'location': {'space': 'HOME', 'name': 'template_for_deletion'}, 'description': {'summary': '', 'tags': ['test']}}]\n"
     ]
    }
   ],
   "source": [
    "# Clone template to save original\n",
    "cloned_template = loaded_template.clone()\n",
    "\n",
    "# Save the cloned template to a space\n",
    "cloned_template.save(name='template_for_deletion', space='HOME')\n",
    "\n",
    "# Check that the loan with name 'template_for_deletion' exists\n",
    "loan_templates = search()\n",
    "\n",
    "print(loan_templates)"
   ]
  },
  {
   "cell_type": "code",
   "execution_count": 6,
   "id": "5eea15c6",
   "metadata": {
    "execution": {
     "iopub.execute_input": "2025-08-21T06:04:03.936010Z",
     "iopub.status.busy": "2025-08-21T06:04:03.935662Z",
     "iopub.status.idle": "2025-08-21T06:04:04.094626Z",
     "shell.execute_reply": "2025-08-21T06:04:04.094142Z"
    },
    "tags": [
     "delete"
    ]
   },
   "outputs": [
    {
     "data": {
      "text/plain": [
       "True"
      ]
     },
     "execution_count": 6,
     "metadata": {},
     "output_type": "execute_result"
    }
   ],
   "source": [
    "# Delete cloned template\n",
    "delete(resource_id=cloned_template.id)\n"
   ]
  },
  {
   "cell_type": "markdown",
   "id": "ca5317eb",
   "metadata": {},
   "source": [
    "check that loan with name template_for_deletion is no longer available in the search"
   ]
  },
  {
   "cell_type": "code",
   "execution_count": 7,
   "id": "5e8e9502",
   "metadata": {
    "execution": {
     "iopub.execute_input": "2025-08-21T06:04:04.096816Z",
     "iopub.status.busy": "2025-08-21T06:04:04.096454Z",
     "iopub.status.idle": "2025-08-21T06:04:04.214828Z",
     "shell.execute_reply": "2025-08-21T06:04:04.214380Z"
    }
   },
   "outputs": [
    {
     "name": "stdout",
     "output_type": "stream",
     "text": [
      "[{'type': 'Loan', 'id': '7caf85a5-7c3c-4ce8-b9f5-7db8918cb7a8', 'location': {'space': 'HOME', 'name': 'LoanResourceCreatd_For_Sdk_Notebooks'}, 'description': {'summary': '', 'tags': ['test']}}]\n"
     ]
    }
   ],
   "source": [
    "# The loan with name 'template_for_deletion' has been deleted\n",
    "loan_templates = search()\n",
    "\n",
    "print(loan_templates)"
   ]
  },
  {
   "cell_type": "markdown",
   "id": "68ffb20c",
   "metadata": {},
   "source": [
    "## Valuing loans"
   ]
  },
  {
   "cell_type": "markdown",
   "id": "99ae730e",
   "metadata": {},
   "source": [
    "### Imports"
   ]
  },
  {
   "cell_type": "markdown",
   "id": "bd105127",
   "metadata": {},
   "source": [
    "Import the following necessary modules:"
   ]
  },
  {
   "cell_type": "code",
   "execution_count": 8,
   "id": "52182b71",
   "metadata": {
    "execution": {
     "iopub.execute_input": "2025-08-21T06:04:04.217095Z",
     "iopub.status.busy": "2025-08-21T06:04:04.216717Z",
     "iopub.status.idle": "2025-08-21T06:04:04.219580Z",
     "shell.execute_reply": "2025-08-21T06:04:04.219133Z"
    }
   },
   "outputs": [],
   "source": [
    "import json as js\n",
    "from lseg_analytics.common import AdjustableDate, RelativeAdjustableDate, Date\n",
    "from lseg_analytics.instruments.loans import LoanDefinitionInstrument, IrPricingParameters, LoanDefinition, ScheduleDefinition, OffsetDefinition, PrincipalDefinition, FloatingRateDefinition, BusinessDayAdjustmentDefinition\n",
    "from lseg_analytics.instruments.loans import price, value"
   ]
  },
  {
   "cell_type": "markdown",
   "id": "dbacd89c",
   "metadata": {},
   "source": [
    "### Value a loan"
   ]
  },
  {
   "cell_type": "markdown",
   "id": "d540a434",
   "metadata": {},
   "source": [
    "### Create a loan for calculation"
   ]
  },
  {
   "cell_type": "markdown",
   "id": "0a240aa6",
   "metadata": {},
   "source": [
    "Create loan definition"
   ]
  },
  {
   "cell_type": "code",
   "execution_count": 9,
   "id": "b30840f4",
   "metadata": {
    "execution": {
     "iopub.execute_input": "2025-08-21T06:04:04.221445Z",
     "iopub.status.busy": "2025-08-21T06:04:04.221159Z",
     "iopub.status.idle": "2025-08-21T06:04:04.224989Z",
     "shell.execute_reply": "2025-08-21T06:04:04.224554Z"
    },
    "tags": [
     "price.static",
     "value.static"
    ]
   },
   "outputs": [],
   "source": [
    "business_day_adj = BusinessDayAdjustmentDefinition(calendars= [] , convention= \"ModifiedFollowing\")\n",
    "start = AdjustableDate(date= \"2021-03-02\")\n",
    "end =  RelativeAdjustableDate( reference_date= \"StartDate\", tenor= \"10Y\")\n",
    "rate_definition = FloatingRateDefinition(index= \"LSEG/EUR_ESTR_ON_FTSE\")\n",
    "interest_periods = ScheduleDefinition(business_day_adjustment= business_day_adj, start_date= start , end_date= end,frequency= \"Annual\", roll_convention= \"Same\")\n",
    "offset_def = OffsetDefinition( business_day_adjustment= business_day_adj, direction= \"Backward\", reference_date= \"PeriodEndDate\", tenor= \"0D\" )\n",
    "principal_definition = PrincipalDefinition( amount= 1000000, currency= \"EUR\")\n",
    "loan_definition  = LoanDefinition(rate=rate_definition, interest_periods= interest_periods, payment_offset= offset_def, coupon_day_count= 'Dcb_Actual_360', accrual_day_count= 'Dcb_Actual_360', principal= principal_definition, payer= 'Party2', receiver= 'Party1')"
   ]
  },
  {
   "cell_type": "code",
   "execution_count": 10,
   "id": "4d8e7068",
   "metadata": {
    "execution": {
     "iopub.execute_input": "2025-08-21T06:04:04.226686Z",
     "iopub.status.busy": "2025-08-21T06:04:04.226400Z",
     "iopub.status.idle": "2025-08-21T06:04:04.229588Z",
     "shell.execute_reply": "2025-08-21T06:04:04.229182Z"
    },
    "tags": [
     "price.static",
     "value.static"
    ]
   },
   "outputs": [],
   "source": [
    "loan_definition_Instrument = LoanDefinitionInstrument(definition=loan_definition)\n",
    "pricing_parameters = IrPricingParameters( valuation_date= '2021-03-02')"
   ]
  },
  {
   "cell_type": "markdown",
   "id": "4f8b6a0c",
   "metadata": {},
   "source": [
    "### calculate a loan\n",
    "\n",
    "The calculate function takes as input the list of loans to value, and some other optional parameters like pricing_preferences and return_market_data"
   ]
  },
  {
   "cell_type": "markdown",
   "id": "b03c6317",
   "metadata": {},
   "source": [
    "calculate a loan using price formula"
   ]
  },
  {
   "cell_type": "code",
   "execution_count": 11,
   "id": "d3ee4192",
   "metadata": {
    "execution": {
     "iopub.execute_input": "2025-08-21T06:04:04.231322Z",
     "iopub.status.busy": "2025-08-21T06:04:04.231047Z",
     "iopub.status.idle": "2025-08-21T06:04:05.240020Z",
     "shell.execute_reply": "2025-08-21T06:04:05.239546Z"
    },
    "tags": [
     "price.static"
    ]
   },
   "outputs": [
    {
     "name": "stdout",
     "output_type": "stream",
     "text": [
      "{'pricingPreferences': {'valuationDate': '2021-03-02', 'reportCurrency': 'EUR'}, 'analytics': [{'description': {'instrumentTag': '', 'instrumentDescription': 'Receive EUR Annual +0bp ESTR', 'startDate': '2021-03-02', 'endDate': '2031-03-03', 'tenor': '10Y'}, 'valuation': {'accrued': {'value': 0.0, 'percent': 0.0, 'dealCurrency': {'value': 0.0, 'currency': 'EUR'}, 'reportCurrency': {'value': 0.0, 'currency': 'EUR'}}, 'marketValue': {'value': -18572.358113432358, 'dealCurrency': {'value': -18572.358113432358, 'currency': 'EUR'}, 'reportCurrency': {'value': -18572.358113432358, 'currency': 'EUR'}}, 'cleanMarketValue': {'value': -18572.358113432358, 'dealCurrency': {'value': -18572.358113432358, 'currency': 'EUR'}, 'reportCurrency': {'value': -18572.358113432358, 'currency': 'EUR'}}}, 'risk': {'duration': {'value': 1.0}, 'modifiedDuration': {'value': -6.501023075545686e-05}, 'benchmarkHedgeNotional': {'value': 0.0, 'currency': 'EUR'}, 'annuity': {'value': 0.0, 'dealCurrency': {'value': 0.0, 'currency': 'EUR'}, 'reportCurrency': {'value': 0.0, 'currency': 'EUR'}}, 'dv01': {'value': -0.006501023075543344, 'bp': -6.501023075543344e-05, 'dealCurrency': {'value': -0.006501023075543344, 'currency': 'EUR'}, 'reportCurrency': {'value': -0.006501023075543344, 'currency': 'EUR'}}, 'pv01': {'value': -1020.7340782749961, 'bp': -10.207340782749963, 'dealCurrency': {'value': -1020.7340782749961, 'currency': 'EUR'}, 'reportCurrency': {'value': -1020.7340782749961, 'currency': 'EUR'}}, 'br01': {'value': 0.0, 'dealCurrency': {'value': 0.0, 'currency': 'EUR'}, 'reportCurrency': {'value': 0.0, 'currency': 'EUR'}}}}]}\n"
     ]
    }
   ],
   "source": [
    "price_result = price(definitions= [loan_definition_Instrument], pricing_preferences= pricing_parameters)\n",
    "print(price_result)"
   ]
  },
  {
   "cell_type": "markdown",
   "id": "174546ad",
   "metadata": {},
   "source": [
    "display price result as json"
   ]
  },
  {
   "cell_type": "code",
   "execution_count": 12,
   "id": "4ff84a69",
   "metadata": {
    "execution": {
     "iopub.execute_input": "2025-08-21T06:04:05.242411Z",
     "iopub.status.busy": "2025-08-21T06:04:05.242012Z",
     "iopub.status.idle": "2025-08-21T06:04:05.245412Z",
     "shell.execute_reply": "2025-08-21T06:04:05.244968Z"
    }
   },
   "outputs": [
    {
     "name": "stdout",
     "output_type": "stream",
     "text": [
      "{\n",
      "    \"pricingPreferences\": {\n",
      "        \"valuationDate\": \"2021-03-02\",\n",
      "        \"reportCurrency\": \"EUR\"\n",
      "    },\n",
      "    \"analytics\": [\n",
      "        {\n",
      "            \"description\": {\n",
      "                \"instrumentTag\": \"\",\n",
      "                \"instrumentDescription\": \"Receive EUR Annual +0bp ESTR\",\n",
      "                \"startDate\": \"2021-03-02\",\n",
      "                \"endDate\": \"2031-03-03\",\n",
      "                \"tenor\": \"10Y\"\n",
      "            },\n",
      "            \"valuation\": {\n",
      "                \"accrued\": {\n",
      "                    \"value\": 0.0,\n",
      "                    \"percent\": 0.0,\n",
      "                    \"dealCurrency\": {\n",
      "                        \"value\": 0.0,\n",
      "                        \"currency\": \"EUR\"\n",
      "                    },\n",
      "                    \"reportCurrency\": {\n",
      "                        \"value\": 0.0,\n",
      "                        \"currency\": \"EUR\"\n",
      "                    }\n",
      "                },\n",
      "                \"marketValue\": {\n",
      "                    \"value\": -18572.358113432358,\n",
      "                    \"dealCurrency\": {\n",
      "                        \"value\": -18572.358113432358,\n",
      "                        \"currency\": \"EUR\"\n",
      "                    },\n",
      "                    \"reportCurrency\": {\n",
      "                        \"value\": -18572.358113432358,\n",
      "                        \"currency\": \"EUR\"\n",
      "                    }\n",
      "                },\n",
      "                \"cleanMarketValue\": {\n",
      "                    \"value\": -18572.358113432358,\n",
      "                    \"dealCurrency\": {\n",
      "                        \"value\": -18572.358113432358,\n",
      "                        \"currency\": \"EUR\"\n",
      "                    },\n",
      "                    \"reportCurrency\": {\n",
      "                        \"value\": -18572.358113432358,\n",
      "                        \"currency\": \"EUR\"\n",
      "                    }\n",
      "                }\n",
      "            },\n",
      "            \"risk\": {\n",
      "                \"duration\": {\n",
      "                    \"value\": 1.0\n",
      "                },\n",
      "                \"modifiedDuration\": {\n",
      "                    \"value\": -6.501023075545686e-05\n",
      "                },\n",
      "                \"benchmarkHedgeNotional\": {\n",
      "                    \"value\": 0.0,\n",
      "                    \"currency\": \"EUR\"\n",
      "                },\n",
      "                \"annuity\": {\n",
      "                    \"value\": 0.0,\n",
      "                    \"dealCurrency\": {\n",
      "                        \"value\": 0.0,\n",
      "                        \"currency\": \"EUR\"\n",
      "                    },\n",
      "                    \"reportCurrency\": {\n",
      "                        \"value\": 0.0,\n",
      "                        \"currency\": \"EUR\"\n",
      "                    }\n",
      "                },\n",
      "                \"dv01\": {\n",
      "                    \"value\": -0.006501023075543344,\n",
      "                    \"bp\": -6.501023075543344e-05,\n",
      "                    \"dealCurrency\": {\n",
      "                        \"value\": -0.006501023075543344,\n",
      "                        \"currency\": \"EUR\"\n",
      "                    },\n",
      "                    \"reportCurrency\": {\n",
      "                        \"value\": -0.006501023075543344,\n",
      "                        \"currency\": \"EUR\"\n",
      "                    }\n",
      "                },\n",
      "                \"pv01\": {\n",
      "                    \"value\": -1020.7340782749961,\n",
      "                    \"bp\": -10.207340782749963,\n",
      "                    \"dealCurrency\": {\n",
      "                        \"value\": -1020.7340782749961,\n",
      "                        \"currency\": \"EUR\"\n",
      "                    },\n",
      "                    \"reportCurrency\": {\n",
      "                        \"value\": -1020.7340782749961,\n",
      "                        \"currency\": \"EUR\"\n",
      "                    }\n",
      "                },\n",
      "                \"br01\": {\n",
      "                    \"value\": 0.0,\n",
      "                    \"dealCurrency\": {\n",
      "                        \"value\": 0.0,\n",
      "                        \"currency\": \"EUR\"\n",
      "                    },\n",
      "                    \"reportCurrency\": {\n",
      "                        \"value\": 0.0,\n",
      "                        \"currency\": \"EUR\"\n",
      "                    }\n",
      "                }\n",
      "            }\n",
      "        }\n",
      "    ]\n",
      "}\n"
     ]
    }
   ],
   "source": [
    "print(js.dumps(price_result.as_dict(), indent=4))"
   ]
  },
  {
   "cell_type": "markdown",
   "id": "261c6bb9",
   "metadata": {},
   "source": [
    "calculate a loan using value formula to display loan's definitions in the output"
   ]
  },
  {
   "cell_type": "code",
   "execution_count": 13,
   "id": "a7a1e43d",
   "metadata": {
    "execution": {
     "iopub.execute_input": "2025-08-21T06:04:05.247300Z",
     "iopub.status.busy": "2025-08-21T06:04:05.247016Z",
     "iopub.status.idle": "2025-08-21T06:04:06.166639Z",
     "shell.execute_reply": "2025-08-21T06:04:06.166162Z"
    },
    "tags": [
     "value.static"
    ]
   },
   "outputs": [
    {
     "name": "stdout",
     "output_type": "stream",
     "text": [
      "{'definitions': [{'definition': {'rate': {'interestRateType': 'FloatingRate', 'index': 'LSEG/EUR_ESTR_ON_FTSE', 'leverage': 1.0}, 'interestPeriods': {'startDate': {'dateType': 'AdjustableDate', 'date': '2021-03-02'}, 'endDate': {'dateType': 'RelativeAdjustableDate', 'tenor': '10Y', 'referenceDate': 'StartDate'}, 'frequency': 'Annual', 'businessDayAdjustment': {'calendars': [], 'convention': 'ModifiedFollowing'}, 'rollConvention': 'Same'}, 'paymentOffset': {'tenor': '0D', 'businessDayAdjustment': {'calendars': [], 'convention': 'ModifiedFollowing'}, 'referenceDate': 'PeriodEndDate', 'direction': 'Backward'}, 'couponDayCount': 'Dcb_Actual_360', 'accrualDayCount': 'Dcb_Actual_360', 'principal': {'currency': 'EUR', 'amount': 1000000.0}, 'payer': 'Party2', 'receiver': 'Party1'}}], 'pricingPreferences': {'valuationDate': '2021-03-02'}, 'analytics': [{'description': {'instrumentTag': '', 'instrumentDescription': 'Receive EUR Annual +0bp ESTR', 'startDate': '2021-03-02', 'endDate': '2031-03-03', 'tenor': '10Y'}, 'valuation': {'accrued': {'value': 0.0, 'percent': 0.0, 'dealCurrency': {'value': 0.0, 'currency': 'EUR'}, 'reportCurrency': {'value': 0.0, 'currency': 'EUR'}}, 'marketValue': {'value': -18572.358113432358, 'dealCurrency': {'value': -18572.358113432358, 'currency': 'EUR'}, 'reportCurrency': {'value': -18572.358113432358, 'currency': 'EUR'}}, 'cleanMarketValue': {'value': -18572.358113432358, 'dealCurrency': {'value': -18572.358113432358, 'currency': 'EUR'}, 'reportCurrency': {'value': -18572.358113432358, 'currency': 'EUR'}}}, 'risk': {'duration': {'value': 1.0}, 'modifiedDuration': {'value': -6.501023075545686e-05}, 'benchmarkHedgeNotional': {'value': 0.0, 'currency': 'EUR'}, 'annuity': {'value': 0.0, 'dealCurrency': {'value': 0.0, 'currency': 'EUR'}, 'reportCurrency': {'value': 0.0, 'currency': 'EUR'}}, 'dv01': {'value': -0.006501023075543344, 'bp': -6.501023075543344e-05, 'dealCurrency': {'value': -0.006501023075543344, 'currency': 'EUR'}, 'reportCurrency': {'value': -0.006501023075543344, 'currency': 'EUR'}}, 'pv01': {'value': -1020.7340782749961, 'bp': -10.207340782749963, 'dealCurrency': {'value': -1020.7340782749961, 'currency': 'EUR'}, 'reportCurrency': {'value': -1020.7340782749961, 'currency': 'EUR'}}, 'br01': {'value': 0.0, 'dealCurrency': {'value': 0.0, 'currency': 'EUR'}, 'reportCurrency': {'value': 0.0, 'currency': 'EUR'}}}}]}\n"
     ]
    }
   ],
   "source": [
    "value_result = value(definitions= [loan_definition_Instrument], pricing_preferences= pricing_parameters)\n",
    "print(value_result)"
   ]
  },
  {
   "cell_type": "markdown",
   "id": "467cfcc2",
   "metadata": {},
   "source": [
    "display value result as json"
   ]
  },
  {
   "cell_type": "code",
   "execution_count": 14,
   "id": "77cceb35",
   "metadata": {
    "execution": {
     "iopub.execute_input": "2025-08-21T06:04:06.168840Z",
     "iopub.status.busy": "2025-08-21T06:04:06.168457Z",
     "iopub.status.idle": "2025-08-21T06:04:06.171780Z",
     "shell.execute_reply": "2025-08-21T06:04:06.171295Z"
    }
   },
   "outputs": [
    {
     "name": "stdout",
     "output_type": "stream",
     "text": [
      "{\n",
      "    \"definitions\": [\n",
      "        {\n",
      "            \"definition\": {\n",
      "                \"rate\": {\n",
      "                    \"interestRateType\": \"FloatingRate\",\n",
      "                    \"index\": \"LSEG/EUR_ESTR_ON_FTSE\",\n",
      "                    \"leverage\": 1.0\n",
      "                },\n",
      "                \"interestPeriods\": {\n",
      "                    \"startDate\": {\n",
      "                        \"dateType\": \"AdjustableDate\",\n",
      "                        \"date\": \"2021-03-02\"\n",
      "                    },\n",
      "                    \"endDate\": {\n",
      "                        \"dateType\": \"RelativeAdjustableDate\",\n",
      "                        \"tenor\": \"10Y\",\n",
      "                        \"referenceDate\": \"StartDate\"\n",
      "                    },\n",
      "                    \"frequency\": \"Annual\",\n",
      "                    \"businessDayAdjustment\": {\n",
      "                        \"calendars\": [],\n",
      "                        \"convention\": \"ModifiedFollowing\"\n",
      "                    },\n",
      "                    \"rollConvention\": \"Same\"\n",
      "                },\n",
      "                \"paymentOffset\": {\n",
      "                    \"tenor\": \"0D\",\n",
      "                    \"businessDayAdjustment\": {\n",
      "                        \"calendars\": [],\n",
      "                        \"convention\": \"ModifiedFollowing\"\n",
      "                    },\n",
      "                    \"referenceDate\": \"PeriodEndDate\",\n",
      "                    \"direction\": \"Backward\"\n",
      "                },\n",
      "                \"couponDayCount\": \"Dcb_Actual_360\",\n",
      "                \"accrualDayCount\": \"Dcb_Actual_360\",\n",
      "                \"principal\": {\n",
      "                    \"currency\": \"EUR\",\n",
      "                    \"amount\": 1000000.0\n",
      "                },\n",
      "                \"payer\": \"Party2\",\n",
      "                \"receiver\": \"Party1\"\n",
      "            }\n",
      "        }\n",
      "    ],\n",
      "    \"pricingPreferences\": {\n",
      "        \"valuationDate\": \"2021-03-02\"\n",
      "    },\n",
      "    \"analytics\": [\n",
      "        {\n",
      "            \"description\": {\n",
      "                \"instrumentTag\": \"\",\n",
      "                \"instrumentDescription\": \"Receive EUR Annual +0bp ESTR\",\n",
      "                \"startDate\": \"2021-03-02\",\n",
      "                \"endDate\": \"2031-03-03\",\n",
      "                \"tenor\": \"10Y\"\n",
      "            },\n",
      "            \"valuation\": {\n",
      "                \"accrued\": {\n",
      "                    \"value\": 0.0,\n",
      "                    \"percent\": 0.0,\n",
      "                    \"dealCurrency\": {\n",
      "                        \"value\": 0.0,\n",
      "                        \"currency\": \"EUR\"\n",
      "                    },\n",
      "                    \"reportCurrency\": {\n",
      "                        \"value\": 0.0,\n",
      "                        \"currency\": \"EUR\"\n",
      "                    }\n",
      "                },\n",
      "                \"marketValue\": {\n",
      "                    \"value\": -18572.358113432358,\n",
      "                    \"dealCurrency\": {\n",
      "                        \"value\": -18572.358113432358,\n",
      "                        \"currency\": \"EUR\"\n",
      "                    },\n",
      "                    \"reportCurrency\": {\n",
      "                        \"value\": -18572.358113432358,\n",
      "                        \"currency\": \"EUR\"\n",
      "                    }\n",
      "                },\n",
      "                \"cleanMarketValue\": {\n",
      "                    \"value\": -18572.358113432358,\n",
      "                    \"dealCurrency\": {\n",
      "                        \"value\": -18572.358113432358,\n",
      "                        \"currency\": \"EUR\"\n",
      "                    },\n",
      "                    \"reportCurrency\": {\n",
      "                        \"value\": -18572.358113432358,\n",
      "                        \"currency\": \"EUR\"\n",
      "                    }\n",
      "                }\n",
      "            },\n",
      "            \"risk\": {\n",
      "                \"duration\": {\n",
      "                    \"value\": 1.0\n",
      "                },\n",
      "                \"modifiedDuration\": {\n",
      "                    \"value\": -6.501023075545686e-05\n",
      "                },\n",
      "                \"benchmarkHedgeNotional\": {\n",
      "                    \"value\": 0.0,\n",
      "                    \"currency\": \"EUR\"\n",
      "                },\n",
      "                \"annuity\": {\n",
      "                    \"value\": 0.0,\n",
      "                    \"dealCurrency\": {\n",
      "                        \"value\": 0.0,\n",
      "                        \"currency\": \"EUR\"\n",
      "                    },\n",
      "                    \"reportCurrency\": {\n",
      "                        \"value\": 0.0,\n",
      "                        \"currency\": \"EUR\"\n",
      "                    }\n",
      "                },\n",
      "                \"dv01\": {\n",
      "                    \"value\": -0.006501023075543344,\n",
      "                    \"bp\": -6.501023075543344e-05,\n",
      "                    \"dealCurrency\": {\n",
      "                        \"value\": -0.006501023075543344,\n",
      "                        \"currency\": \"EUR\"\n",
      "                    },\n",
      "                    \"reportCurrency\": {\n",
      "                        \"value\": -0.006501023075543344,\n",
      "                        \"currency\": \"EUR\"\n",
      "                    }\n",
      "                },\n",
      "                \"pv01\": {\n",
      "                    \"value\": -1020.7340782749961,\n",
      "                    \"bp\": -10.207340782749963,\n",
      "                    \"dealCurrency\": {\n",
      "                        \"value\": -1020.7340782749961,\n",
      "                        \"currency\": \"EUR\"\n",
      "                    },\n",
      "                    \"reportCurrency\": {\n",
      "                        \"value\": -1020.7340782749961,\n",
      "                        \"currency\": \"EUR\"\n",
      "                    }\n",
      "                },\n",
      "                \"br01\": {\n",
      "                    \"value\": 0.0,\n",
      "                    \"dealCurrency\": {\n",
      "                        \"value\": 0.0,\n",
      "                        \"currency\": \"EUR\"\n",
      "                    },\n",
      "                    \"reportCurrency\": {\n",
      "                        \"value\": 0.0,\n",
      "                        \"currency\": \"EUR\"\n",
      "                    }\n",
      "                }\n",
      "            }\n",
      "        }\n",
      "    ]\n",
      "}\n"
     ]
    }
   ],
   "source": [
    "print(js.dumps(value_result.as_dict(), indent=4))"
   ]
  }
 ],
 "metadata": {
  "kernelspec": {
   "display_name": "base",
   "language": "python",
   "name": "python3"
  },
  "language_info": {
   "codemirror_mode": {
    "name": "ipython",
    "version": 3
   },
   "file_extension": ".py",
   "mimetype": "text/x-python",
   "name": "python",
   "nbconvert_exporter": "python",
   "pygments_lexer": "ipython3",
   "version": "3.11.6"
  }
 },
 "nbformat": 4,
 "nbformat_minor": 5
}
