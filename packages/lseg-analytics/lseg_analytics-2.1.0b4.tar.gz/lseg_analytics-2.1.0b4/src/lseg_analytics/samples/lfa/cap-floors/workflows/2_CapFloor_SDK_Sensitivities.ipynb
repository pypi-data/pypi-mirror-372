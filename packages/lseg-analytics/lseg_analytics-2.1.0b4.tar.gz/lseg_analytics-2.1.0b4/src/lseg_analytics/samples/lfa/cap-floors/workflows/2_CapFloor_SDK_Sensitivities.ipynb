{
 "cells": [
  {
   "cell_type": "markdown",
   "id": "1a108871",
   "metadata": {},
   "source": [
    "# Cap & Floor - Sensitivities Analysis"
   ]
  },
  {
   "cell_type": "markdown",
   "id": "1ae7da03",
   "metadata": {},
   "source": [
    "This second notebook in the Cap & Floor SDK series builds upon the Fundamentals Template and demonstrates advanced **sensitivities analysis** within the **LSEG Financial Analytics SDK**. \n",
    "\n",
    "\n",
    "**You will be able to:**\n",
    "- Define Cap/Floor instruments with basic parameters \n",
    "- Price and evaluate Cap/Floor sensitivities\n",
    "- Analyze Cap/Floor & Caplets/Floorlets sensitivities\n",
    "- Visualize Cap/Floor sensitivities values for comprehensive risk analysis\n"
   ]
  },
  {
   "cell_type": "markdown",
   "id": "9aa5f76b",
   "metadata": {},
   "source": [
    "## Imports\n"
   ]
  },
  {
   "cell_type": "markdown",
   "id": "569d770e",
   "metadata": {},
   "source": [
    "Import the following necessary modules:\n",
    "\n",
    "- `lseg_analytics.instruments.cap_floor` - for CapFloor instruments definitions and analytics"
   ]
  },
  {
   "cell_type": "code",
   "execution_count": 1,
   "id": "a6cd17c8",
   "metadata": {
    "execution": {
     "iopub.execute_input": "2025-08-21T06:04:30.122793Z",
     "iopub.status.busy": "2025-08-21T06:04:30.122441Z",
     "iopub.status.idle": "2025-08-21T06:04:31.162426Z",
     "shell.execute_reply": "2025-08-21T06:04:31.161778Z"
    }
   },
   "outputs": [],
   "source": [
    "from lseg_analytics.instruments import cap_floor as cf\n",
    "\n",
    "import pandas as pd\n",
    "import datetime as dt\n",
    "import matplotlib.pyplot as plt\n",
    "from IPython.display import display"
   ]
  },
  {
   "cell_type": "markdown",
   "id": "9b0cc193",
   "metadata": {},
   "source": [
    "## Data Preparation\n",
    "\n",
    "To define a Cap/Floor instrument you need to follow a structured 3-step process:\n",
    "\n",
    "1. **CapFloor Definition** - Specify basic cap/floor parameters (strike, dates, notional, index)\n",
    "2. **CapFloor Instrument Definition** - Create the instrument object\n",
    "3. **Pricing Preferences** - Configure pricing parameters, optional\n"
   ]
  },
  {
   "cell_type": "code",
   "execution_count": 2,
   "id": "4162a7ad",
   "metadata": {
    "execution": {
     "iopub.execute_input": "2025-08-21T06:04:31.244024Z",
     "iopub.status.busy": "2025-08-21T06:04:31.164974Z",
     "iopub.status.idle": "2025-08-21T06:04:31.254076Z",
     "shell.execute_reply": "2025-08-21T06:04:31.253555Z"
    }
   },
   "outputs": [
    {
     "name": "stdout",
     "output_type": "stream",
     "text": [
      "Instrument definition created\n",
      "Pricing parameters configured\n"
     ]
    }
   ],
   "source": [
    "# 1. Define the cap instrument\n",
    "cap_definition = cf.IPACapFloorDefinition(\n",
    "    buy_sell = cf.IPABuySellEnum.BUY.value,                                   # Buy cap protection\n",
    "    cap_strike_percent = 2.0,                                                 # 2% strike rate\n",
    "    start_date = dt.datetime.strptime(\"2025-01-01\", \"%Y-%m-%d\"),              # Start date\n",
    "    end_date = dt.datetime.strptime(\"2030-01-01\", \"%Y-%m-%d\"),                # Maturity date\n",
    "    notional_amount = 1_000_000,                                              # $1M notional\n",
    "    notional_ccy = \"USD\",                                                     # USD currency\n",
    "    index_name = \"SOFR\",                                                      # SOFR index\n",
    "    index_tenor = \"ON\",\n",
    "    interest_payment_frequency = cf.IndexResetFrequencyEnum.QUARTERLY.value,  # Quarterly payments\n",
    ")\n",
    "\n",
    "cap_instrument = cf.IPACapFloorDefinitionInstrument(definition = cap_definition)\n",
    "print(\"Instrument definition created\")\n",
    "\n",
    "# 2. Configure pricing parameters\n",
    "pricing_params = cf.CapFloorPricingParameters(\n",
    "    valuation_date = dt.datetime.strptime(\"2025-07-18\", \"%Y-%m-%d\"),                \n",
    ")\n",
    "print(\"Pricing parameters configured\")"
   ]
  },
  {
   "cell_type": "markdown",
   "id": "f4f8db96",
   "metadata": {},
   "source": [
    "## Request Execution"
   ]
  },
  {
   "cell_type": "code",
   "execution_count": 3,
   "id": "3f084843",
   "metadata": {
    "execution": {
     "iopub.execute_input": "2025-08-21T06:04:31.256594Z",
     "iopub.status.busy": "2025-08-21T06:04:31.256129Z",
     "iopub.status.idle": "2025-08-21T06:04:33.075784Z",
     "shell.execute_reply": "2025-08-21T06:04:33.075066Z"
    }
   },
   "outputs": [
    {
     "name": "stdout",
     "output_type": "stream",
     "text": [
      "Pricing execution completed\n"
     ]
    }
   ],
   "source": [
    "#  Execute the calculation using the price() function\n",
    "# The 'definitions' parameter accepts a list of instruments definitions for batch processing\n",
    "\n",
    "response = cf.price(\n",
    "    definitions = [cap_instrument],\n",
    "    pricing_preferences = pricing_params\n",
    ")\n",
    "\n",
    "print(\"Pricing execution completed\")\n"
   ]
  },
  {
   "cell_type": "markdown",
   "id": "e4138163",
   "metadata": {},
   "source": [
    "## Results Display"
   ]
  },
  {
   "cell_type": "markdown",
   "id": "15000b7d",
   "metadata": {},
   "source": [
    "#### Key Sections in the `response` JSON\n",
    "\n",
    " - **definitions**: Instrument setup (e.g., strike, dates, notional, index), it's IPACapFloorDefinition that we used. \n",
    "\n",
    " - **pricingPreferences**: Valuation date, price side, currency, skip first caplet.\n",
    "\n",
    " - **analytics**:\n",
    "   - **tabularData**: `data`, `headers`, `statuses`\n",
    "   - **cashflows**: Includes arrays and detailed `cashFlows` (payments, fixings)\n",
    "   - **description**: Instrument summary IPACapFloorDefinition and also the default fields not specified in the IPACapFloorDefinition, but used by default in the calculation\n",
    "   - **greeks**: Sensitivities to market movement at Cap/Floor and Caplet/Floolet levels\n",
    "   - **pricingAnalysis**: `atmStrikePercent`, `impliedVolatilityPercent`, `spreadEquivalentBp`\n",
    "   - **valuation**: `marketValueInDealCcy`, `premiumPercent`, `premiumBp`\n",
    "   - **error**: provides the root cause of the issue, if any"
   ]
  },
  {
   "cell_type": "markdown",
   "id": "28c76313",
   "metadata": {},
   "source": [
    "#### Cap/Floor Greeks"
   ]
  },
  {
   "cell_type": "code",
   "execution_count": 4,
   "id": "1e2d73ab",
   "metadata": {
    "execution": {
     "iopub.execute_input": "2025-08-21T06:04:33.078457Z",
     "iopub.status.busy": "2025-08-21T06:04:33.078198Z",
     "iopub.status.idle": "2025-08-21T06:04:33.088485Z",
     "shell.execute_reply": "2025-08-21T06:04:33.087930Z"
    }
   },
   "outputs": [
    {
     "data": {
      "text/html": [
       "<div>\n",
       "<style scoped>\n",
       "    .dataframe tbody tr th:only-of-type {\n",
       "        vertical-align: middle;\n",
       "    }\n",
       "\n",
       "    .dataframe tbody tr th {\n",
       "        vertical-align: top;\n",
       "    }\n",
       "\n",
       "    .dataframe thead th {\n",
       "        text-align: right;\n",
       "    }\n",
       "</style>\n",
       "<table border=\"1\" class=\"dataframe\">\n",
       "  <thead>\n",
       "    <tr style=\"text-align: right;\">\n",
       "      <th></th>\n",
       "      <th>Greeks</th>\n",
       "      <th>Value</th>\n",
       "    </tr>\n",
       "  </thead>\n",
       "  <tbody>\n",
       "    <tr>\n",
       "      <th>0</th>\n",
       "      <td>dv01AmountInDealCcy</td>\n",
       "      <td>319.301471</td>\n",
       "    </tr>\n",
       "    <tr>\n",
       "      <th>1</th>\n",
       "      <td>deltaPercent</td>\n",
       "      <td>0.774655</td>\n",
       "    </tr>\n",
       "    <tr>\n",
       "      <th>2</th>\n",
       "      <td>forwardDeltaPercent</td>\n",
       "      <td>0.838671</td>\n",
       "    </tr>\n",
       "    <tr>\n",
       "      <th>3</th>\n",
       "      <td>gammaAmountInDealCcy</td>\n",
       "      <td>0.379926</td>\n",
       "    </tr>\n",
       "    <tr>\n",
       "      <th>4</th>\n",
       "      <td>thetaAmountInDealCcy</td>\n",
       "      <td>-20.382447</td>\n",
       "    </tr>\n",
       "    <tr>\n",
       "      <th>5</th>\n",
       "      <td>vegaAmountInDealCcy</td>\n",
       "      <td>153.395497</td>\n",
       "    </tr>\n",
       "  </tbody>\n",
       "</table>\n",
       "</div>"
      ],
      "text/plain": [
       "                 Greeks       Value\n",
       "0   dv01AmountInDealCcy  319.301471\n",
       "1          deltaPercent    0.774655\n",
       "2   forwardDeltaPercent    0.838671\n",
       "3  gammaAmountInDealCcy    0.379926\n",
       "4  thetaAmountInDealCcy  -20.382447\n",
       "5   vegaAmountInDealCcy  153.395497"
      ]
     },
     "metadata": {},
     "output_type": "display_data"
    }
   ],
   "source": [
    "# Extract Greeks from the response\n",
    "greeks = response.data.analytics[0].greeks\n",
    "\n",
    "# Extract Cap/Floor level Greeks directly (non-array values)\n",
    "cap_greeks_data = {greek: value for greek, value in greeks.items() if not isinstance(value, list)}\n",
    "\n",
    "# Convert the dictionary to a DataFrame\n",
    "df_cap_greeks = pd.DataFrame(list(cap_greeks_data.items()), columns=[\"Greeks\", \"Value\"])\n",
    "\n",
    "# Display the DataFrame with Cap/Floor level Greeks\n",
    "display(df_cap_greeks) "
   ]
  },
  {
   "cell_type": "markdown",
   "id": "add0a874",
   "metadata": {},
   "source": [
    "#### Individual Cap/Floor Greeks"
   ]
  },
  {
   "cell_type": "code",
   "execution_count": 5,
   "id": "49560749",
   "metadata": {
    "execution": {
     "iopub.execute_input": "2025-08-21T06:04:33.090757Z",
     "iopub.status.busy": "2025-08-21T06:04:33.090451Z",
     "iopub.status.idle": "2025-08-21T06:04:33.093876Z",
     "shell.execute_reply": "2025-08-21T06:04:33.093353Z"
    }
   },
   "outputs": [
    {
     "name": "stdout",
     "output_type": "stream",
     "text": [
      "DV01 (Deal Currency): 319.301470770428\n",
      "Delta (%): 0.77465486\n",
      "Vega (Deal Currency): 153.39549739\n"
     ]
    }
   ],
   "source": [
    "print(\"DV01 (Deal Currency):\", greeks.dv01_amount_in_deal_ccy)\n",
    "print(\"Delta (%):\", greeks.delta_percent)\n",
    "print(\"Vega (Deal Currency):\", greeks.vega_amount_in_deal_ccy)"
   ]
  },
  {
   "cell_type": "markdown",
   "id": "f2a1d87d",
   "metadata": {},
   "source": [
    "#### Caplets/Floorlets Greeks"
   ]
  },
  {
   "cell_type": "code",
   "execution_count": 6,
   "id": "88138d40",
   "metadata": {
    "execution": {
     "iopub.execute_input": "2025-08-21T06:04:33.096029Z",
     "iopub.status.busy": "2025-08-21T06:04:33.095821Z",
     "iopub.status.idle": "2025-08-21T06:04:33.104658Z",
     "shell.execute_reply": "2025-08-21T06:04:33.104157Z"
    }
   },
   "outputs": [
    {
     "data": {
      "text/html": [
       "<div>\n",
       "<style scoped>\n",
       "    .dataframe tbody tr th:only-of-type {\n",
       "        vertical-align: middle;\n",
       "    }\n",
       "\n",
       "    .dataframe tbody tr th {\n",
       "        vertical-align: top;\n",
       "    }\n",
       "\n",
       "    .dataframe thead th {\n",
       "        text-align: right;\n",
       "    }\n",
       "</style>\n",
       "<table border=\"1\" class=\"dataframe\">\n",
       "  <thead>\n",
       "    <tr style=\"text-align: right;\">\n",
       "      <th></th>\n",
       "      <th>capletsForwardDeltaPercentArray</th>\n",
       "      <th>capletsDv01AmountsInDealCcyArray</th>\n",
       "      <th>capletsGammaAmountsInDealCcyArray</th>\n",
       "      <th>capletsThetaAmountsInDealCcyArray</th>\n",
       "      <th>capletsVegaAmountsInDealCcyArray</th>\n",
       "    </tr>\n",
       "  </thead>\n",
       "  <tbody>\n",
       "    <tr>\n",
       "      <th>0</th>\n",
       "      <td>0.000000</td>\n",
       "      <td>0.000000</td>\n",
       "      <td>0.000000</td>\n",
       "      <td>0.000000</td>\n",
       "      <td>0.000000</td>\n",
       "    </tr>\n",
       "    <tr>\n",
       "      <th>1</th>\n",
       "      <td>0.000000</td>\n",
       "      <td>0.000000</td>\n",
       "      <td>0.000000</td>\n",
       "      <td>0.000000</td>\n",
       "      <td>0.000000</td>\n",
       "    </tr>\n",
       "    <tr>\n",
       "      <th>2</th>\n",
       "      <td>0.999999</td>\n",
       "      <td>18.596256</td>\n",
       "      <td>-0.002506</td>\n",
       "      <td>-0.854687</td>\n",
       "      <td>0.000034</td>\n",
       "    </tr>\n",
       "    <tr>\n",
       "      <th>3</th>\n",
       "      <td>0.998430</td>\n",
       "      <td>23.944686</td>\n",
       "      <td>-0.002257</td>\n",
       "      <td>-0.864464</td>\n",
       "      <td>0.087405</td>\n",
       "    </tr>\n",
       "    <tr>\n",
       "      <th>4</th>\n",
       "      <td>0.981546</td>\n",
       "      <td>22.278993</td>\n",
       "      <td>0.006330</td>\n",
       "      <td>-0.922104</td>\n",
       "      <td>0.911192</td>\n",
       "    </tr>\n",
       "    <tr>\n",
       "      <th>5</th>\n",
       "      <td>0.940142</td>\n",
       "      <td>21.600010</td>\n",
       "      <td>0.019870</td>\n",
       "      <td>-1.107561</td>\n",
       "      <td>2.824985</td>\n",
       "    </tr>\n",
       "    <tr>\n",
       "      <th>6</th>\n",
       "      <td>0.882157</td>\n",
       "      <td>20.296867</td>\n",
       "      <td>0.031908</td>\n",
       "      <td>-1.245215</td>\n",
       "      <td>5.288616</td>\n",
       "    </tr>\n",
       "    <tr>\n",
       "      <th>7</th>\n",
       "      <td>0.834417</td>\n",
       "      <td>19.602121</td>\n",
       "      <td>0.038061</td>\n",
       "      <td>-1.326839</td>\n",
       "      <td>7.522096</td>\n",
       "    </tr>\n",
       "    <tr>\n",
       "      <th>8</th>\n",
       "      <td>0.807270</td>\n",
       "      <td>17.162883</td>\n",
       "      <td>0.035172</td>\n",
       "      <td>-1.207347</td>\n",
       "      <td>8.110198</td>\n",
       "    </tr>\n",
       "    <tr>\n",
       "      <th>9</th>\n",
       "      <td>0.792973</td>\n",
       "      <td>17.398442</td>\n",
       "      <td>0.034995</td>\n",
       "      <td>-1.239110</td>\n",
       "      <td>9.406291</td>\n",
       "    </tr>\n",
       "    <tr>\n",
       "      <th>10</th>\n",
       "      <td>0.786958</td>\n",
       "      <td>17.198395</td>\n",
       "      <td>0.032572</td>\n",
       "      <td>-1.230956</td>\n",
       "      <td>10.192197</td>\n",
       "    </tr>\n",
       "    <tr>\n",
       "      <th>11</th>\n",
       "      <td>0.784038</td>\n",
       "      <td>17.226537</td>\n",
       "      <td>0.030277</td>\n",
       "      <td>-1.239788</td>\n",
       "      <td>10.998441</td>\n",
       "    </tr>\n",
       "    <tr>\n",
       "      <th>12</th>\n",
       "      <td>0.782392</td>\n",
       "      <td>16.324606</td>\n",
       "      <td>0.026528</td>\n",
       "      <td>-1.187435</td>\n",
       "      <td>11.123333</td>\n",
       "    </tr>\n",
       "    <tr>\n",
       "      <th>13</th>\n",
       "      <td>0.781196</td>\n",
       "      <td>16.028119</td>\n",
       "      <td>0.024132</td>\n",
       "      <td>-1.176969</td>\n",
       "      <td>11.561916</td>\n",
       "    </tr>\n",
       "    <tr>\n",
       "      <th>14</th>\n",
       "      <td>0.782318</td>\n",
       "      <td>15.780859</td>\n",
       "      <td>0.021984</td>\n",
       "      <td>-1.159495</td>\n",
       "      <td>11.900474</td>\n",
       "    </tr>\n",
       "    <tr>\n",
       "      <th>15</th>\n",
       "      <td>0.784301</td>\n",
       "      <td>15.717340</td>\n",
       "      <td>0.020200</td>\n",
       "      <td>-1.154174</td>\n",
       "      <td>12.319457</td>\n",
       "    </tr>\n",
       "    <tr>\n",
       "      <th>16</th>\n",
       "      <td>0.786826</td>\n",
       "      <td>15.203905</td>\n",
       "      <td>0.018058</td>\n",
       "      <td>-1.113461</td>\n",
       "      <td>12.280223</td>\n",
       "    </tr>\n",
       "    <tr>\n",
       "      <th>17</th>\n",
       "      <td>0.789474</td>\n",
       "      <td>15.147616</td>\n",
       "      <td>0.016479</td>\n",
       "      <td>-1.112018</td>\n",
       "      <td>12.619789</td>\n",
       "    </tr>\n",
       "    <tr>\n",
       "      <th>18</th>\n",
       "      <td>0.790383</td>\n",
       "      <td>14.878312</td>\n",
       "      <td>0.014748</td>\n",
       "      <td>-1.108310</td>\n",
       "      <td>12.860379</td>\n",
       "    </tr>\n",
       "    <tr>\n",
       "      <th>19</th>\n",
       "      <td>0.790898</td>\n",
       "      <td>14.915524</td>\n",
       "      <td>0.013376</td>\n",
       "      <td>-1.132515</td>\n",
       "      <td>13.388470</td>\n",
       "    </tr>\n",
       "  </tbody>\n",
       "</table>\n",
       "</div>"
      ],
      "text/plain": [
       "    capletsForwardDeltaPercentArray  capletsDv01AmountsInDealCcyArray  \\\n",
       "0                          0.000000                          0.000000   \n",
       "1                          0.000000                          0.000000   \n",
       "2                          0.999999                         18.596256   \n",
       "3                          0.998430                         23.944686   \n",
       "4                          0.981546                         22.278993   \n",
       "5                          0.940142                         21.600010   \n",
       "6                          0.882157                         20.296867   \n",
       "7                          0.834417                         19.602121   \n",
       "8                          0.807270                         17.162883   \n",
       "9                          0.792973                         17.398442   \n",
       "10                         0.786958                         17.198395   \n",
       "11                         0.784038                         17.226537   \n",
       "12                         0.782392                         16.324606   \n",
       "13                         0.781196                         16.028119   \n",
       "14                         0.782318                         15.780859   \n",
       "15                         0.784301                         15.717340   \n",
       "16                         0.786826                         15.203905   \n",
       "17                         0.789474                         15.147616   \n",
       "18                         0.790383                         14.878312   \n",
       "19                         0.790898                         14.915524   \n",
       "\n",
       "    capletsGammaAmountsInDealCcyArray  capletsThetaAmountsInDealCcyArray  \\\n",
       "0                            0.000000                           0.000000   \n",
       "1                            0.000000                           0.000000   \n",
       "2                           -0.002506                          -0.854687   \n",
       "3                           -0.002257                          -0.864464   \n",
       "4                            0.006330                          -0.922104   \n",
       "5                            0.019870                          -1.107561   \n",
       "6                            0.031908                          -1.245215   \n",
       "7                            0.038061                          -1.326839   \n",
       "8                            0.035172                          -1.207347   \n",
       "9                            0.034995                          -1.239110   \n",
       "10                           0.032572                          -1.230956   \n",
       "11                           0.030277                          -1.239788   \n",
       "12                           0.026528                          -1.187435   \n",
       "13                           0.024132                          -1.176969   \n",
       "14                           0.021984                          -1.159495   \n",
       "15                           0.020200                          -1.154174   \n",
       "16                           0.018058                          -1.113461   \n",
       "17                           0.016479                          -1.112018   \n",
       "18                           0.014748                          -1.108310   \n",
       "19                           0.013376                          -1.132515   \n",
       "\n",
       "    capletsVegaAmountsInDealCcyArray  \n",
       "0                           0.000000  \n",
       "1                           0.000000  \n",
       "2                           0.000034  \n",
       "3                           0.087405  \n",
       "4                           0.911192  \n",
       "5                           2.824985  \n",
       "6                           5.288616  \n",
       "7                           7.522096  \n",
       "8                           8.110198  \n",
       "9                           9.406291  \n",
       "10                         10.192197  \n",
       "11                         10.998441  \n",
       "12                         11.123333  \n",
       "13                         11.561916  \n",
       "14                         11.900474  \n",
       "15                         12.319457  \n",
       "16                         12.280223  \n",
       "17                         12.619789  \n",
       "18                         12.860379  \n",
       "19                         13.388470  "
      ]
     },
     "metadata": {},
     "output_type": "display_data"
    }
   ],
   "source": [
    "# Extract caplets Greeks directly from response and create DataFrame\n",
    "caplets_data = {greek: values for greek, values in greeks.items() if isinstance(values, list)}\n",
    "df_caplets_greeks = pd.DataFrame(caplets_data)\n",
    "\n",
    "# Caplets Greeks DataFrame\n",
    "display(df_caplets_greeks)"
   ]
  },
  {
   "cell_type": "markdown",
   "id": "41bc56c2",
   "metadata": {},
   "source": [
    "#### Cap/Floor Greeks Visualization "
   ]
  },
  {
   "cell_type": "code",
   "execution_count": 7,
   "id": "0b769a82",
   "metadata": {
    "execution": {
     "iopub.execute_input": "2025-08-21T06:04:33.106636Z",
     "iopub.status.busy": "2025-08-21T06:04:33.106433Z",
     "iopub.status.idle": "2025-08-21T06:04:33.252686Z",
     "shell.execute_reply": "2025-08-21T06:04:33.252182Z"
    }
   },
   "outputs": [
    {
     "data": {
      "image/png": "[encoded data removed]",
      "text/plain": [
       "<Figure size 1000x600 with 1 Axes>"
      ]
     },
     "metadata": {},
     "output_type": "display_data"
    }
   ],
   "source": [
    "# Create figure with specified size\n",
    "plt.figure(figsize=(10, 6))\n",
    "\n",
    "# Create bar plot for each Greek value\n",
    "bars = plt.bar(df_cap_greeks.index, df_cap_greeks[\"Value\"], color='skyblue', align='center')\n",
    "\n",
    "# Set chart title and labels\n",
    "plt.title(\"Cap/Floor Greeks\")\n",
    "plt.ylabel(\"Value\")\n",
    "\n",
    "# Set x-axis to show Greek names with rotation for readability\n",
    "plt.xticks(ticks=df_cap_greeks.index, labels=df_cap_greeks[\"Greeks\"], rotation=45, ha='right')\n",
    "\n",
    "# Add grid lines for better value reading\n",
    "plt.grid(axis='y', linestyle='--', alpha=0.7)\n",
    "\n",
    "# Add value labels on top of each bar\n",
    "for bar in bars:\n",
    "    yval = bar.get_height()\n",
    "    plt.text(bar.get_x() + bar.get_width() / 2, yval, f'{yval:.2f}', ha='center', va='bottom')\n",
    "\n",
    "# Adjust layout to prevent label cutoff\n",
    "plt.tight_layout()\n",
    "plt.show()\n"
   ]
  }
 ],
 "metadata": {
  "kernelspec": {
   "display_name": "base",
   "language": "python",
   "name": "python3"
  },
  "language_info": {
   "codemirror_mode": {
    "name": "ipython",
    "version": 3
   },
   "file_extension": ".py",
   "mimetype": "text/x-python",
   "name": "python",
   "nbconvert_exporter": "python",
   "pygments_lexer": "ipython3",
   "version": "3.11.6"
  }
 },
 "nbformat": 4,
 "nbformat_minor": 5
}
