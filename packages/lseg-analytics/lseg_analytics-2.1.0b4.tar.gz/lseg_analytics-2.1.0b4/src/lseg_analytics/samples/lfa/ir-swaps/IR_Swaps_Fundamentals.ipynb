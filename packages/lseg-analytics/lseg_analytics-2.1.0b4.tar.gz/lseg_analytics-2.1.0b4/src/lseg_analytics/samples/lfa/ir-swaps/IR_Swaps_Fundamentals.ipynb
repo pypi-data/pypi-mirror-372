{
 "cells": [
  {
   "cell_type": "markdown",
   "id": "1a108871",
   "metadata": {},
   "source": [
    "# Interest Rate Swaps Fundamentals"
   ]
  },
  {
   "cell_type": "markdown",
   "id": "3a4cef20",
   "metadata": {},
   "source": [
    "This notebook demonstrates how to access and use the functionalities of **Swaps** which are part of our **QPS** module within LSEG Financial Analytics SDK."
   ]
  },
  {
   "cell_type": "code",
   "execution_count": 1,
   "id": "7df1f746",
   "metadata": {
    "execution": {
     "iopub.execute_input": "2025-08-21T06:03:52.756593Z",
     "iopub.status.busy": "2025-08-21T06:03:52.756267Z",
     "iopub.status.idle": "2025-08-21T06:03:53.129874Z",
     "shell.execute_reply": "2025-08-21T06:03:53.129116Z"
    }
   },
   "outputs": [],
   "source": [
    "from lseg_analytics.instruments.ir_swaps import search, load, delete"
   ]
  },
  {
   "cell_type": "markdown",
   "id": "392df013",
   "metadata": {},
   "source": [
    "Search code:"
   ]
  },
  {
   "cell_type": "code",
   "execution_count": 2,
   "id": "663f4ea8",
   "metadata": {
    "execution": {
     "iopub.execute_input": "2025-08-21T06:03:53.134178Z",
     "iopub.status.busy": "2025-08-21T06:03:53.132526Z",
     "iopub.status.idle": "2025-08-21T06:03:53.702483Z",
     "shell.execute_reply": "2025-08-21T06:03:53.701948Z"
    },
    "tags": [
     "search.static"
    ]
   },
   "outputs": [
    {
     "name": "stdout",
     "output_type": "stream",
     "text": [
      "[{'type': 0, 'id': 'c594359d-f1ca-472a-af1a-915b6e742b2f', 'location': {'space': 'HOME', 'name': 'Dummy_OisSwap_EUR'}, 'description': {'summary': '', 'tags': []}}, {'type': 0, 'id': '3aafd38f-9aa7-4111-81ea-171dc62033c2', 'location': {'space': 'HOME', 'name': 'TestFxSp17442139226868882'}, 'description': {'summary': 'Test description', 'tags': ['tag1', 'tag2']}}, {'type': 0, 'id': 'bcd2386c-2402-4681-8190-5b1bf6d5eca7', 'location': {'space': 'HOME', 'name': 'TestIrSwap17500707400624428'}, 'description': {'summary': 'Test ir_swap_saved description', 'tags': ['tag1', 'tag2']}}, {'type': 0, 'id': '4f276496-ae11-4ce0-9870-cc3262fae588', 'location': {'space': 'HOME', 'name': 'TestSwapResource3'}, 'description': {'summary': '(overwritten)', 'tags': ['test']}}, {'type': 0, 'id': 'a09cf5b6-9d05-4aea-b7c4-a167e0cfc6e9', 'location': {'space': 'MYSPACE', 'name': 'TestFxSpotClone17442142162523232'}, 'description': {'summary': 'Test ir_swap_saved description', 'tags': ['tag1', 'tag2']}}, {'type': 0, 'id': '13fa9515-47cb-4742-ae92-f83ee8b9bdb6', 'location': {'space': 'MYSPACE', 'name': 'TestFxSpotClone17442143814989772'}, 'description': {'summary': 'Test ir_swap_saved description', 'tags': ['tag1', 'tag2']}}]\n"
     ]
    }
   ],
   "source": [
    "# execute the search of IR swaps\n",
    "available_swaps = search()\n",
    "\n",
    "print(available_swaps)"
   ]
  },
  {
   "cell_type": "markdown",
   "id": "5ccccb77",
   "metadata": {},
   "source": [
    "### Loading a specific swap template"
   ]
  },
  {
   "cell_type": "markdown",
   "id": "bd0a0656",
   "metadata": {},
   "source": [
    "User can load a specific swap template by either providing a unique template name or resource ID.\n",
    "\n",
    "Mandatory arguments: \n",
    "- resource_id - mutually exclusive with name\n",
    "- name - mutually exclusive with resource_id"
   ]
  },
  {
   "cell_type": "code",
   "execution_count": 3,
   "id": "f5ae18b3",
   "metadata": {
    "execution": {
     "iopub.execute_input": "2025-08-21T06:03:53.705672Z",
     "iopub.status.busy": "2025-08-21T06:03:53.705079Z",
     "iopub.status.idle": "2025-08-21T06:03:54.181732Z",
     "shell.execute_reply": "2025-08-21T06:03:54.181199Z"
    },
    "tags": [
     "load"
    ]
   },
   "outputs": [
    {
     "name": "stdout",
     "output_type": "stream",
     "text": [
      "<IrSwap space='HOME' name='Dummy_OisSwap_EUR' c594359d‥>\n"
     ]
    }
   ],
   "source": [
    "# fetch all available swaps\n",
    "available_swaps = search()\n",
    "\n",
    "# execute the load of a swap using the first element of previously fetched data\n",
    "loaded_swap = load(resource_id=available_swaps[0].id)\n",
    "\n",
    "print(loaded_swap)"
   ]
  },
  {
   "cell_type": "markdown",
   "id": "d2d804e9",
   "metadata": {},
   "source": [
    "### Deleting a specific swap template"
   ]
  },
  {
   "cell_type": "code",
   "execution_count": 4,
   "id": "18d83faa",
   "metadata": {
    "execution": {
     "iopub.execute_input": "2025-08-21T06:03:54.184384Z",
     "iopub.status.busy": "2025-08-21T06:03:54.184030Z",
     "iopub.status.idle": "2025-08-21T06:03:54.761606Z",
     "shell.execute_reply": "2025-08-21T06:03:54.761087Z"
    }
   },
   "outputs": [
    {
     "data": {
      "text/plain": [
       "True"
      ]
     },
     "execution_count": 4,
     "metadata": {},
     "output_type": "execute_result"
    }
   ],
   "source": [
    "# fetch all available swaps\n",
    "available_swaps = search()\n",
    "\n",
    "# execute the load of a swap using the first element of previously fetched data\n",
    "loaded_swap = load(resource_id=available_swaps[0].id)\n",
    "\n",
    "# Clone swap to save original\n",
    "cloned_swap = loaded_swap.clone()\n",
    "\n",
    "# Save the cloned swap to a space\n",
    "cloned_swap.save(name='swap_for_deletion', space='HOME')\n",
    "\n",
    "# Delete cloned swap\n",
    "delete(resource_id=cloned_swap.id)\n"
   ]
  },
  {
   "cell_type": "markdown",
   "id": "68ffb20c",
   "metadata": {},
   "source": [
    "## Valuing interest rate swaps"
   ]
  },
  {
   "cell_type": "markdown",
   "id": "99ae730e",
   "metadata": {},
   "source": [
    "### Imports"
   ]
  },
  {
   "cell_type": "markdown",
   "id": "bd105127",
   "metadata": {},
   "source": [
    "Import the following necessary modules:"
   ]
  },
  {
   "cell_type": "code",
   "execution_count": 5,
   "id": "52182b71",
   "metadata": {
    "execution": {
     "iopub.execute_input": "2025-08-21T06:03:54.763916Z",
     "iopub.status.busy": "2025-08-21T06:03:54.763580Z",
     "iopub.status.idle": "2025-08-21T06:03:54.766594Z",
     "shell.execute_reply": "2025-08-21T06:03:54.766129Z"
    }
   },
   "outputs": [],
   "source": [
    "from lseg_analytics.instruments.ir_swaps import IrSwapDefinitionInstrument, IrPricingParameters, IrSwapSolvingParameters, IrSwapSolvingVariable, IrSwapSolvingTarget, IrMeasure, IrPricingParameters\n",
    "from lseg_analytics.instruments.ir_swaps import solve, value, create_from_vanilla_irs_template, create_from_cbs_template, create_from_ccs_template, create_from_leg_template, create_from_tbs_template\n",
    "\n",
    "import json as js"
   ]
  },
  {
   "cell_type": "markdown",
   "id": "7a5258f4",
   "metadata": {},
   "source": [
    "### Template-based setup for swap valuation"
   ]
  },
  {
   "cell_type": "markdown",
   "id": "527cd8a1",
   "metadata": {},
   "source": [
    "Using an existing swap template to build a swap, user can adjust it with his own settings.\n",
    "- Swap conventions provide a standardized set of market-accepted terms, such as leg frequencies and interest calculation methods.\n",
    "- By referencing a swap convention, you ensure alignment with market standards while streamlining the setup process."
   ]
  },
  {
   "cell_type": "code",
   "execution_count": 6,
   "id": "2ccce599",
   "metadata": {
    "execution": {
     "iopub.execute_input": "2025-08-21T06:03:54.768666Z",
     "iopub.status.busy": "2025-08-21T06:03:54.768478Z",
     "iopub.status.idle": "2025-08-21T06:03:54.943188Z",
     "shell.execute_reply": "2025-08-21T06:03:54.942663Z"
    },
    "tags": [
     "create_from_vanilla_irs_template.static"
    ]
   },
   "outputs": [
    {
     "name": "stdout",
     "output_type": "stream",
     "text": [
      "{\n",
      "    \"definition\": {\n",
      "        \"firstLeg\": {\n",
      "            \"rate\": {\n",
      "                \"interestRateType\": \"FixedRate\",\n",
      "                \"rate\": {\n",
      "                    \"value\": 0.0,\n",
      "                    \"unit\": \"Percentage\"\n",
      "                }\n",
      "            },\n",
      "            \"interestPeriods\": {\n",
      "                \"startDate\": {\n",
      "                    \"dateType\": \"RelativeAdjustableDate\",\n",
      "                    \"tenor\": \"0D\",\n",
      "                    \"referenceDate\": \"SpotDate\"\n",
      "                },\n",
      "                \"endDate\": {\n",
      "                    \"dateType\": \"RelativeAdjustableDate\",\n",
      "                    \"tenor\": \"10Y\",\n",
      "                    \"referenceDate\": \"StartDate\"\n",
      "                },\n",
      "                \"frequency\": \"Annual\",\n",
      "                \"businessDayAdjustment\": {\n",
      "                    \"calendars\": [\n",
      "                        \"USA\"\n",
      "                    ],\n",
      "                    \"convention\": \"NextBusinessDay\"\n",
      "                },\n",
      "                \"rollConvention\": \"Same\"\n",
      "            },\n",
      "            \"paymentOffset\": {\n",
      "                \"tenor\": \"2D\",\n",
      "                \"businessDayAdjustment\": {\n",
      "                    \"calendars\": [\n",
      "                        \"USA\"\n",
      "                    ],\n",
      "                    \"convention\": \"NextBusinessDay\"\n",
      "                },\n",
      "                \"referenceDate\": \"PeriodEndDate\",\n",
      "                \"direction\": \"Forward\"\n",
      "            },\n",
      "            \"couponDayCount\": \"Dcb_Actual_360\",\n",
      "            \"accrualDayCount\": \"Dcb_Actual_360\",\n",
      "            \"principal\": {\n",
      "                \"currency\": \"USD\",\n",
      "                \"amount\": 10000000.0,\n",
      "                \"initialPrincipalExchange\": false,\n",
      "                \"finalPrincipalExchange\": false,\n",
      "                \"interimPrincipalExchange\": false,\n",
      "                \"repaymentCurrency\": \"USD\"\n",
      "            },\n",
      "            \"payer\": \"Party1\",\n",
      "            \"receiver\": \"Party2\"\n",
      "        },\n",
      "        \"secondLeg\": {\n",
      "            \"rate\": {\n",
      "                \"interestRateType\": \"FloatingRate\",\n",
      "                \"index\": \"LSEG/USD_SOFR_ON\",\n",
      "                \"spreadSchedule\": [\n",
      "                    {\n",
      "                        \"rate\": {\n",
      "                            \"value\": 0.0,\n",
      "                            \"unit\": \"BasisPoint\"\n",
      "                        }\n",
      "                    }\n",
      "                ],\n",
      "                \"resetDates\": {\n",
      "                    \"offset\": {\n",
      "                        \"tenor\": \"0D\",\n",
      "                        \"businessDayAdjustment\": {\n",
      "                            \"calendars\": [],\n",
      "                            \"convention\": \"ModifiedFollowing\"\n",
      "                        },\n",
      "                        \"referenceDate\": \"PeriodEndDate\",\n",
      "                        \"direction\": \"Backward\"\n",
      "                    }\n",
      "                },\n",
      "                \"leverage\": 1.0\n",
      "            },\n",
      "            \"interestPeriods\": {\n",
      "                \"startDate\": {\n",
      "                    \"dateType\": \"RelativeAdjustableDate\",\n",
      "                    \"tenor\": \"0D\",\n",
      "                    \"referenceDate\": \"SpotDate\"\n",
      "                },\n",
      "                \"endDate\": {\n",
      "                    \"dateType\": \"RelativeAdjustableDate\",\n",
      "                    \"tenor\": \"10Y\",\n",
      "                    \"referenceDate\": \"StartDate\"\n",
      "                },\n",
      "                \"frequency\": \"Annual\",\n",
      "                \"businessDayAdjustment\": {\n",
      "                    \"calendars\": [\n",
      "                        \"USA\"\n",
      "                    ],\n",
      "                    \"convention\": \"NextBusinessDay\"\n",
      "                },\n",
      "                \"rollConvention\": \"Same\"\n",
      "            },\n",
      "            \"paymentOffset\": {\n",
      "                \"tenor\": \"2D\",\n",
      "                \"businessDayAdjustment\": {\n",
      "                    \"calendars\": [\n",
      "                        \"USA\"\n",
      "                    ],\n",
      "                    \"convention\": \"NextBusinessDay\"\n",
      "                },\n",
      "                \"referenceDate\": \"PeriodEndDate\",\n",
      "                \"direction\": \"Forward\"\n",
      "            },\n",
      "            \"couponDayCount\": \"Dcb_Actual_360\",\n",
      "            \"accrualDayCount\": \"Dcb_Actual_360\",\n",
      "            \"principal\": {\n",
      "                \"currency\": \"USD\",\n",
      "                \"amount\": 10000000.0,\n",
      "                \"initialPrincipalExchange\": false,\n",
      "                \"finalPrincipalExchange\": false,\n",
      "                \"interimPrincipalExchange\": false,\n",
      "                \"repaymentCurrency\": \"USD\"\n",
      "            },\n",
      "            \"payer\": \"Party2\",\n",
      "            \"receiver\": \"Party1\"\n",
      "        }\n",
      "    }\n",
      "}\n"
     ]
    }
   ],
   "source": [
    "# build the swap from 'LSEG/OIS_SOFR' template\n",
    "fwd_start_sofr = create_from_vanilla_irs_template(template_reference = \"LSEG/OIS_SOFR\")\n",
    "\n",
    "fwd_start_sofr_def = IrSwapDefinitionInstrument(definition = fwd_start_sofr.definition)\n",
    "\n",
    "print(js.dumps(fwd_start_sofr_def.as_dict(), indent=4))"
   ]
  },
  {
   "cell_type": "markdown",
   "id": "173ba1b3",
   "metadata": {},
   "source": [
    "### Solve a SOFR swap par rate\n",
    "\n",
    "Solving a swap for a prefered value (e.g. fixed rate or spread) can be done in 2 ways:\n",
    "1. Invoking a general ir_swaps method 'solve' which then requires as an input argument a swap definition object (IRSwapDefinitionInstrument)\n",
    "2. Invoking a 'solve' method directly on the IRSwap Object\n",
    "\n",
    "Both ways require preparation of execution parameters in forms of solving variable and solving target(s), as displayed in following codes."
   ]
  },
  {
   "cell_type": "markdown",
   "id": "b986924a",
   "metadata": {},
   "source": [
    "#### General solve method"
   ]
  },
  {
   "cell_type": "code",
   "execution_count": 7,
   "id": "7963e9b0",
   "metadata": {
    "execution": {
     "iopub.execute_input": "2025-08-21T06:03:54.945452Z",
     "iopub.status.busy": "2025-08-21T06:03:54.945151Z",
     "iopub.status.idle": "2025-08-21T06:03:56.055589Z",
     "shell.execute_reply": "2025-08-21T06:03:56.054985Z"
    },
    "tags": [
     "solve.static"
    ]
   },
   "outputs": [
    {
     "name": "stdout",
     "output_type": "stream",
     "text": [
      "{\n",
      "    \"pricingPreferences\": {\n",
      "        \"valuationDate\": \"2025-08-21\",\n",
      "        \"reportCurrency\": \"USD\"\n",
      "    },\n",
      "    \"analytics\": [\n",
      "        {\n",
      "            \"solving\": {\n",
      "                \"result\": 3.7728671040693227\n",
      "            },\n",
      "            \"description\": {\n",
      "                \"instrumentTag\": \"\",\n",
      "                \"instrumentDescription\": \"Pay USD Annual 3.77% vs Receive USD Annual +0bp SOFR 2035-08-27\",\n",
      "                \"startDate\": \"2025-08-25\",\n",
      "                \"endDate\": \"2035-08-27\",\n",
      "                \"tenor\": \"10Y\"\n",
      "            },\n",
      "            \"valuation\": {\n",
      "                \"accrued\": {\n",
      "                    \"value\": 0.0,\n",
      "                    \"percent\": 0.0,\n",
      "                    \"dealCurrency\": {\n",
      "                        \"value\": 0.0,\n",
      "                        \"currency\": \"USD\"\n",
      "                    },\n",
      "                    \"reportCurrency\": {\n",
      "                        \"value\": 0.0,\n",
      "                        \"currency\": \"USD\"\n",
      "                    }\n",
      "                },\n",
      "                \"marketValue\": {\n",
      "                    \"value\": 0.0,\n",
      "                    \"dealCurrency\": {\n",
      "                        \"value\": 0.0,\n",
      "                        \"currency\": \"USD\"\n",
      "                    },\n",
      "                    \"reportCurrency\": {\n",
      "                        \"value\": 0.0,\n",
      "                        \"currency\": \"USD\"\n",
      "                    }\n",
      "                },\n",
      "                \"cleanMarketValue\": {\n",
      "                    \"value\": 0.0,\n",
      "                    \"dealCurrency\": {\n",
      "                        \"value\": 0.0,\n",
      "                        \"currency\": \"USD\"\n",
      "                    },\n",
      "                    \"reportCurrency\": {\n",
      "                        \"value\": 0.0,\n",
      "                        \"currency\": \"USD\"\n",
      "                    }\n",
      "                }\n",
      "            },\n",
      "            \"risk\": {\n",
      "                \"duration\": {\n",
      "                    \"value\": -8.48922541942956\n",
      "                },\n",
      "                \"modifiedDuration\": {\n",
      "                    \"value\": -8.17194017083382\n",
      "                },\n",
      "                \"benchmarkHedgeNotional\": {\n",
      "                    \"value\": -9833438.11315565,\n",
      "                    \"currency\": \"USD\"\n",
      "                },\n",
      "                \"annuity\": {\n",
      "                    \"value\": -8364.31794060813,\n",
      "                    \"dealCurrency\": {\n",
      "                        \"value\": -8364.31794060813,\n",
      "                        \"currency\": \"USD\"\n",
      "                    },\n",
      "                    \"reportCurrency\": {\n",
      "                        \"value\": -8364.31794060813,\n",
      "                        \"currency\": \"USD\"\n",
      "                    }\n",
      "                },\n",
      "                \"dv01\": {\n",
      "                    \"value\": -8166.69434525445,\n",
      "                    \"bp\": -8.16669434525445,\n",
      "                    \"dealCurrency\": {\n",
      "                        \"value\": -8166.69434525445,\n",
      "                        \"currency\": \"USD\"\n",
      "                    },\n",
      "                    \"reportCurrency\": {\n",
      "                        \"value\": -8166.69434525445,\n",
      "                        \"currency\": \"USD\"\n",
      "                    }\n",
      "                },\n",
      "                \"pv01\": {\n",
      "                    \"value\": -8166.69434525585,\n",
      "                    \"bp\": -8.16669434525585,\n",
      "                    \"dealCurrency\": {\n",
      "                        \"value\": -8166.69434525585,\n",
      "                        \"currency\": \"USD\"\n",
      "                    },\n",
      "                    \"reportCurrency\": {\n",
      "                        \"value\": -8166.69434525585,\n",
      "                        \"currency\": \"USD\"\n",
      "                    }\n",
      "                },\n",
      "                \"br01\": {\n",
      "                    \"value\": 0.0,\n",
      "                    \"dealCurrency\": {\n",
      "                        \"value\": 0.0,\n",
      "                        \"currency\": \"USD\"\n",
      "                    },\n",
      "                    \"reportCurrency\": {\n",
      "                        \"value\": 0.0,\n",
      "                        \"currency\": \"USD\"\n",
      "                    }\n",
      "                }\n",
      "            },\n",
      "            \"firstLeg\": {\n",
      "                \"description\": {\n",
      "                    \"legTag\": \"PaidLeg\",\n",
      "                    \"legDescription\": \"Pay USD Annual 3.77%\",\n",
      "                    \"interestType\": \"Fixed\",\n",
      "                    \"currency\": \"USD\",\n",
      "                    \"startDate\": \"2025-08-25\",\n",
      "                    \"endDate\": \"2035-08-27\",\n",
      "                    \"index\": \"\"\n",
      "                },\n",
      "                \"valuation\": {\n",
      "                    \"accrued\": {\n",
      "                        \"value\": 0.0,\n",
      "                        \"percent\": 0.0,\n",
      "                        \"dealCurrency\": {\n",
      "                            \"value\": 0.0,\n",
      "                            \"currency\": \"USD\"\n",
      "                        },\n",
      "                        \"reportCurrency\": {\n",
      "                            \"value\": 0.0,\n",
      "                            \"currency\": \"USD\"\n",
      "                        }\n",
      "                    },\n",
      "                    \"marketValue\": {\n",
      "                        \"value\": 3155746.0006093085,\n",
      "                        \"dealCurrency\": {\n",
      "                            \"value\": 3155746.0006093085,\n",
      "                            \"currency\": \"USD\"\n",
      "                        },\n",
      "                        \"reportCurrency\": {\n",
      "                            \"value\": 3155746.0006093085,\n",
      "                            \"currency\": \"USD\"\n",
      "                        }\n",
      "                    },\n",
      "                    \"cleanMarketValue\": {\n",
      "                        \"value\": 3155746.0006093085,\n",
      "                        \"dealCurrency\": {\n",
      "                            \"value\": 3155746.0006093085,\n",
      "                            \"currency\": \"USD\"\n",
      "                        },\n",
      "                        \"reportCurrency\": {\n",
      "                            \"value\": 3155746.0006093085,\n",
      "                            \"currency\": \"USD\"\n",
      "                        }\n",
      "                    }\n",
      "                },\n",
      "                \"risk\": {\n",
      "                    \"duration\": {\n",
      "                        \"value\": 8.489225419429559\n",
      "                    },\n",
      "                    \"modifiedDuration\": {\n",
      "                        \"value\": 8.186786004192923\n",
      "                    },\n",
      "                    \"benchmarkHedgeNotional\": {\n",
      "                        \"value\": 0.0,\n",
      "                        \"currency\": \"USD\"\n",
      "                    },\n",
      "                    \"annuity\": {\n",
      "                        \"value\": 8364.317940608133,\n",
      "                        \"dealCurrency\": {\n",
      "                            \"value\": 8364.317940608133,\n",
      "                            \"currency\": \"USD\"\n",
      "                        },\n",
      "                        \"reportCurrency\": {\n",
      "                            \"value\": 8364.317940608133,\n",
      "                            \"currency\": \"USD\"\n",
      "                        }\n",
      "                    },\n",
      "                    \"dv01\": {\n",
      "                        \"value\": 8181.530648605898,\n",
      "                        \"bp\": 8.181530648605898,\n",
      "                        \"dealCurrency\": {\n",
      "                            \"value\": 8181.530648605898,\n",
      "                            \"currency\": \"USD\"\n",
      "                        },\n",
      "                        \"reportCurrency\": {\n",
      "                            \"value\": 8181.530648605898,\n",
      "                            \"currency\": \"USD\"\n",
      "                        }\n",
      "                    },\n",
      "                    \"pv01\": {\n",
      "                        \"value\": 1585.6289664870128,\n",
      "                        \"bp\": 1.585628966487013,\n",
      "                        \"dealCurrency\": {\n",
      "                            \"value\": 1585.6289664870128,\n",
      "                            \"currency\": \"USD\"\n",
      "                        },\n",
      "                        \"reportCurrency\": {\n",
      "                            \"value\": 1585.6289664870128,\n",
      "                            \"currency\": \"USD\"\n",
      "                        }\n",
      "                    },\n",
      "                    \"br01\": {\n",
      "                        \"value\": 0.0,\n",
      "                        \"dealCurrency\": {\n",
      "                            \"value\": 0.0,\n",
      "                            \"currency\": \"USD\"\n",
      "                        },\n",
      "                        \"reportCurrency\": {\n",
      "                            \"value\": 0.0,\n",
      "                            \"currency\": \"USD\"\n",
      "                        }\n",
      "                    }\n",
      "                }\n",
      "            },\n",
      "            \"secondLeg\": {\n",
      "                \"description\": {\n",
      "                    \"legTag\": \"ReceivedLeg\",\n",
      "                    \"legDescription\": \"Receive USD Annual +0bp SOFR\",\n",
      "                    \"interestType\": \"Float\",\n",
      "                    \"currency\": \"USD\",\n",
      "                    \"startDate\": \"2025-08-25\",\n",
      "                    \"endDate\": \"2035-08-27\",\n",
      "                    \"index\": \"SOFR\"\n",
      "                },\n",
      "                \"valuation\": {\n",
      "                    \"accrued\": {\n",
      "                        \"value\": 0.0,\n",
      "                        \"percent\": 0.0,\n",
      "                        \"dealCurrency\": {\n",
      "                            \"value\": 0.0,\n",
      "                            \"currency\": \"USD\"\n",
      "                        },\n",
      "                        \"reportCurrency\": {\n",
      "                            \"value\": 0.0,\n",
      "                            \"currency\": \"USD\"\n",
      "                        }\n",
      "                    },\n",
      "                    \"marketValue\": {\n",
      "                        \"value\": 3155746.0006093085,\n",
      "                        \"dealCurrency\": {\n",
      "                            \"value\": 3155746.0006093085,\n",
      "                            \"currency\": \"USD\"\n",
      "                        },\n",
      "                        \"reportCurrency\": {\n",
      "                            \"value\": 3155746.0006093085,\n",
      "                            \"currency\": \"USD\"\n",
      "                        }\n",
      "                    },\n",
      "                    \"cleanMarketValue\": {\n",
      "                        \"value\": 3155746.0006093085,\n",
      "                        \"dealCurrency\": {\n",
      "                            \"value\": 3155746.0006093085,\n",
      "                            \"currency\": \"USD\"\n",
      "                        },\n",
      "                        \"reportCurrency\": {\n",
      "                            \"value\": 3155746.0006093085,\n",
      "                            \"currency\": \"USD\"\n",
      "                        }\n",
      "                    }\n",
      "                },\n",
      "                \"risk\": {\n",
      "                    \"duration\": {\n",
      "                        \"value\": 0.0\n",
      "                    },\n",
      "                    \"modifiedDuration\": {\n",
      "                        \"value\": 0.014845833359101739\n",
      "                    },\n",
      "                    \"benchmarkHedgeNotional\": {\n",
      "                        \"value\": 0.0,\n",
      "                        \"currency\": \"USD\"\n",
      "                    },\n",
      "                    \"annuity\": {\n",
      "                        \"value\": 0.0,\n",
      "                        \"dealCurrency\": {\n",
      "                            \"value\": 0.0,\n",
      "                            \"currency\": \"USD\"\n",
      "                        },\n",
      "                        \"reportCurrency\": {\n",
      "                            \"value\": 0.0,\n",
      "                            \"currency\": \"USD\"\n",
      "                        }\n",
      "                    },\n",
      "                    \"dv01\": {\n",
      "                        \"value\": 14.836303351446986,\n",
      "                        \"bp\": 0.014836303351446986,\n",
      "                        \"dealCurrency\": {\n",
      "                            \"value\": 14.836303351446986,\n",
      "                            \"currency\": \"USD\"\n",
      "                        },\n",
      "                        \"reportCurrency\": {\n",
      "                            \"value\": 14.836303351446986,\n",
      "                            \"currency\": \"USD\"\n",
      "                        }\n",
      "                    },\n",
      "                    \"pv01\": {\n",
      "                        \"value\": -6581.065378768835,\n",
      "                        \"bp\": -6.581065378768836,\n",
      "                        \"dealCurrency\": {\n",
      "                            \"value\": -6581.065378768835,\n",
      "                            \"currency\": \"USD\"\n",
      "                        },\n",
      "                        \"reportCurrency\": {\n",
      "                            \"value\": -6581.065378768835,\n",
      "                            \"currency\": \"USD\"\n",
      "                        }\n",
      "                    },\n",
      "                    \"br01\": {\n",
      "                        \"value\": 0.0,\n",
      "                        \"dealCurrency\": {\n",
      "                            \"value\": 0.0,\n",
      "                            \"currency\": \"USD\"\n",
      "                        },\n",
      "                        \"reportCurrency\": {\n",
      "                            \"value\": 0.0,\n",
      "                            \"currency\": \"USD\"\n",
      "                        }\n",
      "                    }\n",
      "                }\n",
      "            }\n",
      "        }\n",
      "    ]\n",
      "}\n"
     ]
    }
   ],
   "source": [
    "# build the swap from 'LSEG/OIS_SOFR' template\n",
    "fwd_start_sofr = create_from_vanilla_irs_template(template_reference = \"LSEG/OIS_SOFR\")\n",
    "\n",
    "# prepare the Definition Instrument\n",
    "fwd_start_sofr_def = IrSwapDefinitionInstrument(definition = fwd_start_sofr.definition)\n",
    "\n",
    "# set a solving variable between first and second leg and Fixed Rate or Spread\n",
    "solving_variable = IrSwapSolvingVariable(leg='FirstLeg', name='FixedRate')\n",
    "\n",
    "# Apply solving target(s)\n",
    "solving_target=IrSwapSolvingTarget(market_value=IrMeasure(value=0.0))\n",
    "\n",
    "# Setup the solving parameter object\n",
    "solving_parameters = IrSwapSolvingParameters(variable=solving_variable, target=solving_target) \n",
    "\n",
    "# instantiate pricing parameters\n",
    "pricing_parameters = IrPricingParameters(solving_parameters=solving_parameters)\n",
    "\n",
    "# solve the swap par rate\n",
    "solving_response_general = solve(\n",
    "    definitions=[fwd_start_sofr_def],\n",
    "    pricing_preferences=pricing_parameters\n",
    "    )\n",
    "\n",
    "print(js.dumps(solving_response_general.as_dict(), indent=4))"
   ]
  },
  {
   "cell_type": "markdown",
   "id": "5272a59b",
   "metadata": {},
   "source": [
    "#### Class solve method\n",
    "\n",
    "In this case there are a few rules to abide.\n",
    "1. Swap needs to be saved before solving\n",
    "2. Each swap needs a unique name\n",
    "3. Pricing Parameters needs to be instantiated, even if not populated explicitly"
   ]
  },
  {
   "cell_type": "code",
   "execution_count": 8,
   "id": "5b3cadc4",
   "metadata": {
    "execution": {
     "iopub.execute_input": "2025-08-21T06:03:56.057656Z",
     "iopub.status.busy": "2025-08-21T06:03:56.057436Z",
     "iopub.status.idle": "2025-08-21T06:03:57.464528Z",
     "shell.execute_reply": "2025-08-21T06:03:57.463922Z"
    },
    "tags": [
     "solve"
    ]
   },
   "outputs": [
    {
     "name": "stdout",
     "output_type": "stream",
     "text": [
      "{\n",
      "    \"solving\": {\n",
      "        \"result\": 3.7728670986451025\n",
      "    },\n",
      "    \"description\": {\n",
      "        \"instrumentTag\": \"\",\n",
      "        \"instrumentDescription\": \"Pay USD Annual 3.77% vs Receive USD Annual +0bp SOFR 2035-08-27\",\n",
      "        \"startDate\": \"2025-08-25\",\n",
      "        \"endDate\": \"2035-08-27\",\n",
      "        \"tenor\": \"10Y\"\n",
      "    },\n",
      "    \"valuation\": {\n",
      "        \"accrued\": {\n",
      "            \"value\": 0.0,\n",
      "            \"percent\": 0.0,\n",
      "            \"dealCurrency\": {\n",
      "                \"value\": 0.0,\n",
      "                \"currency\": \"USD\"\n",
      "            },\n",
      "            \"reportCurrency\": {\n",
      "                \"value\": 0.0,\n",
      "                \"currency\": \"USD\"\n",
      "            }\n",
      "        },\n",
      "        \"marketValue\": {\n",
      "            \"value\": 4.65661287307739e-10,\n",
      "            \"dealCurrency\": {\n",
      "                \"value\": 4.65661287307739e-10,\n",
      "                \"currency\": \"USD\"\n",
      "            },\n",
      "            \"reportCurrency\": {\n",
      "                \"value\": 4.65661287307739e-10,\n",
      "                \"currency\": \"USD\"\n",
      "            }\n",
      "        },\n",
      "        \"cleanMarketValue\": {\n",
      "            \"value\": 4.65661287307739e-10,\n",
      "            \"dealCurrency\": {\n",
      "                \"value\": 4.65661287307739e-10,\n",
      "                \"currency\": \"USD\"\n",
      "            },\n",
      "            \"reportCurrency\": {\n",
      "                \"value\": 4.65661287307739e-10,\n",
      "                \"currency\": \"USD\"\n",
      "            }\n",
      "        }\n",
      "    },\n",
      "    \"risk\": {\n",
      "        \"duration\": {\n",
      "            \"value\": -8.48922542195612\n",
      "        },\n",
      "        \"modifiedDuration\": {\n",
      "            \"value\": -8.17194017159767\n",
      "        },\n",
      "        \"benchmarkHedgeNotional\": {\n",
      "            \"value\": -9833438.11004938,\n",
      "            \"currency\": \"USD\"\n",
      "        },\n",
      "        \"annuity\": {\n",
      "            \"value\": -8364.31794109568,\n",
      "            \"dealCurrency\": {\n",
      "                \"value\": -8364.31794109568,\n",
      "                \"currency\": \"USD\"\n",
      "            },\n",
      "            \"reportCurrency\": {\n",
      "                \"value\": -8364.31794109568,\n",
      "                \"currency\": \"USD\"\n",
      "            }\n",
      "        },\n",
      "        \"dv01\": {\n",
      "            \"value\": -8166.69434783421,\n",
      "            \"bp\": -8.16669434783421,\n",
      "            \"dealCurrency\": {\n",
      "                \"value\": -8166.69434783421,\n",
      "                \"currency\": \"USD\"\n",
      "            },\n",
      "            \"reportCurrency\": {\n",
      "                \"value\": -8166.69434783421,\n",
      "                \"currency\": \"USD\"\n",
      "            }\n",
      "        },\n",
      "        \"pv01\": {\n",
      "            \"value\": -8166.69434783328,\n",
      "            \"bp\": -8.16669434783328,\n",
      "            \"dealCurrency\": {\n",
      "                \"value\": -8166.69434783328,\n",
      "                \"currency\": \"USD\"\n",
      "            },\n",
      "            \"reportCurrency\": {\n",
      "                \"value\": -8166.69434783328,\n",
      "                \"currency\": \"USD\"\n",
      "            }\n",
      "        },\n",
      "        \"br01\": {\n",
      "            \"value\": 0.0,\n",
      "            \"dealCurrency\": {\n",
      "                \"value\": 0.0,\n",
      "                \"currency\": \"USD\"\n",
      "            },\n",
      "            \"reportCurrency\": {\n",
      "                \"value\": 0.0,\n",
      "                \"currency\": \"USD\"\n",
      "            }\n",
      "        }\n",
      "    },\n",
      "    \"firstLeg\": {\n",
      "        \"description\": {\n",
      "            \"legTag\": \"PaidLeg\",\n",
      "            \"legDescription\": \"Pay USD Annual 3.77%\",\n",
      "            \"interestType\": \"Fixed\",\n",
      "            \"currency\": \"USD\",\n",
      "            \"startDate\": \"2025-08-25\",\n",
      "            \"endDate\": \"2035-08-27\",\n",
      "            \"index\": \"\"\n",
      "        },\n",
      "        \"valuation\": {\n",
      "            \"accrued\": {\n",
      "                \"value\": 0.0,\n",
      "                \"percent\": 0.0,\n",
      "                \"dealCurrency\": {\n",
      "                    \"value\": 0.0,\n",
      "                    \"currency\": \"USD\"\n",
      "                },\n",
      "                \"reportCurrency\": {\n",
      "                    \"value\": 0.0,\n",
      "                    \"currency\": \"USD\"\n",
      "                }\n",
      "            },\n",
      "            \"marketValue\": {\n",
      "                \"value\": 3155745.9962566453,\n",
      "                \"dealCurrency\": {\n",
      "                    \"value\": 3155745.9962566453,\n",
      "                    \"currency\": \"USD\"\n",
      "                },\n",
      "                \"reportCurrency\": {\n",
      "                    \"value\": 3155745.9962566453,\n",
      "                    \"currency\": \"USD\"\n",
      "                }\n",
      "            },\n",
      "            \"cleanMarketValue\": {\n",
      "                \"value\": 3155745.9962566453,\n",
      "                \"dealCurrency\": {\n",
      "                    \"value\": 3155745.9962566453,\n",
      "                    \"currency\": \"USD\"\n",
      "                },\n",
      "                \"reportCurrency\": {\n",
      "                    \"value\": 3155745.9962566453,\n",
      "                    \"currency\": \"USD\"\n",
      "                }\n",
      "            }\n",
      "        },\n",
      "        \"risk\": {\n",
      "            \"duration\": {\n",
      "                \"value\": 8.489225421956121\n",
      "            },\n",
      "            \"modifiedDuration\": {\n",
      "                \"value\": 8.186786007273955\n",
      "            },\n",
      "            \"benchmarkHedgeNotional\": {\n",
      "                \"value\": 0.0,\n",
      "                \"currency\": \"USD\"\n",
      "            },\n",
      "            \"annuity\": {\n",
      "                \"value\": 8364.31794109568,\n",
      "                \"dealCurrency\": {\n",
      "                    \"value\": 8364.31794109568,\n",
      "                    \"currency\": \"USD\"\n",
      "                },\n",
      "                \"reportCurrency\": {\n",
      "                    \"value\": 8364.31794109568,\n",
      "                    \"currency\": \"USD\"\n",
      "                }\n",
      "            },\n",
      "            \"dv01\": {\n",
      "                \"value\": 8181.530653504655,\n",
      "                \"bp\": 8.181530653504655,\n",
      "                \"dealCurrency\": {\n",
      "                    \"value\": 8181.530653504655,\n",
      "                    \"currency\": \"USD\"\n",
      "                },\n",
      "                \"reportCurrency\": {\n",
      "                    \"value\": 8181.530653504655,\n",
      "                    \"currency\": \"USD\"\n",
      "                }\n",
      "            },\n",
      "            \"pv01\": {\n",
      "                \"value\": 1585.6289644073695,\n",
      "                \"bp\": 1.5856289644073696,\n",
      "                \"dealCurrency\": {\n",
      "                    \"value\": 1585.6289644073695,\n",
      "                    \"currency\": \"USD\"\n",
      "                },\n",
      "                \"reportCurrency\": {\n",
      "                    \"value\": 1585.6289644073695,\n",
      "                    \"currency\": \"USD\"\n",
      "                }\n",
      "            },\n",
      "            \"br01\": {\n",
      "                \"value\": 0.0,\n",
      "                \"dealCurrency\": {\n",
      "                    \"value\": 0.0,\n",
      "                    \"currency\": \"USD\"\n",
      "                },\n",
      "                \"reportCurrency\": {\n",
      "                    \"value\": 0.0,\n",
      "                    \"currency\": \"USD\"\n",
      "                }\n",
      "            }\n",
      "        }\n",
      "    },\n",
      "    \"secondLeg\": {\n",
      "        \"description\": {\n",
      "            \"legTag\": \"ReceivedLeg\",\n",
      "            \"legDescription\": \"Receive USD Annual +0bp SOFR\",\n",
      "            \"interestType\": \"Float\",\n",
      "            \"currency\": \"USD\",\n",
      "            \"startDate\": \"2025-08-25\",\n",
      "            \"endDate\": \"2035-08-27\",\n",
      "            \"index\": \"SOFR\"\n",
      "        },\n",
      "        \"valuation\": {\n",
      "            \"accrued\": {\n",
      "                \"value\": 0.0,\n",
      "                \"percent\": 0.0,\n",
      "                \"dealCurrency\": {\n",
      "                    \"value\": 0.0,\n",
      "                    \"currency\": \"USD\"\n",
      "                },\n",
      "                \"reportCurrency\": {\n",
      "                    \"value\": 0.0,\n",
      "                    \"currency\": \"USD\"\n",
      "                }\n",
      "            },\n",
      "            \"marketValue\": {\n",
      "                \"value\": 3155745.996256646,\n",
      "                \"dealCurrency\": {\n",
      "                    \"value\": 3155745.996256646,\n",
      "                    \"currency\": \"USD\"\n",
      "                },\n",
      "                \"reportCurrency\": {\n",
      "                    \"value\": 3155745.996256646,\n",
      "                    \"currency\": \"USD\"\n",
      "                }\n",
      "            },\n",
      "            \"cleanMarketValue\": {\n",
      "                \"value\": 3155745.996256646,\n",
      "                \"dealCurrency\": {\n",
      "                    \"value\": 3155745.996256646,\n",
      "                    \"currency\": \"USD\"\n",
      "                },\n",
      "                \"reportCurrency\": {\n",
      "                    \"value\": 3155745.996256646,\n",
      "                    \"currency\": \"USD\"\n",
      "                }\n",
      "            }\n",
      "        },\n",
      "        \"risk\": {\n",
      "            \"duration\": {\n",
      "                \"value\": 0.0\n",
      "            },\n",
      "            \"modifiedDuration\": {\n",
      "                \"value\": 0.0148458356762826\n",
      "            },\n",
      "            \"benchmarkHedgeNotional\": {\n",
      "                \"value\": 0.0,\n",
      "                \"currency\": \"USD\"\n",
      "            },\n",
      "            \"annuity\": {\n",
      "                \"value\": 0.0,\n",
      "                \"dealCurrency\": {\n",
      "                    \"value\": 0.0,\n",
      "                    \"currency\": \"USD\"\n",
      "                },\n",
      "                \"reportCurrency\": {\n",
      "                    \"value\": 0.0,\n",
      "                    \"currency\": \"USD\"\n",
      "                }\n",
      "            },\n",
      "            \"dv01\": {\n",
      "                \"value\": 14.836305670440197,\n",
      "                \"bp\": 0.014836305670440197,\n",
      "                \"dealCurrency\": {\n",
      "                    \"value\": 14.836305670440197,\n",
      "                    \"currency\": \"USD\"\n",
      "                },\n",
      "                \"reportCurrency\": {\n",
      "                    \"value\": 14.836305670440197,\n",
      "                    \"currency\": \"USD\"\n",
      "                }\n",
      "            },\n",
      "            \"pv01\": {\n",
      "                \"value\": -6581.065383425914,\n",
      "                \"bp\": -6.581065383425914,\n",
      "                \"dealCurrency\": {\n",
      "                    \"value\": -6581.065383425914,\n",
      "                    \"currency\": \"USD\"\n",
      "                },\n",
      "                \"reportCurrency\": {\n",
      "                    \"value\": -6581.065383425914,\n",
      "                    \"currency\": \"USD\"\n",
      "                }\n",
      "            },\n",
      "            \"br01\": {\n",
      "                \"value\": 0.0,\n",
      "                \"dealCurrency\": {\n",
      "                    \"value\": 0.0,\n",
      "                    \"currency\": \"USD\"\n",
      "                },\n",
      "                \"reportCurrency\": {\n",
      "                    \"value\": 0.0,\n",
      "                    \"currency\": \"USD\"\n",
      "                }\n",
      "            }\n",
      "        }\n",
      "    }\n",
      "}\n"
     ]
    }
   ],
   "source": [
    "# build the swap from 'LSEG/OIS_SOFR' template\n",
    "fwd_start_sofr = create_from_vanilla_irs_template(template_reference = \"LSEG/OIS_SOFR\")\n",
    "\n",
    "# Swap needs to be saved in order for the solve class method to be executable\n",
    "fwd_start_sofr.save(name=\"sofr_fwd_start_swap_exm\")\n",
    "\n",
    "# set a solving variable between first and second leg and Fixed Rate or Spread\n",
    "solving_variable = IrSwapSolvingVariable(leg='FirstLeg', name='FixedRate')\n",
    "\n",
    "# Apply solving target(s)\n",
    "solving_target=IrSwapSolvingTarget(market_value=IrMeasure(value=0.0))\n",
    "\n",
    "# Setup the solving parameter object\n",
    "solving_parameters = IrSwapSolvingParameters(variable=solving_variable, target=solving_target) \n",
    "\n",
    "# instantiate pricing parameters\n",
    "pricing_parameters = IrPricingParameters(solving_parameters=solving_parameters)\n",
    "\n",
    "# solve the swap par rate\n",
    "solving_response_object = fwd_start_sofr.solve(pricing_preferences=pricing_parameters)\n",
    "\n",
    "delete(name=\"sofr_fwd_start_swap_exm\")\n",
    "\n",
    "print(js.dumps(solving_response_object.analytics.as_dict(), indent=4))"
   ]
  },
  {
   "cell_type": "markdown",
   "id": "dbacd89c",
   "metadata": {},
   "source": [
    "### Value a swap\n",
    "\n",
    "Valuing a swap can be done in 2 ways:\n",
    "1. Invoking a general ir_swaps method 'value' which then requires as an input argument a swap definition object (IRSwapDefinitionInstrument)\n",
    "2. Invoking a 'solve' method directly on the IRSwap Object\n",
    "\n",
    "Both ways require preparation of execution parameters in forms of solving variable and solving target(s), as displayed in following codes."
   ]
  },
  {
   "cell_type": "markdown",
   "id": "bf63ef71",
   "metadata": {},
   "source": [
    "#### General Value method"
   ]
  },
  {
   "cell_type": "code",
   "execution_count": 9,
   "id": "f1a056ce",
   "metadata": {
    "execution": {
     "iopub.execute_input": "2025-08-21T06:03:57.466855Z",
     "iopub.status.busy": "2025-08-21T06:03:57.466556Z",
     "iopub.status.idle": "2025-08-21T06:03:58.581878Z",
     "shell.execute_reply": "2025-08-21T06:03:58.581399Z"
    },
    "tags": [
     "value.static"
    ]
   },
   "outputs": [
    {
     "name": "stdout",
     "output_type": "stream",
     "text": [
      "{\n",
      "    \"accrued\": {\n",
      "        \"value\": 0.0,\n",
      "        \"percent\": 0.0,\n",
      "        \"dealCurrency\": {\n",
      "            \"value\": 0.0,\n",
      "            \"currency\": \"USD\"\n",
      "        },\n",
      "        \"reportCurrency\": {\n",
      "            \"value\": 0.0,\n",
      "            \"currency\": \"USD\"\n",
      "        }\n",
      "    },\n",
      "    \"marketValue\": {\n",
      "        \"value\": 3155746.00060931,\n",
      "        \"dealCurrency\": {\n",
      "            \"value\": 3155746.00060931,\n",
      "            \"currency\": \"USD\"\n",
      "        },\n",
      "        \"reportCurrency\": {\n",
      "            \"value\": 3155746.00060931,\n",
      "            \"currency\": \"USD\"\n",
      "        }\n",
      "    },\n",
      "    \"cleanMarketValue\": {\n",
      "        \"value\": 3155746.00060931,\n",
      "        \"dealCurrency\": {\n",
      "            \"value\": 3155746.00060931,\n",
      "            \"currency\": \"USD\"\n",
      "        },\n",
      "        \"reportCurrency\": {\n",
      "            \"value\": 3155746.00060931,\n",
      "            \"currency\": \"USD\"\n",
      "        }\n",
      "    }\n",
      "}\n"
     ]
    }
   ],
   "source": [
    "# build the swap from 'LSEG/OIS_SOFR' template\n",
    "fwd_start_sofr = create_from_vanilla_irs_template(template_reference = \"LSEG/OIS_SOFR\")\n",
    "\n",
    "fwd_start_sofr_def = IrSwapDefinitionInstrument(definition = fwd_start_sofr.definition)\n",
    "\n",
    "# instantiate pricing parameters\n",
    "pricing_parameters = IrPricingParameters()\n",
    "\n",
    "# value the swap\n",
    "valuation_response = value(\n",
    "    definitions=[fwd_start_sofr_def],\n",
    "    pricing_preferences=pricing_parameters\n",
    ")\n",
    "\n",
    "print(js.dumps(valuation_response.analytics[0].valuation.as_dict(), indent=4))"
   ]
  },
  {
   "cell_type": "markdown",
   "id": "c8d754a1",
   "metadata": {},
   "source": [
    "#### Class Value method"
   ]
  },
  {
   "cell_type": "code",
   "execution_count": 10,
   "id": "db0f8a2f",
   "metadata": {
    "execution": {
     "iopub.execute_input": "2025-08-21T06:03:58.584034Z",
     "iopub.status.busy": "2025-08-21T06:03:58.583739Z",
     "iopub.status.idle": "2025-08-21T06:03:59.833362Z",
     "shell.execute_reply": "2025-08-21T06:03:59.832815Z"
    },
    "tags": [
     "value"
    ]
   },
   "outputs": [
    {
     "name": "stdout",
     "output_type": "stream",
     "text": [
      "{\n",
      "    \"accrued\": {\n",
      "        \"value\": 0.0,\n",
      "        \"percent\": 0.0,\n",
      "        \"dealCurrency\": {\n",
      "            \"value\": 0.0,\n",
      "            \"currency\": \"USD\"\n",
      "        },\n",
      "        \"reportCurrency\": {\n",
      "            \"value\": 0.0,\n",
      "            \"currency\": \"USD\"\n",
      "        }\n",
      "    },\n",
      "    \"marketValue\": {\n",
      "        \"value\": 3155746.00060931,\n",
      "        \"dealCurrency\": {\n",
      "            \"value\": 3155746.00060931,\n",
      "            \"currency\": \"USD\"\n",
      "        },\n",
      "        \"reportCurrency\": {\n",
      "            \"value\": 3155746.00060931,\n",
      "            \"currency\": \"USD\"\n",
      "        }\n",
      "    },\n",
      "    \"cleanMarketValue\": {\n",
      "        \"value\": 3155746.00060931,\n",
      "        \"dealCurrency\": {\n",
      "            \"value\": 3155746.00060931,\n",
      "            \"currency\": \"USD\"\n",
      "        },\n",
      "        \"reportCurrency\": {\n",
      "            \"value\": 3155746.00060931,\n",
      "            \"currency\": \"USD\"\n",
      "        }\n",
      "    }\n",
      "}\n"
     ]
    }
   ],
   "source": [
    "# build the swap from 'LSEG/OIS_SOFR' template\n",
    "fwd_start_sofr = create_from_vanilla_irs_template(template_reference = \"LSEG/OIS_SOFR\")\n",
    "\n",
    "# Swap needs to be saved in order for the value class method to be executable\n",
    "fwd_start_sofr.save(name=\"sofr_fwd_start_swap_exm\")\n",
    "\n",
    "# instantiate pricing parameters\n",
    "pricing_parameters = IrPricingParameters()\n",
    "\n",
    "# solve the swap par rate\n",
    "valuing_response_object = fwd_start_sofr.value(pricing_preferences=pricing_parameters)\n",
    "\n",
    "delete(name=\"sofr_fwd_start_swap_exm\")\n",
    "\n",
    "print(js.dumps(valuation_response.analytics[0].valuation.as_dict(), indent=4))"
   ]
  },
  {
   "cell_type": "markdown",
   "id": "e9cbbd51",
   "metadata": {},
   "source": [
    "## Creating a swap from CBS template"
   ]
  },
  {
   "cell_type": "code",
   "execution_count": 11,
   "id": "ff31c35c",
   "metadata": {
    "execution": {
     "iopub.execute_input": "2025-08-21T06:03:59.836192Z",
     "iopub.status.busy": "2025-08-21T06:03:59.835728Z",
     "iopub.status.idle": "2025-08-21T06:04:00.001452Z",
     "shell.execute_reply": "2025-08-21T06:04:00.000810Z"
    },
    "tags": [
     "create_from_cbs_template.static"
    ]
   },
   "outputs": [
    {
     "name": "stdout",
     "output_type": "stream",
     "text": [
      "{'firstLeg': {'rate': {'interestRateType': 'FloatingRate', 'index': 'LSEG/GBP_SONIA_ON_BOE', 'spreadSchedule': [{'rate': {'value': 0.0, 'unit': 'BasisPoint'}}], 'resetDates': {'offset': {'tenor': '0D', 'businessDayAdjustment': {'calendars': [], 'convention': 'ModifiedFollowing'}, 'referenceDate': 'PeriodEndDate', 'direction': 'Backward'}}, 'leverage': 1.0}, 'interestPeriods': {'startDate': {'dateType': 'RelativeAdjustableDate', 'tenor': '0D', 'referenceDate': 'SpotDate'}, 'endDate': {'dateType': 'RelativeAdjustableDate', 'tenor': '10Y', 'referenceDate': 'StartDate'}, 'frequency': 'Quarterly', 'businessDayAdjustment': {'calendars': ['UKG', 'USA'], 'convention': 'ModifiedFollowing'}, 'rollConvention': 'Same'}, 'paymentOffset': {'tenor': '2D', 'businessDayAdjustment': {'calendars': ['UKG', 'USA'], 'convention': 'ModifiedFollowing'}, 'referenceDate': 'PeriodEndDate', 'direction': 'Forward'}, 'couponDayCount': 'Dcb_Actual_365', 'accrualDayCount': 'Dcb_Actual_365', 'principal': {'currency': 'GBP', 'amount': 10000000.0, 'initialPrincipalExchange': True, 'finalPrincipalExchange': True, 'interimPrincipalExchange': False, 'repaymentCurrency': 'GBP'}, 'payer': 'Party1', 'receiver': 'Party2'}, 'secondLeg': {'rate': {'interestRateType': 'FloatingRate', 'index': 'LSEG/USD_SOFR_ON', 'spreadSchedule': [{'rate': {'value': 0.0, 'unit': 'BasisPoint'}}], 'resetDates': {'offset': {'tenor': '0D', 'businessDayAdjustment': {'calendars': [], 'convention': 'ModifiedFollowing'}, 'referenceDate': 'PeriodEndDate', 'direction': 'Backward'}}, 'leverage': 1.0}, 'interestPeriods': {'startDate': {'dateType': 'RelativeAdjustableDate', 'tenor': '0D', 'referenceDate': 'SpotDate'}, 'endDate': {'dateType': 'RelativeAdjustableDate', 'tenor': '10Y', 'referenceDate': 'StartDate'}, 'frequency': 'Quarterly', 'businessDayAdjustment': {'calendars': ['UKG', 'USA'], 'convention': 'ModifiedFollowing'}, 'rollConvention': 'Same'}, 'paymentOffset': {'tenor': '2D', 'businessDayAdjustment': {'calendars': ['UKG', 'USA'], 'convention': 'ModifiedFollowing'}, 'referenceDate': 'PeriodEndDate', 'direction': 'Forward'}, 'couponDayCount': 'Dcb_Actual_360', 'accrualDayCount': 'Dcb_Actual_360', 'principal': {'currency': 'USD', 'initialPrincipalExchange': True, 'finalPrincipalExchange': True, 'interimPrincipalExchange': False, 'repaymentCurrency': 'USD'}, 'payer': 'Party2', 'receiver': 'Party1'}}\n"
     ]
    }
   ],
   "source": [
    "swap_from_cbs = create_from_cbs_template(template_reference = \"LSEG/GBUSSOSRBS\")\n",
    "print(swap_from_cbs.definition)"
   ]
  },
  {
   "cell_type": "markdown",
   "id": "9961bae5",
   "metadata": {},
   "source": [
    "## Create a swap from CCS Template"
   ]
  },
  {
   "cell_type": "code",
   "execution_count": 12,
   "id": "f620a4f9",
   "metadata": {
    "execution": {
     "iopub.execute_input": "2025-08-21T06:04:00.004018Z",
     "iopub.status.busy": "2025-08-21T06:04:00.003581Z",
     "iopub.status.idle": "2025-08-21T06:04:00.170748Z",
     "shell.execute_reply": "2025-08-21T06:04:00.170171Z"
    },
    "tags": [
     "create_from_ccs_template.static"
    ]
   },
   "outputs": [
    {
     "name": "stdout",
     "output_type": "stream",
     "text": [
      "{'firstLeg': {'rate': {'interestRateType': 'FixedRate', 'rate': {'value': 0.0, 'unit': 'Percentage'}}, 'interestPeriods': {'startDate': {'dateType': 'RelativeAdjustableDate', 'tenor': '0D', 'referenceDate': 'SpotDate'}, 'endDate': {'dateType': 'RelativeAdjustableDate', 'tenor': '10Y', 'referenceDate': 'StartDate'}, 'frequency': 'Quarterly', 'businessDayAdjustment': {'calendars': ['CHN', 'USA'], 'convention': 'ModifiedFollowing'}, 'rollConvention': 'Same'}, 'paymentOffset': {'tenor': '2D', 'businessDayAdjustment': {'calendars': ['CHN', 'USA'], 'convention': 'ModifiedFollowing'}, 'referenceDate': 'PeriodEndDate', 'direction': 'Forward'}, 'couponDayCount': 'Dcb_Actual_360', 'accrualDayCount': 'Dcb_Actual_360', 'principal': {'currency': 'CNY', 'amount': 10000000.0, 'initialPrincipalExchange': False, 'finalPrincipalExchange': True, 'interimPrincipalExchange': False, 'repaymentCurrency': 'CNY'}, 'payer': 'Party1', 'receiver': 'Party2'}, 'secondLeg': {'rate': {'interestRateType': 'FloatingRate', 'index': 'LSEG/USD_SOFR_ON', 'spreadSchedule': [{'rate': {'value': 0.0, 'unit': 'BasisPoint'}}], 'resetDates': {'offset': {'tenor': '0D', 'businessDayAdjustment': {'calendars': [], 'convention': 'ModifiedFollowing'}, 'referenceDate': 'PeriodEndDate', 'direction': 'Backward'}}, 'leverage': 1.0}, 'interestPeriods': {'startDate': {'dateType': 'RelativeAdjustableDate', 'tenor': '0D', 'referenceDate': 'SpotDate'}, 'endDate': {'dateType': 'RelativeAdjustableDate', 'tenor': '10Y', 'referenceDate': 'StartDate'}, 'frequency': 'Quarterly', 'businessDayAdjustment': {'calendars': ['CHN', 'USA'], 'convention': 'ModifiedFollowing'}, 'rollConvention': 'Same'}, 'paymentOffset': {'tenor': '2D', 'businessDayAdjustment': {'calendars': ['CHN', 'USA'], 'convention': 'ModifiedFollowing'}, 'referenceDate': 'PeriodEndDate', 'direction': 'Forward'}, 'couponDayCount': 'Dcb_Actual_360', 'accrualDayCount': 'Dcb_Actual_360', 'principal': {'currency': 'USD', 'initialPrincipalExchange': False, 'finalPrincipalExchange': True, 'interimPrincipalExchange': False, 'repaymentCurrency': 'USD'}, 'payer': 'Party2', 'receiver': 'Party1'}}\n"
     ]
    }
   ],
   "source": [
    "swap_from_ccs = create_from_ccs_template(template_reference = \"LSEG/CNUSQMSRBS\")\n",
    "print(swap_from_ccs.definition)"
   ]
  },
  {
   "cell_type": "markdown",
   "id": "04c86c78",
   "metadata": {},
   "source": [
    "## Create a swap from LEG Template"
   ]
  },
  {
   "cell_type": "code",
   "execution_count": 13,
   "id": "0c8337af",
   "metadata": {
    "execution": {
     "iopub.execute_input": "2025-08-21T06:04:00.173228Z",
     "iopub.status.busy": "2025-08-21T06:04:00.172840Z",
     "iopub.status.idle": "2025-08-21T06:04:00.413571Z",
     "shell.execute_reply": "2025-08-21T06:04:00.412999Z"
    },
    "tags": [
     "create_from_leg_template.static"
    ]
   },
   "outputs": [
    {
     "name": "stdout",
     "output_type": "stream",
     "text": [
      "{'firstLeg': {'rate': {'interestRateType': 'FloatingRate', 'index': 'LSEG/EUR_EURIBOR_3M_EMMI', 'spreadSchedule': [{'rate': {'value': 0.0, 'unit': 'BasisPoint'}}], 'resetDates': {'offset': {'tenor': '2D', 'businessDayAdjustment': {'calendars': [], 'convention': 'ModifiedFollowing'}, 'referenceDate': 'PeriodStartDate', 'direction': 'Backward'}}, 'leverage': 1.0}, 'interestPeriods': {'startDate': {'dateType': 'RelativeAdjustableDate', 'tenor': '0D', 'referenceDate': 'SpotDate'}, 'endDate': {'dateType': 'RelativeAdjustableDate', 'tenor': '10Y', 'referenceDate': 'StartDate'}, 'frequency': 'Quarterly', 'businessDayAdjustment': {'calendars': ['EMU'], 'convention': 'ModifiedFollowing'}, 'rollConvention': 'Same'}, 'paymentOffset': {'tenor': '0D', 'businessDayAdjustment': {'calendars': ['EMU'], 'convention': 'ModifiedFollowing'}, 'referenceDate': 'PeriodEndDate', 'direction': 'Forward'}, 'couponDayCount': 'Dcb_Actual_360', 'accrualDayCount': 'Dcb_Actual_360', 'principal': {'currency': 'EUR', 'amount': 10000000.0, 'initialPrincipalExchange': False, 'finalPrincipalExchange': False, 'interimPrincipalExchange': False, 'repaymentCurrency': 'EUR'}, 'payer': 'Party2', 'receiver': 'Party1'}, 'secondLeg': {'rate': {'interestRateType': 'FixedRate', 'rate': {'value': 0.0, 'unit': 'Percentage'}}, 'interestPeriods': {'startDate': {'dateType': 'RelativeAdjustableDate', 'tenor': '0D', 'referenceDate': 'SpotDate'}, 'endDate': {'dateType': 'RelativeAdjustableDate', 'tenor': '10Y', 'referenceDate': 'StartDate'}, 'frequency': 'Annual', 'businessDayAdjustment': {'calendars': ['EMU'], 'convention': 'ModifiedFollowing'}, 'rollConvention': 'Same'}, 'paymentOffset': {'tenor': '0D', 'businessDayAdjustment': {'calendars': ['EMU'], 'convention': 'ModifiedFollowing'}, 'referenceDate': 'PeriodEndDate', 'direction': 'Forward'}, 'couponDayCount': 'Dcb_30_360', 'accrualDayCount': 'Dcb_30_360', 'principal': {'currency': 'EUR', 'amount': 10000000.0, 'initialPrincipalExchange': False, 'finalPrincipalExchange': False, 'interimPrincipalExchange': False, 'repaymentCurrency': 'EUR'}, 'payer': 'Party1', 'receiver': 'Party2'}}\n"
     ]
    }
   ],
   "source": [
    "swap_from_leg = create_from_leg_template(first_leg_reference = \"LSEG/EUR_AB3E_FLT\", second_leg_reference = \"LSEG/EUR_AB3E_FXD\")\n",
    "print(swap_from_leg.definition)"
   ]
  },
  {
   "cell_type": "markdown",
   "id": "5b72c646",
   "metadata": {},
   "source": [
    "## Create a swap from TBS Template"
   ]
  },
  {
   "cell_type": "code",
   "execution_count": 14,
   "id": "863d701a",
   "metadata": {
    "execution": {
     "iopub.execute_input": "2025-08-21T06:04:00.416129Z",
     "iopub.status.busy": "2025-08-21T06:04:00.415642Z",
     "iopub.status.idle": "2025-08-21T06:04:00.583781Z",
     "shell.execute_reply": "2025-08-21T06:04:00.583196Z"
    },
    "tags": [
     "create_from_tbs_template.static"
    ]
   },
   "outputs": [
    {
     "name": "stdout",
     "output_type": "stream",
     "text": [
      "{'firstLeg': {'rate': {'interestRateType': 'FloatingRate', 'index': 'LSEG/USD_SOFR_ON', 'spreadSchedule': [{'rate': {'value': 0.0, 'unit': 'BasisPoint'}}], 'resetDates': {'offset': {'tenor': '0D', 'businessDayAdjustment': {'calendars': [], 'convention': 'ModifiedFollowing'}, 'referenceDate': 'PeriodEndDate', 'direction': 'Backward'}}, 'leverage': 1.0}, 'interestPeriods': {'startDate': {'dateType': 'RelativeAdjustableDate', 'tenor': '0D', 'referenceDate': 'SpotDate'}, 'endDate': {'dateType': 'RelativeAdjustableDate', 'tenor': '10Y', 'referenceDate': 'StartDate'}, 'frequency': 'Quarterly', 'businessDayAdjustment': {'calendars': ['USA'], 'convention': 'ModifiedFollowing'}, 'rollConvention': 'Same'}, 'paymentOffset': {'tenor': '2D', 'businessDayAdjustment': {'calendars': ['USA'], 'convention': 'ModifiedFollowing'}, 'referenceDate': 'PeriodEndDate', 'direction': 'Forward'}, 'couponDayCount': 'Dcb_Actual_360', 'accrualDayCount': 'Dcb_Actual_360', 'principal': {'currency': 'USD', 'amount': 10000000.0, 'initialPrincipalExchange': False, 'finalPrincipalExchange': False, 'interimPrincipalExchange': False, 'repaymentCurrency': 'USD'}, 'payer': 'Party1', 'receiver': 'Party2'}, 'secondLeg': {'rate': {'interestRateType': 'FloatingRate', 'index': 'LSEG/USD_LIBOR_3M_IBA', 'spreadSchedule': [{'rate': {'value': 0.0, 'unit': 'BasisPoint'}}], 'resetDates': {'offset': {'tenor': '2D', 'businessDayAdjustment': {'calendars': [], 'convention': 'ModifiedFollowing'}, 'referenceDate': 'PeriodStartDate', 'direction': 'Backward'}}, 'leverage': 1.0}, 'interestPeriods': {'startDate': {'dateType': 'RelativeAdjustableDate', 'tenor': '0D', 'referenceDate': 'SpotDate'}, 'endDate': {'dateType': 'RelativeAdjustableDate', 'tenor': '10Y', 'referenceDate': 'StartDate'}, 'frequency': 'Quarterly', 'businessDayAdjustment': {'calendars': ['USA'], 'convention': 'ModifiedFollowing'}, 'rollConvention': 'Same'}, 'paymentOffset': {'tenor': '2D', 'businessDayAdjustment': {'calendars': ['USA'], 'convention': 'ModifiedFollowing'}, 'referenceDate': 'PeriodEndDate', 'direction': 'Forward'}, 'couponDayCount': 'Dcb_Actual_360', 'accrualDayCount': 'Dcb_Actual_360', 'principal': {'currency': 'USD', 'amount': 10000000.0, 'initialPrincipalExchange': False, 'finalPrincipalExchange': False, 'interimPrincipalExchange': False, 'repaymentCurrency': 'USD'}, 'payer': 'Party2', 'receiver': 'Party1'}}\n"
     ]
    }
   ],
   "source": [
    "swap_from_tbs = create_from_tbs_template(template_reference = \"LSEG/CBS_USDSR3LIMM\")\n",
    "print(swap_from_tbs.definition)"
   ]
  },
  {
   "cell_type": "markdown",
   "id": "ca41ccdb",
   "metadata": {},
   "source": [
    "### Saving a swap"
   ]
  },
  {
   "cell_type": "code",
   "execution_count": 15,
   "id": "c71b8802",
   "metadata": {
    "execution": {
     "iopub.execute_input": "2025-08-21T06:04:00.586000Z",
     "iopub.status.busy": "2025-08-21T06:04:00.585576Z",
     "iopub.status.idle": "2025-08-21T06:04:00.930766Z",
     "shell.execute_reply": "2025-08-21T06:04:00.930240Z"
    },
    "tags": [
     "save"
    ]
   },
   "outputs": [
    {
     "name": "stdout",
     "output_type": "stream",
     "text": [
      "Instrument SOFR_OIS_1Y2Y saved in HOME space.\n"
     ]
    }
   ],
   "source": [
    "# build the swap from 'LSEG/OIS_SOFR' template\n",
    "fwd_start_sofr = create_from_vanilla_irs_template(template_reference = \"LSEG/OIS_SOFR\")\n",
    "\n",
    "swap_id = \"SOFR_OIS_1Y2Y\"\n",
    "\n",
    "swap_space = \"HOME\"\n",
    "\n",
    "try:\n",
    "    # If the instrument does not exist in HOME space, we can save it\n",
    "    fwd_start_sofr.save(name=swap_id, space=swap_space)\n",
    "    print(f\"Instrument {swap_id} saved in {swap_space} space.\")\n",
    "except:\n",
    "    # Check if the instrument already exists in HOME space\n",
    "    fwd_start_sofr = load(name=swap_id, space=swap_space)\n",
    "    print(f\"Instrument {swap_id} already exists in {swap_space} space.\")"
   ]
  },
  {
   "cell_type": "markdown",
   "id": "b0a6bc0f",
   "metadata": {},
   "source": [
    "### Deleting the saved swap"
   ]
  },
  {
   "cell_type": "code",
   "execution_count": 16,
   "id": "cacc52eb",
   "metadata": {
    "execution": {
     "iopub.execute_input": "2025-08-21T06:04:00.933097Z",
     "iopub.status.busy": "2025-08-21T06:04:00.932794Z",
     "iopub.status.idle": "2025-08-21T06:04:01.216006Z",
     "shell.execute_reply": "2025-08-21T06:04:01.215538Z"
    },
    "tags": [
     "delete"
    ]
   },
   "outputs": [
    {
     "data": {
      "text/plain": [
       "True"
      ]
     },
     "execution_count": 16,
     "metadata": {},
     "output_type": "execute_result"
    }
   ],
   "source": [
    "# Let's delete the instrument we created in HOME space\n",
    "from lseg_analytics.instruments.ir_swaps import delete\n",
    "\n",
    "swap_id = \"SOFR_OIS_1Y2Y\"\n",
    "\n",
    "delete(name=swap_id, space=\"HOME\")"
   ]
  }
 ],
 "metadata": {
  "kernelspec": {
   "display_name": ".venv",
   "language": "python",
   "name": "python3"
  },
  "language_info": {
   "codemirror_mode": {
    "name": "ipython",
    "version": 3
   },
   "file_extension": ".py",
   "mimetype": "text/x-python",
   "name": "python",
   "nbconvert_exporter": "python",
   "pygments_lexer": "ipython3",
   "version": "3.11.6"
  }
 },
 "nbformat": 4,
 "nbformat_minor": 5
}
