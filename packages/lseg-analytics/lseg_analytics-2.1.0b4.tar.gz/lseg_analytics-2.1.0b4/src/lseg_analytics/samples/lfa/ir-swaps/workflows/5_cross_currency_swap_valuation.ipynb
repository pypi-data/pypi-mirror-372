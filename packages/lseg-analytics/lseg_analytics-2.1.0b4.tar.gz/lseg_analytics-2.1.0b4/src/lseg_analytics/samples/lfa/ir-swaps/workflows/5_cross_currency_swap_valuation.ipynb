{
 "cells": [
  {
   "cell_type": "markdown",
   "metadata": {},
   "source": [
    "# Valuing Cross Currency Basis Swaps (fixed to float)"
   ]
  },
  {
   "cell_type": "markdown",
   "metadata": {},
   "source": [
    "This notebook demonstrates how to perform cross currency swap (fixed to float) pricing within LSEG Financial Analytics SDK."
   ]
  },
  {
   "cell_type": "markdown",
   "metadata": {},
   "source": [
    "## Imports"
   ]
  },
  {
   "cell_type": "markdown",
   "metadata": {},
   "source": [
    "The following modules will be required in this notebook:"
   ]
  },
  {
   "cell_type": "code",
   "execution_count": 1,
   "metadata": {
    "execution": {
     "iopub.execute_input": "2025-08-21T06:06:45.147162Z",
     "iopub.status.busy": "2025-08-21T06:06:45.146845Z",
     "iopub.status.idle": "2025-08-21T06:06:45.937512Z",
     "shell.execute_reply": "2025-08-21T06:06:45.936624Z"
    }
   },
   "outputs": [],
   "source": [
    "import pandas as pd\n",
    "import json\n",
    "from lseg_analytics.templates.instrument_templates import search, load \n",
    "from lseg_analytics.instruments.ir_swaps import load\n",
    "from lseg_analytics.instruments.ir_swaps import value, IrPricingParameters, IrSwapDefinitionInstrument\n",
    "from lseg_analytics.instruments.ir_swaps import solve, IrPricingParameters, IrSwapSolvingParameters, IrSwapSolvingTarget, IrSwapSolvingVariable, IrMeasure, IrSwapDefinitionInstrument\n",
    "from lseg_analytics.instruments.ir_swaps import create_from_ccs_template, CrossCurencySwapOverride\n",
    "from lseg_analytics_basic_client.models import PaidLegEnum, ReferenceDate, RelativeAdjustableDate, Rate, UnitEnum\n",
    "from datetime import date\n",
    "from IPython.display import display"
   ]
  },
  {
   "cell_type": "markdown",
   "metadata": {},
   "source": [
    "## Utility methods"
   ]
  },
  {
   "cell_type": "markdown",
   "metadata": {},
   "source": [
    "These methods are used throughout the notebook to display results."
   ]
  },
  {
   "cell_type": "code",
   "execution_count": 2,
   "metadata": {
    "execution": {
     "iopub.execute_input": "2025-08-21T06:06:45.942544Z",
     "iopub.status.busy": "2025-08-21T06:06:45.940255Z",
     "iopub.status.idle": "2025-08-21T06:06:45.951577Z",
     "shell.execute_reply": "2025-08-21T06:06:45.951006Z"
    }
   },
   "outputs": [],
   "source": [
    "def extract_tag_key(tag):\n",
    "    return tag.split(\":\")[0] if \":\" in tag else tag\n",
    "\n",
    "def list_unique_tags(all_swaps):\n",
    "    unique_tags = set()\n",
    "    for item in all_swaps:\n",
    "        tags = item.get(\"description\", {}).get(\"tags\", [])\n",
    "        for tag in tags:\n",
    "            key = extract_tag_key(tag)\n",
    "            unique_tags.add(key)\n",
    "    return unique_tags\n",
    "\n",
    "def display_templates(templates):\n",
    "    unique_tag_keys = list(list_unique_tags(templates))\n",
    "\n",
    "    rows = []\n",
    "    for item in templates:\n",
    "        row = {\n",
    "            \"Space\": item.get(\"location\", {}).get(\"space\", \"\"),\n",
    "            \"Id\": item.get(\"id\", \"\"),\n",
    "            \"Name\": item.get(\"location\", {}).get(\"name\", \"\"),\n",
    "            \"Summary\": item.get(\"description\", {}).get(\"summary\", \"\"),\n",
    "        }\n",
    "        tags = item.get(\"description\", {}).get(\"tags\", [])\n",
    "        tag_dict = {extract_tag_key(tag): tag for tag in tags}\n",
    "        for key in unique_tag_keys:\n",
    "            tag_val = tag_dict.get(key, None)\n",
    "            if tag_val is not None and \":\" in tag_val:\n",
    "                row[key] = tag_val.split(\":\", 1)[1]\n",
    "            else:\n",
    "                row[key] = tag_val\n",
    "        rows.append(row)\n",
    "\n",
    "    display(pd.DataFrame(rows))\n",
    "\n",
    "def build_legs_comparison_df(first_leg, second_leg):\n",
    "    \"\"\"Builds a DataFrame comparing key fields of first_leg and second_leg.\"\"\"\n",
    "    def get_nested_attr(obj, attrs, default=None):\n",
    "        for attr in attrs:\n",
    "            obj = getattr(obj, attr, None)\n",
    "            if obj is None:\n",
    "                return default\n",
    "        return obj\n",
    "\n",
    "    rows = [\n",
    "        {\n",
    "            \"Field\": \"description\",\n",
    "            \"First Leg\": get_nested_attr(first_leg, [\"description\", \"leg_description\"]),\n",
    "            \"Second Leg\": get_nested_attr(second_leg, [\"description\", \"leg_description\"]),\n",
    "        },\n",
    "        {\n",
    "            \"Field\": \"market value\",\n",
    "            \"First Leg\": get_nested_attr(first_leg, [\"valuation\", \"market_value\", \"deal_currency\", \"value\"]),\n",
    "            \"Second Leg\": get_nested_attr(second_leg, [\"valuation\", \"market_value\", \"deal_currency\", \"value\"]),\n",
    "        },\n",
    "        {\n",
    "            \"Field\": \"DV01\",\n",
    "            \"First Leg\": get_nested_attr(first_leg, [\"risk\", \"dv01\", \"value\"]),\n",
    "            \"Second Leg\": get_nested_attr(second_leg, [\"risk\", \"dv01\", \"value\"]),\n",
    "        },\n",
    "    ]\n",
    "\n",
    "    display(pd.DataFrame(rows))\n"
   ]
  },
  {
   "cell_type": "markdown",
   "metadata": {},
   "source": [
    "## Template-based setup for swap valuation"
   ]
  },
  {
   "cell_type": "markdown",
   "metadata": {},
   "source": [
    "Using an existing swap template to build a swap, user can adjust it with his own settings.\n",
    "- Swap conventions provide a standardized set of market-accepted terms, such as leg frequencies and interest calculation methods.\n",
    "- By referencing a swap convention, you ensure alignment with market standards while streamlining the setup process."
   ]
  },
  {
   "cell_type": "code",
   "execution_count": 3,
   "metadata": {
    "execution": {
     "iopub.execute_input": "2025-08-21T06:06:45.953782Z",
     "iopub.status.busy": "2025-08-21T06:06:45.953491Z",
     "iopub.status.idle": "2025-08-21T06:06:46.399058Z",
     "shell.execute_reply": "2025-08-21T06:06:46.398512Z"
    }
   },
   "outputs": [
    {
     "data": {
      "text/html": [
       "<div>\n",
       "<style scoped>\n",
       "    .dataframe tbody tr th:only-of-type {\n",
       "        vertical-align: middle;\n",
       "    }\n",
       "\n",
       "    .dataframe tbody tr th {\n",
       "        vertical-align: top;\n",
       "    }\n",
       "\n",
       "    .dataframe thead th {\n",
       "        text-align: right;\n",
       "    }\n",
       "</style>\n",
       "<table border=\"1\" class=\"dataframe\">\n",
       "  <thead>\n",
       "    <tr style=\"text-align: right;\">\n",
       "      <th></th>\n",
       "      <th>Space</th>\n",
       "      <th>Id</th>\n",
       "      <th>Name</th>\n",
       "      <th>Summary</th>\n",
       "      <th>instrumentType</th>\n",
       "      <th>currency</th>\n",
       "      <th>index</th>\n",
       "    </tr>\n",
       "  </thead>\n",
       "  <tbody>\n",
       "    <tr>\n",
       "      <th>0</th>\n",
       "      <td>LSEG</td>\n",
       "      <td>88273d49-7f81-4972-af14-83cb6e64de97</td>\n",
       "      <td>CNHUSQMSRCS</td>\n",
       "      <td>US Dollar OIS SOFR vs Chinese 3-Month Hibor Ba...</td>\n",
       "      <td>CrossCurrencySwap</td>\n",
       "      <td>USD</td>\n",
       "      <td>USD_SOFR_ON</td>\n",
       "    </tr>\n",
       "    <tr>\n",
       "      <th>1</th>\n",
       "      <td>LSEG</td>\n",
       "      <td>0b9641da-3148-4849-affa-d72b62aa9dd8</td>\n",
       "      <td>CNUSQMSRBS</td>\n",
       "      <td>US Dollar OIS SOFR vs Chinese 3-Month Shibor B...</td>\n",
       "      <td>CrossCurrencySwap</td>\n",
       "      <td>USD</td>\n",
       "      <td>USD_SOFR_ON</td>\n",
       "    </tr>\n",
       "    <tr>\n",
       "      <th>2</th>\n",
       "      <td>LSEG</td>\n",
       "      <td>be6e21aa-51ae-4dbd-bde1-1d4ab23d3c5a</td>\n",
       "      <td>MXNU6L</td>\n",
       "      <td>US dollar 6-Month Libor vs Mexican peso (MXV) ...</td>\n",
       "      <td>CrossCurrencySwap</td>\n",
       "      <td>USD</td>\n",
       "      <td>USD_LIBOR_6M</td>\n",
       "    </tr>\n",
       "    <tr>\n",
       "      <th>3</th>\n",
       "      <td>LSEG</td>\n",
       "      <td>6c1680cb-9536-46b1-b463-bd8944e165a9</td>\n",
       "      <td>MXNUDIT</td>\n",
       "      <td>Mexican peso (MXV) fixed 182d UDI vs Mexican p...</td>\n",
       "      <td>CrossCurrencySwap</td>\n",
       "      <td>MXN</td>\n",
       "      <td>MXN_TIIE_28D</td>\n",
       "    </tr>\n",
       "    <tr>\n",
       "      <th>4</th>\n",
       "      <td>LSEG</td>\n",
       "      <td>282cf7f9-e16d-40cf-81c6-d6f4e78a3157</td>\n",
       "      <td>PEUSNDSMSRBS</td>\n",
       "      <td>US Dollar OIS SOFR vs Peruvian sol fixed 1 yea...</td>\n",
       "      <td>CrossCurrencySwap</td>\n",
       "      <td>USD</td>\n",
       "      <td>USD_SOFR_ON</td>\n",
       "    </tr>\n",
       "  </tbody>\n",
       "</table>\n",
       "</div>"
      ],
      "text/plain": [
       "  Space                                    Id          Name  \\\n",
       "0  LSEG  88273d49-7f81-4972-af14-83cb6e64de97   CNHUSQMSRCS   \n",
       "1  LSEG  0b9641da-3148-4849-affa-d72b62aa9dd8    CNUSQMSRBS   \n",
       "2  LSEG  be6e21aa-51ae-4dbd-bde1-1d4ab23d3c5a        MXNU6L   \n",
       "3  LSEG  6c1680cb-9536-46b1-b463-bd8944e165a9       MXNUDIT   \n",
       "4  LSEG  282cf7f9-e16d-40cf-81c6-d6f4e78a3157  PEUSNDSMSRBS   \n",
       "\n",
       "                                             Summary     instrumentType  \\\n",
       "0  US Dollar OIS SOFR vs Chinese 3-Month Hibor Ba...  CrossCurrencySwap   \n",
       "1  US Dollar OIS SOFR vs Chinese 3-Month Shibor B...  CrossCurrencySwap   \n",
       "2  US dollar 6-Month Libor vs Mexican peso (MXV) ...  CrossCurrencySwap   \n",
       "3  Mexican peso (MXV) fixed 182d UDI vs Mexican p...  CrossCurrencySwap   \n",
       "4  US Dollar OIS SOFR vs Peruvian sol fixed 1 yea...  CrossCurrencySwap   \n",
       "\n",
       "  currency         index  \n",
       "0      USD   USD_SOFR_ON  \n",
       "1      USD   USD_SOFR_ON  \n",
       "2      USD  USD_LIBOR_6M  \n",
       "3      MXN  MXN_TIIE_28D  \n",
       "4      USD   USD_SOFR_ON  "
      ]
     },
     "metadata": {},
     "output_type": "display_data"
    }
   ],
   "source": [
    "#search function to find fix to float cross currency swap templates\n",
    "fixed_to_float_templates = search(\n",
    "    item_per_page= 5,\n",
    "    tags=[\"instrumentType:CrossCurrencySwap\"],\n",
    "    spaces=[\"LSEG\"])\n",
    "\n",
    "display_templates(fixed_to_float_templates)\n"
   ]
  },
  {
   "cell_type": "markdown",
   "metadata": {},
   "source": [
    "## Editing the swap template to fit our requirements"
   ]
  },
  {
   "cell_type": "markdown",
   "metadata": {},
   "source": [
    "- When pricing a specific swap, user often needs to tailor certain parameters—like start date, end date, or fixed rate to suit requirements.\n",
    "- The framework allows user to override only the necessary terms, combining efficiency with full customization for transaction."
   ]
  },
  {
   "cell_type": "code",
   "execution_count": 4,
   "metadata": {
    "execution": {
     "iopub.execute_input": "2025-08-21T06:06:46.401420Z",
     "iopub.status.busy": "2025-08-21T06:06:46.401127Z",
     "iopub.status.idle": "2025-08-21T06:06:46.605890Z",
     "shell.execute_reply": "2025-08-21T06:06:46.605281Z"
    }
   },
   "outputs": [],
   "source": [
    "swap_template = \"LSEG/CNUSQMSRBS\"\n",
    "\n",
    "# define a 1 year forward start date for swap\n",
    "start_date = RelativeAdjustableDate(tenor = \"1Y\", reference_date= ReferenceDate.VALUATION_DATE)\n",
    "\n",
    "# setup a 2Y swap maturity from the start date\n",
    "end_date = RelativeAdjustableDate(tenor = \"2Y\", reference_date= ReferenceDate.START_DATE)\n",
    "\n",
    "# override the swap template with a 1M USD, notional, the previous start_date and end_date, and a 10bp spread on the float leg\n",
    "par_overrides = CrossCurencySwapOverride(\n",
    "    start_date = start_date,\n",
    "    end_date=end_date,\n",
    "    amount=7200000,\n",
    "    contra_amount=1000000,\n",
    "    spread = Rate(value=10.0, unit = UnitEnum.BASIS_POINT),\n",
    "    paid_leg= PaidLegEnum.FIRST_LEG)\n",
    "\n",
    "# build the swap from 'LSEG/CNUSQMSRBS' template and previously defined overrides\n",
    "fwd_start_ccs = create_from_ccs_template(template_reference = swap_template, overrides = par_overrides)\n",
    "\n",
    "fwd_start_ccs_def = IrSwapDefinitionInstrument(definition = fwd_start_ccs.definition)"
   ]
  },
  {
   "cell_type": "markdown",
   "metadata": {},
   "source": [
    "Output of the created cross currency swap definition can be presented as follows:"
   ]
  },
  {
   "cell_type": "code",
   "execution_count": 5,
   "metadata": {
    "execution": {
     "iopub.execute_input": "2025-08-21T06:06:46.608701Z",
     "iopub.status.busy": "2025-08-21T06:06:46.608279Z",
     "iopub.status.idle": "2025-08-21T06:06:46.612655Z",
     "shell.execute_reply": "2025-08-21T06:06:46.611870Z"
    }
   },
   "outputs": [
    {
     "name": "stdout",
     "output_type": "stream",
     "text": [
      "{\n",
      "    \"firstLeg\": {\n",
      "        \"rate\": {\n",
      "            \"interestRateType\": \"FixedRate\",\n",
      "            \"rate\": {\n",
      "                \"value\": 0.0,\n",
      "                \"unit\": \"Percentage\"\n",
      "            }\n",
      "        },\n",
      "        \"interestPeriods\": {\n",
      "            \"startDate\": {\n",
      "                \"dateType\": \"RelativeAdjustableDate\",\n",
      "                \"tenor\": \"1Y\",\n",
      "                \"referenceDate\": \"ValuationDate\"\n",
      "            },\n",
      "            \"endDate\": {\n",
      "                \"dateType\": \"RelativeAdjustableDate\",\n",
      "                \"tenor\": \"2Y\",\n",
      "                \"referenceDate\": \"StartDate\"\n",
      "            },\n",
      "            \"frequency\": \"Quarterly\",\n",
      "            \"businessDayAdjustment\": {\n",
      "                \"calendars\": [\n",
      "                    \"CHN\",\n",
      "                    \"USA\"\n",
      "                ],\n",
      "                \"convention\": \"ModifiedFollowing\"\n",
      "            },\n",
      "            \"rollConvention\": \"Same\"\n",
      "        },\n",
      "        \"paymentOffset\": {\n",
      "            \"tenor\": \"2D\",\n",
      "            \"businessDayAdjustment\": {\n",
      "                \"calendars\": [\n",
      "                    \"CHN\",\n",
      "                    \"USA\"\n",
      "                ],\n",
      "                \"convention\": \"ModifiedFollowing\"\n",
      "            },\n",
      "            \"referenceDate\": \"PeriodEndDate\",\n",
      "            \"direction\": \"Forward\"\n",
      "        },\n",
      "        \"couponDayCount\": \"Dcb_Actual_360\",\n",
      "        \"accrualDayCount\": \"Dcb_Actual_360\",\n",
      "        \"principal\": {\n",
      "            \"currency\": \"CNY\",\n",
      "            \"amount\": 7200000.0,\n",
      "            \"initialPrincipalExchange\": false,\n",
      "            \"finalPrincipalExchange\": true,\n",
      "            \"interimPrincipalExchange\": false,\n",
      "            \"repaymentCurrency\": \"CNY\"\n",
      "        },\n",
      "        \"payer\": \"Party1\",\n",
      "        \"receiver\": \"Party2\"\n",
      "    },\n",
      "    \"secondLeg\": {\n",
      "        \"rate\": {\n",
      "            \"interestRateType\": \"FloatingRate\",\n",
      "            \"index\": \"LSEG/USD_SOFR_ON\",\n",
      "            \"spreadSchedule\": [\n",
      "                {\n",
      "                    \"rate\": {\n",
      "                        \"value\": 10.0,\n",
      "                        \"unit\": \"BasisPoint\"\n",
      "                    }\n",
      "                }\n",
      "            ],\n",
      "            \"resetDates\": {\n",
      "                \"offset\": {\n",
      "                    \"tenor\": \"0D\",\n",
      "                    \"businessDayAdjustment\": {\n",
      "                        \"calendars\": [],\n",
      "                        \"convention\": \"ModifiedFollowing\"\n",
      "                    },\n",
      "                    \"referenceDate\": \"PeriodEndDate\",\n",
      "                    \"direction\": \"Backward\"\n",
      "                }\n",
      "            },\n",
      "            \"leverage\": 1.0\n",
      "        },\n",
      "        \"interestPeriods\": {\n",
      "            \"startDate\": {\n",
      "                \"dateType\": \"RelativeAdjustableDate\",\n",
      "                \"tenor\": \"1Y\",\n",
      "                \"referenceDate\": \"ValuationDate\"\n",
      "            },\n",
      "            \"endDate\": {\n",
      "                \"dateType\": \"RelativeAdjustableDate\",\n",
      "                \"tenor\": \"2Y\",\n",
      "                \"referenceDate\": \"StartDate\"\n",
      "            },\n",
      "            \"frequency\": \"Quarterly\",\n",
      "            \"businessDayAdjustment\": {\n",
      "                \"calendars\": [\n",
      "                    \"CHN\",\n",
      "                    \"USA\"\n",
      "                ],\n",
      "                \"convention\": \"ModifiedFollowing\"\n",
      "            },\n",
      "            \"rollConvention\": \"Same\"\n",
      "        },\n",
      "        \"paymentOffset\": {\n",
      "            \"tenor\": \"2D\",\n",
      "            \"businessDayAdjustment\": {\n",
      "                \"calendars\": [\n",
      "                    \"CHN\",\n",
      "                    \"USA\"\n",
      "                ],\n",
      "                \"convention\": \"ModifiedFollowing\"\n",
      "            },\n",
      "            \"referenceDate\": \"PeriodEndDate\",\n",
      "            \"direction\": \"Forward\"\n",
      "        },\n",
      "        \"couponDayCount\": \"Dcb_Actual_360\",\n",
      "        \"accrualDayCount\": \"Dcb_Actual_360\",\n",
      "        \"principal\": {\n",
      "            \"currency\": \"USD\",\n",
      "            \"amount\": 1000000.0,\n",
      "            \"initialPrincipalExchange\": false,\n",
      "            \"finalPrincipalExchange\": true,\n",
      "            \"interimPrincipalExchange\": false,\n",
      "            \"repaymentCurrency\": \"USD\"\n",
      "        },\n",
      "        \"payer\": \"Party2\",\n",
      "        \"receiver\": \"Party1\"\n",
      "    }\n",
      "}\n"
     ]
    }
   ],
   "source": [
    "print(json.dumps(fwd_start_ccs.definition.as_dict(), indent=4))"
   ]
  },
  {
   "cell_type": "markdown",
   "metadata": {},
   "source": [
    "## Solving for a forward fixed to float cross currency swap fixed rate"
   ]
  },
  {
   "cell_type": "markdown",
   "metadata": {},
   "source": [
    "The par swap rate for prepared forward starting cross currency swap."
   ]
  },
  {
   "cell_type": "code",
   "execution_count": 6,
   "metadata": {
    "execution": {
     "iopub.execute_input": "2025-08-21T06:06:46.614944Z",
     "iopub.status.busy": "2025-08-21T06:06:46.614456Z",
     "iopub.status.idle": "2025-08-21T06:06:48.212519Z",
     "shell.execute_reply": "2025-08-21T06:06:48.211713Z"
    }
   },
   "outputs": [
    {
     "name": "stdout",
     "output_type": "stream",
     "text": [
      "\t Solved fixed rate, in %: 0.2442914345336348\n"
     ]
    },
    {
     "data": {
      "text/html": [
       "<div>\n",
       "<style scoped>\n",
       "    .dataframe tbody tr th:only-of-type {\n",
       "        vertical-align: middle;\n",
       "    }\n",
       "\n",
       "    .dataframe tbody tr th {\n",
       "        vertical-align: top;\n",
       "    }\n",
       "\n",
       "    .dataframe thead th {\n",
       "        text-align: right;\n",
       "    }\n",
       "</style>\n",
       "<table border=\"1\" class=\"dataframe\">\n",
       "  <thead>\n",
       "    <tr style=\"text-align: right;\">\n",
       "      <th></th>\n",
       "      <th>Field</th>\n",
       "      <th>First Leg</th>\n",
       "      <th>Second Leg</th>\n",
       "    </tr>\n",
       "  </thead>\n",
       "  <tbody>\n",
       "    <tr>\n",
       "      <th>0</th>\n",
       "      <td>description</td>\n",
       "      <td>Pay CNY Quarterly 0.24%</td>\n",
       "      <td>Receive USD Quarterly +10bp SOFR</td>\n",
       "    </tr>\n",
       "    <tr>\n",
       "      <th>1</th>\n",
       "      <td>market value</td>\n",
       "      <td>6966132.732305</td>\n",
       "      <td>6966132.732305</td>\n",
       "    </tr>\n",
       "    <tr>\n",
       "      <th>2</th>\n",
       "      <td>DV01</td>\n",
       "      <td>2070.024775</td>\n",
       "      <td>678.549244</td>\n",
       "    </tr>\n",
       "  </tbody>\n",
       "</table>\n",
       "</div>"
      ],
      "text/plain": [
       "          Field                First Leg                        Second Leg\n",
       "0   description  Pay CNY Quarterly 0.24%  Receive USD Quarterly +10bp SOFR\n",
       "1  market value           6966132.732305                    6966132.732305\n",
       "2          DV01              2070.024775                        678.549244"
      ]
     },
     "metadata": {},
     "output_type": "display_data"
    }
   ],
   "source": [
    "# define solving parameters in order to compute the par fixed rate\n",
    "solving_params = IrSwapSolvingParameters(\n",
    "    target=IrSwapSolvingTarget(market_value=IrMeasure(value=0.0)),\n",
    "    variable= IrSwapSolvingVariable(leg = \"FirstLeg\", name = \"FixedRate\"))\n",
    "\n",
    "# define a solving date\n",
    "solving_date = date(2025, 5, 10)\n",
    "\n",
    "# solve the swap fixed rate\n",
    "valuation_response = solve(\n",
    "    definitions=[fwd_start_ccs_def],\n",
    "    pricing_preferences= IrPricingParameters(\n",
    "        solving_parameters = solving_params,\n",
    "        valuation_date=solving_date\n",
    "    )\n",
    ")\n",
    "\n",
    "# print the solved spread\n",
    "solved_rate = valuation_response.analytics[0].solving.result\n",
    "\n",
    "print(\n",
    "    \"\\t Solved fixed rate, in %:\", solved_rate,\n",
    ")\n",
    "\n",
    "build_legs_comparison_df(valuation_response.analytics[0].first_leg, valuation_response.analytics[0].second_leg)\n"
   ]
  },
  {
   "cell_type": "markdown",
   "metadata": {},
   "source": [
    "## Saving the solved swap"
   ]
  },
  {
   "cell_type": "code",
   "execution_count": 7,
   "metadata": {
    "execution": {
     "iopub.execute_input": "2025-08-21T06:06:48.214755Z",
     "iopub.status.busy": "2025-08-21T06:06:48.214414Z",
     "iopub.status.idle": "2025-08-21T06:06:48.763436Z",
     "shell.execute_reply": "2025-08-21T06:06:48.762811Z"
    }
   },
   "outputs": [
    {
     "name": "stdout",
     "output_type": "stream",
     "text": [
      "[ERROR]\t[2025-08-21 06:06:48,513]\t[MainThread]\t[lseg_analytics.instruments.ir_swaps]\t[_functions.py:324]\t IrSwap CNY_SOFR_1Y2Y not found in space='HOME'\n",
      "Instrument CNY_SOFR_1Y2Y saved in HOME space.\n"
     ]
    }
   ],
   "source": [
    "instrument_id = \"CNY_SOFR_1Y2Y\"\n",
    "\n",
    "# create a 'booked_trade' updated with the solved fixed rate\n",
    "trade_overrides = CrossCurencySwapOverride(\n",
    "    start_date = start_date,\n",
    "    end_date=end_date,\n",
    "    amount=7200000,\n",
    "    contra_amount=1000000,\n",
    "    fixed_rate= Rate(value=solved_rate, unit = UnitEnum.PERCENTAGE),\n",
    "    spread = Rate(value=10.0, unit = UnitEnum.BASIS_POINT),\n",
    "    paid_leg= PaidLegEnum.FIRST_LEG)\n",
    "\n",
    "# create the swap using the selected swap template\n",
    "booked_trade = create_from_ccs_template(template_reference = swap_template, overrides = trade_overrides)\n",
    "\n",
    "try:\n",
    "    # Check if the instrument already exists in HOME space\n",
    "    booked_trade = load(name=instrument_id, space=\"HOME\")\n",
    "    print(f\"Instrument {instrument_id} already exists in HOME space.\")\n",
    "except:\n",
    "    # If the instrument does not exist in HOME space, we can save it\n",
    "    booked_trade.save(name=instrument_id, space=\"HOME\")\n",
    "    print(f\"Instrument {instrument_id} saved in HOME space.\")"
   ]
  },
  {
   "cell_type": "markdown",
   "metadata": {},
   "source": [
    "# Revalue the trade post booking"
   ]
  },
  {
   "cell_type": "code",
   "execution_count": 8,
   "metadata": {
    "execution": {
     "iopub.execute_input": "2025-08-21T06:06:48.765833Z",
     "iopub.status.busy": "2025-08-21T06:06:48.765323Z",
     "iopub.status.idle": "2025-08-21T06:06:50.094297Z",
     "shell.execute_reply": "2025-08-21T06:06:50.093843Z"
    }
   },
   "outputs": [
    {
     "name": "stdout",
     "output_type": "stream",
     "text": [
      "\t MtM in USD: -3437.78018793242\n"
     ]
    },
    {
     "data": {
      "text/html": [
       "<div>\n",
       "<style scoped>\n",
       "    .dataframe tbody tr th:only-of-type {\n",
       "        vertical-align: middle;\n",
       "    }\n",
       "\n",
       "    .dataframe tbody tr th {\n",
       "        vertical-align: top;\n",
       "    }\n",
       "\n",
       "    .dataframe thead th {\n",
       "        text-align: right;\n",
       "    }\n",
       "</style>\n",
       "<table border=\"1\" class=\"dataframe\">\n",
       "  <thead>\n",
       "    <tr style=\"text-align: right;\">\n",
       "      <th></th>\n",
       "      <th>Field</th>\n",
       "      <th>First Leg</th>\n",
       "      <th>Second Leg</th>\n",
       "    </tr>\n",
       "  </thead>\n",
       "  <tbody>\n",
       "    <tr>\n",
       "      <th>0</th>\n",
       "      <td>description</td>\n",
       "      <td>Pay CNY Quarterly 0.24%</td>\n",
       "      <td>Receive USD Quarterly +10bp SOFR</td>\n",
       "    </tr>\n",
       "    <tr>\n",
       "      <th>1</th>\n",
       "      <td>market value</td>\n",
       "      <td>6958699.620765</td>\n",
       "      <td>6933922.507617</td>\n",
       "    </tr>\n",
       "    <tr>\n",
       "      <th>2</th>\n",
       "      <td>DV01</td>\n",
       "      <td>2061.367348</td>\n",
       "      <td>669.525148</td>\n",
       "    </tr>\n",
       "  </tbody>\n",
       "</table>\n",
       "</div>"
      ],
      "text/plain": [
       "          Field                First Leg                        Second Leg\n",
       "0   description  Pay CNY Quarterly 0.24%  Receive USD Quarterly +10bp SOFR\n",
       "1  market value           6958699.620765                    6933922.507617\n",
       "2          DV01              2061.367348                        669.525148"
      ]
     },
     "metadata": {},
     "output_type": "display_data"
    }
   ],
   "source": [
    "definition = IrSwapDefinitionInstrument(definition = booked_trade.definition)\n",
    "\n",
    "# define a mark to market date as of 2025-05-15\n",
    "mtm_date = date(2025, 5, 15)\n",
    "\n",
    "# value the booked swap\n",
    "valuation_response = value(\n",
    "    definitions=[definition],\n",
    "    pricing_preferences= IrPricingParameters(valuation_date=mtm_date, report_currency=\"USD\")\n",
    ")\n",
    "\n",
    "# print mark to market results\n",
    "print(\n",
    "    \"\\t MtM in USD:\", valuation_response.analytics[0].valuation.market_value.report_currency.value,\n",
    ")\n",
    "\n",
    "build_legs_comparison_df(valuation_response.analytics[0].first_leg, valuation_response.analytics[0].second_leg)\n"
   ]
  },
  {
   "cell_type": "markdown",
   "metadata": {},
   "source": [
    "## Deleting the saved instrument"
   ]
  },
  {
   "cell_type": "code",
   "execution_count": 9,
   "metadata": {
    "execution": {
     "iopub.execute_input": "2025-08-21T06:06:50.096473Z",
     "iopub.status.busy": "2025-08-21T06:06:50.096068Z",
     "iopub.status.idle": "2025-08-21T06:06:50.375626Z",
     "shell.execute_reply": "2025-08-21T06:06:50.375141Z"
    }
   },
   "outputs": [
    {
     "data": {
      "text/plain": [
       "True"
      ]
     },
     "execution_count": 9,
     "metadata": {},
     "output_type": "execute_result"
    }
   ],
   "source": [
    "# Delete the instrument we created in HOME space\n",
    "from lseg_analytics.instruments.ir_swaps import delete\n",
    "\n",
    "delete(name=instrument_id, space=\"HOME\")"
   ]
  }
 ],
 "metadata": {
  "kernelspec": {
   "display_name": ".venv",
   "language": "python",
   "name": "python3"
  },
  "language_info": {
   "codemirror_mode": {
    "name": "ipython",
    "version": 3
   },
   "file_extension": ".py",
   "mimetype": "text/x-python",
   "name": "python",
   "nbconvert_exporter": "python",
   "pygments_lexer": "ipython3",
   "version": "3.11.6"
  }
 },
 "nbformat": 4,
 "nbformat_minor": 2
}
