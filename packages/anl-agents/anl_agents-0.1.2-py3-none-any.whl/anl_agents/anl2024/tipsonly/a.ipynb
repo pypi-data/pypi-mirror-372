{
 "cells": [
  {
   "cell_type": "code",
   "execution_count": 24,
   "id": "b4efda482cb75365",
   "metadata": {
    "ExecuteTime": {
     "end_time": "2024-03-15T10:10:42.205206Z",
     "start_time": "2024-03-15T10:10:42.189764Z"
    },
    "collapsed": false
   },
   "outputs": [],
   "source": [
    "from sklearn.cluster import DBSCAN"
   ]
  },
  {
   "cell_type": "code",
   "execution_count": 25,
   "id": "c998d917776f1da6",
   "metadata": {
    "ExecuteTime": {
     "end_time": "2024-03-15T10:10:42.622002Z",
     "start_time": "2024-03-15T10:10:42.613485Z"
    },
    "collapsed": false
   },
   "outputs": [],
   "source": [
    "import numpy as np"
   ]
  },
  {
   "cell_type": "code",
   "execution_count": 26,
   "id": "be177bfb7bed84e9",
   "metadata": {
    "ExecuteTime": {
     "end_time": "2024-03-15T10:10:43.075296Z",
     "start_time": "2024-03-15T10:10:43.063670Z"
    },
    "collapsed": false
   },
   "outputs": [],
   "source": [
    "X = np.array([[1, 2], [2, 2], [2, 3], [8, 7], [8, 8], [25, 80]])"
   ]
  },
  {
   "cell_type": "code",
   "execution_count": 27,
   "id": "initial_id",
   "metadata": {
    "ExecuteTime": {
     "end_time": "2024-03-15T10:10:43.635177Z",
     "start_time": "2024-03-15T10:10:43.513058Z"
    },
    "collapsed": true
   },
   "outputs": [],
   "source": [
    "clustering = DBSCAN(eps=3, min_samples=2).fit(X)"
   ]
  },
  {
   "cell_type": "code",
   "execution_count": 28,
   "id": "1a09edbfa67e630d",
   "metadata": {
    "ExecuteTime": {
     "end_time": "2024-03-15T10:10:43.961390Z",
     "start_time": "2024-03-15T10:10:43.930499Z"
    },
    "collapsed": false
   },
   "outputs": [
    {
     "data": {
      "text/plain": "array([ 0,  0,  0,  1,  1, -1], dtype=int64)"
     },
     "execution_count": 28,
     "metadata": {},
     "output_type": "execute_result"
    }
   ],
   "source": [
    "clustering.labels_"
   ]
  },
  {
   "cell_type": "code",
   "execution_count": 30,
   "id": "db660be13d15ae92",
   "metadata": {
    "ExecuteTime": {
     "end_time": "2024-03-15T10:14:39.598531Z",
     "start_time": "2024-03-15T10:14:39.530786Z"
    },
    "collapsed": false
   },
   "outputs": [],
   "source": [
    "from sklearn.cluster import KMeans\n",
    "\n",
    "kmeans = KMeans(n_clusters=len(set(clustering.labels_)))"
   ]
  },
  {
   "cell_type": "code",
   "execution_count": 31,
   "id": "ef5a6675ff889f00",
   "metadata": {
    "ExecuteTime": {
     "end_time": "2024-03-15T10:14:56.044367Z",
     "start_time": "2024-03-15T10:14:53.595427Z"
    },
    "collapsed": false
   },
   "outputs": [
    {
     "name": "stderr",
     "output_type": "stream",
     "text": [
      "C:\\Users\\adina\\anaconda3\\envs\\m\\lib\\site-packages\\sklearn\\cluster\\_kmeans.py:1412: FutureWarning: The default value of `n_init` will change from 10 to 'auto' in 1.4. Set the value of `n_init` explicitly to suppress the warning\n",
      "  super()._check_params_vs_input(X, default_n_init=10)\n",
      "C:\\Users\\adina\\anaconda3\\envs\\m\\lib\\site-packages\\sklearn\\cluster\\_kmeans.py:1436: UserWarning: KMeans is known to have a memory leak on Windows with MKL, when there are less chunks than available threads. You can avoid it by setting the environment variable OMP_NUM_THREADS=1.\n",
      "  warnings.warn(\n"
     ]
    },
    {
     "data": {
      "text/plain": "array([0, 0, 0, 2, 2, 1])"
     },
     "execution_count": 31,
     "metadata": {},
     "output_type": "execute_result"
    }
   ],
   "source": [
    "kmeans.fit_predict(X)"
   ]
  },
  {
   "cell_type": "code",
   "execution_count": 35,
   "id": "2697f38cf3ac2262",
   "metadata": {
    "ExecuteTime": {
     "end_time": "2024-03-15T10:19:47.911601Z",
     "start_time": "2024-03-15T10:19:47.803102Z"
    },
    "collapsed": false
   },
   "outputs": [],
   "source": [
    "y_pred = np.array([8, 80])\n",
    "y_pred = kmeans.predict(X)"
   ]
  },
  {
   "cell_type": "code",
   "execution_count": 38,
   "id": "faf868bc680cbf6a",
   "metadata": {
    "ExecuteTime": {
     "end_time": "2024-03-15T10:20:32.662988Z",
     "start_time": "2024-03-15T10:20:32.613634Z"
    },
    "collapsed": false
   },
   "outputs": [],
   "source": [
    "y_pred = np.array([8, 80])\n",
    "y_pred = kmeans.predict([y_pred])"
   ]
  },
  {
   "cell_type": "code",
   "execution_count": 39,
   "id": "19fc35d21b6b924",
   "metadata": {
    "ExecuteTime": {
     "end_time": "2024-03-15T10:20:38.965023Z",
     "start_time": "2024-03-15T10:20:38.955023Z"
    },
    "collapsed": false
   },
   "outputs": [
    {
     "data": {
      "text/plain": "array([1])"
     },
     "execution_count": 39,
     "metadata": {},
     "output_type": "execute_result"
    }
   ],
   "source": [
    "y_pred"
   ]
  },
  {
   "cell_type": "code",
   "execution_count": null,
   "id": "4bb84f340b79d3c9",
   "metadata": {
    "collapsed": false
   },
   "outputs": [],
   "source": []
  }
 ],
 "metadata": {
  "kernelspec": {
   "display_name": "Python 3",
   "language": "python",
   "name": "python3"
  },
  "language_info": {
   "codemirror_mode": {
    "name": "ipython",
    "version": 2
   },
   "file_extension": ".py",
   "mimetype": "text/x-python",
   "name": "python",
   "nbconvert_exporter": "python",
   "pygments_lexer": "ipython2",
   "version": "2.7.6"
  }
 },
 "nbformat": 4,
 "nbformat_minor": 5
}
