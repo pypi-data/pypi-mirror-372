{
 "cells": [
  {
   "cell_type": "code",
   "execution_count": 2,
   "metadata": {},
   "outputs": [],
   "source": [
    "import uwacan\n",
    "from uwacan._core import Leaf, Branch, Metadata"
   ]
  },
  {
   "cell_type": "code",
   "execution_count": 12,
   "metadata": {},
   "outputs": [
    {
     "data": {
      "text/plain": [
       "False"
      ]
     },
     "execution_count": 12,
     "metadata": {},
     "output_type": "execute_result"
    }
   ],
   "source": [
    "metadata = Metadata(position='foo', depth='bar')\n",
    "metadata\n",
    "isinstance(Metadata(**metadata), dict)"
   ]
  },
  {
   "cell_type": "code",
   "execution_count": 16,
   "metadata": {},
   "outputs": [
    {
     "data": {
      "text/plain": [
       "[uwacan._core.Metadata,\n",
       " collections.UserDict,\n",
       " collections.abc.MutableMapping,\n",
       " collections.abc.Mapping,\n",
       " collections.abc.Collection,\n",
       " collections.abc.Sized,\n",
       " collections.abc.Iterable,\n",
       " collections.abc.Container,\n",
       " object]"
      ]
     },
     "execution_count": 16,
     "metadata": {},
     "output_type": "execute_result"
    }
   ],
   "source": [
    "Metadata.mro()"
   ]
  },
  {
   "cell_type": "code",
   "execution_count": 17,
   "metadata": {},
   "outputs": [
    {
     "data": {
      "text/plain": [
       "True"
      ]
     },
     "execution_count": 17,
     "metadata": {},
     "output_type": "execute_result"
    }
   ],
   "source": [
    "isinstance(metadata, uwacan._core.collections.abc.Mapping)"
   ]
  },
  {
   "cell_type": "code",
   "execution_count": 18,
   "metadata": {},
   "outputs": [
    {
     "data": {
      "text/plain": [
       "False"
      ]
     },
     "execution_count": 18,
     "metadata": {},
     "output_type": "execute_result"
    }
   ],
   "source": [
    "isinstance(metadata, dict)"
   ]
  },
  {
   "cell_type": "code",
   "execution_count": 19,
   "metadata": {},
   "outputs": [
    {
     "data": {
      "text/plain": [
       "True"
      ]
     },
     "execution_count": 19,
     "metadata": {},
     "output_type": "execute_result"
    }
   ],
   "source": [
    "isinstance({'foo': 'bar'}, uwacan._core.collections.abc.Mapping)"
   ]
  },
  {
   "cell_type": "code",
   "execution_count": null,
   "metadata": {},
   "outputs": [],
   "source": [
    "runs = {}\n",
    "for run, run_meta in [('1400', {'cpa': 100}), ('1410', {'cpa': 105})]:\n",
    "    segments = {}\n",
    "    for segment, segment_meta in [('-15º', {'position': 'left ' + run}), ('0º', {'position': 'middle ' + run}), ('15º', {'position': 'right ' + run})]:\n",
    "        channels = {}\n",
    "        for channel, channel_meta in [(0, {'depth': 6, 'ch const': 'ch const', 'ch seg var': '0 ' + segment}), (1, {'depth': 12, 'ch const': 'ch const', 'ch seg var': '1 ' + segment}), (2, {'depth': 18, 'ch const': 'ch const', 'ch seg var': '2 ' + segment})]:\n",
    "            leaf = Leaf(\n",
    "                # _name=channel,\n",
    "                metadata=channel_meta | {'channel': channel}\n",
    "            )\n",
    "            leaf._data = f'{run = }, {segment = }, {channel = }'\n",
    "            # channels.append(leaf)\n",
    "            channels[channel] = leaf\n",
    "        segments[segment] = Branch(\n",
    "            'channel',\n",
    "            channels,\n",
    "            # _name=segment,\n",
    "            metadata=segment_meta | {'segment': segment},\n",
    "        )\n",
    "    runs[run] = Branch(\n",
    "        'segment',\n",
    "        segments,\n",
    "        # _name=run,\n",
    "        metadata=run_meta | {'run': run},\n",
    "    )\n",
    "top = Branch('run', runs)"
   ]
  },
  {
   "cell_type": "code",
   "execution_count": null,
   "metadata": {},
   "outputs": [],
   "source": [
    "run = top['1400']\n",
    "segment = run['0º']\n",
    "channel = segment[0]\n",
    "# print(run._parent._name)\n",
    "# print(segment._parent._name)\n",
    "# print(channel._parent._name)"
   ]
  },
  {
   "cell_type": "code",
   "execution_count": null,
   "metadata": {},
   "outputs": [],
   "source": []
  },
  {
   "cell_type": "code",
   "execution_count": null,
   "metadata": {},
   "outputs": [],
   "source": [
    "# channel = Leaf(\n",
    "#     _name=0,\n",
    "#     _metadata={'depth': 6}\n",
    "# )\n",
    "# print(channel._parent)\n",
    "# segment = Branch(\n",
    "#     channel,\n",
    "#     _layer='channels',\n",
    "#     _name='0º',\n",
    "#     _metadata={'position': 'middle'},\n",
    "# )\n",
    "# print(channel._parent)\n",
    "# run = Branch(\n",
    "#     segment,\n",
    "#     _layer='segments',\n",
    "#     _name='1400',\n",
    "#     _metadata={'cpa': 100},\n",
    "# )\n",
    "# print(channel._parent)\n",
    "# top = Branch(run, _layer='runs')\n",
    "# print(channel._parent)"
   ]
  },
  {
   "cell_type": "code",
   "execution_count": null,
   "metadata": {},
   "outputs": [],
   "source": [
    "def show_tree(tree):\n",
    "    for depth, node in tree._traverse(return_depth=True):\n",
    "        if isinstance(node, Leaf):\n",
    "            if node._parent:\n",
    "                print(depth * '\\t' + f'Leaf(metadata={node.metadata}, parent.dim={node._parent.dim}, data={node.data})')\n",
    "            else:\n",
    "                print(depth * '\\t' + f'Leaf(metadata={node.metadata}, data={node.data})')\n",
    "        elif node._parent:\n",
    "            print(depth * '\\t' + f'Branch(metadata={node.metadata}, dim={node.dim}, parent.dim={node._parent.dim})')\n",
    "        else:\n",
    "            print(depth * '\\t' + f'Branch(metadata={node.metadata}, dim={node.dim})')"
   ]
  },
  {
   "cell_type": "code",
   "execution_count": null,
   "metadata": {},
   "outputs": [],
   "source": [
    "show_tree(top)"
   ]
  },
  {
   "cell_type": "code",
   "execution_count": null,
   "metadata": {},
   "outputs": [],
   "source": [
    "kwargs = {'test': 'foo'}\n",
    "try:\n",
    "    func(['a'], axis=0, **kwargs)\n",
    "except TypeError as err:\n",
    "    tb = err.__traceback__\n",
    "    while tb is not None:\n",
    "        print((tb.tb_lineno))\n",
    "        tb = tb.tb_next()"
   ]
  },
  {
   "cell_type": "code",
   "execution_count": null,
   "metadata": {},
   "outputs": [],
   "source": [
    "['tb_frame', 'tb_lasti', 'tb_lineno', 'tb_next']\n",
    "error.__traceback__.tb_frame"
   ]
  },
  {
   "cell_type": "code",
   "execution_count": null,
   "metadata": {},
   "outputs": [],
   "source": [
    "dir(error.__traceback__)"
   ]
  },
  {
   "cell_type": "code",
   "execution_count": null,
   "metadata": {},
   "outputs": [],
   "source": [
    "def meta(name, labels, data):\n",
    "    print(name, labels, data)\n",
    "    return data\n",
    "meta = 'keep equal'\n",
    "\n",
    "def func(values, axis=None):\n",
    "    print(f\"Got axis={axis}\")\n",
    "    return ' '.join(values)\n",
    "\n",
    "out = top.reduce(func, dim='channel', metadata_merger=meta, axis=5, test='tert')\n",
    "show_tree(out)"
   ]
  },
  {
   "cell_type": "code",
   "execution_count": null,
   "metadata": {},
   "outputs": [],
   "source": [
    "import numpy as np\n",
    "np.allclose(['foo','bar','baz'], 'foobar')"
   ]
  },
  {
   "cell_type": "code",
   "execution_count": null,
   "metadata": {},
   "outputs": [],
   "source": [
    "def f():\n",
    "    for idx in range(5):\n",
    "        yield idx if idx % 2 else idx/2\n",
    "for i in f():\n",
    "    print(i)"
   ]
  },
  {
   "cell_type": "code",
   "execution_count": null,
   "metadata": {},
   "outputs": [],
   "source": [
    "class Parent:\n",
    "    def __init__(self, x):\n",
    "        self.x = x\n",
    "\n",
    "    @property\n",
    "    def x(self):\n",
    "        print('running Parent.x.getter')\n",
    "        return f'modified in parent getter\\n{self._x}'\n",
    "\n",
    "    @x.setter\n",
    "    def x(self, value):\n",
    "        print('running Parent.x.setter')\n",
    "        self._x = f'modified in parent setter\\n{value}'\n",
    "\n",
    "class Child(Parent):\n",
    "    # @property\n",
    "    # def x(self):\n",
    "    #     print('running Child.x.getter')\n",
    "    #     return f'modified in child getter\\n{super().x}'\n",
    "\n",
    "    @x.setter\n",
    "    def x(self, value):\n",
    "        print('running Child.x.setter')\n",
    "        value = f'modifiend in child setter\\n{value}'\n",
    "        super(Child, type(self)).x.fset(self, value)\n"
   ]
  },
  {
   "cell_type": "code",
   "execution_count": null,
   "metadata": {},
   "outputs": [],
   "source": [
    "obj = Child('value')\n",
    "print()\n",
    "value = obj.x\n",
    "print()\n",
    "print(value)"
   ]
  },
  {
   "cell_type": "code",
   "execution_count": null,
   "metadata": {},
   "outputs": [],
   "source": [
    "import uwacan\n",
    "pos = uwacan.positional.Position(11, 35, 'then')\n",
    "pos = uwacan.positional.Position(pos, timestamp='now')\n",
    "pos"
   ]
  },
  {
   "cell_type": "code",
   "execution_count": null,
   "metadata": {},
   "outputs": [],
   "source": [
    "arg = (35, 24, 11, 16)\n",
    "# arg = {'latitude': 25, 'longitude': 14}\n",
    "*args, = tuple(arg)\n",
    "args"
   ]
  },
  {
   "cell_type": "code",
   "execution_count": null,
   "metadata": {},
   "outputs": [],
   "source": [
    "args"
   ]
  }
 ],
 "metadata": {
  "kernelspec": {
   "display_name": "Underwater Acoustics Analysis Development",
   "language": "python",
   "name": "uwacan-dev"
  },
  "language_info": {
   "codemirror_mode": {
    "name": "ipython",
    "version": 3
   },
   "file_extension": ".py",
   "mimetype": "text/x-python",
   "name": "python",
   "nbconvert_exporter": "python",
   "pygments_lexer": "ipython3",
   "version": "3.10.4"
  },
  "vscode": {
   "interpreter": {
    "hash": "979ad274c403e8ee41fc68b82c820960248f4f2e7151c04f7a4fc8c0b45822e7"
   }
  }
 },
 "nbformat": 4,
 "nbformat_minor": 4
}
