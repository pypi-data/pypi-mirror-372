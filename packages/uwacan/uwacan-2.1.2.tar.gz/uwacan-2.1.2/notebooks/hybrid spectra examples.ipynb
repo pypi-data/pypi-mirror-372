{
 "cells": [
  {
   "cell_type": "code",
   "execution_count": 1,
   "metadata": {},
   "outputs": [],
   "source": [
    "import numpy as np"
   ]
  },
  {
   "cell_type": "code",
   "execution_count": 2,
   "metadata": {},
   "outputs": [],
   "source": [
    "def hybrid_crossover_frequency(bands_per_decade, hybrid_resolution, max_frequency, min_frequency=0):\n",
    "    log_band_scaling = 10 ** (0.5 / bands_per_decade)\n",
    "    # The frequency at which the logspaced bands cover at least one linspaced band\n",
    "    minimum_bandwidth_frequency = hybrid_resolution / (log_band_scaling - 1 / log_band_scaling)\n",
    "    first_log_idx = int(np.ceil(bands_per_decade * np.log10(minimum_bandwidth_frequency)))\n",
    "    last_linear_idx = int(np.floor(minimum_bandwidth_frequency / hybrid_resolution))\n",
    "\n",
    "    # Since the logspaced bands have pre-determined centers, we can't just start them after the linspaced bands.\n",
    "    # Often, the bands will overlap at the minimum bandwidth frequency, so we look for the first band\n",
    "    # that does not overlap, i.e., the upper edge of the last linspaced band is below the lower edge of the first\n",
    "    # logspaced band\n",
    "    while (last_linear_idx + 0.5) * hybrid_resolution > 10 ** (\n",
    "        (first_log_idx - 0.5) / bands_per_decade\n",
    "    ):\n",
    "        # Condition is \"upper edge of last linear band is higher than lower edge of first logarithmic band\"\n",
    "        last_linear_idx += 1\n",
    "        first_log_idx += 1\n",
    "\n",
    "    print(f\"Crossover from linear to log at {hybrid_resolution * last_linear_idx}\")\n",
    "\n",
    "    if last_linear_idx * hybrid_resolution > max_frequency:\n",
    "        last_linear_idx = int(np.floor(max_frequency / hybrid_resolution))\n",
    "    first_linear_idx = int(np.ceil(min_frequency / hybrid_resolution))\n",
    "    last_log_idx = round(bands_per_decade * np.log10(max_frequency))\n",
    "    lin_centers = np.arange(first_linear_idx, last_linear_idx) * hybrid_resolution\n",
    "    log_centers = 10 ** (np.arange(first_log_idx, last_log_idx + 1) / bands_per_decade)\n",
    "\n",
    "    centers = np.concatenate([lin_centers, log_centers])\n",
    "\n",
    "    if centers[0] < min_frequency:\n",
    "        mask = centers >= min_frequency\n",
    "        # lowers = lowers[mask]\n",
    "        centers = centers[mask]\n",
    "        # uppers = uppers[mask]\n",
    "    if centers[-1] > max_frequency:\n",
    "        mask = centers <= max_frequency\n",
    "        # lowers = lowers[mask]\n",
    "        centers = centers[mask]\n",
    "        # uppers = uppers[mask]\n",
    "    print(f\"Using a total of {centers.size} frequencies\")"
   ]
  },
  {
   "cell_type": "code",
   "execution_count": 3,
   "metadata": {},
   "outputs": [
    {
     "name": "stdout",
     "output_type": "stream",
     "text": [
      "Crossover from linear to log at 455\n",
      "Using a total of 2399 frequencies\n"
     ]
    }
   ],
   "source": [
    "hybrid_crossover_frequency(1000, 1, 40000)"
   ]
  }
 ],
 "metadata": {
  "kernelspec": {
   "display_name": ".venv",
   "language": "python",
   "name": "python3"
  },
  "language_info": {
   "codemirror_mode": {
    "name": "ipython",
    "version": 3
   },
   "file_extension": ".py",
   "mimetype": "text/x-python",
   "name": "python",
   "nbconvert_exporter": "python",
   "pygments_lexer": "ipython3",
   "version": "3.11.10"
  }
 },
 "nbformat": 4,
 "nbformat_minor": 2
}
