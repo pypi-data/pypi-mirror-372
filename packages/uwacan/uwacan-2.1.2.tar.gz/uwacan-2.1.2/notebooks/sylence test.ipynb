{
 "cells": [
  {
   "cell_type": "code",
   "execution_count": null,
   "metadata": {},
   "outputs": [],
   "source": [
    "import time\n",
    "import datetime\n",
    "import numpy as np\n",
    "import soundfile\n",
    "import uwacan"
   ]
  },
  {
   "cell_type": "code",
   "execution_count": null,
   "metadata": {},
   "outputs": [],
   "source": [
    "import abc\n",
    "class Parent(abc.ABC):\n",
    "    @staticmethod\n",
    "    def makeprop(name):\n",
    "        def getter(self):\n",
    "            return getattr(self, '_' + name)\n",
    "        return property(getter)\n",
    "\n",
    "    @property\n",
    "    @abc.abstractmethod\n",
    "    def x(self):\n",
    "        ...\n",
    "\n",
    "class Child(Parent):\n",
    "    def __init__(self, x):\n",
    "        self._x = x\n",
    "    x = Parent.makeprop('x')\n",
    "\n",
    "class Second(Parent):\n",
    "    def __init__(self, x):\n",
    "        self._x = x\n",
    "\n",
    "c = Child(5)\n",
    "print(c.x)\n",
    "d = Second(5)"
   ]
  },
  {
   "cell_type": "code",
   "execution_count": null,
   "metadata": {},
   "outputs": [],
   "source": [
    "class File:\n",
    "    def __init__(self, proper):\n",
    "        self.proper = proper\n",
    "        print('Initializing File')\n",
    "        return self.__bool__()\n",
    "\n",
    "    def __bool__(self):\n",
    "        print('checking proper')\n",
    "        return self.proper\n",
    "\n",
    "class Container:\n",
    "    class File(File):\n",
    "        def __init__(self, proper, nice):\n",
    "            print('initializing Container.File')\n",
    "            if not super().__init__(proper):\n",
    "                print('super init incomplete')\n",
    "                return\n",
    "            self.nice = nice\n",
    "\n",
    "        def __bool__(self):\n",
    "            if not super().__bool__():\n",
    "                return False\n",
    "            print('check nice')\n",
    "            return self.nice\n",
    "\n",
    "    def __init__(self, proper, nice):\n",
    "        print('Initializing Container')\n",
    "        if file := self.File(proper, nice):\n",
    "            self.file = file\n",
    "            print('Is proper and nice')\n",
    "\n",
    "c = Container(False, True)"
   ]
  },
  {
   "cell_type": "code",
   "execution_count": null,
   "metadata": {},
   "outputs": [],
   "source": [
    "os.walk?"
   ]
  },
  {
   "cell_type": "code",
   "execution_count": null,
   "metadata": {},
   "outputs": [],
   "source": [
    "import re\n",
    "import os"
   ]
  },
  {
   "cell_type": "code",
   "execution_count": null,
   "metadata": {},
   "outputs": [],
   "source": [
    "def check_w_regex(path):\n",
    "    for date in os.listdir(path):\n",
    "        if not re.match(r'\\d{4}-\\d{2}-\\d{2}', date):\n",
    "            continue\n",
    "        for file in os.listdir(os.path.join(path, date)):\n",
    "            ...\n",
    "\n",
    "def check_w_isdir(path):\n",
    "    for date in os.listdir(path):\n",
    "        if not os.path.isdir(os.path.join(path, date)):\n",
    "            continue\n",
    "        for file in os.listdir(os.path.join(path, date)):\n",
    "            ...\n",
    "\n",
    "def with_walk(path):\n",
    "    for root, dirs, files in os.walk(path):\n",
    "        for file in files:\n",
    "            ...\n",
    "\n",
    "def with_scandir(path):\n",
    "    for date in sorted(filter(lambda d: d.is_dir(), os.scandir(path)), key=lambda d: d.name):\n",
    "        print(date.name)\n",
    "        if date.is_dir():\n",
    "            print('is a dir')\n",
    "            for file in os.scandir(date.path):\n",
    "                ...\n",
    "\n",
    "check_w_regex(path)\n",
    "check_w_isdir(path)\n",
    "with_walk(path)\n",
    "with_scandir(path)"
   ]
  },
  {
   "cell_type": "code",
   "execution_count": null,
   "metadata": {},
   "outputs": [],
   "source": [
    "path = r'C:\\Users\\carl4189\\OneDrive - IVL Svenska Miljöinstitutet AB\\Kalibrering\\RTSYS_data\\Enhet A'\n",
    "dir = next(os.scandir(path))\n",
    "list(dir)"
   ]
  },
  {
   "cell_type": "code",
   "execution_count": 11,
   "metadata": {},
   "outputs": [],
   "source": [
    "path = 'D:\\\\2022_10_Mälaren\\\\RTsys1\\\\'\n",
    "# path = r'C:\\Users\\carl4189\\OneDrive - IVL Svenska Miljöinstitutet AB\\Kalibrering\\RTSYS_data\\Enhet A'"
   ]
  },
  {
   "cell_type": "code",
   "execution_count": 12,
   "metadata": {},
   "outputs": [],
   "source": [
    "rtsys = uwacan.recordings.SylenceLP(path)"
   ]
  },
  {
   "cell_type": "code",
   "execution_count": null,
   "metadata": {},
   "outputs": [],
   "source": [
    "for file in rtsys.files:\n",
    "    print(file.start_time, hasattr(file, '_stop_time'))"
   ]
  },
  {
   "cell_type": "code",
   "execution_count": null,
   "metadata": {},
   "outputs": [],
   "source": [
    "file = rtsys.files[0]\n",
    "print(file.name)\n",
    "print(file.start_time)\n",
    "file.read_info()\n",
    "print(file.start_time)"
   ]
  },
  {
   "cell_type": "code",
   "execution_count": null,
   "metadata": {},
   "outputs": [],
   "source": [
    "time_deltas = []\n",
    "start_in_name = []\n",
    "for file in rtsys.files:\n",
    "    from_name = file.start_time\n",
    "    start_in_name.append(from_name)\n",
    "    file.read_info()\n",
    "    from_header = file.start_time\n",
    "    time_deltas.append((from_header - from_name).total_seconds())\n",
    "time_deltas = np.asarray(time_deltas)"
   ]
  },
  {
   "cell_type": "code",
   "execution_count": null,
   "metadata": {},
   "outputs": [],
   "source": [
    "import plotly.graph_objects as go\n",
    "go.Figure(go.Scatter(x=start_in_name, y=time_deltas))"
   ]
  },
  {
   "cell_type": "code",
   "execution_count": null,
   "metadata": {},
   "outputs": [],
   "source": [
    "file = rtsys.files[-2]\n",
    "file.start_time, file.bitdepth, file.samplerate, file.gain"
   ]
  },
  {
   "cell_type": "code",
   "execution_count": 14,
   "metadata": {},
   "outputs": [
    {
     "name": "stdout",
     "output_type": "stream",
     "text": [
      "(15360000,)\n"
     ]
    }
   ],
   "source": [
    "segment = rtsys[uwacan.positional.TimeWindow(center=\"2022-10-5 06:08 +2\", duration=120)]\n",
    "data = segment.data\n",
    "print(data.data.shape)"
   ]
  },
  {
   "cell_type": "code",
   "execution_count": 16,
   "metadata": {},
   "outputs": [
    {
     "data": {
      "text/plain": [
       "128000.0"
      ]
     },
     "execution_count": 16,
     "metadata": {},
     "output_type": "execute_result"
    }
   ],
   "source": [
    "data.data.size / 120"
   ]
  },
  {
   "cell_type": "code",
   "execution_count": 15,
   "metadata": {},
   "outputs": [
    {
     "data": {
      "text/plain": [
       "126.40008183214748"
      ]
     },
     "execution_count": 15,
     "metadata": {},
     "output_type": "execute_result"
    }
   ],
   "source": [
    "10*np.log10(np.mean(data.data**2) / 1e-12)\n"
   ]
  },
  {
   "cell_type": "code",
   "execution_count": null,
   "metadata": {},
   "outputs": [],
   "source": [
    "20 * np.log10(5.62341)"
   ]
  },
  {
   "cell_type": "code",
   "execution_count": null,
   "metadata": {},
   "outputs": [],
   "source": [
    "rtsys.calibration"
   ]
  },
  {
   "cell_type": "code",
   "execution_count": null,
   "metadata": {},
   "outputs": [],
   "source": [
    "rtsys.files[0].hydrophone_sensitivity"
   ]
  },
  {
   "cell_type": "code",
   "execution_count": null,
   "metadata": {},
   "outputs": [],
   "source": [
    "file_value = 1\n",
    "hydrophone_sens = -178\n",
    "gain = 15\n",
    "voltage_range = 2.5\n",
    "\n",
    "calibration = hydrophone_sens + gain - 20*np.log10(voltage_range)\n",
    "c = 10**(calibration / 20) / 1e-6\n",
    "pressure = file_value / c\n",
    "print(20*np.log10(pressure / 1e-6))"
   ]
  },
  {
   "cell_type": "code",
   "execution_count": null,
   "metadata": {},
   "outputs": [],
   "source": [
    "data.data.size / rtsys.samplerate"
   ]
  },
  {
   "cell_type": "code",
   "execution_count": null,
   "metadata": {},
   "outputs": [],
   "source": [
    "import re\n",
    "contents = open(r'D:\\2022_10_Mälaren\\RTsys1\\2022-09-20\\log_2022-09-20_10-00-03.txt', 'r').read()\n",
    "print(len(contents))\n",
    "# contents = re.sub(r'\u001b\\[.*?m', '', contents)\n",
    "# contents = re.sub(r\"^\u001b\\[0;33m\\[[ \\d]{8}\\] \u001b\\[msd:\\d files:\\d \\(e:\\d\\) max:[ \\d]{6}\\/[ \\d]{6}\\/[ \\d]{6}\\/[ \\d]{6} size written:[ \\d]{3}\\/[ \\d]{3}MB adc:[ \\d]{6}\\(p:\\d\\)\\n\", '', contents, flags=re.MULTILINE)\n",
    "# contents = re.sub(r\"^\\[[ \\d]+?\\] sd:\\d files:\\d+? \\(e:\\d\\) max:[ \\d]+?\\/[ \\d]+?\\/[ \\d]+?\\/[ \\d]+? size written:[ \\d]+?\\/[ \\d]+?MB adc:[ \\d]+?\\(p:\\d\\)\\n\", '', contents, flags=re.MULTILINE)\n",
    "# contents = re.sub(r\"^\\[[ \\d]+?\\] Vin = \\d+\\.\\dV, Iin = \\d+\\.\\d+A, Power = \\d+\\.\\d+W, Temp = \\d+\\.\\d+Â°C\\n\", '', contents, flags=re.MULTILINE)\n",
    "# contents = re.sub(r\"^\\[[ \\d]+?\\] status RTC: 0xC1, serial: 0x\\d+?, logs: 0x00, int. ADC: 0x00, ÂµP: 0\\n\", '', contents, flags=re.MULTILINE)\n",
    "# contents = re.sub(r\"^\\[[ \\d]+?\\] PSU input OK: 1, PSU output OK: 1\\n\", '', contents, flags=re.MULTILINE)\n",
    "\n",
    "contents = re.sub(\n",
    "    r\"\u001b\\[.*?m\\[[ \\d]+?\\] \u001b\\[.*?m(\"\n",
    "    r\"sd:\\d files:\\d+? \\(e:\\d\\) max:[ \\d]+?\\/[ \\d]+?\\/[ \\d]+?\\/[ \\d]+? size written:[ \\d]+?\\/[ \\d]+?MB adc:[ \\d]+?\\(p:\\d\\)\"\n",
    "    r\"|Vin = \\d+\\.\\dV, Iin = \\d+\\.\\d+A, Power = \\d+\\.\\d+W, Temp = \\d+\\.\\d+Â°C\"\n",
    "    r\"|status RTC: 0xC1, serial: 0x\\d+?, logs: 0x00, int. ADC: 0x00, ÂµP: 0\"\n",
    "    r\"|PSU input OK: 1, PSU output OK: 1\"\n",
    "    r\")\\n\"\n",
    "    , '', contents\n",
    ")\n",
    "\n",
    "# contents = re.sub(\n",
    "#     r\"^\u001b\\[.*?m\\[[ \\d]+?\\] \u001b\\[.*?m\"\n",
    "#     r\"sd:\\d files:\\d+? \\(e:\\d\\) max:[ \\d]+?\\/[ \\d]+?\\/[ \\d]+?\\/[ \\d]+? size written:[ \\d]+?\\/[ \\d]+?MB adc:[ \\d]+?\\(p:\\d\\)\"\n",
    "#     # r\"|Vin = \\d+\\.\\dV, Iin = \\d+\\.\\d+A, Power = \\d+\\.\\d+W, Temp = \\d+\\.\\d+Â°C\"\n",
    "#     # r\"|status RTC: 0xC1, serial: 0x\\d+?, logs: 0x00, int. ADC: 0x00, ÂµP: 0\"\n",
    "#     # r\"|PSU input OK: 1, PSU output OK: 1\"\n",
    "#     \"\\n\", '', contents, re.MULTILINE)\n",
    "# con\n",
    "# contents = re.sub(r'^\u001b\\[0;33m\\[[ \\d]{8}\\] \u001b\\[msd:\\d files:\\d \\(e:\\d\\) max:[ \\d]{6}\\/[ \\d]{6}\\/[ \\d]{6}\\/[ \\d]{6} size written:[ \\d]{3}\\/[ \\d]{3}MB adc:[ \\d]{6}\\(p:\\d\\)\\n', '', contents, flags=re.MULTILINE)\n",
    "for line in contents.split('\\n')[100:109]:\n",
    "    print(line)\n",
    "print(len(contents))\n",
    "# with open('temp log.txt', 'w') as file:\n",
    "    # file.write(contents)"
   ]
  },
  {
   "cell_type": "code",
   "execution_count": null,
   "metadata": {},
   "outputs": [],
   "source": [
    "line"
   ]
  },
  {
   "cell_type": "code",
   "execution_count": null,
   "metadata": {},
   "outputs": [],
   "source": [
    "print(\n",
    "    \"foo\"\n",
    "    \"bar\"\n",
    ")"
   ]
  },
  {
   "cell_type": "code",
   "execution_count": null,
   "metadata": {},
   "outputs": [],
   "source": [
    "file = rtsys.files[489]\n",
    "print(file.name)\n",
    "print(file.start_time)\n",
    "print(file.stop_time)"
   ]
  },
  {
   "cell_type": "code",
   "execution_count": null,
   "metadata": {},
   "outputs": [],
   "source": [
    "file_created_at = datetime.datetime(2022,9,20,10,0,0) + datetime.timedelta(seconds=1280828526e-3)\n",
    "file_records_at = datetime.datetime(2022,9,20,10,0,0) + datetime.timedelta(seconds=1282139501e-3)\n",
    "print(file_created_at)\n",
    "print(file_records_at)"
   ]
  },
  {
   "cell_type": "code",
   "execution_count": null,
   "metadata": {},
   "outputs": [],
   "source": [
    "contents = open(r'D:\\2022_10_Mälaren\\RTsys1\\2022-09-20\\log_2022-09-20_10-00-03.txt', 'r').read()\n",
    "matches = re.findall(r'^\u001b\\[0;33m\\[[ \\d]{8}\\] \u001b\\[msd:\\d files:\\d \\(e:\\d\\) max:[ \\d]{6}\\/[ \\d]{6}\\/[ \\d]{6}\\/[ \\d]{6} size written:[ \\d]{3}\\/[ \\d]{3}MB adc:[ \\d]{6}\\(p:\\d\\)\\n', contents, flags=re.MULTILINE)\n",
    "len(matches)"
   ]
  },
  {
   "cell_type": "code",
   "execution_count": null,
   "metadata": {},
   "outputs": [],
   "source": [
    "print(contents)"
   ]
  },
  {
   "cell_type": "code",
   "execution_count": null,
   "metadata": {},
   "outputs": [],
   "source": [
    "with open(r'D:\\2022_10_Mälaren\\RTsys1\\2022-09-20\\log_2022-09-20_10-00-03.txt', 'r') as input_file, open(r'temp_log.txt', 'w') as output_file:\n",
    "    for line in input_file:\n",
    "        if 'sd:' in line and 'files:' in line and "
   ]
  }
 ],
 "metadata": {
  "kernelspec": {
   "display_name": "Python 3.10.4 ('uwacan-dev')",
   "language": "python",
   "name": "python3"
  },
  "language_info": {
   "codemirror_mode": {
    "name": "ipython",
    "version": 3
   },
   "file_extension": ".py",
   "mimetype": "text/x-python",
   "name": "python",
   "nbconvert_exporter": "python",
   "pygments_lexer": "ipython3",
   "version": "3.10.4"
  },
  "orig_nbformat": 4,
  "vscode": {
   "interpreter": {
    "hash": "979ad274c403e8ee41fc68b82c820960248f4f2e7151c04f7a4fc8c0b45822e7"
   }
  }
 },
 "nbformat": 4,
 "nbformat_minor": 2
}
