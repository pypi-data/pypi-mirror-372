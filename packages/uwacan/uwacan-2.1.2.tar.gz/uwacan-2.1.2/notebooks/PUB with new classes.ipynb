{
 "cells": [
  {
   "cell_type": "code",
   "execution_count": 45,
   "metadata": {},
   "outputs": [
    {
     "data": {
      "text/plain": [
       "'2024-10-09 10-35-16.2379549Z'"
      ]
     },
     "execution_count": 45,
     "metadata": {},
     "output_type": "execute_result"
    }
   ],
   "source": [
    "import whenever\n",
    "whenever.Instant.now().format_rfc3339().replace(\":\", \"-\")"
   ]
  },
  {
   "cell_type": "code",
   "execution_count": 55,
   "metadata": {},
   "outputs": [
    {
     "data": {
      "text/plain": [
       "'2024-10-09 10-40-50'"
      ]
     },
     "execution_count": 55,
     "metadata": {},
     "output_type": "execute_result"
    }
   ],
   "source": [
    "now = whenever.Instant.now()\n",
    "now.py_datetime().strftime(\"%Y-%m-%d %H-%M-%S\")"
   ]
  },
  {
   "cell_type": "code",
   "execution_count": 49,
   "metadata": {},
   "outputs": [
    {
     "name": "stdout",
     "output_type": "stream",
     "text": [
      "2024-10-09 12:37:11.9798553+02:00\n",
      "2024-10-09T12:37:11.9798553+02:00\n"
     ]
    }
   ],
   "source": [
    "now = whenever.Instant.now().to_system_tz().to_fixed_offset()\n",
    "print(now.format_rfc3339())\n",
    "print(now.format_common_iso())\n",
    "# now.to_system_tz().to_fixed_offset().format_rfc3339()"
   ]
  },
  {
   "cell_type": "code",
   "execution_count": 1,
   "metadata": {},
   "outputs": [],
   "source": [
    "import uwacan\n",
    "import plotly.graph_objects as go\n",
    "import plotly\n",
    "import plotly.colors as pco\n",
    "import plotly.subplots\n",
    "import xarray as xr\n",
    "import numpy as np\n",
    "\n",
    "plotly.io.templates.default = 'plotly_white'\n",
    "\n",
    "from pathlib import Path\n",
    "\n",
    "# from importlib import reload\n",
    "# reload(uwacan.positional.implementations)\n",
    "# reload(uwacan.positional._wrappers)\n",
    "# reload(uwacan.positional)\n",
    "# reload(uwacan.analysis)\n",
    "# reload(uwacan.recordings)\n",
    "\n",
    "data_path = Path(r'D:\\Tern Island Vinga')"
   ]
  },
  {
   "cell_type": "markdown",
   "metadata": {},
   "source": [
    "# Position track"
   ]
  },
  {
   "cell_type": "code",
   "execution_count": null,
   "metadata": {},
   "outputs": [],
   "source": [
    "position_track = uwacan.Track.read_nmea_gps(r'C:\\Users\\carl4189\\OneDrive - IVL Svenska Miljöinstitutet AB\\Dokument\\Projects\\PUB\\GPS Kongsberg.txt')\n",
    "position_track[\"depth\"] = 5\n",
    "fig = position_track.make_figure()\n",
    "fig.add_trace(position_track.plot(hover_data={\"speed\": True}))"
   ]
  },
  {
   "cell_type": "code",
   "execution_count": 3,
   "metadata": {},
   "outputs": [],
   "source": [
    "transit_tracks = [\n",
    "    position_track.subwindow(start='2023-08-30 12:18:00z', stop='2023-08-30 12:23:00z'),\n",
    "    position_track.subwindow(start='2023-08-30 12:36:00z', stop='2023-08-30 12:41:00z'),\n",
    "    position_track.subwindow(start='2023-08-30 12:58:00z', stop='2023-08-30 13:02:00z'),\n",
    "    position_track.subwindow(start='2023-08-30 13:29:00z', stop='2023-08-30 13:34:00z'),\n",
    "    position_track.subwindow(start='2023-08-30 13:58:00z', stop='2023-08-30 14:03:00z'),\n",
    "    position_track.subwindow(start='2023-08-30 14:30:00z', stop='2023-08-30 14:36:00z'),\n",
    "    position_track.subwindow(start='2023-08-30 15:02:00z', stop='2023-08-30 15:06:00z'),\n",
    "]"
   ]
  },
  {
   "cell_type": "markdown",
   "metadata": {},
   "source": [
    "# Sensor positions\n",
    "From the sea chart and some mild interpolation, it seems to be a reasonable assumption that the water depth for all sensors is 46 meters.\n",
    "We have the following measurement setup:\n",
    "\n",
    "Sensor | Distance from track | Height above bottom | Position\n",
    "-------|---------------------|---------------------|---------\n",
    "Sylence 1 | 0 | 2 | 57.62300, 11.5775\n",
    "Soundtrap 1 | 40 | 2 | 57.62325, 11.57790\n",
    "Soundtrap 2 | 70 | 2 | 57.62350, 11.57827\n",
    "Soundtrap 3 | 70 | 20 | 57.62350, 11.57827\n",
    "Colmar 1 (155) | 147 | 2 | 57, 37.3070, 11, 34.4888\n",
    "Colmar 2 (156) | 147 | 12 | 57, 37.3070, 11, 34.4888\n",
    "Colmar 3 (157) (No signal) | 147 | 22 | 57, 37.3070, 11, 34.4888\n",
    "Sylence 2 | 200 | 2 | 57, 37.5036, 11, 34.7163\n",
    "Soundtrap 4 (Foi) | 200 | 15 | 57, 37.5036, 11, 34.7163"
   ]
  },
  {
   "cell_type": "code",
   "execution_count": 4,
   "metadata": {},
   "outputs": [],
   "source": [
    "auto_sensors = (\n",
    "    uwacan.sensor('SoundTrap 1', depth=46 - 2, sensitivity=-176.6, position= (57.62325, 11.57790))  # SN 5305\n",
    "    & uwacan.sensor('SoundTrap 2', depth=46 - 2, sensitivity=-176.4, position= (57.62350, 11.57827))  # SN 5300\n",
    "    & uwacan.sensor('SoundTrap 3', depth=46 - 20, sensitivity=-174.8, position=(57.62350, 11.57827))  # SN 5485\n",
    "    & uwacan.sensor('SoundTrap 4', depth=46 - 15, sensitivity=-174.0, position=(57, 37.5036, 11, 34.7163))\n",
    "    & uwacan.sensor('Sylence 1', depth=46 - 2, sensitivity=-179.2, position= (57.62300, 11.5775))\n",
    "    & uwacan.sensor('Sylence 2', depth=46 - 2, sensitivity=-178.7, position= (57, 37.5036, 11, 34.7163))\n",
    ")\n",
    "cable_sensors = (\n",
    "    uwacan.sensor('Colmar 1', depth=46 - 2, sensitivity=-164.09, position=(57, 37.3070, 11, 34.4888))\n",
    "    & uwacan.sensor('Colmar 2', depth=46 - 12, sensitivity=-164.24, position=(57, 37.3070, 11, 34.4888))\n",
    ")\n",
    "all_sensors = auto_sensors & cable_sensors"
   ]
  },
  {
   "cell_type": "markdown",
   "metadata": {},
   "source": [
    "# Recorders"
   ]
  },
  {
   "cell_type": "code",
   "execution_count": 5,
   "metadata": {},
   "outputs": [],
   "source": [
    "soundtrap_1 = uwacan.recordings.SoundTrap.read_folder(\n",
    "    data_path / 'Autonomous Recorders' / 'IVL SoundTrap 1',\n",
    "    sensor=auto_sensors.sensors['SoundTrap 1'],\n",
    "    time_compensation=uwacan.recordings.TimeCompensation('2023-08-30 15:04:17.3z', '2023-08-30 17:04:04.1z'),\n",
    "    # time_compensation=7200,  # Yup, time is in local...\n",
    ")\n",
    "soundtrap_2 = uwacan.recordings.SoundTrap.read_folder(\n",
    "    data_path / 'Autonomous Recorders' / 'IVL SoundTrap 2',\n",
    "    sensor=auto_sensors.sensors['SoundTrap 2'],\n",
    "    time_compensation=uwacan.recordings.TimeCompensation('2023-08-30 15:04:17.3z', '2023-08-30 17:04:08.1z'),\n",
    "    # time_compensation=7200,  # Yup, time is in local...\n",
    ")\n",
    "soundtrap_3 = uwacan.recordings.SoundTrap.read_folder(\n",
    "    data_path / 'Autonomous Recorders' / 'IVL SoundTrap 3',\n",
    "    sensor=auto_sensors.sensors['SoundTrap 3'],\n",
    "    time_compensation=uwacan.recordings.TimeCompensation('2023-08-30 15:04:17.3z', '2023-08-30 17:04:08.5z'),\n",
    "    # time_compensation=7200,  # Yup, time is in local...\n",
    ")\n",
    "soundtrap_foi = uwacan.recordings.SoundTrap.read_folder(\n",
    "    data_path / 'Autonomous Recorders' / 'FOI SoundTrap',\n",
    "    sensor=auto_sensors.sensors['SoundTrap 4'],\n",
    "    time_compensation=uwacan.recordings.TimeCompensation('2023-08-30 15:04:17.3z', '2023-08-30 17:04:15.2z'),\n",
    "    # time_compensation=7200,  # Yup, time is in local...\n",
    ")\n",
    "sylence_1 = uwacan.recordings.SylenceLP.read_folder(\n",
    "    data_path / 'Autonomous Recorders' / 'IVL Sylence 1',\n",
    "    sensor=auto_sensors.sensors['Sylence 1'],\n",
    "    time_compensation=uwacan.recordings.TimeCompensation('2023-08-30 15:04:17.3z', '2023-08-30 15:04:17.3z'),\n",
    ")\n",
    "sylence_2 = uwacan.recordings.SylenceLP.read_folder(\n",
    "    data_path / 'Autonomous Recorders' / 'IVL Sylence 2',\n",
    "    sensor=auto_sensors.sensors['Sylence 2'],\n",
    "    time_compensation=uwacan.recordings.TimeCompensation('2023-08-30 15:04:17.3z', '2023-08-30 15:04:18.4z'),\n",
    ")"
   ]
  },
  {
   "cell_type": "code",
   "execution_count": 6,
   "metadata": {},
   "outputs": [],
   "source": [
    "fireface_recordings = uwacan.recordings.MultichannelAudioInterfaceRecording.read_folder(\n",
    "    folder=data_path / 'Manual Recordings' / 'Fireface',\n",
    "    # start_time_parser='YYYY-MM-DD_HH-mm-ss',\n",
    "    start_time_parser='%Y-%m-%d_%H-%M-%S',\n",
    "    sensor=cable_sensors,\n",
    "    # adc_range=10**(19/20) * 2**0.5 * 0.6**0.5,\n",
    "    adc_range=uwacan.recordings.dBx_to_peak_volts(\"19 dBu\"),\n",
    "    channel={'Colmar 1': 0, 'Colmar 2': 1},\n",
    "    glob_pattern='*.wav'\n",
    ")\n",
    "\n",
    "fireface_transits = [\n",
    "    uwacan.Transit(fireface_recordings.select_file_time(\n",
    "        track.closest_point(fireface_recordings.sensor)[\"time\"]\n",
    "    ), track)\n",
    "    for track in transit_tracks\n",
    "]"
   ]
  },
  {
   "cell_type": "markdown",
   "metadata": {},
   "source": [
    "## Plotting single passages"
   ]
  },
  {
   "cell_type": "code",
   "execution_count": null,
   "metadata": {},
   "outputs": [],
   "source": [
    "transit = transit_tracks[0]\n",
    "recording = fireface_recordings\n",
    "# recording = soundtrap_1\n",
    "cpa = transit.closest_point(recording.sensor)\n",
    "time_data = recording.subwindow(center=cpa.time, duration=120).time_data()\n",
    "if \"sensor\" in time_data.dims:\n",
    "    time_data = time_data.sel(sensor=\"Colmar 1\")\n",
    "\n",
    "spec = uwacan.spectral.Spectrogram(\n",
    "    time_data,\n",
    "    bands_per_decade=100,\n",
    "    frame_step=0.5,\n",
    "    frame_duration=1,\n",
    "    # hybrid_resolution=1,\n",
    "    hybrid_resolution=True,\n",
    "    min_frequency=5,\n",
    "    max_frequency=40_000,\n",
    ")\n",
    "fig = spec.make_figure()\n",
    "fig.add_trace(spec.plot())\n",
    "fig.show()\n",
    "# go.Figure(\n",
    "#     go.Heatmap(\n",
    "#         x=spec.time,\n",
    "#         y=spec.frequency,\n",
    "#         z=uwacan.dB(spec, power=True)\n",
    "#     ),\n",
    "#     {\n",
    "#         \"yaxis\": {\"type\": \"log\"}\n",
    "#     }\n",
    "# ).show()\n"
   ]
  },
  {
   "cell_type": "markdown",
   "metadata": {},
   "source": [
    "# Propagation model"
   ]
  },
  {
   "cell_type": "code",
   "execution_count": 8,
   "metadata": {},
   "outputs": [],
   "source": [
    "propagation_model = uwacan.propagation.SeabedCriticalAngle(\n",
    "    water_depth=46,\n",
    "    substrate_compressional_speed=1507,\n",
    "    speed_of_sound=1503,\n",
    ")"
   ]
  },
  {
   "cell_type": "code",
   "execution_count": null,
   "metadata": {},
   "outputs": [],
   "source": [
    "frequency = np.geomspace(10, 10_000)\n",
    "go.Figure(\n",
    "    [\n",
    "        go.Scatter(\n",
    "            x=frequency,\n",
    "            y=uwacan.dB(propagation_model.power_propagation(distance=50, source_depth=5, receiver_depth=40, frequency=frequency)),\n",
    "            name='50 m'\n",
    "        ),\n",
    "        go.Scatter(\n",
    "            x=frequency,\n",
    "            y=uwacan.dB(propagation_model.power_propagation(distance=100, source_depth=5, receiver_depth=40, frequency=frequency)),\n",
    "            name='100 m'\n",
    "        ),\n",
    "        go.Scatter(\n",
    "            x=frequency,\n",
    "            y=uwacan.dB(propagation_model.power_propagation(distance=200, source_depth=5, receiver_depth=40, frequency=frequency)),\n",
    "            name='200 m'\n",
    "        ),\n",
    "    ],\n",
    "    {\n",
    "        'xaxis': {'type': 'log', 'title': 'Frequency'},\n",
    "        'yaxis': {'title': 'PL'},\n",
    "    }\n",
    ").show()\n",
    "\n",
    "distance = np.geomspace(5, 300)\n",
    "go.Figure(\n",
    "    [\n",
    "        go.Scatter(\n",
    "            x=distance,\n",
    "            y=uwacan.dB(propagation_model.power_propagation(distance=distance, source_depth=5, receiver_depth=40, frequency=10)),\n",
    "            name='10 Hz',\n",
    "        ),\n",
    "        go.Scatter(\n",
    "            x=distance,\n",
    "            y=uwacan.dB(propagation_model.power_propagation(distance=distance, source_depth=5, receiver_depth=40, frequency=100)),\n",
    "            name='100 Hz',\n",
    "        ),\n",
    "        go.Scatter(\n",
    "            x=distance,\n",
    "            y=uwacan.dB(propagation_model.power_propagation(distance=distance, source_depth=5, receiver_depth=40, frequency=1000)),\n",
    "            name='1000 Hz',\n",
    "        ),\n",
    "    ],\n",
    "    {\n",
    "        'xaxis': {'type': 'log', 'title': 'Range'},\n",
    "        'yaxis': {'title': 'PL'},\n",
    "    }\n",
    ").show()\n"
   ]
  },
  {
   "cell_type": "markdown",
   "metadata": {},
   "source": [
    "# Analysis settings"
   ]
  },
  {
   "cell_type": "code",
   "execution_count": 10,
   "metadata": {},
   "outputs": [],
   "source": [
    "filterbank = uwacan.spectral.Spectrogram(\n",
    "    # window_duration=5,\n",
    "    frame_overlap=0.5,\n",
    "    bands_per_decade=100,\n",
    "    hybrid_resolution=0.2,\n",
    "    min_frequency=5,\n",
    "    max_frequency=40e3,\n",
    ")"
   ]
  },
  {
   "cell_type": "code",
   "execution_count": null,
   "metadata": {},
   "outputs": [],
   "source": [
    "mean_background.sel(frequency=1e3)"
   ]
  },
  {
   "cell_type": "code",
   "execution_count": 11,
   "metadata": {},
   "outputs": [],
   "source": [
    "recording = fireface_recordings.select_file_time(\"2023-08-30 12:32:57z\")\n",
    "time_data = recording.time_data()\n",
    "# mean_background = filterbank(time_data).mean(\"time\")\n",
    "mean_background = uwacan.spectral.Spectrogram(\n",
    "    time_data,\n",
    "    frame_step=2,\n",
    "    bands_per_decade=10,\n",
    "    min_frequency=20,\n",
    "    max_frequency=20_000,\n",
    ").mean(\"time\")\n",
    "background_noise = uwacan.background.Background(mean_background)"
   ]
  },
  {
   "cell_type": "code",
   "execution_count": 14,
   "metadata": {},
   "outputs": [],
   "source": [
    "ship_level = uwacan.analysis.ShipLevel.analyze_transits(\n",
    "    *fireface_transits,\n",
    "    filterbank=filterbank,\n",
    "    propagation_model=propagation_model,\n",
    "    background_noise=background_noise,\n",
    "    transit_min_angle=30,\n",
    "    transit_min_duration=30,\n",
    ")"
   ]
  },
  {
   "cell_type": "code",
   "execution_count": null,
   "metadata": {},
   "outputs": [],
   "source": [
    "# source_level = ship_level.sel(transit=slice(4, 7)).mean([\"segment\", \"transit\", \"sensor\"]).source_level\n",
    "source_level = ship_level.sel(transit=slice(4, 7)).power_average([\"sensor\", \"segment\"]).level_average(\"transit\").source_level\n",
    "source_level = uwacan.analysis.convert_to_radiated_noise(source_level, 5, mode=\"iso\", power=False)\n",
    "go.Figure(go.Scatter(x=source_level.frequency, y=source_level)).update_xaxes(type=\"log\")"
   ]
  },
  {
   "cell_type": "code",
   "execution_count": null,
   "metadata": {},
   "outputs": [],
   "source": [
    "fig = go.Figure(layout=dict(\n",
    "    xaxis=dict(\n",
    "        type=\"log\"\n",
    "    )\n",
    "))\n",
    "for transit, data in ship_level.groupby(\"transit\"):\n",
    "    fig.add_scatter(x=data.frequency, y=data.power_average([\"segment\", \"sensor\"]).source_level)\n",
    "fig.show()"
   ]
  },
  {
   "cell_type": "code",
   "execution_count": null,
   "metadata": {},
   "outputs": [],
   "source": [
    "all_sensors.sel(sensor=\"Colmar 1\")"
   ]
  },
  {
   "cell_type": "code",
   "execution_count": null,
   "metadata": {},
   "outputs": [],
   "source": [
    "snr = ship_level.power_average([\"segment\", \"transit\", \"sensor\"]).snr\n",
    "go.Figure(go.Scatter(x=snr.frequency, y=snr)).update_xaxes(type=\"log\")"
   ]
  },
  {
   "cell_type": "code",
   "execution_count": null,
   "metadata": {},
   "outputs": [],
   "source": [
    "# meets_snr = ship_level.meets_snr_threshold(3).mean([\"transit\", \"segment\", \"sensor\"]) * 100\n",
    "meets_snr = ship_level.meets_snr_threshold(3).mean([\"sensor\", \"segment\", \"transit\"]) * 100\n",
    "# meets_snr = ship_level.power_average([\"sensor\", \"segment\"]).meets_snr_threshold(3).mean(\"transit\") * 100\n",
    "go.Figure(go.Scatter(x=meets_snr.frequency, y=meets_snr)).update_xaxes(type=\"log\")"
   ]
  },
  {
   "cell_type": "code",
   "execution_count": null,
   "metadata": {},
   "outputs": [],
   "source": [
    "spread = ship_level.source_level.std([\"sensor\", \"segment\", \"transit\"])\n",
    "go.Figure(go.Scatter(x=spread.frequency, y=spread)).update_xaxes(type=\"log\")"
   ]
  },
  {
   "cell_type": "code",
   "execution_count": null,
   "metadata": {},
   "outputs": [],
   "source": [
    "cpa\n",
    "segments = transit.aspect_segments(\n",
    "    reference=recording.sensor,\n",
    "    angles=[-45, -30, -15, 0, 15, 30, 45],\n",
    "    segment_min_length=100,\n",
    ")\n",
    "display(transit.subwindow(segments, extend=10).time_window)\n",
    "display(transit.subwindow(segments).time_window)"
   ]
  },
  {
   "cell_type": "code",
   "execution_count": null,
   "metadata": {},
   "outputs": [],
   "source": [
    "transit.subwindow(segments.sel(segment=-15, edge=\"center\").time)"
   ]
  },
  {
   "cell_type": "code",
   "execution_count": null,
   "metadata": {},
   "outputs": [],
   "source": [
    "ship_level = uwacan.analysis.ShipLevel.analyze_transits(\n",
    "    *fireface_transits,\n",
    "    filterbank=filterbank,\n",
    "    propagation_model=propagation_model,\n",
    "    background_noise=background,\n",
    "    transit_min_angle=60,\n",
    "    transit_min_duration=30,\n",
    ")"
   ]
  },
  {
   "cell_type": "code",
   "execution_count": null,
   "metadata": {},
   "outputs": [],
   "source": [
    "ship_level._data.set_coords(\"latitude\")"
   ]
  },
  {
   "cell_type": "code",
   "execution_count": null,
   "metadata": {},
   "outputs": [],
   "source": [
    "results.mean(\"segment\")"
   ]
  },
  {
   "cell_type": "code",
   "execution_count": null,
   "metadata": {},
   "outputs": [],
   "source": [
    "# transit.track.resample(segment.time.sel(edge=\"center\"))._dataf\n",
    "transit.track.resample(segments.time.sel(edge=\"center\"))._data"
   ]
  },
  {
   "cell_type": "code",
   "execution_count": null,
   "metadata": {},
   "outputs": [],
   "source": [
    "source_pos = transit.track.resample(segments.time.sel(edge=\"center\"))._data\n",
    "segments.sel(edge=\"center\").longitude - source_pos.longitude"
   ]
  },
  {
   "cell_type": "code",
   "execution_count": null,
   "metadata": {},
   "outputs": [],
   "source": [
    "transits = fireface_transits[:2]\n",
    "aspect_angles = [-45, -30, -15, 0, 15, 30, 45]\n",
    "aspect_segment_length = 100\n",
    "aspect_segment_angle = None\n",
    "aspect_segment_duration = None\n",
    "\n",
    "if filterbank is None:\n",
    "    filterbank = uwacan.analysis.NthDecadeSpectrogram(\n",
    "        bands_per_decade=10,\n",
    "        lower_bound=20,\n",
    "        upper_bound=20_000,\n",
    "        frame_step=1\n",
    "    )\n",
    "\n",
    "if background_noise is None:\n",
    "    def background_noise(received_power, **kwargs):\n",
    "        return received_power\n",
    "\n",
    "if propagation_model is None:\n",
    "    propagation_model = uwacan.propagation.MlogR(m=20)\n",
    "\n",
    "if isinstance(propagation_model, uwacan.propagation.PropagationModel):\n",
    "    propagation_model = propagation_model.compensate_propagation\n",
    "\n",
    "results = []\n",
    "try:\n",
    "    transit_padding = filterbank.frame_settings[\"duration\"]\n",
    "except AttributeError:\n",
    "    transit_padding = 10\n",
    "for transit in transits:\n",
    "    segments = transit.track.aspect_segments(\n",
    "        reference=transit.recording.sensor,\n",
    "        angles=aspect_angles,\n",
    "        segment_min_length=aspect_segment_length,\n",
    "        segment_min_angle=aspect_segment_angle,\n",
    "        segment_min_duration=aspect_segment_duration,\n",
    "    )\n",
    "    transit = transit.subwindow(segments, extend=transit_padding)\n",
    "\n",
    "    if np.min(np.abs(segments.segment)) == 0:\n",
    "        cpa_time = segments.sel(segment=0, edge=\"center\")[\"time\"].data\n",
    "    else:\n",
    "        cpa_time = transit.track.closest_point(transit.recording.sensor)[\"time\"].data\n",
    "\n",
    "    time_data = transit.recording.time_data()\n",
    "    received_power = filterbank(time_data)\n",
    "    # track = transit.track.resample(received_power.time)\n",
    "    # source_pos = transit.track.resample(segments.time)._data\n",
    "\n",
    "    segment_powers = []\n",
    "    for segment_angle, segment in segments.groupby(\"segment\", squeeze=False):\n",
    "        segment_power = received_power.subwindow(segment).mean(\"time\").data\n",
    "        segment_power.coords[\"segment\"] = segment_angle\n",
    "        segment_powers.append(segment_power)\n",
    "    segment_powers = xr.concat(segment_powers, \"segment\")\n",
    "    segment_powers = uwacan.analysis.FrequencyData(segment_powers)\n",
    "    compensated_power = background_noise(segment_powers)\n",
    "    track = transit.track.resample(segments.sel(edge=\"center\", drop=True).time)\n",
    "    source_power = propagation_model(received_power=segment_powers, receiver=transit.recording.sensor, source=track)\n",
    "    transit_time = (track._data[\"time\"] - cpa_time) / np.timedelta64(1, \"s\")\n",
    "    transit_results = xr.Dataset(\n",
    "        data_vars=dict(\n",
    "            source_power=source_power.data,\n",
    "            received_power=compensated_power.data,\n",
    "            latitude=track.latitude,\n",
    "            longitude=track.longitude,\n",
    "            transit_time=transit_time,\n",
    "        ),\n",
    "        coords=dict(\n",
    "            # segment=segment,\n",
    "            # direction=direction,\n",
    "        )\n",
    "    )\n",
    "    results.append(transit_results)\n",
    "results = xr.concat(results, \"transit\")\n"
   ]
  },
  {
   "cell_type": "code",
   "execution_count": null,
   "metadata": {},
   "outputs": [],
   "source": [
    "results"
   ]
  },
  {
   "cell_type": "code",
   "execution_count": null,
   "metadata": {},
   "outputs": [],
   "source": [
    "ship_level"
   ]
  },
  {
   "cell_type": "code",
   "execution_count": null,
   "metadata": {},
   "outputs": [],
   "source": [
    "segments.time.max()"
   ]
  },
  {
   "cell_type": "code",
   "execution_count": null,
   "metadata": {},
   "outputs": [],
   "source": [
    "received_power.time"
   ]
  },
  {
   "cell_type": "code",
   "execution_count": null,
   "metadata": {},
   "outputs": [],
   "source": [
    "transit_results"
   ]
  },
  {
   "cell_type": "code",
   "execution_count": null,
   "metadata": {},
   "outputs": [],
   "source": [
    "transit_results = xr.Dataset(\n",
    "    data_vars=dict(\n",
    "        source_power=source_power.data,\n",
    "        received_power=compensated_power.data,\n",
    "        latitude=track.latitude,\n",
    "        longitude=track.longitude,\n",
    "        transit_time=transit_time,\n",
    "    ),\n",
    "    coords=dict(\n",
    "        # segment=segment_angle,\n",
    "        # direction=direction,\n",
    "    )\n",
    ")"
   ]
  },
  {
   "cell_type": "code",
   "execution_count": null,
   "metadata": {},
   "outputs": [],
   "source": [
    "transit_results"
   ]
  },
  {
   "cell_type": "code",
   "execution_count": null,
   "metadata": {},
   "outputs": [],
   "source": [
    "transits = fireface_transits\n",
    "aspect_angles = [-45, -30, -15, 0, 15, 30, 45]\n",
    "aspect_segment_length = 100\n",
    "aspect_segment_angle = None\n",
    "aspect_segment_duration = None\n",
    "\n",
    "if filterbank is None:\n",
    "    filterbank = uwacan.analysis.NthDecadeSpectrogram(\n",
    "        bands_per_decade=10,\n",
    "        lower_bound=20,\n",
    "        upper_bound=20_000,\n",
    "        frame_step=1\n",
    "    )\n",
    "\n",
    "if background_noise is None:\n",
    "    def background_noise(received_power, **kwargs):\n",
    "        return received_power\n",
    "\n",
    "if propagation_model is None:\n",
    "    propagation_model = uwacan.propagation.MlogR(m=20)\n",
    "\n",
    "if isinstance(propagation_model, uwacan.propagation.PropagationModel):\n",
    "    propagation_model = propagation_model.compensate_propagation\n",
    "\n",
    "results = []\n",
    "try:\n",
    "    transit_padding = filterbank.frame_settings[\"duration\"]\n",
    "except AttributeError:\n",
    "    transit_padding = 10\n",
    "for transit in transits:\n",
    "    segments = transit.track.aspect_segments(\n",
    "        reference=transit.recording.sensor,\n",
    "        angles=aspect_angles,\n",
    "        segment_min_length=aspect_segment_length,\n",
    "        segment_min_angle=aspect_segment_angle,\n",
    "        segment_min_duration=aspect_segment_duration,\n",
    "    )\n",
    "    transit = transit.subwindow(segments, extend=transit_padding)\n",
    "\n",
    "    if np.min(np.abs(segments.segment)) == 0:\n",
    "        cpa_time = segments.sel(segment=0, edge=\"center\")[\"time\"].data\n",
    "    else:\n",
    "        cpa_time = transit.track.closest_point(transit.recording.sensor)[\"time\"].data\n",
    "\n",
    "    time_data = transit.recording.time_data()\n",
    "    received_power = filterbank(time_data)\n",
    "    track = transit.track.resample(received_power.time)\n",
    "    source_pos = transit.track.resample(segments.time)._data\n",
    "\n",
    "    received_powers = []\n",
    "    for segment_angle, segment in segments.groupby(\"segment\"):\n",
    "        received_segment = received_power.subwindow(segment).mean(\"time\")\n",
    "        compensated_segment = background_noise(received_segment)\n",
    "        # segment_time = segment.time.sel(edge=\"center\")\n",
    "        # source_pos = track.subwindow(segment.time.sel(edge=\"center\"))\n",
    "        source_power = propagation_model(\n",
    "            received_power=compensated_segment,\n",
    "            receiver=transit.recording.sensor,\n",
    "            source=source_pos.sel(segment=segment_angle),\n",
    "        )\n",
    "        transit_time = (segment.time - cpa_time) / np.timedelta64(1, \"s\")  # The time of this segment relative to cpa\n",
    "        segment_results = xr.Dataset(\n",
    "            data_vars=dict(\n",
    "                source_power=source_power.data,\n",
    "                received_power=compensated_segment.data,\n",
    "                latitude=segment.latitude,\n",
    "                longitude=segment.longitude,\n",
    "                transit_time=transit_time,\n",
    "            ),\n",
    "            coords=dict(\n",
    "                segment=segment_angle,\n",
    "            )\n",
    "        )\n",
    "        if hasattr(compensated_segment, \"snr\"):\n",
    "            segment_results[\"snr\"] = compensated_segment.snr.data\n",
    "        transit_results.append(segment_results)\n",
    "    transit_results = xr.concat(transit_results, \"segment\")\n",
    "    results.append(transit_results)\n",
    "results = xr.concat(results, \"transit\")\n",
    "results.coords[\"transit\"] = np.arange(results.sizes[\"transit\"]) + 1\n",
    "bv_source = uwacan.analysis.ShipLevel(results)"
   ]
  },
  {
   "cell_type": "code",
   "execution_count": null,
   "metadata": {},
   "outputs": [],
   "source": [
    "(segments.time - cpa_time) / np.timedelta64(1, \"s\")"
   ]
  }
 ],
 "metadata": {
  "kernelspec": {
   "display_name": "default",
   "language": "python",
   "name": "python3"
  },
  "language_info": {
   "codemirror_mode": {
    "name": "ipython",
    "version": 3
   },
   "file_extension": ".py",
   "mimetype": "text/x-python",
   "name": "python",
   "nbconvert_exporter": "python",
   "pygments_lexer": "ipython3",
   "version": "3.12.5"
  }
 },
 "nbformat": 4,
 "nbformat_minor": 4
}
