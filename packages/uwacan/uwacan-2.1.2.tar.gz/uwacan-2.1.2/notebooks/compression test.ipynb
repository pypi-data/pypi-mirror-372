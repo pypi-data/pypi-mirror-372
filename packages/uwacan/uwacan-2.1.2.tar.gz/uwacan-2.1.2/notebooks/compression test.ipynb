{
 "cells": [
  {
   "cell_type": "code",
   "execution_count": 6,
   "metadata": {},
   "outputs": [],
   "source": [
    "import soundfile as sf\n",
    "import zarr\n",
    "import os"
   ]
  },
  {
   "cell_type": "code",
   "execution_count": 63,
   "metadata": {},
   "outputs": [],
   "source": [
    "input_folder = r'D:\\2022_10_Mälaren\\RTsys1\\2022-10-01'\n",
    "output_file = r'D:\\Compression test\\compressed_data_test_zipcompress.zarr.zip'"
   ]
  },
  {
   "cell_type": "code",
   "execution_count": 75,
   "metadata": {},
   "outputs": [],
   "source": [
    "database = zarr.group(store=zarr.storage.ZipStore(output_file, compression=zarr.storage.zipfile.ZIP_DEFLATED))"
   ]
  },
  {
   "cell_type": "code",
   "execution_count": 76,
   "metadata": {},
   "outputs": [
    {
     "data": {
      "text/html": [
       "<table class=\"zarr-info\"><tbody><tr><th style=\"text-align: left\">Name</th><td style=\"text-align: left\">/channelA_2022-10-01_00-10-56</td></tr><tr><th style=\"text-align: left\">Type</th><td style=\"text-align: left\">zarr.core.Array</td></tr><tr><th style=\"text-align: left\">Data type</th><td style=\"text-align: left\">float32</td></tr><tr><th style=\"text-align: left\">Shape</th><td style=\"text-align: left\">(335609856,)</td></tr><tr><th style=\"text-align: left\">Chunk shape</th><td style=\"text-align: left\">(655488,)</td></tr><tr><th style=\"text-align: left\">Order</th><td style=\"text-align: left\">C</td></tr><tr><th style=\"text-align: left\">Read-only</th><td style=\"text-align: left\">False</td></tr><tr><th style=\"text-align: left\">Compressor</th><td style=\"text-align: left\">Blosc(cname='lz4', clevel=5, shuffle=SHUFFLE, blocksize=0)</td></tr><tr><th style=\"text-align: left\">Store type</th><td style=\"text-align: left\">zarr.storage.ZipStore</td></tr><tr><th style=\"text-align: left\">No. bytes</th><td style=\"text-align: left\">1342439424 (1.3G)</td></tr><tr><th style=\"text-align: left\">No. bytes stored</th><td style=\"text-align: left\">425415737 (405.7M)</td></tr><tr><th style=\"text-align: left\">Storage ratio</th><td style=\"text-align: left\">3.2</td></tr><tr><th style=\"text-align: left\">Chunks initialized</th><td style=\"text-align: left\">512/512</td></tr></tbody></table>"
      ],
      "text/plain": [
       "Name               : /channelA_2022-10-01_00-10-56\n",
       "Type               : zarr.core.Array\n",
       "Data type          : float32\n",
       "Shape              : (335609856,)\n",
       "Chunk shape        : (655488,)\n",
       "Order              : C\n",
       "Read-only          : False\n",
       "Compressor         : Blosc(cname='lz4', clevel=5, shuffle=SHUFFLE, blocksize=0)\n",
       "Store type         : zarr.storage.ZipStore\n",
       "No. bytes          : 1342439424 (1.3G)\n",
       "No. bytes stored   : 425415737 (405.7M)\n",
       "Storage ratio      : 3.2\n",
       "Chunks initialized : 512/512"
      ]
     },
     "execution_count": 76,
     "metadata": {},
     "output_type": "execute_result"
    }
   ],
   "source": [
    "database['channelA_2022-10-01_00-10-56'].info"
   ]
  },
  {
   "cell_type": "code",
   "execution_count": 66,
   "metadata": {},
   "outputs": [
    {
     "data": {
      "text/plain": [
       "<zipfile.ZipFile filename='D:\\\\Compression test\\\\compressed_data_test.zarr.zip' mode='a'>"
      ]
     },
     "execution_count": 66,
     "metadata": {},
     "output_type": "execute_result"
    }
   ],
   "source": [
    "database.store.zf"
   ]
  },
  {
   "cell_type": "code",
   "execution_count": 68,
   "metadata": {},
   "outputs": [
    {
     "name": "stdout",
     "output_type": "stream",
     "text": [
      "Reading file channelA_2022-10-01_00-10-56.wav\n",
      "Storing file channelA_2022-10-01_00-10-56.wav\n",
      "Reading file channelA_2022-10-01_00-54-38.wav\n",
      "Storing file channelA_2022-10-01_00-54-38.wav\n",
      "Reading file channelA_2022-10-01_01-38-20.wav\n",
      "Storing file channelA_2022-10-01_01-38-20.wav\n",
      "Reading file channelA_2022-10-01_02-22-02.wav\n",
      "Storing file channelA_2022-10-01_02-22-02.wav\n",
      "Reading file channelA_2022-10-01_03-05-44.wav\n",
      "Storing file channelA_2022-10-01_03-05-44.wav\n",
      "Reading file channelA_2022-10-01_03-49-26.wav\n",
      "Storing file channelA_2022-10-01_03-49-26.wav\n",
      "Reading file channelA_2022-10-01_04-33-07.wav\n",
      "Storing file channelA_2022-10-01_04-33-07.wav\n",
      "Reading file channelA_2022-10-01_05-16-49.wav\n",
      "Storing file channelA_2022-10-01_05-16-49.wav\n",
      "Reading file channelA_2022-10-01_06-00-31.wav\n",
      "Storing file channelA_2022-10-01_06-00-31.wav\n",
      "Reading file channelA_2022-10-01_06-44-12.wav\n",
      "Storing file channelA_2022-10-01_06-44-12.wav\n",
      "Reading file channelA_2022-10-01_07-27-54.wav\n",
      "Storing file channelA_2022-10-01_07-27-54.wav\n",
      "Reading file channelA_2022-10-01_08-11-36.wav\n",
      "Storing file channelA_2022-10-01_08-11-36.wav\n",
      "Reading file channelA_2022-10-01_08-55-18.wav\n",
      "Storing file channelA_2022-10-01_08-55-18.wav\n",
      "Reading file channelA_2022-10-01_09-39-00.wav\n",
      "Storing file channelA_2022-10-01_09-39-00.wav\n",
      "Reading file channelA_2022-10-01_10-22-42.wav\n",
      "Storing file channelA_2022-10-01_10-22-42.wav\n",
      "Reading file channelA_2022-10-01_11-06-24.wav\n",
      "Storing file channelA_2022-10-01_11-06-24.wav\n",
      "Reading file channelA_2022-10-01_11-50-06.wav\n",
      "Storing file channelA_2022-10-01_11-50-06.wav\n",
      "Reading file channelA_2022-10-01_12-33-48.wav\n",
      "Storing file channelA_2022-10-01_12-33-48.wav\n",
      "Reading file channelA_2022-10-01_13-17-30.wav\n",
      "Storing file channelA_2022-10-01_13-17-30.wav\n",
      "Reading file channelA_2022-10-01_14-01-12.wav\n",
      "Storing file channelA_2022-10-01_14-01-12.wav\n",
      "Reading file channelA_2022-10-01_14-44-54.wav\n",
      "Storing file channelA_2022-10-01_14-44-54.wav\n",
      "Reading file channelA_2022-10-01_15-28-36.wav\n",
      "Storing file channelA_2022-10-01_15-28-36.wav\n",
      "Reading file channelA_2022-10-01_16-12-18.wav\n",
      "Storing file channelA_2022-10-01_16-12-18.wav\n",
      "Reading file channelA_2022-10-01_16-56-00.wav\n",
      "Storing file channelA_2022-10-01_16-56-00.wav\n",
      "Reading file channelA_2022-10-01_17-39-42.wav\n",
      "Storing file channelA_2022-10-01_17-39-42.wav\n",
      "Reading file channelA_2022-10-01_18-23-24.wav\n",
      "Storing file channelA_2022-10-01_18-23-24.wav\n",
      "Reading file channelA_2022-10-01_19-07-05.wav\n",
      "Storing file channelA_2022-10-01_19-07-05.wav\n",
      "Reading file channelA_2022-10-01_19-50-47.wav\n",
      "Storing file channelA_2022-10-01_19-50-47.wav\n",
      "Reading file channelA_2022-10-01_20-34-29.wav\n",
      "Storing file channelA_2022-10-01_20-34-29.wav\n",
      "Reading file channelA_2022-10-01_21-18-11.wav\n",
      "Storing file channelA_2022-10-01_21-18-11.wav\n",
      "Reading file channelA_2022-10-01_22-01-53.wav\n",
      "Storing file channelA_2022-10-01_22-01-53.wav\n",
      "Reading file channelA_2022-10-01_22-45-35.wav\n",
      "Storing file channelA_2022-10-01_22-45-35.wav\n",
      "Reading file channelA_2022-10-01_23-29-17.wav\n",
      "Storing file channelA_2022-10-01_23-29-17.wav\n",
      "Skipping file log_2022-10-01_07-41-50.txt\n",
      "Done\n"
     ]
    }
   ],
   "source": [
    "raw_bytes = 0\n",
    "for file in os.listdir(input_folder):\n",
    "    base, ext = os.path.splitext(file)\n",
    "    if ext != '.wav':\n",
    "        print(f'Skipping file {file}')\n",
    "        continue\n",
    "    path = os.path.join(input_folder, file)\n",
    "    raw_bytes += os.path.getsize(path)\n",
    "    print(f'Reading file {file}')\n",
    "    raw_data, samplerate = sf.read(path, dtype='float32')\n",
    "    print(f'Storing file {file}')\n",
    "    database.array(name=base, data=raw_data)\n",
    "print('Done')"
   ]
  },
  {
   "cell_type": "code",
   "execution_count": 17,
   "metadata": {},
   "outputs": [
    {
     "data": {
      "text/plain": [
       "('channelA_2022-10-01_00-10-56',\n",
       " <zarr.core.Array '/channelA_2022-10-01_00-10-56' (335609856,) float32>)"
      ]
     },
     "execution_count": 17,
     "metadata": {},
     "output_type": "execute_result"
    }
   ],
   "source": [
    "arr"
   ]
  },
  {
   "cell_type": "code",
   "execution_count": 69,
   "metadata": {},
   "outputs": [
    {
     "name": "stdout",
     "output_type": "stream",
     "text": [
      "Originally 33.23 GB\n",
      "Read as 44.30 GB\n",
      "Stored using 14.45 GB\n",
      "Internal compression ratio: 3.06516450551826\n",
      "End-to-end compression ratio: 2.298874548177833\n"
     ]
    }
   ],
   "source": [
    "read_bytes = 0\n",
    "stored_bytes = 0\n",
    "for _, arr in database.arrays():\n",
    "    read_bytes += arr.nbytes\n",
    "    stored_bytes += arr.nbytes_stored\n",
    "print(f'Originally {raw_bytes/1e9:.2f} GB')\n",
    "print(f'Read as {read_bytes/1e9:.2f} GB')\n",
    "print(f'Stored using {stored_bytes/1e9:.2f} GB')\n",
    "print(f'Internal compression ratio: {read_bytes / stored_bytes}')\n",
    "print(f'End-to-end compression ratio: {raw_bytes / stored_bytes}')\n"
   ]
  },
  {
   "cell_type": "markdown",
   "metadata": {},
   "source": [
    "Using `zarr.group(store=zarr.storage.ZipStore(output_file))`\n",
    "\n",
    "- Originally 33.23 GB\n",
    "- Read as 44.30 GB\n",
    "- Stored using 22.27 GB\n",
    "- Internal compression ratio: 1.989059101644946\n",
    "- End-to-end compression ratio: 1.4917950848513737"
   ]
  },
  {
   "cell_type": "markdown",
   "metadata": {},
   "source": [
    "Using `zarr.group(store=zarr.storage.ZipStore(output_file, compression=zarr.storage.zipfile.ZIP_DEFLATED))`\n",
    "\n",
    "- Originally 33.23 GB\n",
    "- Read as 44.30 GB\n",
    "- Stored using 14.45 GB\n",
    "- Internal compression ratio: 3.06516450551826\n",
    "- End-to-end compression ratio: 2.298874548177833"
   ]
  },
  {
   "cell_type": "code",
   "execution_count": 73,
   "metadata": {},
   "outputs": [],
   "source": [
    "database.store.close()"
   ]
  },
  {
   "cell_type": "code",
   "execution_count": 8,
   "metadata": {},
   "outputs": [],
   "source": [
    "input_data, fs = sf.read(input_file, dtype='int16')"
   ]
  },
  {
   "cell_type": "code",
   "execution_count": 134,
   "metadata": {},
   "outputs": [],
   "source": [
    "output_file = 'compression_test_2.zarr'\n",
    "# storage = zarr.storage.DirectoryStore(output_file)\n",
    "import numcodecs\n",
    "compressor = numcodecs.Blosc(cname='zstd', clevel=5, shuffle=numcodecs.Blosc.BITSHUFFLE)\n",
    "storage = zarr.storage.ZipStore(output_file)\n",
    "arr = zarr.array(data=input_data, store=storage, compressor=compressor)"
   ]
  },
  {
   "cell_type": "code",
   "execution_count": 31,
   "metadata": {},
   "outputs": [
    {
     "data": {
      "text/plain": [
       "\u001b[1;31mInit signature:\u001b[0m\n",
       "\u001b[0mzarr\u001b[0m\u001b[1;33m.\u001b[0m\u001b[0mstorage\u001b[0m\u001b[1;33m.\u001b[0m\u001b[0mZipStore\u001b[0m\u001b[1;33m(\u001b[0m\u001b[1;33m\n",
       "\u001b[0m    \u001b[0mpath\u001b[0m\u001b[1;33m,\u001b[0m\u001b[1;33m\n",
       "\u001b[0m    \u001b[0mcompression\u001b[0m\u001b[1;33m=\u001b[0m\u001b[1;36m0\u001b[0m\u001b[1;33m,\u001b[0m\u001b[1;33m\n",
       "\u001b[0m    \u001b[0mallowZip64\u001b[0m\u001b[1;33m=\u001b[0m\u001b[1;32mTrue\u001b[0m\u001b[1;33m,\u001b[0m\u001b[1;33m\n",
       "\u001b[0m    \u001b[0mmode\u001b[0m\u001b[1;33m=\u001b[0m\u001b[1;34m'a'\u001b[0m\u001b[1;33m,\u001b[0m\u001b[1;33m\n",
       "\u001b[0m    \u001b[0mdimension_separator\u001b[0m\u001b[1;33m=\u001b[0m\u001b[1;32mNone\u001b[0m\u001b[1;33m,\u001b[0m\u001b[1;33m\n",
       "\u001b[0m\u001b[1;33m)\u001b[0m\u001b[1;33m\u001b[0m\u001b[1;33m\u001b[0m\u001b[0m\n",
       "\u001b[1;31mDocstring:\u001b[0m     \n",
       "Storage class using a Zip file.\n",
       "\n",
       "Parameters\n",
       "----------\n",
       "path : string\n",
       "    Location of file.\n",
       "compression : integer, optional\n",
       "    Compression method to use when writing to the archive.\n",
       "allowZip64 : bool, optional\n",
       "    If True (the default) will create ZIP files that use the ZIP64\n",
       "    extensions when the zipfile is larger than 2 GiB. If False\n",
       "    will raise an exception when the ZIP file would require ZIP64\n",
       "    extensions.\n",
       "mode : string, optional\n",
       "    One of 'r' to read an existing file, 'w' to truncate and write a new\n",
       "    file, 'a' to append to an existing file, or 'x' to exclusively create\n",
       "    and write a new file.\n",
       "dimension_separator : {'.', '/'}, optional\n",
       "    Separator placed between the dimensions of a chunk.\n",
       "\n",
       "Examples\n",
       "--------\n",
       "Store a single array::\n",
       "\n",
       "    >>> import zarr\n",
       "    >>> store = zarr.ZipStore('data/array.zip', mode='w')\n",
       "    >>> z = zarr.zeros((10, 10), chunks=(5, 5), store=store)\n",
       "    >>> z[...] = 42\n",
       "    >>> store.close()  # don't forget to call this when you're done\n",
       "\n",
       "Store a group::\n",
       "\n",
       "    >>> store = zarr.ZipStore('data/group.zip', mode='w')\n",
       "    >>> root = zarr.group(store=store)\n",
       "    >>> foo = root.create_group('foo')\n",
       "    >>> bar = foo.zeros('bar', shape=(10, 10), chunks=(5, 5))\n",
       "    >>> bar[...] = 42\n",
       "    >>> store.close()  # don't forget to call this when you're done\n",
       "\n",
       "After modifying a ZipStore, the ``close()`` method must be called, otherwise\n",
       "essential data will not be written to the underlying Zip file. The ZipStore\n",
       "class also supports the context manager protocol, which ensures the ``close()``\n",
       "method is called on leaving the context, e.g.::\n",
       "\n",
       "    >>> with zarr.ZipStore('data/array.zip', mode='w') as store:\n",
       "    ...     z = zarr.zeros((10, 10), chunks=(5, 5), store=store)\n",
       "    ...     z[...] = 42\n",
       "    ...     # no need to call store.close()\n",
       "\n",
       "Notes\n",
       "-----\n",
       "Each chunk of an array is stored as a separate entry in the Zip file. Note\n",
       "that Zip files do not provide any way to remove or replace existing entries.\n",
       "If an attempt is made to replace an entry, then a warning is generated by\n",
       "the Python standard library about a duplicate Zip file entry. This can be\n",
       "triggered if you attempt to write data to a Zarr array more than once,\n",
       "e.g.::\n",
       "\n",
       "    >>> store = zarr.ZipStore('data/example.zip', mode='w')\n",
       "    >>> z = zarr.zeros(100, chunks=10, store=store)\n",
       "    >>> # first write OK\n",
       "    ... z[...] = 42\n",
       "    >>> # second write generates warnings\n",
       "    ... z[...] = 42  # doctest: +SKIP\n",
       "    >>> store.close()\n",
       "\n",
       "This can also happen in a more subtle situation, where data are written only\n",
       "once to a Zarr array, but the write operations are not aligned with chunk\n",
       "boundaries, e.g.::\n",
       "\n",
       "    >>> store = zarr.ZipStore('data/example.zip', mode='w')\n",
       "    >>> z = zarr.zeros(100, chunks=10, store=store)\n",
       "    >>> z[5:15] = 42\n",
       "    >>> # write overlaps chunk previously written, generates warnings\n",
       "    ... z[15:25] = 42  # doctest: +SKIP\n",
       "\n",
       "To avoid creating duplicate entries, only write data once, and align writes\n",
       "with chunk boundaries. This alignment is done automatically if you call\n",
       "``z[...] = ...`` or create an array from existing data via :func:`zarr.array`.\n",
       "\n",
       "Alternatively, use a :class:`DirectoryStore` when writing the data, then\n",
       "manually Zip the directory and use the Zip file for subsequent reads.\n",
       "Take note that the files in the Zip file must be relative to the root of the\n",
       "Zarr archive. You may find it easier to create such a Zip file with ``7z``, e.g.::\n",
       "\n",
       "    7z a -tzip archive.zarr.zip archive.zarr/.\n",
       "\n",
       "Safe to write in multiple threads but not in multiple processes.\n",
       "\u001b[1;31mFile:\u001b[0m           c:\\users\\carl4189\\micromamba\\envs\\uwacan-dev\\lib\\site-packages\\zarr\\storage.py\n",
       "\u001b[1;31mType:\u001b[0m           ABCMeta\n",
       "\u001b[1;31mSubclasses:\u001b[0m     ZipStoreV3\n"
      ]
     },
     "metadata": {},
     "output_type": "display_data"
    }
   ],
   "source": [
    "zarr.storage.ZipStore?"
   ]
  },
  {
   "cell_type": "code",
   "execution_count": 48,
   "metadata": {},
   "outputs": [],
   "source": [
    "database.store.close()"
   ]
  },
  {
   "cell_type": "code",
   "execution_count": 59,
   "metadata": {},
   "outputs": [],
   "source": [
    "calibration_data = zarr.open(r'C:\\Users\\carl4189\\OneDrive - IVL Svenska Miljöinstitutet AB\\Silent at Sea\\Genomförande\\WP4 Buller i vatten\\Kalibrering\\nidaq_compressed\\2022-07-12_17-28-36.zarr.zip')"
   ]
  },
  {
   "cell_type": "code",
   "execution_count": 60,
   "metadata": {},
   "outputs": [
    {
     "data": {
      "text/html": [
       "<table class=\"zarr-info\"><tbody><tr><th style=\"text-align: left\">Type</th><td style=\"text-align: left\">zarr.core.Array</td></tr><tr><th style=\"text-align: left\">Data type</th><td style=\"text-align: left\">float64</td></tr><tr><th style=\"text-align: left\">Shape</th><td style=\"text-align: left\">(2, 2200000)</td></tr><tr><th style=\"text-align: left\">Chunk shape</th><td style=\"text-align: left\">(1, 200000)</td></tr><tr><th style=\"text-align: left\">Order</th><td style=\"text-align: left\">C</td></tr><tr><th style=\"text-align: left\">Read-only</th><td style=\"text-align: left\">False</td></tr><tr><th style=\"text-align: left\">Compressor</th><td style=\"text-align: left\">None</td></tr><tr><th style=\"text-align: left\">Store type</th><td style=\"text-align: left\">zarr.storage.ZipStore</td></tr><tr><th style=\"text-align: left\">No. bytes</th><td style=\"text-align: left\">35200000 (33.6M)</td></tr><tr><th style=\"text-align: left\">No. bytes stored</th><td style=\"text-align: left\">2519154 (2.4M)</td></tr><tr><th style=\"text-align: left\">Storage ratio</th><td style=\"text-align: left\">14.0</td></tr><tr><th style=\"text-align: left\">Chunks initialized</th><td style=\"text-align: left\">22/22</td></tr></tbody></table>"
      ],
      "text/plain": [
       "Type               : zarr.core.Array\n",
       "Data type          : float64\n",
       "Shape              : (2, 2200000)\n",
       "Chunk shape        : (1, 200000)\n",
       "Order              : C\n",
       "Read-only          : False\n",
       "Compressor         : None\n",
       "Store type         : zarr.storage.ZipStore\n",
       "No. bytes          : 35200000 (33.6M)\n",
       "No. bytes stored   : 2519154 (2.4M)\n",
       "Storage ratio      : 14.0\n",
       "Chunks initialized : 22/22"
      ]
     },
     "execution_count": 60,
     "metadata": {},
     "output_type": "execute_result"
    }
   ],
   "source": [
    "calibration_data.info"
   ]
  },
  {
   "cell_type": "code",
   "execution_count": 62,
   "metadata": {},
   "outputs": [
    {
     "data": {
      "text/plain": [
       "0"
      ]
     },
     "execution_count": 62,
     "metadata": {},
     "output_type": "execute_result"
    }
   ],
   "source": [
    "calibration_data.store.compression"
   ]
  },
  {
   "cell_type": "code",
   "execution_count": 41,
   "metadata": {},
   "outputs": [
    {
     "name": "stdout",
     "output_type": "stream",
     "text": [
      "{\n",
      "    \"chunks\": [\n",
      "        1012403\n",
      "    ],\n",
      "    \"compressor\": {\n",
      "        \"blocksize\": 0,\n",
      "        \"clevel\": 5,\n",
      "        \"cname\": \"lz4\",\n",
      "        \"id\": \"blosc\",\n",
      "        \"shuffle\": 1\n",
      "    },\n",
      "    \"dtype\": \"<i2\",\n",
      "    \"fill_value\": 0,\n",
      "    \"filters\": null,\n",
      "    \"order\": \"C\",\n",
      "    \"shape\": [\n",
      "        1036700496\n",
      "    ],\n",
      "    \"zarr_format\": 2\n",
      "}\n"
     ]
    }
   ],
   "source": [
    "print(storage.zf.open('.zarray').read().decode())"
   ]
  },
  {
   "cell_type": "code",
   "execution_count": 42,
   "metadata": {},
   "outputs": [],
   "source": [
    "import numcodecs\n",
    "import numpy as np"
   ]
  },
  {
   "cell_type": "code",
   "execution_count": 106,
   "metadata": {},
   "outputs": [
    {
     "data": {
      "text/plain": [
       "0.0"
      ]
     },
     "execution_count": 106,
     "metadata": {},
     "output_type": "execute_result"
    }
   ],
   "source": [
    "np.set_printoptions(precision=None)\n",
    "bits = 24\n",
    "x = np.arange(-2**(bits - 1), 2**(bits - 1)) / 2**(bits - 1)\n",
    "codec = numcodecs.Quantize(digits=bits - 18, dtype='f8')\n",
    "codec = numcodecs.BitRound(keepbits=bits - 16)\n",
    "y = codec.decode(codec.encode(x))\n",
    "np.max(np.abs(x - y))"
   ]
  },
  {
   "cell_type": "code",
   "execution_count": 131,
   "metadata": {},
   "outputs": [
    {
     "data": {
      "text/plain": [
       "8388608.0"
      ]
     },
     "execution_count": 131,
     "metadata": {},
     "output_type": "execute_result"
    }
   ],
   "source": [
    "bits = 24\n",
    "scale = 2**(bits - 1)\n",
    "lsb = 1 / scale\n",
    "value = 1 - lsb\n",
    "codec = numcodecs.BitRound(bits - 8)\n",
    "codec.decode(codec.encode(np.array(value))) * scale"
   ]
  },
  {
   "cell_type": "code",
   "execution_count": null,
   "metadata": {},
   "outputs": [],
   "source": []
  },
  {
   "cell_type": "code",
   "execution_count": 123,
   "metadata": {},
   "outputs": [
    {
     "data": {
      "text/plain": [
       "0"
      ]
     },
     "execution_count": 123,
     "metadata": {},
     "output_type": "execute_result"
    }
   ],
   "source": [
    "codec.keepbits"
   ]
  },
  {
   "cell_type": "code",
   "execution_count": null,
   "metadata": {},
   "outputs": [],
   "source": []
  },
  {
   "cell_type": "code",
   "execution_count": 97,
   "metadata": {},
   "outputs": [
    {
     "data": {
      "text/plain": [
       "-8388608.0"
      ]
     },
     "execution_count": 97,
     "metadata": {},
     "output_type": "execute_result"
    }
   ],
   "source": [
    "y[1] * 2**23"
   ]
  }
 ],
 "metadata": {
  "kernelspec": {
   "display_name": "Python 3 (ipykernel)",
   "language": "python",
   "name": "python3"
  },
  "language_info": {
   "codemirror_mode": {
    "name": "ipython",
    "version": 3
   },
   "file_extension": ".py",
   "mimetype": "text/x-python",
   "name": "python",
   "nbconvert_exporter": "python",
   "pygments_lexer": "ipython3",
   "version": "3.11.0"
  },
  "vscode": {
   "interpreter": {
    "hash": "979ad274c403e8ee41fc68b82c820960248f4f2e7151c04f7a4fc8c0b45822e7"
   }
  }
 },
 "nbformat": 4,
 "nbformat_minor": 4
}
