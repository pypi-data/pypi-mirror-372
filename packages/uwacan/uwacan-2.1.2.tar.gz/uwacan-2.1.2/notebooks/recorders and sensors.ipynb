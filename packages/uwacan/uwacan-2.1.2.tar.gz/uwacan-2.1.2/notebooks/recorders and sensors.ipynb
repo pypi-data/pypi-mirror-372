{
 "cells": [
  {
   "cell_type": "code",
   "execution_count": null,
   "metadata": {},
   "outputs": [],
   "source": [
    "import uwacan\n",
    "import uwacan.sensors\n",
    "from pathlib import Path\n",
    "\n",
    "import pendulum\n",
    "import numpy as np\n",
    "import xarray as xr\n",
    "\n",
    "from importlib import reload\n",
    "reload(uwacan.sensors)\n",
    "reload(uwacan.recordings)\n"
   ]
  },
  {
   "cell_type": "code",
   "execution_count": null,
   "metadata": {},
   "outputs": [],
   "source": [
    "base_path = Path('F:\\Tern Island Vinga')\n",
    "sensors = uwacan.sensors.sensor_array(\n",
    "    uwacan.sensors.sensor(label='SoundTrap 1', depth=35, sensitivity=-188.2),\n",
    "    uwacan.sensors.sensor(label='SoundTrap 2', depth=38, sensitivity=-188.9),\n",
    "    uwacan.sensors.sensor(label='SoundTrap 3', depth=36, sensitivity=-185.4),\n",
    "    uwacan.sensors.sensor(label='Sylence 1', depth=40, sensitivity=-188.2),\n",
    "    uwacan.sensors.sensor(label='Sylence 2', depth=25, sensitivity=-188.2),\n",
    ")\n",
    "sensors"
   ]
  },
  {
   "cell_type": "code",
   "execution_count": null,
   "metadata": {},
   "outputs": [],
   "source": [
    "soundtrap_1 = uwacan.recordings.SoundTrap.read_folder(\n",
    "    base_path / 'Autonomous Recorders' / 'IVL SoundTrap 1',\n",
    "    sensor=sensors.sel(sensor='SoundTrap 1'),\n",
    ")\n",
    "soundtrap_2 = uwacan.recordings.SoundTrap.read_folder(\n",
    "    base_path / 'Autonomous Recorders' / 'IVL SoundTrap 2',\n",
    "    sensor=sensors.sel(sensor='SoundTrap 2'),\n",
    ")\n",
    "soundtrap_3 = uwacan.recordings.SoundTrap.read_folder(\n",
    "    base_path / 'Autonomous Recorders' / 'IVL SoundTrap 3',\n",
    "    sensor=sensors.sel(sensor='SoundTrap 3'),\n",
    ")\n",
    "\n",
    "sylence_1 = uwacan.recordings.SylenceLP.read_folder(\n",
    "    base_path / 'Autonomous Recorders' / 'IVL Sylence 1',\n",
    "    sensor=sensors.sel(sensor='Sylence 1'),\n",
    ")\n"
   ]
  },
  {
   "cell_type": "code",
   "execution_count": null,
   "metadata": {},
   "outputs": [],
   "source": [
    "test = uwacan.recordings.AudioFileRecording.read_folder(\n",
    "    folder=base_path / 'Manual Recordings' / 'Fireface',\n",
    "    start_time_parser=lambda filename: pendulum.from_format(filename.stem, 'YYYY-MM-DD_HH-mm-ss'),\n",
    "    sensor=sensors.sel(sensor=['SoundTrap 1', 'SoundTrap 2', 'SoundTrap 3'])\n",
    ")\n",
    "test.sampling.subwindow(start=\"2023-08-30 11:39:08\", duration=10).time_data"
   ]
  },
  {
   "cell_type": "code",
   "execution_count": null,
   "metadata": {},
   "outputs": [],
   "source": [
    "self = test.sampling.subwindow(start=\"2023-08-30 11:39:08\", duration=10)\n",
    "data = self.read_data()\n"
   ]
  },
  {
   "cell_type": "code",
   "execution_count": null,
   "metadata": {},
   "outputs": [],
   "source": [
    "cabled_sensors = uwacan.sensors.sensor_array(\n",
    "    uwacan.sensors.sensor('Colmar 155', sensitivity=-166),\n",
    "    uwacan.sensors.sensor('Colmar 156', sensitivity=-166),\n",
    "    uwacan.sensors.sensor('Colmar 157', sensitivity=-166),\n",
    ")"
   ]
  },
  {
   "cell_type": "code",
   "execution_count": null,
   "metadata": {},
   "outputs": [],
   "source": [
    "recordings = uwacan.recordings.MultichannelAudioFileRecording.read_folder(\n",
    "    base_path / 'Manual Recordings' / 'Fireface',\n",
    "    sensor=cabled_sensors,\n",
    "    start_time_parser=lambda file: pendulum.from_format(file.stem, 'YYYY-MM-DD_HH-mm-ss'),\n",
    ")"
   ]
  },
  {
   "cell_type": "code",
   "execution_count": null,
   "metadata": {},
   "outputs": [],
   "source": [
    "recordings = uwacan.recordings.MultichannelAudioFileRecording.read_folder(\n",
    "    base_path / 'Manual Recordings' / 'Fireface',\n",
    "    sensor=cabled_sensors.isel(sensor=slice(1)),\n",
    "    start_time_parser=lambda file: pendulum.from_format(file.stem, 'YYYY-MM-DD_HH-mm-ss'),\n",
    "    channel=[1],\n",
    "    one_recorder_per_file=False,\n",
    ")"
   ]
  },
  {
   "cell_type": "code",
   "execution_count": null,
   "metadata": {},
   "outputs": [],
   "source": [
    "recordings.sampling.subwindow(start=\"2023-08-30 11:39:08\", duration=10).time_data"
   ]
  },
  {
   "cell_type": "code",
   "execution_count": null,
   "metadata": {},
   "outputs": [],
   "source": [
    "latitude = xr.DataArray([[58, 58.5, 59]], dims=('other', 'time'), coords={'time': [1,2,3]})\n",
    "longitude = xr.DataArray([[11, 11.5, 11.5]], dims=('other', 'time'), coords={'other': [15]})\n",
    "track = xr.Dataset(dict(\n",
    "    latitude=latitude,\n",
    "    longitude=longitude,\n",
    "))\n",
    "\n",
    "ref = xr.Dataset(dict(latitude=58.5, longitude=12))\n",
    "\n",
    "\n",
    "distances = uwacan.positional.distance_between(ref, track)\n",
    "track.assign(distance=distances).isel(distances.argmin(...))\n"
   ]
  },
  {
   "cell_type": "code",
   "execution_count": null,
   "metadata": {},
   "outputs": [],
   "source": [
    "track.isel(distances.argmin(...))"
   ]
  },
  {
   "cell_type": "code",
   "execution_count": null,
   "metadata": {},
   "outputs": [],
   "source": [
    "def format_coordinates(*args, format='minutes', precision=None):\n",
    "    position = uwacan.positional.position(*args)\n",
    "    latitude = np.atleast_1d(position.latitude.values)\n",
    "    longitude = np.atleast_1d(position.longitude.values)\n",
    "    def ns(lat):\n",
    "        return 'N' if lat > 0 else 'S'\n",
    "    def ew(lon):\n",
    "        return 'E' if lon > 0 else 'W'\n",
    "\n",
    "    if format.lower()[:3] == 'deg':\n",
    "        if precision is None:\n",
    "            precision = 6\n",
    "\n",
    "        def format(lat, lon):\n",
    "            lat = f\"{abs(lat):.{precision}f}°{ns(lat)}\"\n",
    "            lon = f\"{abs(lon):.{precision}f}°{ew(lon)}\"\n",
    "            return lat + \" \" + lon\n",
    "\n",
    "    elif format.lower()[:3] == 'min':\n",
    "        if precision is None:\n",
    "            precision = 4\n",
    "\n",
    "        def format(lat, lon):\n",
    "            latdeg, latmin = np.divmod(abs(lat) * 60, 60)\n",
    "            londeg, lonmin = np.divmod(abs(lon) * 60, 60)\n",
    "            lat = f\"{abs(latdeg):.0f}°{latmin:.{precision}f}'{ns(lat)}\"\n",
    "            lon = f\"{abs(londeg):.0f}°{lonmin:.{precision}f}'{ew(lon)}\"\n",
    "            return lat + \" \" + lon\n",
    "    elif format.lower()[:3] == 'sec':\n",
    "        format = 'sec'\n",
    "        if precision is None:\n",
    "            precision = 2\n",
    "\n",
    "        def format(lat, lon):\n",
    "            latdeg, latmin = np.divmod(abs(lat) * 60, 60)\n",
    "            londeg, lonmin = np.divmod(abs(lon) * 60, 60)\n",
    "            latmin, latsec = np.divmod(latmin * 60, 60)\n",
    "            lonmin, lonsec = np.divmod(lonmin * 60, 60)\n",
    "            lat = f\"\"\"{abs(latdeg):.0f}°{latmin:.0f}'{latsec:.{precision}f}\"{ns(lat)}\"\"\"\n",
    "            lon = f\"\"\"{abs(londeg):.0f}°{latmin:.0f}'{lonsec:.{precision}f}\"{ew(lon)}\"\"\"\n",
    "            return lat + \" \" + lon\n",
    "\n",
    "    formatted = [\n",
    "        format(lat, lon)\n",
    "        for lat, lon in zip(latitude, longitude)\n",
    "    ]\n",
    "    if len(formatted) == 1:\n",
    "        return formatted[0]\n",
    "    return formatted\n"
   ]
  },
  {
   "cell_type": "code",
   "execution_count": null,
   "metadata": {},
   "outputs": [],
   "source": [
    "print(format_coordinates([58.00001, 59], [11.00094, 23.45], format='min'))"
   ]
  },
  {
   "cell_type": "code",
   "execution_count": null,
   "metadata": {},
   "outputs": [],
   "source": []
  },
  {
   "cell_type": "code",
   "execution_count": null,
   "metadata": {},
   "outputs": [],
   "source": [
    "uwacan.positional.distance_between(\n",
    "    uwacan.positional.Position(58, 0),\n",
    "    # uwacan.positional.Position(58, 0.0001, 0, 0),\n",
    "    # uwacan.positional.Position(58.000001, 0, 0),\n",
    "    uwacan.positional.Position(58, 0, 0.01, 0, 0, 0),\n",
    ")"
   ]
  },
  {
   "cell_type": "code",
   "execution_count": null,
   "metadata": {},
   "outputs": [],
   "source": [
    "reload(uwacan.positional)"
   ]
  },
  {
   "cell_type": "code",
   "execution_count": null,
   "metadata": {},
   "outputs": [],
   "source": [
    "p = uwacan.positional.Position(58, 0)\n",
    "uwacan.positional.shift_position(p, 1, 0).minutes"
   ]
  },
  {
   "cell_type": "code",
   "execution_count": null,
   "metadata": {},
   "outputs": [],
   "source": [
    "def coordinate_minutes(position):\n",
    "    latdeg, latmin = np.divmod(position.latitude * 60, 60)\n",
    "    londeg, lonmin = np.divmod(position.longitude * 60, 60)\n",
    "    return xr.Dataset(dict(\n",
    "        latitude_degrees=latdeg,\n",
    "        latitude_minutes=latmin,\n",
    "        longitude_degrees=londeg,\n",
    "        longitude_minutes=lonmin,\n",
    "    ))"
   ]
  },
  {
   "cell_type": "code",
   "execution_count": null,
   "metadata": {},
   "outputs": [],
   "source": [
    "np.div"
   ]
  },
  {
   "cell_type": "code",
   "execution_count": null,
   "metadata": {},
   "outputs": [],
   "source": [
    "lat = 57.6931022\n",
    "lon = 11.974318\n",
    "\n",
    "coordinate_minutes(xr.Dataset({'latitude': lat, 'longitude': lon}))"
   ]
  },
  {
   "cell_type": "code",
   "execution_count": null,
   "metadata": {},
   "outputs": [],
   "source": [
    "p = uwacan.positional.Position(57.6931022, 11.974318)\n",
    "display(p.minutes)\n",
    "display(p.seconds)\n",
    "\n",
    "display(uwacan.positional.Position(57, 41.586132, 11, 58.45908) == p)\n",
    "display(uwacan.positional.Position(57, 41, 35.17, 11, 58, 27.54).distance_to(p))\n"
   ]
  },
  {
   "cell_type": "code",
   "execution_count": null,
   "metadata": {},
   "outputs": [],
   "source": []
  },
  {
   "cell_type": "code",
   "execution_count": null,
   "metadata": {},
   "outputs": [],
   "source": [
    "recordings[3].num_channels"
   ]
  },
  {
   "cell_type": "code",
   "execution_count": null,
   "metadata": {},
   "outputs": [],
   "source": [
    "uwacan.dB(sylence_1.sampling.subwindow(start=True, duration=10).time_data, power=False)\n"
   ]
  },
  {
   "cell_type": "code",
   "execution_count": null,
   "metadata": {},
   "outputs": [],
   "source": [
    "soundtraps = uwacan.recordings.RecordingArray(soundtrap_1, soundtrap_2, soundtrap_3)\n"
   ]
  },
  {
   "cell_type": "code",
   "execution_count": null,
   "metadata": {},
   "outputs": [],
   "source": [
    "soundtraps.sampling.subwindow(start=True, duration=100).time_data\n"
   ]
  },
  {
   "cell_type": "code",
   "execution_count": null,
   "metadata": {},
   "outputs": [],
   "source": [
    "soundtraps.num_channels\n"
   ]
  },
  {
   "cell_type": "code",
   "execution_count": null,
   "metadata": {},
   "outputs": [],
   "source": [
    "soundtrap_1.files[0].__class__.mro()\n"
   ]
  },
  {
   "cell_type": "code",
   "execution_count": null,
   "metadata": {},
   "outputs": [],
   "source": [
    "array = uwacan.recordings.RecordingArray(\n",
    "    soundtrap_1,\n",
    "    soundtrap_2,\n",
    "    soundtrap_3,\n",
    "    sylence_1,\n",
    ")\n"
   ]
  },
  {
   "cell_type": "code",
   "execution_count": null,
   "metadata": {},
   "outputs": [],
   "source": [
    "uwacan.recordings.SequentialAudioFileRecorder.RecordedFile\n"
   ]
  },
  {
   "cell_type": "code",
   "execution_count": null,
   "metadata": {},
   "outputs": [],
   "source": [
    "time_data = array.sampling.subwindow(start=True, duration=1).time_data\n"
   ]
  },
  {
   "cell_type": "code",
   "execution_count": null,
   "metadata": {},
   "outputs": [],
   "source": [
    "import numpy as np\n"
   ]
  },
  {
   "cell_type": "code",
   "execution_count": null,
   "metadata": {},
   "outputs": [],
   "source": [
    "np.ndim(array.sampling.rate)\n"
   ]
  },
  {
   "cell_type": "code",
   "execution_count": null,
   "metadata": {},
   "outputs": [],
   "source": [
    "soundtrap_1 = uwacan.recordings.SoundTrap(\n",
    "    folder=base_path / 'Autonomous Recorders' / 'IVL SoundTrap 1',\n",
    "    serial_number=5305,\n",
    "    calibration=188.2,\n",
    ")\n",
    "soundtrap_2 = uwacan.recordings.SoundTrap(\n",
    "    folder=base_path / 'Autonomous Recorders' / 'IVL SoundTrap 2',\n",
    "    serial_number=5300,\n",
    "    calibration=188.9,\n",
    ")\n",
    "soundtrap_3 = uwacan.recordings.SoundTrap(\n",
    "    folder=base_path / 'Autonomous Recorders' / 'IVL SoundTrap 3',\n",
    "    serial_number=5485,\n",
    "    calibration=185.4,\n",
    ")\n"
   ]
  },
  {
   "cell_type": "code",
   "execution_count": null,
   "metadata": {},
   "outputs": [],
   "source": [
    "elvy.soundtraps = uwacan.recordings.ColocatedHydrophoneArray(\n",
    "    uwacan.recordings.SoundTrap(\n",
    "        os.path.join(elvy.path, 'Soundtraps'),\n",
    "        serial_number=5305,\n",
    "        depth=6,\n",
    "        calibration=188.2,\n",
    "        time_compensation=3.836,\n",
    "        position=(57, 35.424, 11, 48.350),\n",
    "        # position=uwacan.positional.Position(57, 35.424, 11, 48.350),\n",
    "    ),\n",
    "    uwacan.recordings.SoundTrap(\n",
    "        os.path.join(elvy.path, 'Soundtraps'),\n",
    "        serial_number=5300,\n",
    "        depth=11,\n",
    "        calibration=188.9,\n",
    "        time_compensation=0.47,\n",
    "        position=(57, 35.424, 11, 48.350),\n",
    "        # position=uwacan.positional.Position(57, 35.424, 11, 48.350),\n",
    "    ),\n",
    "    uwacan.recordings.SoundTrap(\n",
    "        os.path.join(elvy.path, 'Soundtraps'),\n",
    "        serial_number=5485,\n",
    "        depth=16,\n",
    "        calibration=185.4,\n",
    "        time_compensation=-0.196,\n",
    "        position=(57, 35.424, 11, 48.350)\n",
    "        # position=uwacan.positional.Position(57, 35.424, 11, 48.350),\n",
    "    ),\n",
    ")\n"
   ]
  }
 ],
 "metadata": {
  "kernelspec": {
   "display_name": "Python 3",
   "language": "python",
   "name": "python3"
  },
  "language_info": {
   "codemirror_mode": {
    "name": "ipython",
    "version": 3
   },
   "file_extension": ".py",
   "mimetype": "text/x-python",
   "name": "python",
   "nbconvert_exporter": "python",
   "pygments_lexer": "ipython3",
   "version": "3.11.0"
  }
 },
 "nbformat": 4,
 "nbformat_minor": 2
}
