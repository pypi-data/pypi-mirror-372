{
 "cells": [
  {
   "cell_type": "code",
   "execution_count": 19,
   "metadata": {},
   "outputs": [],
   "source": [
    "import numpy as np\n",
    "import xarray as xr\n",
    "import uwacan"
   ]
  },
  {
   "cell_type": "code",
   "execution_count": 15,
   "metadata": {},
   "outputs": [],
   "source": [
    "recorder = uwacan.recordings.SoundTrap.read_folder(\n",
    "    r\"D:\\Tern Island Vinga\\Autonomous Recorders\\IVL SoundTrap 1\",\n",
    "    sensor=uwacan.sensor(\"ST1\", sensitivity=-180),\n",
    ")"
   ]
  },
  {
   "cell_type": "code",
   "execution_count": 3,
   "metadata": {},
   "outputs": [
    {
     "name": "stdout",
     "output_type": "stream",
     "text": [
      "2023-08-30 01:28:26+00:00 2023-08-30 04:28:25.411333+00:00\n",
      "2023-08-30 04:28:24+00:00 2023-08-30 07:28:23.530167+00:00\n",
      "2023-08-30 07:28:23+00:00 2023-08-30 10:28:22.424833+00:00\n",
      "2023-08-30 10:28:22+00:00 2023-08-30 13:28:21.431333+00:00\n",
      "2023-08-30 13:28:21+00:00 2023-08-30 16:28:20.456167+00:00\n",
      "2023-08-30 16:28:20+00:00 2023-08-30 19:28:19.526667+00:00\n",
      "2023-08-30 19:28:19+00:00 2023-08-30 22:28:18.481167+00:00\n",
      "2023-08-30 22:28:18+00:00 2023-08-31 01:28:17.218500+00:00\n",
      "2023-09-06 01:27:13+00:00 2023-09-06 04:27:12.352667+00:00\n",
      "2023-09-06 04:27:11+00:00 2023-09-06 07:27:10.364500+00:00\n",
      "2023-09-06 07:27:10+00:00 2023-09-06 10:27:09.308167+00:00\n",
      "2023-09-06 10:27:09+00:00 2023-09-06 13:27:08.288000+00:00\n",
      "2023-09-06 13:27:08+00:00 2023-09-06 16:27:07.181667+00:00\n",
      "2023-09-06 16:27:06+00:00 2023-09-06 19:27:05.288333+00:00\n",
      "2023-09-06 19:27:05+00:00 2023-09-06 22:27:04.274000+00:00\n",
      "2023-09-06 22:27:04+00:00 2023-09-07 01:27:03.494167+00:00\n"
     ]
    }
   ],
   "source": [
    "for file in recorder.files:\n",
    "    print(file.start_time, file.stop_time)"
   ]
  },
  {
   "cell_type": "code",
   "execution_count": 37,
   "metadata": {},
   "outputs": [],
   "source": [
    "self = recorder.subwindow(center=\"2023-08-30 13:28:20\", duration=120)  # Includes a file boundary\n",
    "self = recorder.subwindow(center=\"2023-08-30 12:00:00\", duration=120)  # Does not include a file boundary\n",
    "framesize = 10  # In seconds\n",
    "overlap = -1  # Fraction\n",
    "copy_on_out = True\n",
    "\n",
    "# def rolling(...)\n",
    "samplerate = self.samplerate\n",
    "start_time = self.time_window.start\n",
    "stop_time = self.time_window.stop\n",
    "\n",
    "# Convert times to samples\n",
    "samples_to_read = (stop_time - start_time).total_seconds() * samplerate\n",
    "overlap = round(framesize * samplerate * overlap)\n",
    "framesize = round(framesize * samplerate)\n",
    "reuse = max(0, overlap)\n",
    "num_frames = int((samples_to_read - overlap) / (framesize - overlap))\n",
    "\n",
    "buffer = np.zeros((framesize, self.num_channels)).squeeze()\n",
    "if reuse:\n",
    "    buffer[framesize - reuse:] = self.raw_data(start_offset=0, samples_to_read=reuse)\n",
    "\n",
    "frames = []\n",
    "for frame_idx in range(num_frames):\n",
    "    buffer[:reuse] = buffer[framesize-reuse:]\n",
    "    start_idx = frame_idx * (framesize - overlap)\n",
    "    buffer[reuse:] = self.raw_data(start_offset=start_idx + reuse, samples_to_read=framesize - reuse)\n",
    "    out = buffer.copy() if copy_on_out else buffer\n",
    "    frames.append(out)\n",
    "    # yield out"
   ]
  },
  {
   "cell_type": "code",
   "execution_count": 5,
   "metadata": {},
   "outputs": [
    {
     "name": "stdout",
     "output_type": "stream",
     "text": [
      "True\n",
      "True\n",
      "True\n",
      "True\n",
      "True\n",
      "True\n",
      "True\n",
      "True\n",
      "True\n",
      "True\n",
      "True\n",
      "True\n",
      "True\n",
      "True\n"
     ]
    }
   ],
   "source": [
    "single_frame = self.raw_data_old()\n",
    "for frame_idx, frame in enumerate(frames):\n",
    "    start_idx = frame_idx * (framesize - overlap)\n",
    "    print(np.allclose(frame, single_frame[start_idx:start_idx + framesize]))"
   ]
  },
  {
   "cell_type": "code",
   "execution_count": 18,
   "metadata": {},
   "outputs": [
    {
     "data": {
      "text/plain": [
       "np.float64(999999999.9999999)"
      ]
     },
     "execution_count": 18,
     "metadata": {},
     "output_type": "execute_result"
    }
   ],
   "source": []
  },
  {
   "cell_type": "code",
   "execution_count": 46,
   "metadata": {},
   "outputs": [],
   "source": [
    "def rolling_base(self, framesize, overlap, copy_on_out=False):\n",
    "    samplerate = self.samplerate\n",
    "    start_time = self.time_window.start\n",
    "    stop_time = self.time_window.stop\n",
    "\n",
    "    # Convert times to samples\n",
    "    samples_to_read = (stop_time - start_time).total_seconds() * samplerate\n",
    "    overlap = round(framesize * samplerate * overlap)\n",
    "    framesize = round(framesize * samplerate)\n",
    "    reuse = max(0, overlap)\n",
    "    num_frames = int((samples_to_read - overlap) / (framesize - overlap))\n",
    "\n",
    "    buffer = np.zeros((framesize, self.num_channels)).squeeze()\n",
    "    if reuse:\n",
    "        buffer[framesize - reuse:] = self.raw_data(reference_time=start_time, start_offset=0, samples_to_read=reuse)\n",
    "\n",
    "    # We want to apply a manual calibration to the raw data, before\n",
    "    # we stick it in the container. We want to get the calibration scaling\n",
    "    # in the correct order, corresponding to the sensor order in\n",
    "    # the raw data. We can do this by \"calibrating\" a 1.\n",
    "    # To make sure that the calibration values actually line up with\n",
    "    # the order of the data, we can get time data with length 0\n",
    "    # and ask xarray to align the calibrations to this.\n",
    "    # calibration = uwacan.recordings.calibrate_raw_data(\n",
    "    #     1,\n",
    "    #     gain=self.gain,\n",
    "    #     sensitivity=self.sensor.get(\"sensitivity\"),\n",
    "    #     adc_range=self.adc_range,\n",
    "    #     file_range=self.file_range,\n",
    "    # )\n",
    "    # dummy_data = self.subwindow(start=True, duration=0).time_data().data\n",
    "    # calibration = xr.align(dummy_data, calibration)[1].data\n",
    "\n",
    "    for frame_idx in range(num_frames):\n",
    "        buffer[:reuse] = buffer[framesize-reuse:]\n",
    "        start_idx = frame_idx * (framesize - overlap)\n",
    "        buffer[reuse:] = self.raw_data(reference_time=start_time, start_offset=start_idx + reuse, samples_to_read=framesize - reuse)\n",
    "        out = buffer.copy() if copy_on_out else buffer\n",
    "        yield out\n",
    "\n",
    "def rolling(self, framesize, overlap, return_numpy=False):\n",
    "    calibration = uwacan.recordings.calibrate_raw_data(\n",
    "        1,\n",
    "        gain=self.gain,\n",
    "        sensitivity=self.sensor.get(\"sensitivity\"),\n",
    "        adc_range=self.adc_range,\n",
    "        file_range=self.file_range,\n",
    "    )\n",
    "    dummy_data = self.subwindow(start=True, duration=0).time_data().data\n",
    "    calibration = xr.align(dummy_data, calibration)[1].data\n",
    "\n",
    "    start_time = self.time_window.start\n",
    "\n",
    "    for frame_idx, frame in enumerate(rolling_base(self, framesize=framesize, overlap=overlap)):\n",
    "        frame = frame * calibration\n",
    "        if return_numpy:\n",
    "            yield frame\n",
    "        else:\n",
    "            yield uwacan._core.TimeData(\n",
    "                frame,\n",
    "                samplerate=samplerate,\n",
    "                start_time=start_time.add(seconds=frame_idx * framesize * (1 - overlap)),\n",
    "                coords=dummy_data.coords,\n",
    "                dims=dummy_data.dims,\n",
    "            )"
   ]
  },
  {
   "cell_type": "code",
   "execution_count": 49,
   "metadata": {},
   "outputs": [
    {
     "name": "stdout",
     "output_type": "stream",
     "text": [
      "0.0\n",
      "0.0\n",
      "0.0\n",
      "0.0\n",
      "0.0\n",
      "0.0\n",
      "0.0\n",
      "0.0\n",
      "0.0\n",
      "0.0\n",
      "0.0\n",
      "0.0\n",
      "0.0\n",
      "0.0\n",
      "0.0\n",
      "0.0\n",
      "0.0\n",
      "0.0\n",
      "0.0\n",
      "0.0\n",
      "0.0\n",
      "0.0\n",
      "0.0\n"
     ]
    }
   ],
   "source": [
    "self = recorder.subwindow(center=\"2023-08-30 13:28:20\", duration=120)  # Includes a file boundary\n",
    "# self = recorder.subwindow(center=\"2023-08-30 12:00:00\", duration=120)  # Does not include a file boundary\n",
    "framesize = 10  # In seconds\n",
    "overlap = 0.5 # Fraction\n",
    "\n",
    "single_frame = self.time_data()\n",
    "for frame_idx, frame in enumerate(rolling(self, framesize=framesize, overlap=overlap)):\n",
    "    frame_time_offset = frame_idx * (framesize - framesize * overlap)\n",
    "    frame_time_start = self.time_window.start.add(seconds=frame_time_offset)\n",
    "    true = single_frame.subwindow(start=frame_time_start, duration=framesize)\n",
    "    print(np.max(np.abs(frame - true)).data)"
   ]
  },
  {
   "cell_type": "code",
   "execution_count": 33,
   "metadata": {},
   "outputs": [
    {
     "data": {
      "text/plain": [
       "TimeWindow(start=2023-08-30 13:29:04+00:00, stop=2023-08-30 13:29:14+00:00)"
      ]
     },
     "execution_count": 33,
     "metadata": {},
     "output_type": "execute_result"
    }
   ],
   "source": [
    "frame.time_window"
   ]
  },
  {
   "cell_type": "code",
   "execution_count": 34,
   "metadata": {},
   "outputs": [
    {
     "data": {
      "text/plain": [
       "TimeWindow(start=2023-08-30 13:29:04+00:00, stop=2023-08-30 13:29:14+00:00)"
      ]
     },
     "execution_count": 34,
     "metadata": {},
     "output_type": "execute_result"
    }
   ],
   "source": [
    "true.time_window"
   ]
  },
  {
   "cell_type": "code",
   "execution_count": 5,
   "metadata": {},
   "outputs": [
    {
     "name": "stdout",
     "output_type": "stream",
     "text": [
      "Getting data 0 to 20\n",
      "[ 0.  1.  2.  3.  4.  5.  6.  7.  8.  9. 10. 11. 12. 13. 14. 15. 16. 17.\n",
      " 18. 19.]\n",
      "Getting data 25 to 45\n",
      "[25. 26. 27. 28. 29. 30. 31. 32. 33. 34. 35. 36. 37. 38. 39. 40. 41. 42.\n",
      " 43. 44.]\n",
      "Getting data 50 to 70\n",
      "[50. 51. 52. 53. 54. 55. 56. 57. 58. 59. 60. 61. 62. 63. 64. 65. 66. 67.\n",
      " 68. 69.]\n",
      "Getting data 75 to 95\n",
      "[75. 76. 77. 78. 79. 80. 81. 82. 83. 84. 85. 86. 87. 88. 89. 90. 91. 92.\n",
      " 93. 94.]\n",
      "Getting data 100 to 120\n",
      "[100. 101. 102. 103. 104. 105. 106. 107. 108. 109. 110. 111. 112. 113.\n",
      " 114. 115. 116. 117. 118. 119.]\n",
      "Getting data 125 to 145\n",
      "[125. 126. 127. 128. 129. 130. 131. 132. 133. 134. 135. 136. 137. 138.\n",
      " 139. 140. 141. 142. 143. 144.]\n",
      "Getting data 150 to 170\n",
      "[150. 151. 152. 153. 154. 155. 156. 157. 158. 159. 160. 161. 162. 163.\n",
      " 164. 165. 166. 167. 168. 169.]\n",
      "Getting data 175 to 195\n",
      "[175. 176. 177. 178. 179. 180. 181. 182. 183. 184. 185. 186. 187. 188.\n",
      " 189. 190. 191. 192. 193. 194.]\n"
     ]
    }
   ],
   "source": [
    "file_data = np.arange(200)\n",
    "\n",
    "# frame_size = 20\n",
    "# overlap = 5\n",
    "def get_data(start, stop, verbose=True):\n",
    "    if verbose:\n",
    "        print(f\"Getting data {start} to {stop}\")\n",
    "    return np.arange(start, stop)\n",
    "\n",
    "def rolling(total_size, framesize, overlap, copy_on_out=False):\n",
    "    buffer = np.zeros(shape=framesize)\n",
    "\n",
    "    num_frames = int((total_size - overlap) / (framesize - overlap))\n",
    "    for frame_idx in range(num_frames):\n",
    "        start_idx = frame_idx * (framesize - overlap)\n",
    "        # frame = x[start_idx:start_idx + framesize]\n",
    "        buffer[:] = get_data(start_idx, start_idx + framesize)\n",
    "        # buffer[:] = x[start_idx:start_idx + framesize]\n",
    "        out = buffer.copy() if copy_on_out else buffer\n",
    "        yield out\n",
    "\n",
    "def rolling(total_size, framesize, overlap, copy_on_out=False):\n",
    "    buffer = np.zeros(shape=framesize)\n",
    "    num_frames = int((total_size - overlap) / (framesize - overlap))\n",
    "\n",
    "    if overlap:\n",
    "        buffer[-overlap:] = get_data(0, overlap)\n",
    "\n",
    "    for frame_idx in range(num_frames):\n",
    "        buffer[:overlap] = buffer[-overlap:]\n",
    "        start_idx = frame_idx * (framesize - overlap)\n",
    "        buffer[overlap:] = get_data(start_idx + overlap, start_idx + framesize)\n",
    "        out = buffer.copy() if copy_on_out else buffer\n",
    "        yield out\n",
    "\n",
    "def rolling(total_size, framesize, overlap, copy_on_out=False):\n",
    "    buffer = np.zeros(shape=framesize)\n",
    "    num_frames = int((total_size - overlap) / (framesize - overlap))\n",
    "    reuse = max(overlap, 0)\n",
    "\n",
    "    if reuse:\n",
    "        buffer[framesize - reuse:] = get_data(0, reuse)\n",
    "\n",
    "    for frame_idx in range(num_frames):\n",
    "        buffer[:reuse] = buffer[framesize-reuse:]\n",
    "        start_idx = frame_idx * (framesize - overlap)\n",
    "        buffer[reuse:] = get_data(start_idx + reuse, start_idx + framesize)\n",
    "        out = buffer.copy() if copy_on_out else buffer\n",
    "        yield out\n",
    "\n",
    "\n",
    "frames = rolling(200, 20, -5)\n",
    "for frame in frames:\n",
    "    print(frame)\n"
   ]
  }
 ],
 "metadata": {
  "kernelspec": {
   "display_name": "default",
   "language": "python",
   "name": "python3"
  },
  "language_info": {
   "codemirror_mode": {
    "name": "ipython",
    "version": 3
   },
   "file_extension": ".py",
   "mimetype": "text/x-python",
   "name": "python",
   "nbconvert_exporter": "python",
   "pygments_lexer": "ipython3",
   "version": "3.12.5"
  }
 },
 "nbformat": 4,
 "nbformat_minor": 2
}
