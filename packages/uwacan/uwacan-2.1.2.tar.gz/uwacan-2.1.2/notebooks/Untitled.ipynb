{
 "cells": [
  {
   "cell_type": "code",
   "execution_count": null,
   "metadata": {},
   "outputs": [],
   "source": [
    "import numpy as np\n",
    "import scipy.signal\n",
    "import plotly.graph_objects as go\n"
   ]
  },
  {
   "cell_type": "code",
   "execution_count": null,
   "id": "f56e18cf-bd1c-4117-8371-f95c77bb80e3",
   "metadata": {},
   "outputs": [],
   "source": [
    "lower_freq = 500\n",
    "upper_freq = 5000\n",
    "T = 2\n",
    "fs = 192000\n",
    "\n",
    "\n",
    "phase_rate = T / np.log(upper_freq / lower_freq)\n",
    "f = np.fft.rfftfreq(T * fs, 1 / fs)\n",
    "t = np.arange(T * fs) / fs\n",
    "\n",
    "time_signal = np.sin(2 * np.pi * lower_freq * phase_rate * np.exp(t / phase_rate))\n",
    "\n",
    "# time_signal = np.sin(\n",
    "#     (2 * np.pi * lower_freq * T)\n",
    "#     /\n",
    "#     np.log(upper_freq / lower_freq)\n",
    "#     * np.exp(\n",
    "#         t / T * np.log(upper_freq / lower_freq)\n",
    "#     ))\n",
    "direct_spectrum = 0.5 * (phase_rate / f) ** 0.5 * np.exp(2j * np.pi * f * phase_rate * (1 - np.log(f / lower_freq)) - 1j * np.pi / 4)\n",
    "inverse_spectrum = 2 * (f / phase_rate) ** 0.5 * np.exp(-2j * np.pi * f * phase_rate * (1 - np.log(f / lower_freq)) + 1j * np.pi / 4)\n",
    "inverse_spectrum[0] = 0\n",
    "direct_spectrum[0] = 0\n",
    "direct_signal = np.fft.irfft(direct_spectrum)\n",
    "inverse_signal = np.fft.irfft(inverse_spectrum)\n"
   ]
  },
  {
   "cell_type": "code",
   "execution_count": null,
   "metadata": {},
   "outputs": [],
   "source": [
    "f_spec, t_spec, Sxx = scipy.signal.spectrogram(direct_signal, fs=fs, window='hann', nperseg=2**15)\n",
    "Sdb = 10*np.log10(np.abs(Sxx))\n",
    "go.Figure(go.Heatmap(x=t_spec, y=f_spec, z=Sdb, zmax=Sdb.max(), zmin=Sdb.max() - 60)).update_yaxes(type='log').show()\n",
    "\n",
    "f_spec, t_spec, Sxx = scipy.signal.spectrogram(inverse_signal, fs=fs, window='hann', nperseg=2**15)\n",
    "Sdb = 10*np.log10(np.abs(Sxx))\n",
    "go.Figure(go.Heatmap(x=t_spec, y=f_spec, z=Sdb, zmax=Sdb.max(), zmin=Sdb.max() - 60)).update_yaxes(type='log').show()\n",
    "\n",
    "f_spec, t_spec, Sxx = scipy.signal.spectrogram(time_signal, fs=fs, window='hann', nperseg=2**15)\n",
    "Sdb = 10*np.log10(np.abs(Sxx))\n",
    "go.Figure(go.Heatmap(x=t_spec, y=f_spec, z=Sdb, zmax=Sdb.max(), zmin=Sdb.max() - 60)).update_yaxes(type='log').show()\n",
    "\n",
    "go.Figure([\n",
    "    go.Scatter(x=f, y=20*np.log10(np.abs(direct_spectrum))),\n",
    "    go.Scatter(x=f, y=20*np.log10(np.abs(np.fft.rfft(time_signal)))),\n",
    "]).update_xaxes(type='log').show()\n"
   ]
  },
  {
   "cell_type": "code",
   "execution_count": null,
   "metadata": {},
   "outputs": [],
   "source": [
    "scipy.signal.iir\n"
   ]
  },
  {
   "cell_type": "code",
   "execution_count": null,
   "metadata": {},
   "outputs": [],
   "source": [
    "\n",
    "sos = scipy.signal.iirfilter(N=8, Wn=5000, fs=fs, btype='lowpass', output='sos')\n",
    "response = scipy.signal.sosfilt(sos, time_signal)\n",
    "\n",
    "response = response + response ** 2 + response **3 #+ response ** 4 + response ** 5 + response ** 21\n",
    "\n",
    "f_spec, t_spec, Sxx = scipy.signal.spectrogram(response, fs=fs, window='hann', nperseg=2**15)\n",
    "Sdb = 10*np.log10(np.abs(Sxx))\n",
    "go.Figure(go.Heatmap(x=t_spec, y=f_spec, z=Sdb, zmax=Sdb.max(), zmin=Sdb.max() - 60)).update_yaxes(type='log').show()\n",
    "\n",
    "impulse = np.fft.irfft(\n",
    "    np.fft.rfft(response, response.size * 2)\n",
    "    *\n",
    "    np.fft.rfft(inverse_signal, response.size * 2)\n",
    "    # np.fft.rfft(time_signal, response.size).conj()\n",
    ")\n",
    "\n",
    "# impulse = np.fft.irfft(np.fft.rfft(time_signal) * spectrum)\n",
    "go.Figure(go.Scatter(x=np.arange(impulse.size) / fs, y=impulse)).show()\n",
    "\n",
    "f_spec, t_spec, Sxx = scipy.signal.spectrogram(impulse, fs=fs, window='hann', nperseg=2**15)\n",
    "Sdb = 10*np.log10(np.abs(Sxx))\n",
    "go.Figure(go.Heatmap(x=t_spec, y=f_spec, z=Sdb, zmax=Sdb.max(), zmin=Sdb.max() - 60)).update_yaxes(type='log').show()\n"
   ]
  }
 ],
 "metadata": {
  "kernelspec": {
   "display_name": ".venv",
   "language": "python",
   "name": "python3"
  },
  "language_info": {
   "codemirror_mode": {
    "name": "ipython",
    "version": 3
   },
   "file_extension": ".py",
   "mimetype": "text/x-python",
   "name": "python",
   "nbconvert_exporter": "python",
   "pygments_lexer": "ipython3",
   "version": "3.11.10"
  }
 },
 "nbformat": 4,
 "nbformat_minor": 5
}
