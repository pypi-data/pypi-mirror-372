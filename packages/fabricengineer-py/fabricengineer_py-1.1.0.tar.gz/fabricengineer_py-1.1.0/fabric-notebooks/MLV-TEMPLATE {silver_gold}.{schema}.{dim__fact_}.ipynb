{
 "cells": [
  {
   "cell_type": "markdown",
   "id": "cb996add-a263-4be5-8786-8b36cc3f98bc",
   "metadata": {
    "microsoft": {
     "language": "sparksql",
     "language_group": "synapse_pyspark"
    },
    "nteract": {
     "transient": {
      "deleting": false
     }
    }
   },
   "source": [
    "# Create materialized lake views \n"
   ]
  },
  {
   "cell_type": "markdown",
   "id": "270451a6-622a-4f75-88e2-e931afb96911",
   "metadata": {
    "microsoft": {
     "language": "python",
     "language_group": "synapse_pyspark"
    },
    "nteract": {
     "transient": {
      "deleting": false
     }
    }
   },
   "source": [
    "## Parameters"
   ]
  },
  {
   "cell_type": "code",
   "execution_count": null,
   "id": "d0cc3009-56cf-4dd4-8a2d-913f5f98ddee",
   "metadata": {
    "microsoft": {
     "language": "python",
     "language_group": "synapse_pyspark"
    },
    "tags": [
     "parameters"
    ]
   },
   "outputs": [
    {
     "data": {
      "application/vnd.livy.statement-meta+json": {
       "execution_finish_time": "2025-08-14T18:07:39.0572079Z",
       "execution_start_time": "2025-08-14T18:07:38.7518516Z",
       "livy_statement_state": "available",
       "normalized_state": "finished",
       "parent_msg_id": "f3dbe42c-3e33-48f8-9521-a226a456831b",
       "queued_time": "2025-08-14T18:07:38.7505956Z",
       "session_id": "f1778b2d-7b89-435f-9277-2d22fec9f803",
       "session_start_time": null,
       "spark_pool": null,
       "state": "finished",
       "statement_id": 7,
       "statement_ids": [
        7
       ]
      },
      "text/plain": [
       "StatementMeta(, f1778b2d-7b89-435f-9277-2d22fec9f803, 7, Finished, Available, Finished)"
      ]
     },
     "metadata": {},
     "output_type": "display_data"
    }
   ],
   "source": [
    "IS_DEV = True\n",
    "FULL_REFRESH = False\n",
    "FABRICENGINEER_PACKAGE_VERSION = \"1.0.3\""
   ]
  },
  {
   "cell_type": "markdown",
   "id": "8a2190b5-a24e-491c-bde8-06419b88c3aa",
   "metadata": {
    "microsoft": {
     "language": "python",
     "language_group": "synapse_pyspark"
    },
    "nteract": {
     "transient": {
      "deleting": false
     }
    }
   },
   "source": [
    "## Variables"
   ]
  },
  {
   "cell_type": "code",
   "execution_count": 6,
   "id": "aef24b88-5b97-4424-9ce7-a550051580b3",
   "metadata": {
    "microsoft": {
     "language": "python",
     "language_group": "synapse_pyspark"
    }
   },
   "outputs": [
    {
     "data": {
      "application/vnd.livy.statement-meta+json": {
       "execution_finish_time": "2025-08-14T18:07:40.3593802Z",
       "execution_start_time": "2025-08-14T18:07:40.0530202Z",
       "livy_statement_state": "available",
       "normalized_state": "finished",
       "parent_msg_id": "86234b29-bcbf-409a-bd03-fcd8ccbb7870",
       "queued_time": "2025-08-14T18:07:40.0517738Z",
       "session_id": "f1778b2d-7b89-435f-9277-2d22fec9f803",
       "session_start_time": null,
       "spark_pool": null,
       "state": "finished",
       "statement_id": 8,
       "statement_ids": [
        8
       ]
      },
      "text/plain": [
       "StatementMeta(, f1778b2d-7b89-435f-9277-2d22fec9f803, 8, Finished, Available, Finished)"
      ]
     },
     "metadata": {},
     "output_type": "display_data"
    }
   ],
   "source": [
    "LAKEHOUSE = \"{}\"\n",
    "SCHEMA = \"{}\"\n",
    "TABLE = \"{}\""
   ]
  },
  {
   "cell_type": "markdown",
   "id": "c8738b74-7a3a-442c-9f95-e4344972db16",
   "metadata": {
    "microsoft": {
     "language": "python",
     "language_group": "synapse_pyspark"
    },
    "nteract": {
     "transient": {
      "deleting": false
     }
    }
   },
   "source": [
    "## Import MLV Module"
   ]
  },
  {
   "cell_type": "code",
   "execution_count": 7,
   "id": "05f09578-0df1-4daf-84e6-966719669fc2",
   "metadata": {
    "microsoft": {
     "language": "python",
     "language_group": "synapse_pyspark"
    }
   },
   "outputs": [
    {
     "data": {
      "application/vnd.livy.statement-meta+json": {
       "execution_finish_time": "2025-08-14T18:07:43.053098Z",
       "execution_start_time": "2025-08-14T18:07:42.9974189Z",
       "livy_statement_state": "available",
       "normalized_state": "finished",
       "parent_msg_id": "352890c8-c343-47f3-bc58-637906428688",
       "queued_time": "2025-08-14T18:07:41.8827206Z",
       "session_id": "f1778b2d-7b89-435f-9277-2d22fec9f803",
       "session_start_time": null,
       "spark_pool": null,
       "state": "finished",
       "statement_id": 11,
       "statement_ids": [
        9,
        10,
        11
       ]
      },
      "text/plain": [
       "StatementMeta(, f1778b2d-7b89-435f-9277-2d22fec9f803, 11, Finished, Available, Finished)"
      ]
     },
     "metadata": {},
     "output_type": "display_data"
    },
    {
     "name": "stdout",
     "output_type": "stream",
     "text": [
      "Passed functions [<function get_module_code at 0x75cb10b2eca0>]\n"
     ]
    }
   ],
   "source": [
    "%run IMPORT FABRICENGINEER PACKAGE"
   ]
  },
  {
   "cell_type": "code",
   "execution_count": 8,
   "id": "32acc368-5c33-44b5-8869-f098fd203d32",
   "metadata": {
    "microsoft": {
     "language": "python",
     "language_group": "synapse_pyspark"
    }
   },
   "outputs": [
    {
     "data": {
      "application/vnd.livy.statement-meta+json": {
       "execution_finish_time": "2025-08-14T18:07:48.9827002Z",
       "execution_start_time": "2025-08-14T18:07:46.5869001Z",
       "livy_statement_state": "available",
       "normalized_state": "finished",
       "parent_msg_id": "f4a0ab47-e778-42d7-96c1-db4183876dd1",
       "queued_time": "2025-08-14T18:07:46.5857334Z",
       "session_id": "f1778b2d-7b89-435f-9277-2d22fec9f803",
       "session_start_time": null,
       "spark_pool": null,
       "state": "finished",
       "statement_id": 12,
       "statement_ids": [
        12
       ]
      },
      "text/plain": [
       "StatementMeta(, f1778b2d-7b89-435f-9277-2d22fec9f803, 12, Finished, Available, Finished)"
      ]
     },
     "metadata": {},
     "output_type": "display_data"
    },
    {
     "name": "stdout",
     "output_type": "stream",
     "text": [
      "Code from lakehouse.\n"
     ]
    }
   ],
   "source": [
    "strategy_module_code = get_module_code(\"transform.mlv\", FABRICENGINEER_PACKAGE_VERSION)\n",
    "exec(strategy_module_code, globals())"
   ]
  },
  {
   "cell_type": "markdown",
   "id": "91698b29-a1f3-489f-b2d2-28facb502ac6",
   "metadata": {
    "microsoft": {
     "language": "python",
     "language_group": "synapse_pyspark"
    },
    "nteract": {
     "transient": {
      "deleting": false
     }
    }
   },
   "source": [
    "## Initialize MLV"
   ]
  },
  {
   "cell_type": "code",
   "execution_count": 9,
   "id": "71b5acd5-333b-452b-826e-9e5d0031fd74",
   "metadata": {
    "microsoft": {
     "language": "python",
     "language_group": "synapse_pyspark"
    }
   },
   "outputs": [
    {
     "data": {
      "application/vnd.livy.statement-meta+json": {
       "execution_finish_time": "2025-08-14T18:07:54.1757872Z",
       "execution_start_time": "2025-08-14T18:07:51.8855376Z",
       "livy_statement_state": "available",
       "normalized_state": "finished",
       "parent_msg_id": "758c6ce6-f49d-40b6-9084-1346d6470781",
       "queued_time": "2025-08-14T18:07:51.8844689Z",
       "session_id": "f1778b2d-7b89-435f-9277-2d22fec9f803",
       "session_start_time": null,
       "spark_pool": null,
       "state": "finished",
       "statement_id": 13,
       "statement_ids": [
        13
       ]
      },
      "text/plain": [
       "StatementMeta(, f1778b2d-7b89-435f-9277-2d22fec9f803, 13, Finished, Available, Finished)"
      ]
     },
     "metadata": {},
     "output_type": "display_data"
    },
    {
     "data": {
      "text/plain": [
       "{'lakehouse': '{}',\n",
       " 'schema': '{}',\n",
       " 'table': '{}',\n",
       " 'table_path': '{}.{}.{}_mlv'}"
      ]
     },
     "metadata": {},
     "output_type": "display_data"
    }
   ],
   "source": [
    "mlv.init(\n",
    "    lakehouse=LAKEHOUSE,\n",
    "    schema=SCHEMA,\n",
    "    table=TABLE\n",
    "    # ,table_suffix=None bei Gold?\n",
    ")\n",
    "\n",
    "display(mlv.to_dict())"
   ]
  },
  {
   "cell_type": "markdown",
   "id": "e4cb1b11-e9f3-4af1-83b1-a8f2d6a078d0",
   "metadata": {
    "microsoft": {
     "language": "python",
     "language_group": "synapse_pyspark"
    },
    "nteract": {
     "transient": {
      "deleting": false
     }
    }
   },
   "source": [
    "## Define SQL-VIEW"
   ]
  },
  {
   "cell_type": "code",
   "execution_count": null,
   "id": "5e24124d-c36b-4e84-91ed-5135e51ce314",
   "metadata": {
    "collapsed": false,
    "microsoft": {
     "language": "python",
     "language_group": "synapse_pyspark"
    }
   },
   "outputs": [],
   "source": [
    "sql = to_spark_sql(\"\"\"\n",
    "{SQL-VIEW CODE}\n",
    "\"\"\")\n",
    "\n",
    "if IS_DEV:\n",
    "    display(spark.sql(sql))"
   ]
  },
  {
   "cell_type": "code",
   "execution_count": null,
   "id": "cb684a52-454e-4ce6-a021-0f11d48ac4c0",
   "metadata": {
    "microsoft": {
     "language": "python",
     "language_group": "synapse_pyspark"
    }
   },
   "outputs": [],
   "source": [
    "result = mlv.create_or_replace(sql)\n",
    "\n",
    "display(result)"
   ]
  },
  {
   "cell_type": "code",
   "execution_count": null,
   "id": "cab2cb6d-6883-4857-8da0-6ee22a680c02",
   "metadata": {
    "collapsed": false,
    "microsoft": {
     "language": "python",
     "language_group": "synapse_pyspark"
    }
   },
   "outputs": [],
   "source": [
    "result = mlv.refresh(full_refresh=FULL_REFRESH)\n",
    "\n",
    "display(result)"
   ]
  }
 ],
 "metadata": {
  "dependencies": {
   "lakehouse": {
    "default_lakehouse": "d3b03fee-6812-4424-a944-fd5e684a0d7d",
    "default_lakehouse_name": "UtilsLakehouseHR",
    "default_lakehouse_workspace_id": "e549a9a5-36b2-4a14-a706-a5a4934222e3",
    "known_lakehouses": [
     {
      "id": "3aa0a335-90b1-4fe8-81ac-592d19e3e7c0"
     },
     {
      "id": "330533b7-63b0-49f3-9fbe-e30e41914b98"
     },
     {
      "id": "2afdd8a6-274b-49f0-8482-72fd9bda28fc"
     },
     {
      "id": "d3b03fee-6812-4424-a944-fd5e684a0d7d"
     }
    ]
   }
  },
  "kernel_info": {
   "name": "synapse_pyspark"
  },
  "kernelspec": {
   "display_name": "Synapse PySpark",
   "language": "Python",
   "name": "synapse_pyspark"
  },
  "language_info": {
   "name": "python"
  },
  "microsoft": {
   "language": "python",
   "language_group": "synapse_pyspark",
   "ms_spell_check": {
    "ms_spell_check_language": "en"
   }
  },
  "nteract": {
   "version": "nteract-front-end@1.0.0"
  },
  "spark_compute": {
   "compute_id": "/trident/default",
   "session_options": {
    "conf": {
     "spark.synapse.nbs.session.timeout": "1200000"
    }
   }
  },
  "synapse_widget": {
   "state": {},
   "version": "0.1"
  }
 },
 "nbformat": 4,
 "nbformat_minor": 5
}
