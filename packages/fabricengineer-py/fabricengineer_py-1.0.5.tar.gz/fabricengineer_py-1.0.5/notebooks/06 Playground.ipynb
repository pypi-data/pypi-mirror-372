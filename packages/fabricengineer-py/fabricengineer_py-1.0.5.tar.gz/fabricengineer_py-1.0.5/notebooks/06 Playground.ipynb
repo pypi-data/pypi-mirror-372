{
 "cells": [
  {
   "cell_type": "code",
   "execution_count": 1,
   "id": "d2eab81b",
   "metadata": {},
   "outputs": [
    {
     "data": {
      "text/plain": [
       "True"
      ]
     },
     "execution_count": 1,
     "metadata": {},
     "output_type": "execute_result"
    }
   ],
   "source": [
    "import os\n",
    "import sys\n",
    "import uuid\n",
    "\n",
    "from dotenv import load_dotenv\n",
    "\n",
    "sys.path.append(\"../src\")\n",
    "\n",
    "load_dotenv(\"../.env\")"
   ]
  },
  {
   "cell_type": "code",
   "execution_count": 2,
   "id": "143d24f4",
   "metadata": {},
   "outputs": [
    {
     "data": {
      "text/plain": [
       "'3496c8e0-ff9a-4a3a-95ac-0dc36994c20d'"
      ]
     },
     "execution_count": 2,
     "metadata": {},
     "output_type": "execute_result"
    }
   ],
   "source": [
    "WORKSPACE_ID = os.environ.get(\"WORKSPACE_ID\")\n",
    "WORKSPACE_ID"
   ]
  },
  {
   "cell_type": "code",
   "execution_count": 3,
   "id": "da27c8b4",
   "metadata": {},
   "outputs": [
    {
     "name": "stderr",
     "output_type": "stream",
     "text": [
      "[26.08.2025 10:32:26] [INFO] fabricengineer Using service principal for authentication.\n",
      "[26.08.2025 10:32:26] [INFO] fabricengineer Getting token via Microsoft Fabric Service Principal.\n"
     ]
    }
   ],
   "source": [
    "from tests.utils import rand_workspace_item_name\n",
    "from fabricengineer.api.fabric.workspace.base import BaseWorkspaceItem, WorkspaceItemDependency, WorkspaceItemDependencyType\n",
    "from fabricengineer.api.fabric.workspace.workspace import Workspace\n",
    "from fabricengineer.api.fabric.workspace.items import (\n",
    "    VariableLibrary,\n",
    "    VariableLibraryDefinition,\n",
    "    VariableLibraryVariable,\n",
    ")\n",
    "from fabricengineer.api.fabric.workspace.create_pipeline import WorkspaceItemCreationPipeline"
   ]
  },
  {
   "cell_type": "code",
   "execution_count": 4,
   "id": "78fe1870",
   "metadata": {},
   "outputs": [
    {
     "data": {
      "text/plain": [
       "Workspace(item=FabricItem(fields={'displayName': 'FabricEngineer-py Unit-Tests [UT]', 'description': 'Updated Description 77c78b8f', 'capacityId': None}, api=WorkspaceAPIData(id='3496c8e0-ff9a-4a3a-95ac-0dc36994c20d', displayName='FabricEngineer-py Unit-Tests [UT]', description='Updated Description 77c78b8f', type='Workspace', capacityId='60ff07ca-5c4f-4127-9442-4f5e0742a6b1', capacityRegion='Germany West Central', capacityAssignmentProgress='Completed', oneLakeEndpoints=WorkspaceOneLakeEndpoints(blobEndpoint='https://germanywestcentral-onelake.blob.fabric.microsoft.com', dfsEndpoint='https://germanywestcentral-onelake.dfs.fabric.microsoft.com'))))"
      ]
     },
     "execution_count": 4,
     "metadata": {},
     "output_type": "execute_result"
    }
   ],
   "source": [
    "workspace = Workspace.get_by_id(WORKSPACE_ID)\n",
    "workspace"
   ]
  },
  {
   "cell_type": "code",
   "execution_count": null,
   "id": "3a850643",
   "metadata": {},
   "outputs": [],
   "source": [
    "\n",
    "\n",
    "varlib_def = VariableLibraryDefinition(\n",
    "    [\"TEST\", \"PROD\"],\n",
    "    VariableLibraryVariable(\n",
    "        name=\"VarHello\",\n",
    "        note=\"\",\n",
    "        type=\"String\",\n",
    "        value=\"HelloWorld\"\n",
    "    ),\n",
    "    VariableLibraryVariable(\n",
    "        name=\"WorkspaceID\",\n",
    "        note=\"\",\n",
    "        type=\"String\",\n",
    "        value=workspace\n",
    "    )\n",
    ")\n",
    "varlib = VariableLibrary(\n",
    "    WORKSPACE_ID,\n",
    "    name=rand_workspace_item_name(\"VL\"),\n",
    "\n",
    ")"
   ]
  }
 ],
 "metadata": {
  "kernelspec": {
   "display_name": "py312",
   "language": "python",
   "name": "python3"
  },
  "language_info": {
   "codemirror_mode": {
    "name": "ipython",
    "version": 3
   },
   "file_extension": ".py",
   "mimetype": "text/x-python",
   "name": "python",
   "nbconvert_exporter": "python",
   "pygments_lexer": "ipython3",
   "version": "3.12.9"
  }
 },
 "nbformat": 4,
 "nbformat_minor": 5
}
