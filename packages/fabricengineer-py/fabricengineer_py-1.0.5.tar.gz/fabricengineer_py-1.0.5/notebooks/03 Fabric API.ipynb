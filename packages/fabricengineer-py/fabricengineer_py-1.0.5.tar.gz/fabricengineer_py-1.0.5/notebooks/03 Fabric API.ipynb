{
 "cells": [
  {
   "cell_type": "markdown",
   "id": "4eba1ce5",
   "metadata": {},
   "source": [
    "# Fabric API Development"
   ]
  },
  {
   "cell_type": "markdown",
   "id": "db9651c7",
   "metadata": {},
   "source": [
    "## Imports"
   ]
  },
  {
   "cell_type": "code",
   "execution_count": 1,
   "id": "c19c12ee",
   "metadata": {},
   "outputs": [
    {
     "data": {
      "text/plain": [
       "True"
      ]
     },
     "execution_count": 1,
     "metadata": {},
     "output_type": "execute_result"
    }
   ],
   "source": [
    "import os\n",
    "import sys\n",
    "import uuid\n",
    "\n",
    "from dotenv import load_dotenv\n",
    "\n",
    "sys.path.append(\"../src\")\n",
    "\n",
    "load_dotenv(\"../.env\")"
   ]
  },
  {
   "cell_type": "code",
   "execution_count": 2,
   "id": "457d2ec5",
   "metadata": {},
   "outputs": [],
   "source": [
    "from fabricengineer.api.auth import MicrosoftExtraSVC\n",
    "from fabricengineer.api.fabric.client.fabric import set_global_fabric_client\n",
    "from fabricengineer.api.fabric.workspace import Workspace\n",
    "from fabricengineer.api.fabric.workspace.folder import WorkspaceFolder\n",
    "from fabricengineer.api.fabric.workspace.items import (\n",
    "    Lakehouse, Warehouse, VariableLibrary, VariableLibraryDefinition\n",
    ")"
   ]
  },
  {
   "cell_type": "code",
   "execution_count": 3,
   "id": "077381ac",
   "metadata": {},
   "outputs": [],
   "source": [
    "WORKSPACE_ID = os.environ.get(\"WORKSPACE_ID\")\n",
    "\n",
    "MICROSOFT_TENANT_ID = os.environ.get(\"MICROSOFT_TENANT_ID\")\n",
    "SVC_MICROSOFT_FABRIC_CLIENT_ID = os.environ.get(\"SVC_MICROSOFT_FABRIC_CLIENT_ID\")\n",
    "SVC_MICROSOFT_FABRIC_SECRET_VALUE = os.environ.get(\"SVC_MICROSOFT_FABRIC_SECRET_VALUE\")\n",
    "\n",
    "svc = MicrosoftExtraSVC(\n",
    "    tenant_id=MICROSOFT_TENANT_ID,\n",
    "    client_id=SVC_MICROSOFT_FABRIC_CLIENT_ID,\n",
    "    client_secret=SVC_MICROSOFT_FABRIC_SECRET_VALUE\n",
    ")\n",
    "\n",
    "assert len(svc.tenant_id) == 36\n",
    "assert len(svc.client_id) == 36\n",
    "assert len(svc.client_secret) == 40"
   ]
  },
  {
   "cell_type": "code",
   "execution_count": 4,
   "id": "3c5f69bf",
   "metadata": {},
   "outputs": [
    {
     "data": {
      "text/plain": [
       "<fabricengineer.api.fabric.client.fabric.FabricAPIClient at 0x113da07a0>"
      ]
     },
     "execution_count": 4,
     "metadata": {},
     "output_type": "execute_result"
    }
   ],
   "source": [
    "client = set_global_fabric_client(svc)\n",
    "client"
   ]
  },
  {
   "cell_type": "markdown",
   "id": "c3a6b621",
   "metadata": {},
   "source": [
    "## Utils"
   ]
  },
  {
   "cell_type": "code",
   "execution_count": 5,
   "id": "fe32685e",
   "metadata": {},
   "outputs": [],
   "source": [
    "def item_name(prefix: str) -> str:\n",
    "    name = uuid.uuid4().hex[:8].replace(\"-\", \"\")\n",
    "    return f\"{prefix}_{name}\""
   ]
  },
  {
   "cell_type": "markdown",
   "id": "beed677f",
   "metadata": {},
   "source": [
    "## Workspaces"
   ]
  },
  {
   "cell_type": "markdown",
   "id": "eb8c24c4",
   "metadata": {},
   "source": [
    "### Get Workspaces"
   ]
  },
  {
   "cell_type": "code",
   "execution_count": 6,
   "id": "f098e617",
   "metadata": {},
   "outputs": [
    {
     "data": {
      "text/plain": [
       "{'value': [{'id': '312bfed8-b61c-4465-8907-ec3a32bbfd8a',\n",
       "   'displayName': 'Fabric Capacity Metrics',\n",
       "   'description': '',\n",
       "   'type': 'Workspace'},\n",
       "  {'id': '3496c8e0-ff9a-4a3a-95ac-0dc36994c20d',\n",
       "   'displayName': 'FabricEngineer-py Unit-Tests [UT]',\n",
       "   'description': '',\n",
       "   'type': 'Workspace',\n",
       "   'capacityId': 'd2223036-a08d-4750-930b-fea5c68b0d1b'}]}"
      ]
     },
     "execution_count": 6,
     "metadata": {},
     "output_type": "execute_result"
    }
   ],
   "source": [
    "client.workspaces.get().json()"
   ]
  },
  {
   "cell_type": "code",
   "execution_count": 7,
   "id": "d3299749",
   "metadata": {},
   "outputs": [
    {
     "data": {
      "text/plain": [
       "[Workspace(item=FabricItem(fields={'displayName': 'Fabric Capacity Metrics', 'description': 'New Workspace', 'capacityId': None}, api=WorkspaceAPIData(id='312bfed8-b61c-4465-8907-ec3a32bbfd8a', displayName='Fabric Capacity Metrics', description='', type='Workspace', capacityId=None, capacityRegion=None, capacityAssignmentProgress=None, oneLakeEndpoints=WorkspaceOneLakeEndpoints(blobEndpoint=None, dfsEndpoint=None))),\n",
       " Workspace(item=FabricItem(fields={'displayName': 'FabricEngineer-py Unit-Tests [UT]', 'description': 'New Workspace', 'capacityId': None}, api=WorkspaceAPIData(id='3496c8e0-ff9a-4a3a-95ac-0dc36994c20d', displayName='FabricEngineer-py Unit-Tests [UT]', description='', type='Workspace', capacityId='d2223036-a08d-4750-930b-fea5c68b0d1b', capacityRegion=None, capacityAssignmentProgress=None, oneLakeEndpoints=WorkspaceOneLakeEndpoints(blobEndpoint=None, dfsEndpoint=None)))]"
      ]
     },
     "execution_count": 7,
     "metadata": {},
     "output_type": "execute_result"
    }
   ],
   "source": [
    "Workspace.list()"
   ]
  },
  {
   "cell_type": "code",
   "execution_count": 8,
   "id": "500a9456",
   "metadata": {},
   "outputs": [
    {
     "data": {
      "text/plain": [
       "{'id': '3496c8e0-ff9a-4a3a-95ac-0dc36994c20d',\n",
       " 'displayName': 'FabricEngineer-py Unit-Tests [UT]',\n",
       " 'description': '',\n",
       " 'type': 'Workspace',\n",
       " 'capacityId': 'd2223036-a08d-4750-930b-fea5c68b0d1b',\n",
       " 'capacityRegion': 'Germany West Central',\n",
       " 'oneLakeEndpoints': {'blobEndpoint': 'https://germanywestcentral-onelake.blob.fabric.microsoft.com',\n",
       "  'dfsEndpoint': 'https://germanywestcentral-onelake.dfs.fabric.microsoft.com'},\n",
       " 'capacityAssignmentProgress': 'Completed'}"
      ]
     },
     "execution_count": 8,
     "metadata": {},
     "output_type": "execute_result"
    }
   ],
   "source": [
    "client.workspaces.get(WORKSPACE_ID).json()"
   ]
  },
  {
   "cell_type": "code",
   "execution_count": 9,
   "id": "7d29ab3b",
   "metadata": {},
   "outputs": [
    {
     "data": {
      "text/plain": [
       "Workspace(item=FabricItem(fields={'displayName': 'FabricEngineer-py Unit-Tests [UT]', 'description': 'New Workspace', 'capacityId': None}, api=WorkspaceAPIData(id='3496c8e0-ff9a-4a3a-95ac-0dc36994c20d', displayName='FabricEngineer-py Unit-Tests [UT]', description='', type='Workspace', capacityId='d2223036-a08d-4750-930b-fea5c68b0d1b', capacityRegion='Germany West Central', capacityAssignmentProgress='Completed', oneLakeEndpoints=WorkspaceOneLakeEndpoints(blobEndpoint='https://germanywestcentral-onelake.blob.fabric.microsoft.com', dfsEndpoint='https://germanywestcentral-onelake.dfs.fabric.microsoft.com')))"
      ]
     },
     "execution_count": 9,
     "metadata": {},
     "output_type": "execute_result"
    }
   ],
   "source": [
    "Workspace.get_by_id(WORKSPACE_ID)"
   ]
  },
  {
   "cell_type": "code",
   "execution_count": 10,
   "id": "bc1981c3",
   "metadata": {},
   "outputs": [
    {
     "data": {
      "text/plain": [
       "Workspace(item=FabricItem(fields={'displayName': 'FabricEngineer-py Unit-Tests [UT]', 'description': 'New Workspace', 'capacityId': None}, api=WorkspaceAPIData(id='3496c8e0-ff9a-4a3a-95ac-0dc36994c20d', displayName='FabricEngineer-py Unit-Tests [UT]', description='', type='Workspace', capacityId='d2223036-a08d-4750-930b-fea5c68b0d1b', capacityRegion=None, capacityAssignmentProgress=None, oneLakeEndpoints=WorkspaceOneLakeEndpoints(blobEndpoint=None, dfsEndpoint=None)))"
      ]
     },
     "execution_count": 10,
     "metadata": {},
     "output_type": "execute_result"
    }
   ],
   "source": [
    "Workspace.get_by_name(\"FabricEngineer-py Unit-Tests [UT]\")"
   ]
  },
  {
   "cell_type": "markdown",
   "id": "64e20122",
   "metadata": {},
   "source": [
    "### Manage Workspace"
   ]
  },
  {
   "cell_type": "code",
   "execution_count": 11,
   "id": "9fa7deba",
   "metadata": {},
   "outputs": [
    {
     "name": "stdout",
     "output_type": "stream",
     "text": [
      "CREATED: WorkspaceAPIData(id='ceb07b22-13d8-42d0-9d65-16e7a1367e15', displayName='WS_eeef807c', description='Test Workspace', type='Workspace', capacityId=None, capacityRegion=None, capacityAssignmentProgress='Completed', oneLakeEndpoints=WorkspaceOneLakeEndpoints(blobEndpoint=None, dfsEndpoint=None))\n",
      "UPDATED: WorkspaceAPIData(id='ceb07b22-13d8-42d0-9d65-16e7a1367e15', displayName='WS_eeef807c_Updated', description='Test Workspace', type='Workspace', capacityId=None, capacityRegion=None, capacityAssignmentProgress='Completed', oneLakeEndpoints=WorkspaceOneLakeEndpoints(blobEndpoint=None, dfsEndpoint=None))\n",
      "Successful deleted\n"
     ]
    }
   ],
   "source": [
    "name = item_name(\"WS\")\n",
    "update_name = f\"{name}_Updated\"\n",
    "ws = Workspace(\n",
    "    name=name,\n",
    "    description=\"Test Workspace\"\n",
    ")\n",
    "\n",
    "ws.create()\n",
    "print(\"CREATED:\", ws.item.api)\n",
    "\n",
    "assert Workspace.get_by_id(ws.item.api.id) is not None\n",
    "\n",
    "ws.update(displayName=update_name)\n",
    "print(\"UPDATED:\", ws.item.api)\n",
    "\n",
    "assert Workspace.get_by_id(ws.item.api.id).item.api.displayName == update_name\n",
    "\n",
    "ws.delete()\n",
    "\n",
    "try:\n",
    "    ws.fetch()\n",
    "    print(\"ERROR: found!\")\n",
    "except Exception as e:\n",
    "    print(\"Successful deleted\")\n"
   ]
  },
  {
   "cell_type": "code",
   "execution_count": null,
   "id": "91f10473",
   "metadata": {},
   "outputs": [],
   "source": []
  }
 ],
 "metadata": {
  "kernelspec": {
   "display_name": "py312",
   "language": "python",
   "name": "python3"
  },
  "language_info": {
   "codemirror_mode": {
    "name": "ipython",
    "version": 3
   },
   "file_extension": ".py",
   "mimetype": "text/x-python",
   "name": "python",
   "nbconvert_exporter": "python",
   "pygments_lexer": "ipython3",
   "version": "3.12.9"
  }
 },
 "nbformat": 4,
 "nbformat_minor": 5
}
