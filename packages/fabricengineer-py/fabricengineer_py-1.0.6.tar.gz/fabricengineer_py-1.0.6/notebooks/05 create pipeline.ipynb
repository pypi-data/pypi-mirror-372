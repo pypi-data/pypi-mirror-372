{
 "cells": [
  {
   "cell_type": "code",
   "execution_count": 1,
   "id": "ee5759fe",
   "metadata": {},
   "outputs": [
    {
     "data": {
      "text/plain": [
       "True"
      ]
     },
     "execution_count": 1,
     "metadata": {},
     "output_type": "execute_result"
    }
   ],
   "source": [
    "import os\n",
    "import sys\n",
    "import uuid\n",
    "\n",
    "from dotenv import load_dotenv\n",
    "\n",
    "sys.path.append(\"../src\")\n",
    "\n",
    "load_dotenv(\"../.env\")"
   ]
  },
  {
   "cell_type": "code",
   "execution_count": 2,
   "id": "b5bad00b",
   "metadata": {},
   "outputs": [
    {
     "data": {
      "text/plain": [
       "'3496c8e0-ff9a-4a3a-95ac-0dc36994c20d'"
      ]
     },
     "execution_count": 2,
     "metadata": {},
     "output_type": "execute_result"
    }
   ],
   "source": [
    "WORKSPACE_ID = os.environ.get(\"WORKSPACE_ID\")\n",
    "WORKSPACE_ID"
   ]
  },
  {
   "cell_type": "code",
   "execution_count": 3,
   "id": "204e9151",
   "metadata": {},
   "outputs": [
    {
     "name": "stderr",
     "output_type": "stream",
     "text": [
      "[25.08.2025 13:37:55] [INFO] fabricengineer Using service principal for authentication.\n",
      "[25.08.2025 13:37:55] [INFO] fabricengineer Getting token via Microsoft Fabric Service Principal.\n"
     ]
    }
   ],
   "source": [
    "from fabricengineer.api.fabric.workspace.base import BaseWorkspaceItem\n",
    "from fabricengineer.api.fabric.workspace.folder import WorkspaceFolder\n",
    "from fabricengineer.api.fabric.workspace.items import (\n",
    "    Lakehouse,\n",
    "    Warehouse,\n",
    "    VariableLibrary,\n",
    "    VariableLibraryDefinition,\n",
    "    DataPipeline,\n",
    "    Notebook\n",
    ")\n",
    "from fabricengineer.api.fabric.workspace.create_pipeline import WorkspaceItemCreationPipeline"
   ]
  },
  {
   "cell_type": "code",
   "execution_count": 4,
   "id": "f24aa273",
   "metadata": {},
   "outputs": [],
   "source": [
    "root = WorkspaceFolder(WORKSPACE_ID, \"AAA_FolderRoot\")\n",
    "sub1 = WorkspaceFolder(WORKSPACE_ID, \"FolderSub1\", parent_folder=root)\n",
    "sub2 = WorkspaceFolder(WORKSPACE_ID, \"FolderSub2\", parent_folder=root)\n",
    "sub_sub1 = WorkspaceFolder(WORKSPACE_ID, \"FolderSubSub1\", parent_folder=sub1)\n",
    "sub_sub2 = WorkspaceFolder(WORKSPACE_ID, \"FolderSubSub2\", parent_folder=sub2)"
   ]
  },
  {
   "cell_type": "code",
   "execution_count": 5,
   "id": "8e0ded4f",
   "metadata": {},
   "outputs": [],
   "source": [
    "pipeline = WorkspaceItemCreationPipeline([\n",
    "    root,\n",
    "    sub1,\n",
    "    sub2,\n",
    "    sub_sub1,\n",
    "    sub_sub2\n",
    "])"
   ]
  },
  {
   "cell_type": "markdown",
   "id": "b676a99e",
   "metadata": {},
   "source": [
    "# Testing"
   ]
  },
  {
   "cell_type": "code",
   "execution_count": 6,
   "id": "c7405d44",
   "metadata": {},
   "outputs": [],
   "source": [
    "from fabricengineer.api.fabric.workspace.folder.folder import WorkspaceFolder\n",
    "from tests.utils import rand_workspace_item_name\n",
    "from fabricengineer.api.fabric.workspace.items import (\n",
    "    DataPipeline,\n",
    "    Notebook,\n",
    "    VariableLibrary,\n",
    "    Warehouse,\n",
    "    Lakehouse\n",
    ")\n",
    "from fabricengineer.api.fabric.workspace.base import BaseWorkspaceItem\n",
    "from fabricengineer.api.fabric.workspace.create_pipeline import (\n",
    "    WorkspaceItemCreationPipeline,\n",
    "    PipelineItemStatus\n",
    ")\n",
    "\n",
    "def items_to_create(self, folder: WorkspaceFolder) -> list[BaseWorkspaceItem]:\n",
    "        workspace_id = folder.item.api.workspaceId\n",
    "        sub_folder = WorkspaceFolder(\n",
    "            workspace_id,\n",
    "            name=rand_workspace_item_name(\"F\"),\n",
    "            parent_folder=folder\n",
    "        )\n",
    "        data_pipeline = DataPipeline(\n",
    "            workspace_id,\n",
    "            name=rand_workspace_item_name(\"DP\"),\n",
    "            folder=sub_folder\n",
    "        )\n",
    "        notebook = Notebook(\n",
    "            workspace_id,\n",
    "            name=rand_workspace_item_name(\"NB\"),\n",
    "            folder=sub_folder\n",
    "        )\n",
    "        variable_library = VariableLibrary(\n",
    "            workspace_id,\n",
    "            name=rand_workspace_item_name(\"VL\"),\n",
    "            folder=sub_folder\n",
    "        )\n",
    "        warehouse = Warehouse(\n",
    "            workspace_id,\n",
    "            name=rand_workspace_item_name(\"WH\"),\n",
    "            folder=sub_folder\n",
    "        )\n",
    "        lakehouse = Lakehouse(\n",
    "            workspace_id,\n",
    "            name=rand_workspace_item_name(\"LH\"),\n",
    "            folder=sub_folder\n",
    "        )\n",
    "\n",
    "        return [\n",
    "            sub_folder,\n",
    "            data_pipeline,\n",
    "            notebook,\n",
    "            variable_library,\n",
    "            warehouse,\n",
    "            lakehouse\n",
    "        ]"
   ]
  },
  {
   "cell_type": "code",
   "execution_count": 7,
   "id": "3eb2026e",
   "metadata": {},
   "outputs": [
    {
     "name": "stderr",
     "output_type": "stream",
     "text": [
      "[25.08.2025 13:38:10] [INFO] fabricengineer Start creating item WorkspaceFolder(workspaceId='3496c8e0-ff9a-4a3a-95ac-0dc36994c20d', item=FabricItem(fields={'displayName': 'F_TESTING_FOLDER', 'parentFolderId': None}, api=WorkspaceFolderAPIData(id='dad45b2c-14f2-49fd-acbd-4b8890f1b4e5', workspaceId='3496c8e0-ff9a-4a3a-95ac-0dc36994c20d', displayName='F_TESTING_FOLDER', parentFolderId=None)))\n",
      "[25.08.2025 13:38:10] [INFO] fabricengineer Finished creating item WorkspaceFolder(workspaceId='3496c8e0-ff9a-4a3a-95ac-0dc36994c20d', item=FabricItem(fields={'displayName': 'F_TESTING_FOLDER', 'parentFolderId': None}, api=WorkspaceFolderAPIData(id='dad45b2c-14f2-49fd-acbd-4b8890f1b4e5', workspaceId='3496c8e0-ff9a-4a3a-95ac-0dc36994c20d', displayName='F_TESTING_FOLDER', parentFolderId=None))) with status PipelineItemStatus.SKIPPED_EXISTS\n",
      "[25.08.2025 13:38:11] [INFO] fabricengineer Start creating item WorkspaceFolder(workspaceId='3496c8e0-ff9a-4a3a-95ac-0dc36994c20d', item=FabricItem(fields={'displayName': 'F_cfc1f451edb34545bd9b503cd6ddc997', 'parentFolderId': WorkspaceFolder(workspaceId='3496c8e0-ff9a-4a3a-95ac-0dc36994c20d', item=FabricItem(fields={'displayName': 'F_TESTING_FOLDER', 'parentFolderId': None}, api=WorkspaceFolderAPIData(id='dad45b2c-14f2-49fd-acbd-4b8890f1b4e5', workspaceId='3496c8e0-ff9a-4a3a-95ac-0dc36994c20d', displayName='F_TESTING_FOLDER', parentFolderId=None)))}, api=None))\n"
     ]
    },
    {
     "name": "stdout",
     "output_type": "stream",
     "text": [
      "Create payload: {'displayName': 'F_cfc1f451edb34545bd9b503cd6ddc997', 'parentFolderId': 'dad45b2c-14f2-49fd-acbd-4b8890f1b4e5'}\n"
     ]
    },
    {
     "name": "stderr",
     "output_type": "stream",
     "text": [
      "[25.08.2025 13:38:12] [INFO] fabricengineer Finished creating item WorkspaceFolder(workspaceId='3496c8e0-ff9a-4a3a-95ac-0dc36994c20d', item=FabricItem(fields={'displayName': 'F_cfc1f451edb34545bd9b503cd6ddc997', 'parentFolderId': 'dad45b2c-14f2-49fd-acbd-4b8890f1b4e5'}, api=WorkspaceFolderAPIData(id='0b8b796b-aa74-47dd-8d13-79b2af699357', workspaceId='3496c8e0-ff9a-4a3a-95ac-0dc36994c20d', displayName='F_cfc1f451edb34545bd9b503cd6ddc997', parentFolderId='dad45b2c-14f2-49fd-acbd-4b8890f1b4e5'))) with status PipelineItemStatus.CREATED\n",
      "[25.08.2025 13:38:12] [INFO] fabricengineer Start creating item Lakehouse(workspaceId='3496c8e0-ff9a-4a3a-95ac-0dc36994c20d', item=FabricItem(fields={'displayName': 'LH_c22f2432ff3e412c8da953ed5dcdc342', 'description': 'New Lakehouse', 'folderId': WorkspaceFolder(workspaceId='3496c8e0-ff9a-4a3a-95ac-0dc36994c20d', item=FabricItem(fields={'displayName': 'F_cfc1f451edb34545bd9b503cd6ddc997', 'parentFolderId': 'dad45b2c-14f2-49fd-acbd-4b8890f1b4e5'}, api=WorkspaceFolderAPIData(id='0b8b796b-aa74-47dd-8d13-79b2af699357', workspaceId='3496c8e0-ff9a-4a3a-95ac-0dc36994c20d', displayName='F_cfc1f451edb34545bd9b503cd6ddc997', parentFolderId='dad45b2c-14f2-49fd-acbd-4b8890f1b4e5'))), 'creationPayload': {'enableSchemas': True}}, api=None))\n",
      "[25.08.2025 13:38:12] [INFO] fabricengineer Start creating item Notebook(workspaceId='3496c8e0-ff9a-4a3a-95ac-0dc36994c20d', item=FabricItem(fields={'displayName': 'NB_7c9fce0c33194ce28e013419dfa303a9', 'description': 'New Notebook', 'folderId': WorkspaceFolder(workspaceId='3496c8e0-ff9a-4a3a-95ac-0dc36994c20d', item=FabricItem(fields={'displayName': 'F_cfc1f451edb34545bd9b503cd6ddc997', 'parentFolderId': 'dad45b2c-14f2-49fd-acbd-4b8890f1b4e5'}, api=WorkspaceFolderAPIData(id='0b8b796b-aa74-47dd-8d13-79b2af699357', workspaceId='3496c8e0-ff9a-4a3a-95ac-0dc36994c20d', displayName='F_cfc1f451edb34545bd9b503cd6ddc997', parentFolderId='dad45b2c-14f2-49fd-acbd-4b8890f1b4e5'))), 'definition': None}, api=None))\n",
      "[25.08.2025 13:38:12] [INFO] fabricengineer Start creating item VariableLibrary(workspaceId='3496c8e0-ff9a-4a3a-95ac-0dc36994c20d', item=FabricItem(fields={'displayName': 'VL_9cc03bf804b84641833144ae5f3cd8ea', 'description': 'New VariableLibrary', 'folderId': WorkspaceFolder(workspaceId='3496c8e0-ff9a-4a3a-95ac-0dc36994c20d', item=FabricItem(fields={'displayName': 'F_cfc1f451edb34545bd9b503cd6ddc997', 'parentFolderId': 'dad45b2c-14f2-49fd-acbd-4b8890f1b4e5'}, api=WorkspaceFolderAPIData(id='0b8b796b-aa74-47dd-8d13-79b2af699357', workspaceId='3496c8e0-ff9a-4a3a-95ac-0dc36994c20d', displayName='F_cfc1f451edb34545bd9b503cd6ddc997', parentFolderId='dad45b2c-14f2-49fd-acbd-4b8890f1b4e5'))), 'definition': None}, api=None))\n",
      "[25.08.2025 13:38:12] [INFO] fabricengineer Start creating item DataPipeline(workspaceId='3496c8e0-ff9a-4a3a-95ac-0dc36994c20d', item=FabricItem(fields={'displayName': 'DP_ebe24e42409e456e99a93b2e71eb685a', 'description': 'New Data Pipeline', 'folderId': WorkspaceFolder(workspaceId='3496c8e0-ff9a-4a3a-95ac-0dc36994c20d', item=FabricItem(fields={'displayName': 'F_cfc1f451edb34545bd9b503cd6ddc997', 'parentFolderId': 'dad45b2c-14f2-49fd-acbd-4b8890f1b4e5'}, api=WorkspaceFolderAPIData(id='0b8b796b-aa74-47dd-8d13-79b2af699357', workspaceId='3496c8e0-ff9a-4a3a-95ac-0dc36994c20d', displayName='F_cfc1f451edb34545bd9b503cd6ddc997', parentFolderId='dad45b2c-14f2-49fd-acbd-4b8890f1b4e5'))), 'definition': None}, api=None))\n",
      "[25.08.2025 13:38:12] [INFO] fabricengineer Start creating item Warehouse(workspaceId='3496c8e0-ff9a-4a3a-95ac-0dc36994c20d', item=FabricItem(fields={'displayName': 'WH_471fec1a7d5d4a26925a1ca7fe4a1f1e', 'description': 'New Warehouse', 'folderId': WorkspaceFolder(workspaceId='3496c8e0-ff9a-4a3a-95ac-0dc36994c20d', item=FabricItem(fields={'displayName': 'F_cfc1f451edb34545bd9b503cd6ddc997', 'parentFolderId': 'dad45b2c-14f2-49fd-acbd-4b8890f1b4e5'}, api=WorkspaceFolderAPIData(id='0b8b796b-aa74-47dd-8d13-79b2af699357', workspaceId='3496c8e0-ff9a-4a3a-95ac-0dc36994c20d', displayName='F_cfc1f451edb34545bd9b503cd6ddc997', parentFolderId='dad45b2c-14f2-49fd-acbd-4b8890f1b4e5'))), 'creationPayload': {'collationType': 'Latin1_General_100_BIN2_UTF8'}}, api=None))\n"
     ]
    },
    {
     "name": "stdout",
     "output_type": "stream",
     "text": [
      "Create payload: {'displayName': 'VL_9cc03bf804b84641833144ae5f3cd8ea', 'description': 'New VariableLibrary', 'folderId': '0b8b796b-aa74-47dd-8d13-79b2af699357', 'definition': None}\n",
      "Create payload: {'displayName': 'NB_7c9fce0c33194ce28e013419dfa303a9', 'description': 'New Notebook', 'folderId': '0b8b796b-aa74-47dd-8d13-79b2af699357', 'definition': None}\n",
      "Create payload: {'displayName': 'DP_ebe24e42409e456e99a93b2e71eb685a', 'description': 'New Data Pipeline', 'folderId': '0b8b796b-aa74-47dd-8d13-79b2af699357', 'definition': None}\n",
      "Create payload: {'displayName': 'WH_471fec1a7d5d4a26925a1ca7fe4a1f1e', 'description': 'New Warehouse', 'folderId': '0b8b796b-aa74-47dd-8d13-79b2af699357', 'creationPayload': {'collationType': 'Latin1_General_100_BIN2_UTF8'}}\n",
      "Create payload: {'displayName': 'LH_c22f2432ff3e412c8da953ed5dcdc342', 'description': 'New Lakehouse', 'folderId': '0b8b796b-aa74-47dd-8d13-79b2af699357', 'creationPayload': {'enableSchemas': True}}\n"
     ]
    },
    {
     "name": "stderr",
     "output_type": "stream",
     "text": [
      "[25.08.2025 13:38:13] [INFO] fabricengineer Status=202, Operation ID=ce95a07b-ecd5-43a3-91d5-ca99066cb187, Location=https://api.fabric.microsoft.com/v1/operations/ce95a07b-ecd5-43a3-91d5-ca99066cb187, Retry after=5s, payload={'displayName': 'WH_471fec1a7d5d4a26925a1ca7fe4a1f1e', 'description': 'New Warehouse', 'folderId': '0b8b796b-aa74-47dd-8d13-79b2af699357', 'creationPayload': {'collationType': 'Latin1_General_100_BIN2_UTF8'}}\n",
      "[25.08.2025 13:38:14] [INFO] fabricengineer Finished creating item Notebook(workspaceId='3496c8e0-ff9a-4a3a-95ac-0dc36994c20d', item=FabricItem(fields={'displayName': 'NB_7c9fce0c33194ce28e013419dfa303a9', 'description': 'New Notebook', 'folderId': '0b8b796b-aa74-47dd-8d13-79b2af699357', 'definition': None}, api=NotebookAPIData(id='2a217c2b-4e5c-4d7b-96d7-bfb5d2393d5d', workspaceId='3496c8e0-ff9a-4a3a-95ac-0dc36994c20d', displayName='NB_7c9fce0c33194ce28e013419dfa303a9', description='New Notebook', type='Notebook', folderId='0b8b796b-aa74-47dd-8d13-79b2af699357'))) with status PipelineItemStatus.CREATED\n",
      "[25.08.2025 13:38:15] [INFO] fabricengineer Finished creating item VariableLibrary(workspaceId='3496c8e0-ff9a-4a3a-95ac-0dc36994c20d', item=FabricItem(fields={'displayName': 'VL_9cc03bf804b84641833144ae5f3cd8ea', 'description': 'New VariableLibrary', 'folderId': '0b8b796b-aa74-47dd-8d13-79b2af699357', 'definition': None}, api=VariableLibraryAPIData(id='34d81da7-d187-4d77-9cb7-9f6542e9a609', workspaceId='3496c8e0-ff9a-4a3a-95ac-0dc36994c20d', displayName='VL_9cc03bf804b84641833144ae5f3cd8ea', description='New VariableLibrary', type='VariableLibrary', folderId='0b8b796b-aa74-47dd-8d13-79b2af699357', properties=VariableLibraryProperties(activeValueSetName='Default value set')))) with status PipelineItemStatus.CREATED\n",
      "[25.08.2025 13:38:16] [INFO] fabricengineer Lakehouse 'LH_c22f2432ff3e412c8da953ed5dcdc342' created. Waiting for lakehouse SQL endpoint provisioning to complete...\n",
      "[25.08.2025 13:38:16] [INFO] fabricengineer Lakehouse 'LH_c22f2432ff3e412c8da953ed5dcdc342' current state: InProgress\n",
      "[25.08.2025 13:38:16] [INFO] fabricengineer Finished creating item DataPipeline(workspaceId='3496c8e0-ff9a-4a3a-95ac-0dc36994c20d', item=FabricItem(fields={'displayName': 'DP_ebe24e42409e456e99a93b2e71eb685a', 'description': 'New Data Pipeline', 'folderId': '0b8b796b-aa74-47dd-8d13-79b2af699357', 'definition': None}, api=DataPipelineAPIData(id='13a84757-e9b5-4f02-a842-4db4911fa98f', workspaceId='3496c8e0-ff9a-4a3a-95ac-0dc36994c20d', displayName='DP_ebe24e42409e456e99a93b2e71eb685a', description='New Data Pipeline', type='DataPipeline', folderId='0b8b796b-aa74-47dd-8d13-79b2af699357'))) with status PipelineItemStatus.CREATED\n",
      "[25.08.2025 13:38:18] [INFO] fabricengineer Wait for more 5s for payload: {'displayName': 'WH_471fec1a7d5d4a26925a1ca7fe4a1f1e', 'description': 'New Warehouse', 'folderId': '0b8b796b-aa74-47dd-8d13-79b2af699357', 'creationPayload': {'collationType': 'Latin1_General_100_BIN2_UTF8'}}\n",
      "[25.08.2025 13:38:21] [INFO] fabricengineer Lakehouse 'LH_c22f2432ff3e412c8da953ed5dcdc342' current state: InProgress\n",
      "[25.08.2025 13:38:24] [INFO] fabricengineer Wait for more 5s for payload: {'displayName': 'WH_471fec1a7d5d4a26925a1ca7fe4a1f1e', 'description': 'New Warehouse', 'folderId': '0b8b796b-aa74-47dd-8d13-79b2af699357', 'creationPayload': {'collationType': 'Latin1_General_100_BIN2_UTF8'}}\n",
      "[25.08.2025 13:38:27] [INFO] fabricengineer Lakehouse 'LH_c22f2432ff3e412c8da953ed5dcdc342' current state: InProgress\n",
      "[25.08.2025 13:38:29] [INFO] fabricengineer Wait for more 5s for payload: {'displayName': 'WH_471fec1a7d5d4a26925a1ca7fe4a1f1e', 'description': 'New Warehouse', 'folderId': '0b8b796b-aa74-47dd-8d13-79b2af699357', 'creationPayload': {'collationType': 'Latin1_General_100_BIN2_UTF8'}}\n",
      "[25.08.2025 13:38:32] [INFO] fabricengineer Lakehouse 'LH_c22f2432ff3e412c8da953ed5dcdc342' current state: Success\n",
      "[25.08.2025 13:38:32] [INFO] fabricengineer Lakehouse 'LH_c22f2432ff3e412c8da953ed5dcdc342' SQL endpoint provisioning completed with state: Success.\n",
      "[25.08.2025 13:38:32] [INFO] fabricengineer Finished creating item Lakehouse(workspaceId='3496c8e0-ff9a-4a3a-95ac-0dc36994c20d', item=FabricItem(fields={'displayName': 'LH_c22f2432ff3e412c8da953ed5dcdc342', 'description': 'New Lakehouse', 'folderId': '0b8b796b-aa74-47dd-8d13-79b2af699357', 'creationPayload': {'enableSchemas': True}}, api=LakehouseAPIData(id='273ef965-42ab-4ebc-b814-03881bdbc45d', workspaceId='3496c8e0-ff9a-4a3a-95ac-0dc36994c20d', displayName='LH_c22f2432ff3e412c8da953ed5dcdc342', description='New Lakehouse', type='Lakehouse', folderId='0b8b796b-aa74-47dd-8d13-79b2af699357', properties=LakehouseProperties(defaultSchema='dbo', oneLakeTablesPath='https://onelake.dfs.fabric.microsoft.com/3496c8e0-ff9a-4a3a-95ac-0dc36994c20d/273ef965-42ab-4ebc-b814-03881bdbc45d/Tables', oneLakeFilesPath='https://onelake.dfs.fabric.microsoft.com/3496c8e0-ff9a-4a3a-95ac-0dc36994c20d/273ef965-42ab-4ebc-b814-03881bdbc45d/Files', sqlEndpointProperties=LakehouseSqlEndpointProperties(id='dfc93cb1-8c57-4c8a-9c8d-840c520a93da', connectionString='a6ri6ubdhgfubhe2p537uuy4hy-4dejmne2745evfnmbxbwtfgcbu.datawarehouse.fabric.microsoft.com', provisioningStatus='Success'))))) with status PipelineItemStatus.CREATED\n",
      "[25.08.2025 13:38:35] [INFO] fabricengineer Finished creating item Warehouse(workspaceId='3496c8e0-ff9a-4a3a-95ac-0dc36994c20d', item=FabricItem(fields={'displayName': 'WH_471fec1a7d5d4a26925a1ca7fe4a1f1e', 'description': 'New Warehouse', 'folderId': '0b8b796b-aa74-47dd-8d13-79b2af699357', 'creationPayload': {'collationType': 'Latin1_General_100_BIN2_UTF8'}}, api=WarehouseAPIData(id='9a90d4e4-0a80-4d4e-b403-6f92f78ac486', workspaceId='3496c8e0-ff9a-4a3a-95ac-0dc36994c20d', displayName='WH_471fec1a7d5d4a26925a1ca7fe4a1f1e', description='New Warehouse', type='Warehouse', folderId='0b8b796b-aa74-47dd-8d13-79b2af699357', properties=WarehouseProperties(connectionInfo='a6ri6ubdhgfubhe2p537uuy4hy-4dejmne2745evfnmbxbwtfgcbu.datawarehouse.fabric.microsoft.com', connectionString='a6ri6ubdhgfubhe2p537uuy4hy-4dejmne2745evfnmbxbwtfgcbu.datawarehouse.fabric.microsoft.com', createdDate='2025-08-25T11:38:13.0923148', creationMode='New', sourceRestorePoint=None, collationType='Latin1_General_100_BIN2_UTF8', lastUpdatedTime='2025-08-25T11:38:30.0808066')))) with status PipelineItemStatus.CREATED\n"
     ]
    }
   ],
   "source": [
    "folder = WorkspaceFolder(WORKSPACE_ID, \"F_TESTING_FOLDER\")\n",
    "folder.fetch()\n",
    "\n",
    "items = items_to_create(WORKSPACE_ID, folder)\n",
    "\n",
    "pipeline = WorkspaceItemCreationPipeline(items)\n",
    "result_run_1 = pipeline.run(in_parallel=True)"
   ]
  },
  {
   "cell_type": "code",
   "execution_count": 9,
   "id": "1df06bf5",
   "metadata": {},
   "outputs": [
    {
     "name": "stderr",
     "output_type": "stream",
     "text": [
      "[25.08.2025 13:44:24] [INFO] fabricengineer Start creating item WorkspaceFolder(workspaceId='3496c8e0-ff9a-4a3a-95ac-0dc36994c20d', item=FabricItem(fields={'displayName': 'F_TESTING_FOLDER', 'parentFolderId': None}, api=WorkspaceFolderAPIData(id='030e2e67-563a-43ba-9e35-b99ea595656a', workspaceId='3496c8e0-ff9a-4a3a-95ac-0dc36994c20d', displayName='F_TESTING_FOLDER', parentFolderId=None)))\n",
      "[25.08.2025 13:44:24] [INFO] fabricengineer Finished creating item WorkspaceFolder(workspaceId='3496c8e0-ff9a-4a3a-95ac-0dc36994c20d', item=FabricItem(fields={'displayName': 'F_TESTING_FOLDER', 'parentFolderId': None}, api=WorkspaceFolderAPIData(id='030e2e67-563a-43ba-9e35-b99ea595656a', workspaceId='3496c8e0-ff9a-4a3a-95ac-0dc36994c20d', displayName='F_TESTING_FOLDER', parentFolderId=None))) with status PipelineItemStatus.SKIPPED_EXISTS\n",
      "[25.08.2025 13:44:24] [INFO] fabricengineer Start creating item WorkspaceFolder(workspaceId='3496c8e0-ff9a-4a3a-95ac-0dc36994c20d', item=FabricItem(fields={'displayName': 'F_cfc1f451edb34545bd9b503cd6ddc997', 'parentFolderId': '030e2e67-563a-43ba-9e35-b99ea595656a'}, api=WorkspaceFolderAPIData(id='30e9d63e-7563-4067-96ac-792123f30bdd', workspaceId='3496c8e0-ff9a-4a3a-95ac-0dc36994c20d', displayName='F_cfc1f451edb34545bd9b503cd6ddc997', parentFolderId='030e2e67-563a-43ba-9e35-b99ea595656a')))\n",
      "[25.08.2025 13:44:24] [INFO] fabricengineer Finished creating item WorkspaceFolder(workspaceId='3496c8e0-ff9a-4a3a-95ac-0dc36994c20d', item=FabricItem(fields={'displayName': 'F_cfc1f451edb34545bd9b503cd6ddc997', 'parentFolderId': '030e2e67-563a-43ba-9e35-b99ea595656a'}, api=WorkspaceFolderAPIData(id='30e9d63e-7563-4067-96ac-792123f30bdd', workspaceId='3496c8e0-ff9a-4a3a-95ac-0dc36994c20d', displayName='F_cfc1f451edb34545bd9b503cd6ddc997', parentFolderId='030e2e67-563a-43ba-9e35-b99ea595656a'))) with status PipelineItemStatus.SKIPPED_EXISTS\n",
      "[25.08.2025 13:44:24] [INFO] fabricengineer Start creating item Notebook(workspaceId='3496c8e0-ff9a-4a3a-95ac-0dc36994c20d', item=FabricItem(fields={'displayName': 'NB_7c9fce0c33194ce28e013419dfa303a9', 'description': 'New Notebook', 'folderId': '30e9d63e-7563-4067-96ac-792123f30bdd', 'definition': None}, api=NotebookAPIData(id='2a217c2b-4e5c-4d7b-96d7-bfb5d2393d5d', workspaceId='3496c8e0-ff9a-4a3a-95ac-0dc36994c20d', displayName='NB_7c9fce0c33194ce28e013419dfa303a9', description='New Notebook', type='Notebook', folderId='0b8b796b-aa74-47dd-8d13-79b2af699357')))\n",
      "[25.08.2025 13:44:24] [ERROR] fabricengineer Status code: 404, Response: {\"requestId\":\"d3fbf039-d9d9-417c-bc09-a54febf9af6d\",\"errorCode\":\"ItemNotFound\",\"message\":\"Could not found the requested item\"}\n"
     ]
    },
    {
     "name": "stdout",
     "output_type": "stream",
     "text": [
      "Create payload: {'displayName': 'NB_7c9fce0c33194ce28e013419dfa303a9', 'description': 'New Notebook', 'folderId': '30e9d63e-7563-4067-96ac-792123f30bdd', 'definition': None}\n"
     ]
    },
    {
     "name": "stderr",
     "output_type": "stream",
     "text": [
      "[25.08.2025 13:44:25] [ERROR] fabricengineer Status code: 400, Response: {\"requestId\":\"e868978c-ecbc-40da-ab30-84237c71dfff\",\"errorCode\":\"ItemDisplayNameNotAvailableYet\",\"message\":\"Requested 'NB_7c9fce0c33194ce28e013419dfa303a9' is not available yet and is expected to become available in the upcoming minutes.\"}\n",
      "[25.08.2025 13:44:25] [ERROR] fabricengineer Error creating item 'Notebook(workspaceId='3496c8e0-ff9a-4a3a-95ac-0dc36994c20d', item=FabricItem(fields={'displayName': 'NB_7c9fce0c33194ce28e013419dfa303a9', 'description': 'New Notebook', 'folderId': '30e9d63e-7563-4067-96ac-792123f30bdd', 'definition': None}, api=NotebookAPIData(id='2a217c2b-4e5c-4d7b-96d7-bfb5d2393d5d', workspaceId='3496c8e0-ff9a-4a3a-95ac-0dc36994c20d', displayName='NB_7c9fce0c33194ce28e013419dfa303a9', description='New Notebook', type='Notebook', folderId='0b8b796b-aa74-47dd-8d13-79b2af699357')))'.\n",
      "400 Client Error: Bad Request for url: https://api.fabric.microsoft.com/v1/workspaces/3496c8e0-ff9a-4a3a-95ac-0dc36994c20d/notebooks\n",
      "[25.08.2025 13:44:25] [ERROR] fabricengineer Failed creating item Notebook(workspaceId='3496c8e0-ff9a-4a3a-95ac-0dc36994c20d', item=FabricItem(fields={'displayName': 'NB_7c9fce0c33194ce28e013419dfa303a9', 'description': 'New Notebook', 'folderId': '30e9d63e-7563-4067-96ac-792123f30bdd', 'definition': None}, api=NotebookAPIData(id='2a217c2b-4e5c-4d7b-96d7-bfb5d2393d5d', workspaceId='3496c8e0-ff9a-4a3a-95ac-0dc36994c20d', displayName='NB_7c9fce0c33194ce28e013419dfa303a9', description='New Notebook', type='Notebook', folderId='0b8b796b-aa74-47dd-8d13-79b2af699357'))) with error: 400 Client Error: Bad Request for url: https://api.fabric.microsoft.com/v1/workspaces/3496c8e0-ff9a-4a3a-95ac-0dc36994c20d/notebooks\n",
      "[25.08.2025 13:44:25] [INFO] fabricengineer Start creating item Warehouse(workspaceId='3496c8e0-ff9a-4a3a-95ac-0dc36994c20d', item=FabricItem(fields={'displayName': 'WH_471fec1a7d5d4a26925a1ca7fe4a1f1e', 'description': 'New Warehouse', 'folderId': '30e9d63e-7563-4067-96ac-792123f30bdd', 'creationPayload': {'collationType': 'Latin1_General_100_BIN2_UTF8'}}, api=WarehouseAPIData(id='9a90d4e4-0a80-4d4e-b403-6f92f78ac486', workspaceId='3496c8e0-ff9a-4a3a-95ac-0dc36994c20d', displayName='WH_471fec1a7d5d4a26925a1ca7fe4a1f1e', description='New Warehouse', type='Warehouse', folderId='0b8b796b-aa74-47dd-8d13-79b2af699357', properties=WarehouseProperties(connectionInfo='a6ri6ubdhgfubhe2p537uuy4hy-4dejmne2745evfnmbxbwtfgcbu.datawarehouse.fabric.microsoft.com', connectionString='a6ri6ubdhgfubhe2p537uuy4hy-4dejmne2745evfnmbxbwtfgcbu.datawarehouse.fabric.microsoft.com', createdDate='2025-08-25T11:38:13.0923148', creationMode='New', sourceRestorePoint=None, collationType='Latin1_General_100_BIN2_UTF8', lastUpdatedTime='2025-08-25T11:38:30.0808066'))))\n",
      "[25.08.2025 13:44:25] [ERROR] fabricengineer Status code: 404, Response: {\"requestId\":\"8eaa7f82-5bf6-4b8e-bf15-2c5ad6611789\",\"errorCode\":\"ItemNotFound\",\"message\":\"Could not found the requested item\"}\n"
     ]
    },
    {
     "name": "stdout",
     "output_type": "stream",
     "text": [
      "Create payload: {'displayName': 'WH_471fec1a7d5d4a26925a1ca7fe4a1f1e', 'description': 'New Warehouse', 'folderId': '30e9d63e-7563-4067-96ac-792123f30bdd', 'creationPayload': {'collationType': 'Latin1_General_100_BIN2_UTF8'}}\n"
     ]
    },
    {
     "name": "stderr",
     "output_type": "stream",
     "text": [
      "[25.08.2025 13:44:25] [ERROR] fabricengineer Status code: 400, Response: {\"requestId\":\"73c7e665-6e78-4482-9798-7cbafe680160\",\"errorCode\":\"ItemDisplayNameNotAvailableYet\",\"message\":\"Requested 'WH_471fec1a7d5d4a26925a1ca7fe4a1f1e' is not available yet and is expected to become available in the upcoming minutes.\"}\n",
      "[25.08.2025 13:44:25] [ERROR] fabricengineer Error creating item 'Warehouse(workspaceId='3496c8e0-ff9a-4a3a-95ac-0dc36994c20d', item=FabricItem(fields={'displayName': 'WH_471fec1a7d5d4a26925a1ca7fe4a1f1e', 'description': 'New Warehouse', 'folderId': '30e9d63e-7563-4067-96ac-792123f30bdd', 'creationPayload': {'collationType': 'Latin1_General_100_BIN2_UTF8'}}, api=WarehouseAPIData(id='9a90d4e4-0a80-4d4e-b403-6f92f78ac486', workspaceId='3496c8e0-ff9a-4a3a-95ac-0dc36994c20d', displayName='WH_471fec1a7d5d4a26925a1ca7fe4a1f1e', description='New Warehouse', type='Warehouse', folderId='0b8b796b-aa74-47dd-8d13-79b2af699357', properties=WarehouseProperties(connectionInfo='a6ri6ubdhgfubhe2p537uuy4hy-4dejmne2745evfnmbxbwtfgcbu.datawarehouse.fabric.microsoft.com', connectionString='a6ri6ubdhgfubhe2p537uuy4hy-4dejmne2745evfnmbxbwtfgcbu.datawarehouse.fabric.microsoft.com', createdDate='2025-08-25T11:38:13.0923148', creationMode='New', sourceRestorePoint=None, collationType='Latin1_General_100_BIN2_UTF8', lastUpdatedTime='2025-08-25T11:38:30.0808066'))))'.\n",
      "400 Client Error: Bad Request for url: https://api.fabric.microsoft.com/v1/workspaces/3496c8e0-ff9a-4a3a-95ac-0dc36994c20d/warehouses\n",
      "[25.08.2025 13:44:25] [ERROR] fabricengineer Failed creating item Warehouse(workspaceId='3496c8e0-ff9a-4a3a-95ac-0dc36994c20d', item=FabricItem(fields={'displayName': 'WH_471fec1a7d5d4a26925a1ca7fe4a1f1e', 'description': 'New Warehouse', 'folderId': '30e9d63e-7563-4067-96ac-792123f30bdd', 'creationPayload': {'collationType': 'Latin1_General_100_BIN2_UTF8'}}, api=WarehouseAPIData(id='9a90d4e4-0a80-4d4e-b403-6f92f78ac486', workspaceId='3496c8e0-ff9a-4a3a-95ac-0dc36994c20d', displayName='WH_471fec1a7d5d4a26925a1ca7fe4a1f1e', description='New Warehouse', type='Warehouse', folderId='0b8b796b-aa74-47dd-8d13-79b2af699357', properties=WarehouseProperties(connectionInfo='a6ri6ubdhgfubhe2p537uuy4hy-4dejmne2745evfnmbxbwtfgcbu.datawarehouse.fabric.microsoft.com', connectionString='a6ri6ubdhgfubhe2p537uuy4hy-4dejmne2745evfnmbxbwtfgcbu.datawarehouse.fabric.microsoft.com', createdDate='2025-08-25T11:38:13.0923148', creationMode='New', sourceRestorePoint=None, collationType='Latin1_General_100_BIN2_UTF8', lastUpdatedTime='2025-08-25T11:38:30.0808066')))) with error: 400 Client Error: Bad Request for url: https://api.fabric.microsoft.com/v1/workspaces/3496c8e0-ff9a-4a3a-95ac-0dc36994c20d/warehouses\n",
      "[25.08.2025 13:44:25] [INFO] fabricengineer Start creating item DataPipeline(workspaceId='3496c8e0-ff9a-4a3a-95ac-0dc36994c20d', item=FabricItem(fields={'displayName': 'DP_ebe24e42409e456e99a93b2e71eb685a', 'description': 'New Data Pipeline', 'folderId': '30e9d63e-7563-4067-96ac-792123f30bdd', 'definition': None}, api=DataPipelineAPIData(id='13a84757-e9b5-4f02-a842-4db4911fa98f', workspaceId='3496c8e0-ff9a-4a3a-95ac-0dc36994c20d', displayName='DP_ebe24e42409e456e99a93b2e71eb685a', description='New Data Pipeline', type='DataPipeline', folderId='0b8b796b-aa74-47dd-8d13-79b2af699357')))\n",
      "[25.08.2025 13:44:25] [ERROR] fabricengineer Status code: 404, Response: {\"requestId\":\"965a7387-51aa-42e5-8c88-04cd26abdeee\",\"errorCode\":\"ItemNotFound\",\"message\":\"Could not found the requested item\"}\n"
     ]
    },
    {
     "name": "stdout",
     "output_type": "stream",
     "text": [
      "Create payload: {'displayName': 'DP_ebe24e42409e456e99a93b2e71eb685a', 'description': 'New Data Pipeline', 'folderId': '30e9d63e-7563-4067-96ac-792123f30bdd', 'definition': None}\n"
     ]
    },
    {
     "name": "stderr",
     "output_type": "stream",
     "text": [
      "[25.08.2025 13:44:25] [ERROR] fabricengineer Status code: 400, Response: {\"requestId\":\"a359f44a-97ca-459b-8e73-d0c96bc508c7\",\"errorCode\":\"ItemDisplayNameNotAvailableYet\",\"message\":\"Requested 'DP_ebe24e42409e456e99a93b2e71eb685a' is not available yet and is expected to become available in the upcoming minutes.\"}\n",
      "[25.08.2025 13:44:25] [ERROR] fabricengineer Error creating item 'DataPipeline(workspaceId='3496c8e0-ff9a-4a3a-95ac-0dc36994c20d', item=FabricItem(fields={'displayName': 'DP_ebe24e42409e456e99a93b2e71eb685a', 'description': 'New Data Pipeline', 'folderId': '30e9d63e-7563-4067-96ac-792123f30bdd', 'definition': None}, api=DataPipelineAPIData(id='13a84757-e9b5-4f02-a842-4db4911fa98f', workspaceId='3496c8e0-ff9a-4a3a-95ac-0dc36994c20d', displayName='DP_ebe24e42409e456e99a93b2e71eb685a', description='New Data Pipeline', type='DataPipeline', folderId='0b8b796b-aa74-47dd-8d13-79b2af699357')))'.\n",
      "400 Client Error: Bad Request for url: https://api.fabric.microsoft.com/v1/workspaces/3496c8e0-ff9a-4a3a-95ac-0dc36994c20d/dataPipelines\n",
      "[25.08.2025 13:44:25] [ERROR] fabricengineer Failed creating item DataPipeline(workspaceId='3496c8e0-ff9a-4a3a-95ac-0dc36994c20d', item=FabricItem(fields={'displayName': 'DP_ebe24e42409e456e99a93b2e71eb685a', 'description': 'New Data Pipeline', 'folderId': '30e9d63e-7563-4067-96ac-792123f30bdd', 'definition': None}, api=DataPipelineAPIData(id='13a84757-e9b5-4f02-a842-4db4911fa98f', workspaceId='3496c8e0-ff9a-4a3a-95ac-0dc36994c20d', displayName='DP_ebe24e42409e456e99a93b2e71eb685a', description='New Data Pipeline', type='DataPipeline', folderId='0b8b796b-aa74-47dd-8d13-79b2af699357'))) with error: 400 Client Error: Bad Request for url: https://api.fabric.microsoft.com/v1/workspaces/3496c8e0-ff9a-4a3a-95ac-0dc36994c20d/dataPipelines\n",
      "[25.08.2025 13:44:25] [INFO] fabricengineer Start creating item Lakehouse(workspaceId='3496c8e0-ff9a-4a3a-95ac-0dc36994c20d', item=FabricItem(fields={'displayName': 'LH_c22f2432ff3e412c8da953ed5dcdc342', 'description': 'New Lakehouse', 'folderId': '30e9d63e-7563-4067-96ac-792123f30bdd', 'creationPayload': {'enableSchemas': True}}, api=LakehouseAPIData(id='273ef965-42ab-4ebc-b814-03881bdbc45d', workspaceId='3496c8e0-ff9a-4a3a-95ac-0dc36994c20d', displayName='LH_c22f2432ff3e412c8da953ed5dcdc342', description='New Lakehouse', type='Lakehouse', folderId='0b8b796b-aa74-47dd-8d13-79b2af699357', properties=LakehouseProperties(defaultSchema='dbo', oneLakeTablesPath='https://onelake.dfs.fabric.microsoft.com/3496c8e0-ff9a-4a3a-95ac-0dc36994c20d/273ef965-42ab-4ebc-b814-03881bdbc45d/Tables', oneLakeFilesPath='https://onelake.dfs.fabric.microsoft.com/3496c8e0-ff9a-4a3a-95ac-0dc36994c20d/273ef965-42ab-4ebc-b814-03881bdbc45d/Files', sqlEndpointProperties=LakehouseSqlEndpointProperties(id='dfc93cb1-8c57-4c8a-9c8d-840c520a93da', connectionString='a6ri6ubdhgfubhe2p537uuy4hy-4dejmne2745evfnmbxbwtfgcbu.datawarehouse.fabric.microsoft.com', provisioningStatus='Success')))))\n",
      "[25.08.2025 13:44:26] [ERROR] fabricengineer Status code: 404, Response: {\"requestId\":\"ba9b712b-8293-43e1-b8bb-560c4363666e\",\"errorCode\":\"EntityNotFound\",\"message\":\"The requested resource could not be found\",\"relatedResource\":{\"resourceId\":\"273ef965-42ab-4ebc-b814-03881bdbc45d\",\"resourceType\":\"Item\"}}\n"
     ]
    },
    {
     "name": "stdout",
     "output_type": "stream",
     "text": [
      "Create payload: {'displayName': 'LH_c22f2432ff3e412c8da953ed5dcdc342', 'description': 'New Lakehouse', 'folderId': '30e9d63e-7563-4067-96ac-792123f30bdd', 'creationPayload': {'enableSchemas': True}}\n"
     ]
    },
    {
     "name": "stderr",
     "output_type": "stream",
     "text": [
      "[25.08.2025 13:44:26] [ERROR] fabricengineer Status code: 400, Response: {\"requestId\":\"81f7482b-c78c-4441-af93-dae67530a73c\",\"errorCode\":\"ItemDisplayNameNotAvailableYet\",\"message\":\"Requested 'LH_c22f2432ff3e412c8da953ed5dcdc342' is not available yet and is expected to become available in the upcoming minutes.\"}\n",
      "[25.08.2025 13:44:26] [ERROR] fabricengineer Error creating item 'Lakehouse(workspaceId='3496c8e0-ff9a-4a3a-95ac-0dc36994c20d', item=FabricItem(fields={'displayName': 'LH_c22f2432ff3e412c8da953ed5dcdc342', 'description': 'New Lakehouse', 'folderId': '30e9d63e-7563-4067-96ac-792123f30bdd', 'creationPayload': {'enableSchemas': True}}, api=LakehouseAPIData(id='273ef965-42ab-4ebc-b814-03881bdbc45d', workspaceId='3496c8e0-ff9a-4a3a-95ac-0dc36994c20d', displayName='LH_c22f2432ff3e412c8da953ed5dcdc342', description='New Lakehouse', type='Lakehouse', folderId='0b8b796b-aa74-47dd-8d13-79b2af699357', properties=LakehouseProperties(defaultSchema='dbo', oneLakeTablesPath='https://onelake.dfs.fabric.microsoft.com/3496c8e0-ff9a-4a3a-95ac-0dc36994c20d/273ef965-42ab-4ebc-b814-03881bdbc45d/Tables', oneLakeFilesPath='https://onelake.dfs.fabric.microsoft.com/3496c8e0-ff9a-4a3a-95ac-0dc36994c20d/273ef965-42ab-4ebc-b814-03881bdbc45d/Files', sqlEndpointProperties=LakehouseSqlEndpointProperties(id='dfc93cb1-8c57-4c8a-9c8d-840c520a93da', connectionString='a6ri6ubdhgfubhe2p537uuy4hy-4dejmne2745evfnmbxbwtfgcbu.datawarehouse.fabric.microsoft.com', provisioningStatus='Success')))))'.\n",
      "400 Client Error: Bad Request for url: https://api.fabric.microsoft.com/v1/workspaces/3496c8e0-ff9a-4a3a-95ac-0dc36994c20d/lakehouses\n",
      "[25.08.2025 13:44:26] [ERROR] fabricengineer Failed creating item Lakehouse(workspaceId='3496c8e0-ff9a-4a3a-95ac-0dc36994c20d', item=FabricItem(fields={'displayName': 'LH_c22f2432ff3e412c8da953ed5dcdc342', 'description': 'New Lakehouse', 'folderId': '30e9d63e-7563-4067-96ac-792123f30bdd', 'creationPayload': {'enableSchemas': True}}, api=LakehouseAPIData(id='273ef965-42ab-4ebc-b814-03881bdbc45d', workspaceId='3496c8e0-ff9a-4a3a-95ac-0dc36994c20d', displayName='LH_c22f2432ff3e412c8da953ed5dcdc342', description='New Lakehouse', type='Lakehouse', folderId='0b8b796b-aa74-47dd-8d13-79b2af699357', properties=LakehouseProperties(defaultSchema='dbo', oneLakeTablesPath='https://onelake.dfs.fabric.microsoft.com/3496c8e0-ff9a-4a3a-95ac-0dc36994c20d/273ef965-42ab-4ebc-b814-03881bdbc45d/Tables', oneLakeFilesPath='https://onelake.dfs.fabric.microsoft.com/3496c8e0-ff9a-4a3a-95ac-0dc36994c20d/273ef965-42ab-4ebc-b814-03881bdbc45d/Files', sqlEndpointProperties=LakehouseSqlEndpointProperties(id='dfc93cb1-8c57-4c8a-9c8d-840c520a93da', connectionString='a6ri6ubdhgfubhe2p537uuy4hy-4dejmne2745evfnmbxbwtfgcbu.datawarehouse.fabric.microsoft.com', provisioningStatus='Success'))))) with error: 400 Client Error: Bad Request for url: https://api.fabric.microsoft.com/v1/workspaces/3496c8e0-ff9a-4a3a-95ac-0dc36994c20d/lakehouses\n",
      "[25.08.2025 13:44:26] [INFO] fabricengineer Start creating item VariableLibrary(workspaceId='3496c8e0-ff9a-4a3a-95ac-0dc36994c20d', item=FabricItem(fields={'displayName': 'VL_9cc03bf804b84641833144ae5f3cd8ea', 'description': 'New VariableLibrary', 'folderId': '30e9d63e-7563-4067-96ac-792123f30bdd', 'definition': None}, api=VariableLibraryAPIData(id='34d81da7-d187-4d77-9cb7-9f6542e9a609', workspaceId='3496c8e0-ff9a-4a3a-95ac-0dc36994c20d', displayName='VL_9cc03bf804b84641833144ae5f3cd8ea', description='New VariableLibrary', type='VariableLibrary', folderId='0b8b796b-aa74-47dd-8d13-79b2af699357', properties=VariableLibraryProperties(activeValueSetName='Default value set'))))\n",
      "[25.08.2025 13:44:26] [ERROR] fabricengineer Status code: 404, Response: {\"requestId\":\"ea123e46-adda-41b9-9a27-7e828ccda04e\",\"errorCode\":\"ItemNotFound\",\"message\":\"Could not found the requested item\"}\n"
     ]
    },
    {
     "name": "stdout",
     "output_type": "stream",
     "text": [
      "Create payload: {'displayName': 'VL_9cc03bf804b84641833144ae5f3cd8ea', 'description': 'New VariableLibrary', 'folderId': '30e9d63e-7563-4067-96ac-792123f30bdd', 'definition': None}\n"
     ]
    },
    {
     "name": "stderr",
     "output_type": "stream",
     "text": [
      "[25.08.2025 13:44:26] [ERROR] fabricengineer Status code: 400, Response: {\"requestId\":\"32e6a253-5b95-4866-a7ac-f8264db14037\",\"errorCode\":\"ItemDisplayNameNotAvailableYet\",\"message\":\"Requested 'VL_9cc03bf804b84641833144ae5f3cd8ea' is not available yet and is expected to become available in the upcoming minutes.\"}\n",
      "[25.08.2025 13:44:26] [ERROR] fabricengineer Error creating item 'VariableLibrary(workspaceId='3496c8e0-ff9a-4a3a-95ac-0dc36994c20d', item=FabricItem(fields={'displayName': 'VL_9cc03bf804b84641833144ae5f3cd8ea', 'description': 'New VariableLibrary', 'folderId': '30e9d63e-7563-4067-96ac-792123f30bdd', 'definition': None}, api=VariableLibraryAPIData(id='34d81da7-d187-4d77-9cb7-9f6542e9a609', workspaceId='3496c8e0-ff9a-4a3a-95ac-0dc36994c20d', displayName='VL_9cc03bf804b84641833144ae5f3cd8ea', description='New VariableLibrary', type='VariableLibrary', folderId='0b8b796b-aa74-47dd-8d13-79b2af699357', properties=VariableLibraryProperties(activeValueSetName='Default value set'))))'.\n",
      "400 Client Error: Bad Request for url: https://api.fabric.microsoft.com/v1/workspaces/3496c8e0-ff9a-4a3a-95ac-0dc36994c20d/VariableLibraries\n",
      "[25.08.2025 13:44:26] [ERROR] fabricengineer Failed creating item VariableLibrary(workspaceId='3496c8e0-ff9a-4a3a-95ac-0dc36994c20d', item=FabricItem(fields={'displayName': 'VL_9cc03bf804b84641833144ae5f3cd8ea', 'description': 'New VariableLibrary', 'folderId': '30e9d63e-7563-4067-96ac-792123f30bdd', 'definition': None}, api=VariableLibraryAPIData(id='34d81da7-d187-4d77-9cb7-9f6542e9a609', workspaceId='3496c8e0-ff9a-4a3a-95ac-0dc36994c20d', displayName='VL_9cc03bf804b84641833144ae5f3cd8ea', description='New VariableLibrary', type='VariableLibrary', folderId='0b8b796b-aa74-47dd-8d13-79b2af699357', properties=VariableLibraryProperties(activeValueSetName='Default value set')))) with error: 400 Client Error: Bad Request for url: https://api.fabric.microsoft.com/v1/workspaces/3496c8e0-ff9a-4a3a-95ac-0dc36994c20d/VariableLibraries\n"
     ]
    }
   ],
   "source": [
    "result = pipeline.run(in_parallel=False)"
   ]
  },
  {
   "cell_type": "code",
   "execution_count": 13,
   "id": "846777d1",
   "metadata": {},
   "outputs": [
    {
     "name": "stdout",
     "output_type": "stream",
     "text": [
      "DataPipeline(workspaceId='3496c8e0-ff9a-4a3a-95ac-0dc36994c20d', item=FabricItem(fields={'displayName': 'DP_ebe24e42409e456e99a93b2e71eb685a', 'description': 'New Data Pipeline', 'folderId': '30e9d63e-7563-4067-96ac-792123f30bdd', 'definition': None}, api=DataPipelineAPIData(id='13a84757-e9b5-4f02-a842-4db4911fa98f', workspaceId='3496c8e0-ff9a-4a3a-95ac-0dc36994c20d', displayName='DP_ebe24e42409e456e99a93b2e71eb685a', description='New Data Pipeline', type='DataPipeline', folderId='0b8b796b-aa74-47dd-8d13-79b2af699357')))\n"
     ]
    }
   ],
   "source": [
    "print(result.errors[0].item)"
   ]
  },
  {
   "cell_type": "markdown",
   "id": "efb3df42",
   "metadata": {},
   "source": [
    "# Dev"
   ]
  },
  {
   "cell_type": "code",
   "execution_count": 7,
   "id": "63b64445",
   "metadata": {},
   "outputs": [],
   "source": [
    "import time\n",
    "from enum import Enum\n",
    "from fabricengineer.logging import logger\n",
    "\n",
    "\n",
    "class PipelineItemStatus(Enum):\n",
    "    QUEUED = \"QUEUED\"\n",
    "    RUNNING = \"RUNNING\"\n",
    "    SKIPPED_EXISTS = \"SKIPPED_EXISTS\"\n",
    "    CREATED = \"CREATED\"\n",
    "    FAILED = \"FAILED\"\n",
    "\n",
    "\n",
    "class PipelineItem:\n",
    "    def __init__(\n",
    "            self,\n",
    "            item: BaseWorkspaceItem,\n",
    "            finished_pipeline_items: set[BaseWorkspaceItem]\n",
    "    ):\n",
    "        self._item = item\n",
    "        self._finished_pipeline_items = finished_pipeline_items\n",
    "        self._status = PipelineItemStatus.QUEUED\n",
    "        self._error = None\n",
    "\n",
    "    @property\n",
    "    def item(self) -> BaseWorkspaceItem:\n",
    "        return self._item\n",
    "\n",
    "    @property\n",
    "    def status(self) -> PipelineItemStatus:\n",
    "        return self._status\n",
    "\n",
    "    def is_ready(self) -> bool:\n",
    "        return all(\n",
    "            dep.item in self._finished_pipeline_items\n",
    "            for dep in self._item._upstream_items\n",
    "        )\n",
    "\n",
    "    def create_if_not_exists(self) -> None:\n",
    "        while not self.is_ready():\n",
    "            time.sleep(1)\n",
    "\n",
    "        self._status = PipelineItemStatus.RUNNING\n",
    "        logger.info(f\"Start creating item {self._item}\")\n",
    "        try:\n",
    "            if self._item.exists():\n",
    "                self._status = PipelineItemStatus.SKIPPED_EXISTS\n",
    "                return\n",
    "            self._item.create()\n",
    "            self._status = PipelineItemStatus.CREATED\n",
    "        except Exception as e:\n",
    "            self._status = PipelineItemStatus.FAILED\n",
    "            self._error = str(e)\n",
    "        finally:\n",
    "            if self._status != PipelineItemStatus.FAILED:\n",
    "                self._finished_pipeline_items.add(self._item)\n",
    "                logger.info(f\"Finished creating item {self._item} with status {self._status}\")\n",
    "            else:\n",
    "                logger.error(f\"Failed creating item {self._item} with error: {self._error}\")\n"
   ]
  },
  {
   "cell_type": "code",
   "execution_count": 8,
   "id": "d995c81f",
   "metadata": {},
   "outputs": [],
   "source": [
    "from concurrent.futures import ThreadPoolExecutor\n",
    "\n",
    "class WorkspaceItemCreationPipeline:\n",
    "    def __init__(self, items: list[BaseWorkspaceItem]):\n",
    "        self._items = items\n",
    "\n",
    "    def run(self, *, max_workers: int = None):\n",
    "        finished_pipeline_items = set()\n",
    "        pipeline_items = [\n",
    "            PipelineItem(item, finished_pipeline_items)\n",
    "            for item in self._items\n",
    "        ]\n",
    "\n",
    "        cpu = os.cpu_count() or 4\n",
    "        max_workers = max_workers or min(32, cpu * 5)\n",
    "        with ThreadPoolExecutor(max_workers=max_workers) as executor:\n",
    "            _ = executor.map(self._execute_pipeline_item, pipeline_items)\n",
    "\n",
    "    def _execute_pipeline_item(self, pipeline_item: PipelineItem):\n",
    "        pipeline_item.create_if_not_exists()"
   ]
  },
  {
   "cell_type": "code",
   "execution_count": 9,
   "id": "8f167b2c",
   "metadata": {},
   "outputs": [
    {
     "name": "stderr",
     "output_type": "stream",
     "text": [
      "[25.08.2025 11:45:53] [INFO] fabricengineer Start creating item WorkspaceFolder(workspaceId='3496c8e0-ff9a-4a3a-95ac-0dc36994c20d', item=FabricItem(fields={'displayName': 'AAA_FolderRoot', 'parentFolderId': None}, api=None))\n",
      "[25.08.2025 11:45:54] [INFO] fabricengineer Finished creating item WorkspaceFolder(workspaceId='3496c8e0-ff9a-4a3a-95ac-0dc36994c20d', item=FabricItem(fields={'displayName': 'AAA_FolderRoot', 'parentFolderId': None}, api=WorkspaceFolderAPIData(id='e03d13ba-7fb0-435c-a26c-b2bddb997486', workspaceId='3496c8e0-ff9a-4a3a-95ac-0dc36994c20d', displayName='AAA_FolderRoot', parentFolderId=None))) with status PipelineItemStatus.SKIPPED_EXISTS\n",
      "[25.08.2025 11:45:54] [INFO] fabricengineer Start creating item WorkspaceFolder(workspaceId='3496c8e0-ff9a-4a3a-95ac-0dc36994c20d', item=FabricItem(fields={'displayName': 'FolderSub1', 'parentFolderId': WorkspaceFolder(workspaceId='3496c8e0-ff9a-4a3a-95ac-0dc36994c20d', item=FabricItem(fields={'displayName': 'AAA_FolderRoot', 'parentFolderId': None}, api=WorkspaceFolderAPIData(id='e03d13ba-7fb0-435c-a26c-b2bddb997486', workspaceId='3496c8e0-ff9a-4a3a-95ac-0dc36994c20d', displayName='AAA_FolderRoot', parentFolderId=None)))}, api=None))\n",
      "[25.08.2025 11:45:54] [INFO] fabricengineer Start creating item WorkspaceFolder(workspaceId='3496c8e0-ff9a-4a3a-95ac-0dc36994c20d', item=FabricItem(fields={'displayName': 'FolderSub2', 'parentFolderId': WorkspaceFolder(workspaceId='3496c8e0-ff9a-4a3a-95ac-0dc36994c20d', item=FabricItem(fields={'displayName': 'AAA_FolderRoot', 'parentFolderId': None}, api=WorkspaceFolderAPIData(id='e03d13ba-7fb0-435c-a26c-b2bddb997486', workspaceId='3496c8e0-ff9a-4a3a-95ac-0dc36994c20d', displayName='AAA_FolderRoot', parentFolderId=None)))}, api=None))\n",
      "[25.08.2025 11:45:55] [INFO] fabricengineer Finished creating item WorkspaceFolder(workspaceId='3496c8e0-ff9a-4a3a-95ac-0dc36994c20d', item=FabricItem(fields={'displayName': 'FolderSub2', 'parentFolderId': WorkspaceFolder(workspaceId='3496c8e0-ff9a-4a3a-95ac-0dc36994c20d', item=FabricItem(fields={'displayName': 'AAA_FolderRoot', 'parentFolderId': None}, api=WorkspaceFolderAPIData(id='e03d13ba-7fb0-435c-a26c-b2bddb997486', workspaceId='3496c8e0-ff9a-4a3a-95ac-0dc36994c20d', displayName='AAA_FolderRoot', parentFolderId=None)))}, api=WorkspaceFolderAPIData(id='c82af086-3bf9-49ce-b299-66bdcbba5ae1', workspaceId='3496c8e0-ff9a-4a3a-95ac-0dc36994c20d', displayName='FolderSub2', parentFolderId='e03d13ba-7fb0-435c-a26c-b2bddb997486'))) with status PipelineItemStatus.SKIPPED_EXISTS\n",
      "[25.08.2025 11:45:55] [INFO] fabricengineer Finished creating item WorkspaceFolder(workspaceId='3496c8e0-ff9a-4a3a-95ac-0dc36994c20d', item=FabricItem(fields={'displayName': 'FolderSub1', 'parentFolderId': WorkspaceFolder(workspaceId='3496c8e0-ff9a-4a3a-95ac-0dc36994c20d', item=FabricItem(fields={'displayName': 'AAA_FolderRoot', 'parentFolderId': None}, api=WorkspaceFolderAPIData(id='e03d13ba-7fb0-435c-a26c-b2bddb997486', workspaceId='3496c8e0-ff9a-4a3a-95ac-0dc36994c20d', displayName='AAA_FolderRoot', parentFolderId=None)))}, api=WorkspaceFolderAPIData(id='e4a5fca7-07c7-4e24-a303-6004ad3fc88f', workspaceId='3496c8e0-ff9a-4a3a-95ac-0dc36994c20d', displayName='FolderSub1', parentFolderId='e03d13ba-7fb0-435c-a26c-b2bddb997486'))) with status PipelineItemStatus.SKIPPED_EXISTS\n",
      "[25.08.2025 11:45:55] [INFO] fabricengineer Start creating item WorkspaceFolder(workspaceId='3496c8e0-ff9a-4a3a-95ac-0dc36994c20d', item=FabricItem(fields={'displayName': 'FolderSubSub1', 'parentFolderId': WorkspaceFolder(workspaceId='3496c8e0-ff9a-4a3a-95ac-0dc36994c20d', item=FabricItem(fields={'displayName': 'FolderSub1', 'parentFolderId': WorkspaceFolder(workspaceId='3496c8e0-ff9a-4a3a-95ac-0dc36994c20d', item=FabricItem(fields={'displayName': 'AAA_FolderRoot', 'parentFolderId': None}, api=WorkspaceFolderAPIData(id='e03d13ba-7fb0-435c-a26c-b2bddb997486', workspaceId='3496c8e0-ff9a-4a3a-95ac-0dc36994c20d', displayName='AAA_FolderRoot', parentFolderId=None)))}, api=WorkspaceFolderAPIData(id='e4a5fca7-07c7-4e24-a303-6004ad3fc88f', workspaceId='3496c8e0-ff9a-4a3a-95ac-0dc36994c20d', displayName='FolderSub1', parentFolderId='e03d13ba-7fb0-435c-a26c-b2bddb997486')))}, api=None))\n",
      "[25.08.2025 11:45:55] [INFO] fabricengineer Start creating item WorkspaceFolder(workspaceId='3496c8e0-ff9a-4a3a-95ac-0dc36994c20d', item=FabricItem(fields={'displayName': 'FolderSubSub2', 'parentFolderId': WorkspaceFolder(workspaceId='3496c8e0-ff9a-4a3a-95ac-0dc36994c20d', item=FabricItem(fields={'displayName': 'FolderSub2', 'parentFolderId': WorkspaceFolder(workspaceId='3496c8e0-ff9a-4a3a-95ac-0dc36994c20d', item=FabricItem(fields={'displayName': 'AAA_FolderRoot', 'parentFolderId': None}, api=WorkspaceFolderAPIData(id='e03d13ba-7fb0-435c-a26c-b2bddb997486', workspaceId='3496c8e0-ff9a-4a3a-95ac-0dc36994c20d', displayName='AAA_FolderRoot', parentFolderId=None)))}, api=WorkspaceFolderAPIData(id='c82af086-3bf9-49ce-b299-66bdcbba5ae1', workspaceId='3496c8e0-ff9a-4a3a-95ac-0dc36994c20d', displayName='FolderSub2', parentFolderId='e03d13ba-7fb0-435c-a26c-b2bddb997486')))}, api=None))\n",
      "[25.08.2025 11:45:56] [INFO] fabricengineer Finished creating item WorkspaceFolder(workspaceId='3496c8e0-ff9a-4a3a-95ac-0dc36994c20d', item=FabricItem(fields={'displayName': 'FolderSubSub1', 'parentFolderId': WorkspaceFolder(workspaceId='3496c8e0-ff9a-4a3a-95ac-0dc36994c20d', item=FabricItem(fields={'displayName': 'FolderSub1', 'parentFolderId': WorkspaceFolder(workspaceId='3496c8e0-ff9a-4a3a-95ac-0dc36994c20d', item=FabricItem(fields={'displayName': 'AAA_FolderRoot', 'parentFolderId': None}, api=WorkspaceFolderAPIData(id='e03d13ba-7fb0-435c-a26c-b2bddb997486', workspaceId='3496c8e0-ff9a-4a3a-95ac-0dc36994c20d', displayName='AAA_FolderRoot', parentFolderId=None)))}, api=WorkspaceFolderAPIData(id='e4a5fca7-07c7-4e24-a303-6004ad3fc88f', workspaceId='3496c8e0-ff9a-4a3a-95ac-0dc36994c20d', displayName='FolderSub1', parentFolderId='e03d13ba-7fb0-435c-a26c-b2bddb997486')))}, api=WorkspaceFolderAPIData(id='4c387e52-5f4a-469e-b2ec-c7cef2cc67e5', workspaceId='3496c8e0-ff9a-4a3a-95ac-0dc36994c20d', displayName='FolderSubSub1', parentFolderId='e4a5fca7-07c7-4e24-a303-6004ad3fc88f'))) with status PipelineItemStatus.SKIPPED_EXISTS\n",
      "[25.08.2025 11:45:56] [INFO] fabricengineer Finished creating item WorkspaceFolder(workspaceId='3496c8e0-ff9a-4a3a-95ac-0dc36994c20d', item=FabricItem(fields={'displayName': 'FolderSubSub2', 'parentFolderId': WorkspaceFolder(workspaceId='3496c8e0-ff9a-4a3a-95ac-0dc36994c20d', item=FabricItem(fields={'displayName': 'FolderSub2', 'parentFolderId': WorkspaceFolder(workspaceId='3496c8e0-ff9a-4a3a-95ac-0dc36994c20d', item=FabricItem(fields={'displayName': 'AAA_FolderRoot', 'parentFolderId': None}, api=WorkspaceFolderAPIData(id='e03d13ba-7fb0-435c-a26c-b2bddb997486', workspaceId='3496c8e0-ff9a-4a3a-95ac-0dc36994c20d', displayName='AAA_FolderRoot', parentFolderId=None)))}, api=WorkspaceFolderAPIData(id='c82af086-3bf9-49ce-b299-66bdcbba5ae1', workspaceId='3496c8e0-ff9a-4a3a-95ac-0dc36994c20d', displayName='FolderSub2', parentFolderId='e03d13ba-7fb0-435c-a26c-b2bddb997486')))}, api=WorkspaceFolderAPIData(id='956bd63c-afcb-4ca9-a339-e83d161a915f', workspaceId='3496c8e0-ff9a-4a3a-95ac-0dc36994c20d', displayName='FolderSubSub2', parentFolderId='c82af086-3bf9-49ce-b299-66bdcbba5ae1'))) with status PipelineItemStatus.SKIPPED_EXISTS\n"
     ]
    }
   ],
   "source": [
    "pipeline = WorkspaceItemCreationPipeline([\n",
    "    root,\n",
    "    sub1,\n",
    "    sub2,\n",
    "    sub_sub1,\n",
    "    sub_sub2\n",
    "])\n",
    "pipeline.run()"
   ]
  },
  {
   "cell_type": "code",
   "execution_count": 23,
   "id": "8653ad35",
   "metadata": {},
   "outputs": [
    {
     "name": "stderr",
     "output_type": "stream",
     "text": [
      "[25.08.2025 12:01:53] [ERROR] fabricengineer Status code: 429, Response: {\"requestId\":\"b034c360-6cf7-456b-9dcc-9745aa85328e\",\"errorCode\":\"RequestBlocked\",\"message\":\"Request is blocked by the upstream service until: 8/25/2025 10:02:29 AM (UTC)\"}\n",
      "[25.08.2025 12:01:53] [ERROR] fabricengineer Error deleting item 'WorkspaceFolder(workspaceId='3496c8e0-ff9a-4a3a-95ac-0dc36994c20d', item=FabricItem(fields={'displayName': 'F_f14d84539b3d4c3f81078afb41d88a20', 'parentFolderId': None}, api=WorkspaceFolderAPIData(id='f3032177-9862-47d2-ae49-771a10e5bb43', workspaceId='3496c8e0-ff9a-4a3a-95ac-0dc36994c20d', displayName='F_f14d84539b3d4c3f81078afb41d88a20', parentFolderId=None)))'.\n",
      "429 Client Error:  for url: https://api.fabric.microsoft.com/v1/workspaces/3496c8e0-ff9a-4a3a-95ac-0dc36994c20d/folders/f3032177-9862-47d2-ae49-771a10e5bb43\n"
     ]
    },
    {
     "name": "stdout",
     "output_type": "stream",
     "text": [
      "Delete folder: F_f14d84539b3d4c3f81078afb41d88a20\n",
      "429 Too Many Requests: Wait for 60 seconds\n",
      "Delete folder: F_f14d84539b3d4c3f81078afb41d88a20\n",
      "Delete folder: F_f199fd63c5b24f3bada19c506fd589cb\n",
      "Delete folder: F_f33b74b6add9470db4e666740db06d0b\n",
      "Delete folder: F_f47afac7\n",
      "Delete folder: F_f560d2e0\n",
      "Delete folder: F_fa04945ec2be4ab2995181cc39473da3\n",
      "Delete folder: F_fa8090a76284459eb19f66f2270f90c4\n",
      "Delete folder: F_fbef247aa2bc4a00b2c258825110e176\n",
      "Delete folder: F_fc24f1a9b64142f095e3d38813012912\n",
      "Delete folder: F_fc7191fd\n"
     ]
    },
    {
     "name": "stderr",
     "output_type": "stream",
     "text": [
      "[25.08.2025 12:02:56] [ERROR] fabricengineer Status code: 429, Response: {\"requestId\":\"08a6eb35-23a4-442c-853f-fecc652584b6\",\"errorCode\":\"RequestBlocked\",\"message\":\"Request is blocked by the upstream service until: 8/25/2025 10:03:54 AM (UTC)\"}\n",
      "[25.08.2025 12:02:56] [ERROR] fabricengineer Error deleting item 'WorkspaceFolder(workspaceId='3496c8e0-ff9a-4a3a-95ac-0dc36994c20d', item=FabricItem(fields={'displayName': 'F_TestingFolder', 'parentFolderId': None}, api=WorkspaceFolderAPIData(id='6bd0411f-eea0-4b8f-92fa-c1ef7847777f', workspaceId='3496c8e0-ff9a-4a3a-95ac-0dc36994c20d', displayName='F_TestingFolder', parentFolderId=None)))'.\n",
      "429 Client Error:  for url: https://api.fabric.microsoft.com/v1/workspaces/3496c8e0-ff9a-4a3a-95ac-0dc36994c20d/folders/6bd0411f-eea0-4b8f-92fa-c1ef7847777f\n"
     ]
    },
    {
     "name": "stdout",
     "output_type": "stream",
     "text": [
      "Delete folder: F_TestingFolder\n",
      "429 Too Many Requests: Wait for 60 seconds\n",
      "Delete folder: F_TestingFolder\n",
      "Delete folder: F_21f29155\n",
      "Delete folder: F_eb0953f1\n",
      "Delete folder: F_9670347e\n",
      "Delete folder: F_63d1869b90b646d78cd3f14cd4aa9153\n",
      "Delete folder: F_77640a07ae5a4b4fa5d8b08b9a4cc899\n",
      "Delete folder: F_212a63c2c39c4e2e8d4318f70617fb63\n",
      "Delete folder: F_1b02fd490c1d4ca88a4b04e20a13f1c5\n",
      "Delete folder: F_9aa1deacb9f14f41bf7b4292bd361765\n",
      "Delete folder: F_a26da6b236ba470f85e2eb02002c514e\n",
      "Delete folder: F_6b061395a5b14ca48e8117fcf0944aa0\n"
     ]
    },
    {
     "name": "stderr",
     "output_type": "stream",
     "text": [
      "[25.08.2025 12:03:59] [ERROR] fabricengineer Status code: 429, Response: {\"requestId\":\"74cee615-cce6-47a9-9833-8ecb1ab47b98\",\"errorCode\":\"RequestBlocked\",\"message\":\"Request is blocked by the upstream service until: 8/25/2025 10:04:57 AM (UTC)\"}\n",
      "[25.08.2025 12:03:59] [ERROR] fabricengineer Error deleting item 'WorkspaceFolder(workspaceId='3496c8e0-ff9a-4a3a-95ac-0dc36994c20d', item=FabricItem(fields={'displayName': 'F_6b061395a5b14ca48e8117fcf0944aa0', 'parentFolderId': None}, api=WorkspaceFolderAPIData(id='b610cfc5-6b63-4543-9834-56acb0ab9b7d', workspaceId='3496c8e0-ff9a-4a3a-95ac-0dc36994c20d', displayName='F_6b061395a5b14ca48e8117fcf0944aa0', parentFolderId='174564dc-e378-403b-be28-c43061a4f836')))'.\n",
      "429 Client Error:  for url: https://api.fabric.microsoft.com/v1/workspaces/3496c8e0-ff9a-4a3a-95ac-0dc36994c20d/folders/b610cfc5-6b63-4543-9834-56acb0ab9b7d\n"
     ]
    },
    {
     "name": "stdout",
     "output_type": "stream",
     "text": [
      "429 Too Many Requests: Wait for 60 seconds\n",
      "Delete folder: F_4c099297631c4595b6436315445b8dac\n",
      "Delete folder: F_580cd2e8b5c54019a34b0f4d8f4bc532\n",
      "Delete folder: F_6b8d2af4\n",
      "Delete folder: F_70c311c66bb9424982c29e1b43796aec\n",
      "Delete folder: F_7a3a596a\n",
      "Delete folder: F_7c6e4339\n",
      "Delete folder: F_89d98b8b9425437195607c0fd38ab5fc\n",
      "Delete folder: F_d6a685d59a0743deb2ef2ab778650de5\n",
      "Delete folder: F_fca63d08b66a4943929caf51e4be596d\n",
      "Delete folder: F_6b061395a5b14ca48e8117fcf0944aa0\n"
     ]
    },
    {
     "name": "stderr",
     "output_type": "stream",
     "text": [
      "[25.08.2025 12:05:02] [ERROR] fabricengineer Status code: 429, Response: {\"requestId\":\"7cae288c-316d-4f18-966b-f3f215cb9c1e\",\"errorCode\":\"RequestBlocked\",\"message\":\"Request is blocked by the upstream service until: 8/25/2025 10:06:00 AM (UTC)\"}\n",
      "[25.08.2025 12:05:02] [ERROR] fabricengineer Error deleting item 'WorkspaceFolder(workspaceId='3496c8e0-ff9a-4a3a-95ac-0dc36994c20d', item=FabricItem(fields={'displayName': 'FolderSubSub1', 'parentFolderId': None}, api=WorkspaceFolderAPIData(id='4c387e52-5f4a-469e-b2ec-c7cef2cc67e5', workspaceId='3496c8e0-ff9a-4a3a-95ac-0dc36994c20d', displayName='FolderSubSub1', parentFolderId='e4a5fca7-07c7-4e24-a303-6004ad3fc88f')))'.\n",
      "429 Client Error:  for url: https://api.fabric.microsoft.com/v1/workspaces/3496c8e0-ff9a-4a3a-95ac-0dc36994c20d/folders/4c387e52-5f4a-469e-b2ec-c7cef2cc67e5\n"
     ]
    },
    {
     "name": "stdout",
     "output_type": "stream",
     "text": [
      "Delete folder: FolderSubSub1\n",
      "429 Too Many Requests: Wait for 60 seconds\n",
      "Delete folder: F_8630455a130d4005977b26abf7600031\n",
      "Delete folder: FolderSubSub1\n",
      "Delete folder: FolderSubSub2\n",
      "Delete folder: F_5cd43bd9ba014309a3d965afb364a74d\n",
      "Delete folder: F_3efe317973bf44cabe3528bfcdf889e9\n",
      "Delete folder: F_5616fd83d48e4450abe8ad0a3dc9ae9a\n",
      "Delete folder: F_3bca1899196f4ccf8b1f965efa381ca7\n",
      "Delete folder: F_9512e2148be94784af5886efdc019de3\n",
      "Delete folder: F_3990d65b301245648158d2bdcc46d80b\n",
      "Delete folder: F_4855e528fc114933b91ee591dbd25ef7\n"
     ]
    },
    {
     "name": "stderr",
     "output_type": "stream",
     "text": [
      "[25.08.2025 12:06:04] [ERROR] fabricengineer Status code: 429, Response: {\"requestId\":\"92ff3c90-46ed-4f91-85b8-52a4659d8a36\",\"errorCode\":\"RequestBlocked\",\"message\":\"Request is blocked by the upstream service until: 8/25/2025 10:07:02 AM (UTC)\"}\n",
      "[25.08.2025 12:06:04] [ERROR] fabricengineer Error deleting item 'WorkspaceFolder(workspaceId='3496c8e0-ff9a-4a3a-95ac-0dc36994c20d', item=FabricItem(fields={'displayName': 'F_78bc9935dca54742916e62116e2fe4d3', 'parentFolderId': None}, api=WorkspaceFolderAPIData(id='861404f8-d3d3-4d0a-b42c-5a7f221158bc', workspaceId='3496c8e0-ff9a-4a3a-95ac-0dc36994c20d', displayName='F_78bc9935dca54742916e62116e2fe4d3', parentFolderId=None)))'.\n",
      "429 Client Error:  for url: https://api.fabric.microsoft.com/v1/workspaces/3496c8e0-ff9a-4a3a-95ac-0dc36994c20d/folders/861404f8-d3d3-4d0a-b42c-5a7f221158bc\n"
     ]
    },
    {
     "name": "stdout",
     "output_type": "stream",
     "text": [
      "Delete folder: F_78bc9935dca54742916e62116e2fe4d3\n",
      "429 Too Many Requests: Wait for 60 seconds\n",
      "Delete folder: F_78bc9935dca54742916e62116e2fe4d3\n",
      "Delete folder: F_c412d4d9817a48c282fcbf088d90d207\n",
      "Delete folder: F_cf444c742dc24d0b9cf6b5aaccbdabfb\n",
      "Delete folder: FolderSub1\n",
      "Delete folder: FolderSub2\n",
      "Delete folder: AAA_FolderRoot\n"
     ]
    }
   ],
   "source": [
    "import time\n",
    "import requests\n",
    "\n",
    "rate_limit_wait_seconds = 60\n",
    "folders = WorkspaceFolder.list(WORKSPACE_ID)\n",
    "deleted_folders = set()\n",
    "while len(deleted_folders) != len(folders):\n",
    "    try:\n",
    "        has_child_folder_ids = {\n",
    "            folder.item.api.parentFolderId\n",
    "            for folder in folders\n",
    "            if folder.item.api.parentFolderId and folder not in deleted_folders\n",
    "        }\n",
    "        for folder in folders:\n",
    "            if folder in deleted_folders:\n",
    "                continue\n",
    "            if folder.item.api.id in has_child_folder_ids:\n",
    "                continue\n",
    "            print(\"Delete folder:\", folder.item.api.displayName)\n",
    "            folder.delete()\n",
    "            deleted_folders.add(folder)\n",
    "    except requests.HTTPError as e:\n",
    "        if e.response.status_code == 429:\n",
    "            print(f\"429 Too Many Requests: Wait for {rate_limit_wait_seconds} seconds\")\n",
    "            time.sleep(rate_limit_wait_seconds)\n",
    "        elif e.response.status_code == 404:\n",
    "            deleted_folders.add(folder)\n",
    "        else:\n",
    "            raise e\n",
    "    except Exception as e:\n",
    "        raise e\n"
   ]
  }
 ],
 "metadata": {
  "kernelspec": {
   "display_name": "py312",
   "language": "python",
   "name": "python3"
  },
  "language_info": {
   "codemirror_mode": {
    "name": "ipython",
    "version": 3
   },
   "file_extension": ".py",
   "mimetype": "text/x-python",
   "name": "python",
   "nbconvert_exporter": "python",
   "pygments_lexer": "ipython3",
   "version": "3.12.9"
  }
 },
 "nbformat": 4,
 "nbformat_minor": 5
}
