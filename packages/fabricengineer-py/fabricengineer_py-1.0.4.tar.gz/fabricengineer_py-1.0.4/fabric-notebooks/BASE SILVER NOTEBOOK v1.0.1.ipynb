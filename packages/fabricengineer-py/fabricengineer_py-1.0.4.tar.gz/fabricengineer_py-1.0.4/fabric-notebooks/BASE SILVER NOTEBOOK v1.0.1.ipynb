{
 "cells": [
  {
   "cell_type": "markdown",
   "id": "175612ba-551f-4689-9144-c4fa1a0296c1",
   "metadata": {
    "microsoft": {
     "language": "python",
     "language_group": "synapse_pyspark"
    },
    "nteract": {
     "transient": {
      "deleting": false
     }
    }
   },
   "source": [
    "# BASE PARAM SILVER NOTEBOOK v1.0.0"
   ]
  },
  {
   "cell_type": "markdown",
   "id": "a303ecf2-bcd0-455e-ae30-85363b43c804",
   "metadata": {
    "jp-MarkdownHeadingCollapsed": true,
    "microsoft": {
     "language": "python",
     "language_group": "synapse_pyspark"
    },
    "nteract": {
     "transient": {
      "deleting": false
     }
    }
   },
   "source": [
    "## Parameters"
   ]
  },
  {
   "cell_type": "code",
   "execution_count": null,
   "id": "b4401d57-8a90-4806-82d3-814b858955d5",
   "metadata": {
    "microsoft": {
     "language": "python",
     "language_group": "synapse_pyspark"
    },
    "tags": [
     "parameters"
    ]
   },
   "outputs": [
    {
     "data": {
      "application/vnd.livy.statement-meta+json": {
       "execution_finish_time": "2025-08-14T11:19:55.7079639Z",
       "execution_start_time": "2025-08-14T11:19:55.2187997Z",
       "livy_statement_state": "available",
       "normalized_state": "finished",
       "parent_msg_id": "03861489-4fc4-4e54-bb27-5a9cd9856622",
       "queued_time": "2025-08-14T11:19:44.1117201Z",
       "session_id": "014180a5-345f-499b-8ce9-d4bd97ff1d4b",
       "session_start_time": "2025-08-14T11:19:44.1127084Z",
       "spark_pool": null,
       "state": "finished",
       "statement_id": 3,
       "statement_ids": [
        3
       ]
      },
      "text/plain": [
       "StatementMeta(, 014180a5-345f-499b-8ce9-d4bd97ff1d4b, 3, Finished, Available, Finished)"
      ]
     },
     "metadata": {},
     "output_type": "display_data"
    }
   ],
   "source": [
    "# FABRICENGINEER\n",
    "FABRICENGINEER_PACKAGE_VERSION = \"1.0.1\"\n",
    "FABRICENGINEER_SILVER_STRATEGY = \"transform.silver.insertonly\"\n",
    "\n",
    "# HISTORIZE TABLE\n",
    "HISTORIZE = None\n",
    "\n",
    "# SOURCE CONFIG\n",
    "SOURCE_LAKEHOUSE = None\n",
    "SOURCE_SCHEMA = None\n",
    "SOURCE_TABLENAME = None\n",
    "\n",
    "# DESTINATION CONFIG\n",
    "DESTINATION_LAKEHOUSE = None\n",
    "DESTINATION_SCHEMA = None\n",
    "DESTINATION_TABLENAME = None\n",
    "\n",
    "# NATURAL KEY COLUMNS\n",
    "NK_COLUMNS = None\n",
    "\n",
    "# EXTRA CONSTANT COLUMNS\n",
    "CONSTANT_COLUMNS = [\n",
    "    # ConstantColumn(name=\"WAVE_MANDANT\", value=\"VTSD\", part_of_nk=True)\n",
    "]\n",
    "\n",
    "# DELTA LOAD CONFIG\n",
    "IS_DELTA_LOAD = None\n",
    "DELTA_LOAD_USE_BROADCAST = None\n",
    "\n",
    "# INCLUDE / EXCLUDES COLUMNS FROM COMPARING\n",
    "EXCLUDE_COLUMNS_FROM_COMPARING = []\n",
    "INCLUDE_COLUMNS_AT_COMPARING = []  # when is present (len >= 1), the exclude columns will ignored\n",
    "\n",
    "# PARTITION BY COLUMNS\n",
    "PARTITION_BY_COLUMNS = []"
   ]
  },
  {
   "cell_type": "code",
   "execution_count": null,
   "id": "6329c12f-c65d-4ab6-a21e-624d2679cd66",
   "metadata": {
    "microsoft": {
     "language": "python",
     "language_group": "synapse_pyspark"
    }
   },
   "outputs": [],
   "source": [
    "# Bring parameters in shape\n",
    "\n",
    "if isinstance(NK_COLUMNS, str):\n",
    "    NK_COLUMNS = list([column.strip() for column in NK_COLUMNS.split(\",\")])\n",
    "    print(\"NK-COLUMNS: \", NK_COLUMNS)\n",
    "\n",
    "if isinstance(EXCLUDE_COLUMNS_FROM_COMPARING, str):\n",
    "    EXCLUDE_COLUMNS_FROM_COMPARING = list(set([column.strip() for column in EXCLUDE_COLUMNS_FROM_COMPARING.split(\",\")]))\n",
    "    print(\"EXCLUDE_COLUMNS_FROM_COMPARING: \", EXCLUDE_COLUMNS_FROM_COMPARING)\n",
    "\n",
    "if isinstance(INCLUDE_COLUMNS_AT_COMPARING, str):\n",
    "    INCLUDE_COLUMNS_AT_COMPARING = list(set([column.strip() for column in INCLUDE_COLUMNS_AT_COMPARING.split(\",\")]))\n",
    "    print(\"INCLUDE_COLUMNS_AT_COMPARING: \", INCLUDE_COLUMNS_AT_COMPARING)\n",
    "\n",
    "if isinstance(PARTITION_BY_COLUMNS, str):\n",
    "    PARTITION_BY_COLUMNS = list([column.strip() for column in PARTITION_BY_COLUMNS.split(\",\")])\n",
    "    print(\"PARTITION_BY_COLUMNS: \", PARTITION_BY_COLUMNS)\n",
    "\n",
    "\n",
    "DESTINATION_TABLENAME = DESTINATION_TABLENAME.lower()"
   ]
  },
  {
   "cell_type": "markdown",
   "id": "e07522cb-3bc5-471a-b596-fd1aaf8e2120",
   "metadata": {
    "microsoft": {
     "language": "python",
     "language_group": "synapse_pyspark"
    },
    "nteract": {
     "transient": {
      "deleting": false
     }
    }
   },
   "source": [
    "## Module Imports"
   ]
  },
  {
   "cell_type": "code",
   "execution_count": null,
   "id": "3a24696e-a15e-4455-9387-a34f85d6e2aa",
   "metadata": {
    "microsoft": {
     "language": "python",
     "language_group": "synapse_pyspark"
    }
   },
   "outputs": [
    {
     "data": {
      "application/vnd.livy.statement-meta+json": {
       "execution_finish_time": "2025-08-14T11:29:07.1748319Z",
       "execution_start_time": "2025-08-14T11:29:03.7021824Z",
       "livy_statement_state": "available",
       "normalized_state": "finished",
       "parent_msg_id": "3fed4c9e-1fbf-47f6-94be-53732774e8b8",
       "queued_time": "2025-08-14T11:29:03.7017546Z",
       "session_id": "014180a5-345f-499b-8ce9-d4bd97ff1d4b",
       "session_start_time": null,
       "spark_pool": null,
       "state": "finished",
       "statement_id": 42,
       "statement_ids": [
        40,
        41,
        42
       ]
      },
      "text/plain": [
       "StatementMeta(, 014180a5-345f-499b-8ce9-d4bd97ff1d4b, 42, Finished, Available, Finished)"
      ]
     },
     "metadata": {},
     "output_type": "display_data"
    },
    {
     "name": "stdout",
     "output_type": "stream",
     "text": [
      "Passed functions [<function get_module_code at 0x73f0ae57b060>]\n"
     ]
    }
   ],
   "source": [
    "%run IMPORT FABRICENGINEER PACKAGE"
   ]
  },
  {
   "cell_type": "code",
   "execution_count": null,
   "id": "ab82f888-e9ed-41d8-adb4-e863a7d6f8f3",
   "metadata": {
    "microsoft": {
     "language": "python",
     "language_group": "synapse_pyspark"
    }
   },
   "outputs": [
    {
     "data": {
      "application/vnd.livy.statement-meta+json": {
       "execution_finish_time": null,
       "execution_start_time": "2025-08-14T11:30:15.742581Z",
       "livy_statement_state": "running",
       "normalized_state": "running",
       "parent_msg_id": "e46998e7-ed3e-4d3f-bd4b-c9dec019f7c6",
       "queued_time": "2025-08-14T11:30:15.741409Z",
       "session_id": "014180a5-345f-499b-8ce9-d4bd97ff1d4b",
       "session_start_time": null,
       "spark_pool": null,
       "state": "submitted",
       "statement_id": 49,
       "statement_ids": [
        49
       ]
      },
      "text/plain": [
       "StatementMeta(, 014180a5-345f-499b-8ce9-d4bd97ff1d4b, 49, Submitted, Running, Running)"
      ]
     },
     "metadata": {},
     "output_type": "display_data"
    },
    {
     "name": "stdout",
     "output_type": "stream",
     "text": [
      "Fetch code from notebook.\n"
     ]
    },
    {
     "data": {
      "application/vnd.synapse.mssparkutilsrunmultiple-result+json": {
       "activities": [
        {
         "activity_name": "0",
         "args": {
          "IS_DEV": false,
          "LAKEHOUSE_CODE_ABFSS": "abfss://b50e79c4-1140-479c-b5c1-225982ea6783@onelake.dfs.fabric.microsoft.com/c7ab73ce-7e20-45c4-9bbf-004d37143759",
          "MODULES": "transform.mlv",
          "VERSION": "0.2.0"
         },
         "artifact_id": "e1368ef4-31a4-445f-96ee-5a88f283bf98",
         "capacity_id": "9914504A-D1D7-4AB1-A679-12A1313DB88B",
         "created_time": 1755171017348,
         "end_time": 0,
         "exception": "",
         "in_pipeline": false,
         "notebook_name": "Export FabricEngineer-Py Modules",
         "progress": 5,
         "root_artifact_id": "f2bb95cd-c4f9-405d-adf7-bec22ba3cb9b",
         "run_id": "b5d958ac-0487-4881-9d6a-b77ea2098ea6",
         "session_id": "014180a5-345f-499b-8ce9-d4bd97ff1d4b",
         "snapshot_error": "",
         "snapshot_status": "success",
         "spark_pool": "EDH-POOL-TEST-DEV-F32",
         "start_time": 1755171017348,
         "status": "running",
         "status_msg": "Running 1/17 cells completed",
         "workspace_id": "dfed4a6a-e2e6-4ccb-a59e-af6ed391cb62"
        }
       ],
       "limit": 50,
       "numbers": {
        "failed": 0,
        "pending": 0,
        "running": 1,
        "succeeded": 0
       }
      }
     },
     "metadata": {},
     "output_type": "display_data"
    }
   ],
   "source": [
    "strategy_module_code = get_module_code(FABRICENGINEER_SILVER_STRATEGY, FABRICENGINEER_PACKAGE_VERSION)\n",
    "\n",
    "assert isinstance(strategy_module_code, str)\n",
    "\n",
    "exec(strategy_module_code, globals())\n",
    "\n",
    "assert (\n",
    "    \"SilverIngestionInsertOnlyService\" in str(etl) or\n",
    "    \"SilverIngestionSCD2Service\" in str(etl)\n",
    ")\n",
    "assert \"LakehouseTable\" in str(LakehouseTable)\n",
    "assert \"ConstantColumn\" in str(ConstantColumn)\n",
    "assert \"TimeLogger\" in str(timer)"
   ]
  },
  {
   "cell_type": "markdown",
   "id": "b3c62ab6-0a86-4dbd-b88b-a4e4d449cc66",
   "metadata": {
    "microsoft": {
     "language": "python",
     "language_group": "synapse_pyspark"
    },
    "nteract": {
     "transient": {
      "deleting": false
     }
    }
   },
   "source": [
    "## Configure ETL"
   ]
  },
  {
   "cell_type": "code",
   "execution_count": null,
   "id": "04e0468f-da59-499a-b3b3-77e0c6e1503e",
   "metadata": {
    "microsoft": {
     "language": "python",
     "language_group": "synapse_pyspark"
    }
   },
   "outputs": [],
   "source": [
    "source_table = LakehouseTable(\n",
    "    lakehouse=SOURCE_LAKEHOUSE,\n",
    "    schema=SOURCE_SCHEMA,\n",
    "    table=SOURCE_TABLENAME\n",
    ")\n",
    "\n",
    "destination_table = LakehouseTable(\n",
    "    lakehouse=DESTINATION_LAKEHOUSE,\n",
    "    schema=DESTINATION_SCHEMA,\n",
    "    table=DESTINATION_TABLENAME\n",
    ")\n",
    "\n",
    "print(source_table)\n",
    "print(destination_table)"
   ]
  },
  {
   "cell_type": "code",
   "execution_count": null,
   "id": "1f18f2f8-7d05-47d9-b374-c01e48853249",
   "metadata": {
    "microsoft": {
     "language": "python",
     "language_group": "synapse_pyspark"
    }
   },
   "outputs": [],
   "source": [
    "transformations: dict = {\n",
    "    \"{tableName}\": lambda: print(\"Add transformation function (instead of lambda: ...)\"),\n",
    "}"
   ]
  },
  {
   "cell_type": "code",
   "execution_count": null,
   "id": "64d2321b-7e07-49ac-b7f0-bf92cfd70eb9",
   "metadata": {
    "microsoft": {
     "language": "python",
     "language_group": "synapse_pyspark"
    }
   },
   "outputs": [],
   "source": [
    "etl.init(\n",
    "    spark_=spark,\n",
    "    notebookutils_=notebookutils,\n",
    "    source_table=source_table,\n",
    "    destination_table=destination_table,\n",
    "    nk_columns=NK_COLUMNS,\n",
    "    constant_columns=CONSTANT_COLUMNS,\n",
    "    is_delta_load=IS_DELTA_LOAD,\n",
    "    delta_load_use_broadcast=DELTA_LOAD_USE_BROADCAST,\n",
    "    transformations=transformations,\n",
    "    exclude_comparing_columns=EXCLUDE_COLUMNS_FROM_COMPARING,\n",
    "    include_comparing_columns=INCLUDE_COLUMNS_AT_COMPARING,\n",
    "    historize=HISTORIZE,\n",
    "    partition_by_columns=PARTITION_BY_COLUMNS,\n",
    "    df_bronze=None\n",
    ")\n",
    "\n",
    "print(etl)"
   ]
  },
  {
   "cell_type": "markdown",
   "id": "a68916db-8356-472c-b6d9-0f8fcd528bf9",
   "metadata": {
    "microsoft": {
     "language": "python",
     "language_group": "synapse_pyspark"
    },
    "nteract": {
     "transient": {
      "deleting": false
     }
    }
   },
   "source": [
    "## Run ETL"
   ]
  },
  {
   "cell_type": "code",
   "execution_count": null,
   "id": "b3af83d9-e2a6-4763-933d-c5784ba63324",
   "metadata": {
    "microsoft": {
     "language": "python",
     "language_group": "synapse_pyspark"
    }
   },
   "outputs": [],
   "source": [
    "timer.start().log()\n",
    "etl.run()\n",
    "timer.stop().log()"
   ]
  }
 ],
 "metadata": {
  "dependencies": {
   "lakehouse": {
    "default_lakehouse": "9a151f51-fee7-4937-b187-1020e8ece007",
    "default_lakehouse_name": "SilverLakehouseDefault",
    "default_lakehouse_workspace_id": "dfed4a6a-e2e6-4ccb-a59e-af6ed391cb62",
    "known_lakehouses": [
     {
      "id": "5fe677cb-0fec-4a79-a5af-7a4d91dc0c7c"
     },
     {
      "id": "9a151f51-fee7-4937-b187-1020e8ece007"
     },
     {
      "id": "5db21e7d-e913-4826-889e-80d79bfa632e"
     }
    ]
   }
  },
  "kernel_info": {
   "name": "synapse_pyspark"
  },
  "kernelspec": {
   "display_name": "Synapse PySpark",
   "language": "Python",
   "name": "synapse_pyspark"
  },
  "language_info": {
   "name": "python"
  },
  "microsoft": {
   "language": "python",
   "language_group": "synapse_pyspark",
   "ms_spell_check": {
    "ms_spell_check_language": "en"
   }
  },
  "nteract": {
   "version": "nteract-front-end@1.0.0"
  },
  "spark_compute": {
   "compute_id": "/trident/default",
   "session_options": {
    "conf": {
     "spark.synapse.nbs.session.timeout": "1200000"
    }
   }
  },
  "widgets": {}
 },
 "nbformat": 4,
 "nbformat_minor": 5
}
