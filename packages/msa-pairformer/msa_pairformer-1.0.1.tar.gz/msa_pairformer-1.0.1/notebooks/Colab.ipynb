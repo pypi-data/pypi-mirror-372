{
 "cells": [
  {
   "cell_type": "code",
   "execution_count": 1,
   "id": "27371f72",
   "metadata": {},
   "outputs": [],
   "source": [
    "#@title Install software\n",
    "#@markdown Please execute this cell by pressing the _Play_ button\n",
    "#@markdown on the left."
   ]
  },
  {
   "cell_type": "code",
   "execution_count": null,
   "id": "bc9170af",
   "metadata": {},
   "outputs": [],
   "source": []
  }
 ],
 "metadata": {
  "kernelspec": {
   "display_name": "Python 3",
   "language": "python",
   "name": "python3"
  },
  "language_info": {
   "codemirror_mode": {
    "name": "ipython",
    "version": 3
   },
   "file_extension": ".py",
   "mimetype": "text/x-python",
   "name": "python",
   "nbconvert_exporter": "python",
   "pygments_lexer": "ipython3",
   "version": "3.10.12"
  }
 },
 "nbformat": 4,
 "nbformat_minor": 5
}
