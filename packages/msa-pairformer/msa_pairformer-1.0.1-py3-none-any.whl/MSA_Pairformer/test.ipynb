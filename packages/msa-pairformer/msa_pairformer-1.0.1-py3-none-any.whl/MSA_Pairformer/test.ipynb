{
 "cells": [
  {
   "cell_type": "code",
   "execution_count": 10,
   "metadata": {},
   "outputs": [],
   "source": [
    "import torch\n",
    "import einx\n",
    "from einops import pack"
   ]
  },
  {
   "cell_type": "code",
   "execution_count": 85,
   "metadata": {},
   "outputs": [],
   "source": [
    "batch_size = 1\n",
    "seq_len = 10\n",
    "molecule_feats = torch.stack([\n",
    "    torch.arange(seq_len).unsqueeze(0).repeat(batch_size, 1), # token_index\n",
    "], dim=-1).reshape((batch_size, seq_len, 1))\n",
    "\n",
    "def onehot(x, bins):\n",
    "    dist_from_bins = einx.subtract('... i, j -> ... i j', x, bins)\n",
    "    indices = dist_from_bins.abs().min(dim = -1, keepdim=True).indices\n",
    "    one_hots = torch.nn.functional.one_hot(indices.long(), num_classes = len(bins))\n",
    "    return one_hots"
   ]
  },
  {
   "cell_type": "code",
   "execution_count": 87,
   "metadata": {},
   "outputs": [
    {
     "data": {
      "text/plain": [
       "tensor([[0., 1., 2., 3., 4., 5., 6., 7., 8., 9.]])"
      ]
     },
     "execution_count": 87,
     "metadata": {},
     "output_type": "execute_result"
    }
   ],
   "source": [
    "token_idx"
   ]
  },
  {
   "cell_type": "code",
   "execution_count": 103,
   "metadata": {},
   "outputs": [],
   "source": [
    "r_max = 32\n",
    "s_max = 2\n",
    "\n",
    "token_idx = torch.arange(seq_len).unsqueeze(0).expand(batch_size, seq_len)\n",
    "\n",
    "# Compute residue, token, and chain distances\n",
    "diff_token_idx = einx.subtract('b i, b j -> b i j', token_idx, token_idx)\n",
    "# Mask for same residue, chain, and entity\n",
    "mask_same_entity = torch.ones((batch_size, seq_len, seq_len, 1))\n",
    "# Compute clipped distances\n",
    "d_token = torch.clip(diff_token_idx + r_max, 0, 2 * r_max)\n",
    "d_res = torch.full((batch_size, seq_len, seq_len), r_max)\n",
    "d_chain = torch.full((batch_size, seq_len, seq_len), 2*s_max+1)\n",
    "# Define bins\n",
    "r_arange = torch.arange(2*r_max + 2)\n",
    "s_arange = torch.arange(2*s_max + 2)\n",
    "# Assign 1-hot encoding of distances\n",
    "a_rel_pos = onehot(d_res, r_arange)\n",
    "a_rel_token = onehot(d_token, r_arange)\n",
    "a_rel_chain = onehot(d_chain, s_arange)\n",
    "# Concatenate tensors and project\n",
    "out, _ = pack((a_rel_pos, a_rel_token, mask_same_entity, a_rel_chain), 'b i j *')"
   ]
  },
  {
   "cell_type": "code",
   "execution_count": null,
   "metadata": {},
   "outputs": [],
   "source": []
  }
 ],
 "metadata": {
  "kernelspec": {
   "display_name": "Python 3",
   "language": "python",
   "name": "python3"
  },
  "language_info": {
   "codemirror_mode": {
    "name": "ipython",
    "version": 3
   },
   "file_extension": ".py",
   "mimetype": "text/x-python",
   "name": "python",
   "nbconvert_exporter": "python",
   "pygments_lexer": "ipython3",
   "version": "3.10.12"
  }
 },
 "nbformat": 4,
 "nbformat_minor": 2
}
