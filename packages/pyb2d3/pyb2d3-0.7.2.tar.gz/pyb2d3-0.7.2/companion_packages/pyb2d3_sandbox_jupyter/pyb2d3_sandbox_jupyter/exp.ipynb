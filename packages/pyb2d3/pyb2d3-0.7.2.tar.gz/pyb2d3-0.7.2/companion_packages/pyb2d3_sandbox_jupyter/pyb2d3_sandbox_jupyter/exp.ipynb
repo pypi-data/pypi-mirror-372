{
 "cells": [
  {
   "cell_type": "code",
   "execution_count": 4,
   "id": "80e4e7b5",
   "metadata": {},
   "outputs": [
    {
     "data": {
      "application/vnd.jupyter.widget-view+json": {
       "model_id": "c9ac43018b214d4bbf155a19be9e6c05",
       "version_major": 2,
       "version_minor": 1
      },
      "text/plain": [
       "CanvasWidget(height=300, layout=Layout(width='50%'), width=400)"
      ]
     },
     "metadata": {},
     "output_type": "display_data"
    },
    {
     "data": {
      "application/vnd.jupyter.widget-view+json": {
       "model_id": "79908b7ce34744bb9d41b46b97fb0081",
       "version_major": 2,
       "version_minor": 0
      },
      "text/plain": [
       "Output()"
      ]
     },
     "metadata": {},
     "output_type": "display_data"
    }
   ],
   "source": [
    "import numpy as np\n",
    "from pyb2d3_sandbox_jupyter import CanvasWidget\n",
    "from IPython.display import display\n",
    "\n",
    "w = CanvasWidget(\n",
    "    width=400,\n",
    "    height=300,\n",
    "    layout=dict(width=\"50%\"),\n",
    ")\n",
    "data = np.random.rand(100, 2) * 100\n",
    "display(w, w.output_widget)\n",
    "w.send_data(data)"
   ]
  },
  {
   "cell_type": "code",
   "execution_count": null,
   "id": "a9f5193f",
   "metadata": {},
   "outputs": [],
   "source": []
  },
  {
   "cell_type": "code",
   "execution_count": null,
   "id": "7d1b4fd8",
   "metadata": {},
   "outputs": [],
   "source": []
  }
 ],
 "metadata": {
  "kernelspec": {
   "display_name": "Python 3 (ipykernel)",
   "language": "python",
   "name": "python3"
  },
  "language_info": {
   "codemirror_mode": {
    "name": "ipython",
    "version": 3
   },
   "file_extension": ".py",
   "mimetype": "text/x-python",
   "name": "python",
   "nbconvert_exporter": "python",
   "pygments_lexer": "ipython3",
   "version": "3.13.5"
  }
 },
 "nbformat": 4,
 "nbformat_minor": 5
}
