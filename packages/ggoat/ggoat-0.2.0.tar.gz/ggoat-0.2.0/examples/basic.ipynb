{
 "cells": [
  {
   "cell_type": "markdown",
   "metadata": {},
   "source": [
    "# 🐐 ggoat Basic Tutorial\n",
    "\n",
    "**Welcome to ggoat!** A clean, lightweight implementation of ggplot2's grammar of graphics for Python, optimized for Pyodide and browser environments.\n",
    "\n",
    "## What makes ggoat special?\n",
    "\n",
    "- **🔗 Method chaining**: Fluent, readable syntax\n",
    "- **📦 Minimal imports**: Just `ggplot` and `aes`\n",
    "- **🌐 Browser-ready**: Works in Pyodide, Jupyter, and Python\n",
    "- **⚡ Lightweight**: Minimal dependencies\n",
    "\n",
    "Let's start with the basics!"
   ]
  },
  {
   "cell_type": "markdown",
   "metadata": {},
   "source": [
    "## 1. Installation & Imports\n",
    "\n",
    "The beauty of ggoat is its simplicity - you only need two imports!"
   ]
  },
  {
   "cell_type": "code",
   "execution_count": null,
   "metadata": {},
   "outputs": [],
   "source": [
    "# Setup path (for development - skip this in production)\n",
    "import sys\n",
    "import os\n",
    "sys.path.insert(0, os.path.join('.', '..', 'src'))\n",
    "\n",
    "# 🎯 The only imports you need!\n",
    "from ggoat import ggplot, aes\n",
    "\n",
    "print(\"✅ ggoat imported successfully!\")\n",
    "print(\"📦 Only two imports needed: ggplot, aes\")"
   ]
  },
  {
   "cell_type": "markdown",
   "metadata": {},
   "source": [
    "## 2. Your First Plot - Scatter Plot\n",
    "\n",
    "Let's create some sample data and make our first plot using method chaining."
   ]
  },
  {
   "cell_type": "code",
   "execution_count": null,
   "metadata": {},
   "outputs": [],
   "source": [
    "# Sample data - works with Python dictionaries!\n",
    "simple_data = {\n",
    "    'x': [1, 2, 3, 4, 5],\n",
    "    'y': [2, 4, 6, 8, 10],\n",
    "    'category': ['A', 'A', 'B', 'B', 'C']\n",
    "}\n",
    "\n",
    "# 🎨 Create your first plot with method chaining\n",
    "plot1 = (\n",
    "    ggplot(simple_data, aes(x='x', y='y', color='category'))\n",
    "    .geom_point(size=4, alpha=0.8)\n",
    "    .labs(title=\"My First ggoat Plot!\", x=\"X Values\", y=\"Y Values\")\n",
    ")\n",
    "\n",
    "print(\"✅ Plot created successfully!\")\n",
    "print(f\"📊 Plot has {len(plot1.layers)} layer(s)\")\n",
    "print(f\"🎨 Aesthetics: {list(plot1.mapping.mapping.keys())}\")\n",
    "\n",
    "# Show the plot\n",
    "plot1.show()"
   ]
  },
  {
   "cell_type": "markdown",
   "metadata": {},
   "source": [
    "## 3. Method Chaining Basics\n",
    "\n",
    "ggoat uses **method chaining** instead of the `+` operator. Each method returns a new plot object, keeping your plots immutable."
   ]
  },
  {
   "cell_type": "code",
   "execution_count": null,
   "metadata": {},
   "outputs": [],
   "source": [
    "# 🔗 Method chaining example\n",
    "data = {\n",
    "    'week': [1, 2, 3, 4, 5, 6, 7],\n",
    "    'sales': [100, 120, 140, 110, 160, 180, 200],\n",
    "    'product': ['X', 'X', 'Y', 'Y', 'X', 'X', 'Y']\n",
    "}\n",
    "\n",
    "# Start with base plot\n",
    "base = ggplot(data, aes(x='week', y='sales'))\n",
    "print(f\"Base plot layers: {len(base.layers)}\")\n",
    "\n",
    "# Add point layer\n",
    "with_points = base.geom_point(size=3)\n",
    "print(f\"With points: {len(with_points.layers)} layers\")\n",
    "\n",
    "# Add line layer\n",
    "with_line = with_points.geom_line(aes(color='product'), size=2)\n",
    "print(f\"With line: {len(with_line.layers)} layers\")\n",
    "\n",
    "# Add labels - all in one chain!\n",
    "final_plot = (\n",
    "    base\n",
    "    .geom_point(size=3, alpha=0.7)\n",
    "    .geom_line(aes(color='product'), size=2)\n",
    "    .labs(title=\"Sales Trends\", subtitle=\"Weekly performance\")\n",
    "    .xlab(\"Week Number\")\n",
    "    .ylab(\"Sales ($)\")\n",
    ")\n",
    "\n",
    "print(f\"✅ Final plot: {len(final_plot.layers)} layers\")\n",
    "final_plot.show()"
   ]
  },
  {
   "cell_type": "markdown",
   "metadata": {},
   "source": [
    "## 4. Different Geom Types\n",
    "\n",
    "ggoat supports various geometric objects (geoms) for different types of visualizations."
   ]
  },
  {
   "cell_type": "code",
   "execution_count": null,
   "metadata": {},
   "outputs": [],
   "source": [
    "# Data for different plot types\n",
    "category_data = {\n",
    "    'category': ['A', 'B', 'C', 'D', 'E'],\n",
    "    'count': [23, 45, 56, 78, 32],\n",
    "    'type': ['X', 'Y', 'X', 'Y', 'X']\n",
    "}\n",
    "\n",
    "# 📊 Bar chart\n",
    "bar_plot = (\n",
    "    ggplot(category_data, aes(x='category', y='count', fill='type'))\n",
    "    .geom_bar(stat='identity', alpha=0.8)\n",
    "    .labs(title=\"📊 Bar Chart\", x=\"Categories\", y=\"Count\")\n",
    ")\n",
    "\n",
    "print(\"📊 Bar chart created\")\n",
    "bar_plot.show()"
   ]
  },
  {
   "cell_type": "code",
   "execution_count": null,
   "metadata": {},
   "outputs": [],
   "source": [
    "# 📈 Line chart\n",
    "time_data = {\n",
    "    'month': [1, 2, 3, 4, 5, 6],\n",
    "    'temperature': [10, 15, 20, 25, 22, 18],\n",
    "    'city': ['NYC', 'NYC', 'LA', 'LA', 'NYC', 'LA']\n",
    "}\n",
    "\n",
    "line_plot = (\n",
    "    ggplot(time_data, aes(x='month', y='temperature', color='city'))\n",
    "    .geom_line(size=2)\n",
    "    .geom_point(size=3)\n",
    "    .labs(title=\"📈 Line Chart\", x=\"Month\", y=\"Temperature (°C)\")\n",
    ")\n",
    "\n",
    "print(\"📈 Line chart created\")\n",
    "line_plot.show()"
   ]
  },
  {
   "cell_type": "code",
   "execution_count": null,
   "metadata": {},
   "outputs": [],
   "source": [
    "# 📊 Histogram\n",
    "values = {\n",
    "    'value': [1, 2, 2, 3, 3, 3, 4, 4, 4, 4, 5, 5, 5, 6, 6, 7]\n",
    "}\n",
    "\n",
    "histogram = (\n",
    "    ggplot(values, aes(x='value'))\n",
    "    .geom_histogram(bins=6, fill='steelblue', alpha=0.7)\n",
    "    .labs(title=\"📊 Histogram\", x=\"Values\", y=\"Frequency\")\n",
    ")\n",
    "\n",
    "print(\"📊 Histogram created\")\n",
    "histogram.show()"
   ]
  },
  {
   "cell_type": "markdown",
   "metadata": {},
   "source": [
    "## 5. Aesthetic Mappings\n",
    "\n",
    "Aesthetics (`aes`) map data variables to visual properties like color, size, and shape."
   ]
  },
  {
   "cell_type": "code",
   "execution_count": null,
   "metadata": {},
   "outputs": [],
   "source": [
    "# Rich dataset for aesthetic demonstrations\n",
    "rich_data = {\n",
    "    'x': [1, 2, 3, 4, 5, 6, 7, 8],\n",
    "    'y': [2, 4, 6, 8, 10, 12, 14, 16],\n",
    "    'color_var': ['A', 'B', 'A', 'B', 'C', 'C', 'A', 'B'],\n",
    "    'size_var': [1, 2, 3, 4, 3, 2, 1, 2],\n",
    "    'shape_var': ['circle', 'square', 'circle', 'square', 'triangle', 'triangle', 'circle', 'square']\n",
    "}\n",
    "\n",
    "# 🎨 Multiple aesthetic mappings\n",
    "aesthetic_plot = (\n",
    "    ggplot(rich_data, aes(x='x', y='y'))\n",
    "    .geom_point(\n",
    "        aes(color='color_var', size='size_var'),  # Map aesthetics in geom\n",
    "        alpha=0.8\n",
    "    )\n",
    "    .labs(\n",
    "        title=\"🎨 Multiple Aesthetics\",\n",
    "        subtitle=\"Color and size mapped to data\",\n",
    "        x=\"X Position\",\n",
    "        y=\"Y Position\"\n",
    "    )\n",
    ")\n",
    "\n",
    "print(\"🎨 Multi-aesthetic plot created\")\n",
    "print(f\"Global aesthetics: {aesthetic_plot.mapping.mapping}\")\n",
    "print(f\"Layer aesthetics: {aesthetic_plot.layers[0]['mapping']}\")\n",
    "\n",
    "aesthetic_plot.show()"
   ]
  },
  {
   "cell_type": "markdown",
   "metadata": {},
   "source": [
    "## 6. Layering Multiple Geoms\n",
    "\n",
    "One of ggplot's powerful features is the ability to layer multiple geometric objects."
   ]
  },
  {
   "cell_type": "code",
   "execution_count": null,
   "metadata": {},
   "outputs": [],
   "source": [
    "# Data for layered visualization\n",
    "layer_data = {\n",
    "    'x': [1, 2, 3, 4, 5, 6, 7, 8, 9, 10],\n",
    "    'y': [2, 4, 6, 5, 8, 10, 12, 11, 14, 16],\n",
    "    'group': ['A', 'A', 'B', 'B', 'C', 'C', 'A', 'A', 'B', 'B']\n",
    "}\n",
    "\n",
    "# 🔗 Multiple layers in one chain\n",
    "layered_plot = (\n",
    "    ggplot(layer_data, aes(x='x', y='y'))\n",
    "    .geom_point(aes(color='group'), size=4, alpha=0.8)  # Points with color\n",
    "    .geom_line(color='gray', alpha=0.5, size=1)         # Connecting line\n",
    "    .geom_smooth(color='red', method='lm', se=True)     # Trend line\n",
    "    .labs(\n",
    "        title=\"🔗 Multi-Layer Plot\",\n",
    "        subtitle=\"Points + Connection + Trend\",\n",
    "        x=\"X Values\",\n",
    "        y=\"Y Values\"\n",
    "    )\n",
    ")\n",
    "\n",
    "print(f\"🔗 Created plot with {len(layered_plot.layers)} layers:\")\n",
    "for i, layer in enumerate(layered_plot.layers, 1):\n",
    "    print(f\"  Layer {i}: {layer['geom_type']}\")\n",
    "\n",
    "layered_plot.show()"
   ]
  },
  {
   "cell_type": "markdown",
   "metadata": {},
   "source": [
    "## 7. Labels and Titles\n",
    "\n",
    "ggoat provides multiple ways to add labels and titles to your plots."
   ]
  },
  {
   "cell_type": "code",
   "execution_count": null,
   "metadata": {},
   "outputs": [],
   "source": [
    "# Sample data\n",
    "label_data = {\n",
    "    'quarter': ['Q1', 'Q2', 'Q3', 'Q4'],\n",
    "    'revenue': [100, 120, 150, 140],\n",
    "    'profit': [20, 25, 35, 30]\n",
    "}\n",
    "\n",
    "# Method 1: Using .labs() - all labels at once\n",
    "plot_method1 = (\n",
    "    ggplot(label_data, aes(x='quarter', y='revenue'))\n",
    "    .geom_bar(stat='identity', fill='steelblue', alpha=0.7)\n",
    "    .labs(\n",
    "        title=\"📊 Quarterly Revenue\",\n",
    "        subtitle=\"Method 1: Using .labs()\",\n",
    "        x=\"Quarter\",\n",
    "        y=\"Revenue ($M)\"\n",
    "    )\n",
    ")\n",
    "\n",
    "print(\"📊 Method 1 - .labs() approach:\")\n",
    "plot_method1.show()"
   ]
  },
  {
   "cell_type": "code",
   "execution_count": null,
   "metadata": {},
   "outputs": [],
   "source": [
    "# Method 2: Individual label methods\n",
    "plot_method2 = (\n",
    "    ggplot(label_data, aes(x='quarter', y='revenue'))\n",
    "    .geom_bar(stat='identity', fill='darkgreen', alpha=0.7)\n",
    "    .ggtitle(\"📊 Quarterly Revenue\", subtitle=\"Method 2: Individual methods\")\n",
    "    .xlab(\"Business Quarter\")\n",
    "    .ylab(\"Revenue (Million $)\")\n",
    ")\n",
    "\n",
    "print(\"📊 Method 2 - Individual label methods:\")\n",
    "plot_method2.show()"
   ]
  },
  {
   "cell_type": "markdown",
   "metadata": {},
   "source": [
    "## 8. Data Handling\n",
    "\n",
    "ggoat works seamlessly with Python dictionaries and pandas DataFrames."
   ]
  },
  {
   "cell_type": "code",
   "execution_count": null,
   "metadata": {},
   "outputs": [],
   "source": [
    "# Test with dictionary (what we've been using)\n",
    "dict_data = {\n",
    "    'x': [1, 2, 3, 4],\n",
    "    'y': [10, 20, 15, 25],\n",
    "    'category': ['A', 'B', 'A', 'B']\n",
    "}\n",
    "\n",
    "dict_plot = (\n",
    "    ggplot(dict_data, aes(x='x', y='y', color='category'))\n",
    "    .geom_point(size=5)\n",
    "    .labs(title=\"📋 Dictionary Data\", subtitle=\"Works great with Python dicts!\")\n",
    ")\n",
    "\n",
    "print(\"📋 Dictionary data plot:\")\n",
    "dict_plot.show()"
   ]
  },
  {
   "cell_type": "code",
   "execution_count": null,
   "metadata": {},
   "outputs": [],
   "source": [
    "# Test with pandas (if available)\n",
    "try:\n",
    "    import pandas as pd\n",
    "    \n",
    "    # Create DataFrame\n",
    "    df_data = pd.DataFrame({\n",
    "        'x': [1, 2, 3, 4, 5],\n",
    "        'y': [5, 10, 15, 20, 25],\n",
    "        'group': ['Alpha', 'Beta', 'Alpha', 'Beta', 'Alpha']\n",
    "    })\n",
    "    \n",
    "    df_plot = (\n",
    "        ggplot(df_data, aes(x='x', y='y', color='group'))\n",
    "        .geom_line(size=2)\n",
    "        .geom_point(size=4)\n",
    "        .labs(title=\"🐼 Pandas DataFrame\", subtitle=\"Also works with DataFrames!\")\n",
    "    )\n",
    "    \n",
    "    print(\"🐼 Pandas DataFrame plot:\")\n",
    "    df_plot.show()\n",
    "    \n",
    "except ImportError:\n",
    "    print(\"🐼 Pandas not available, but that's fine!\")\n",
    "    print(\"   ggoat works great with just Python dictionaries\")"
   ]
  },
  {
   "cell_type": "markdown",
   "metadata": {},
   "source": [
    "## 9. Saving and Exporting\n",
    "\n",
    "ggoat can export your plots to different formats for sharing and embedding."
   ]
  },
  {
   "cell_type": "code",
   "execution_count": null,
   "metadata": {},
   "outputs": [],
   "source": [
    "# Create a nice plot to save\n",
    "export_data = {\n",
    "    'category': ['Product A', 'Product B', 'Product C', 'Product D'],\n",
    "    'sales': [150, 200, 180, 220],\n",
    "    'region': ['North', 'South', 'North', 'South']\n",
    "}\n",
    "\n",
    "export_plot = (\n",
    "    ggplot(export_data, aes(x='category', y='sales', fill='region'))\n",
    "    .geom_bar(stat='identity', alpha=0.8)\n",
    "    .labs(\n",
    "        title=\"📈 Sales by Product and Region\",\n",
    "        subtitle=\"Ready for export!\",\n",
    "        x=\"Product Category\",\n",
    "        y=\"Sales ($K)\"\n",
    "    )\n",
    ")\n",
    "\n",
    "# Save as HTML (includes interactive JavaScript)\n",
    "html_success = export_plot.save('/tmp/basic_tutorial_plot.html', width=800, height=500)\n",
    "\n",
    "# Save as JSON (plot specification)\n",
    "json_success = export_plot.save('/tmp/basic_tutorial_plot.json', format='json')\n",
    "\n",
    "if html_success:\n",
    "    print(\"✅ HTML file saved: /tmp/basic_tutorial_plot.html\")\n",
    "if json_success:\n",
    "    print(\"✅ JSON spec saved: /tmp/basic_tutorial_plot.json\")\n",
    "\n",
    "export_plot.show()"
   ]
  },
  {
   "cell_type": "markdown",
   "metadata": {},
   "source": [
    "## 10. Understanding Plot Specifications\n",
    "\n",
    "ggoat builds structured plot specifications that can be inspected and manipulated."
   ]
  },
  {
   "cell_type": "code",
   "execution_count": null,
   "metadata": {},
   "outputs": [],
   "source": [
    "# Create a simple plot for inspection\n",
    "inspect_data = {\n",
    "    'x': [1, 2, 3],\n",
    "    'y': [10, 20, 15],\n",
    "    'color': ['red', 'blue', 'green']\n",
    "}\n",
    "\n",
    "inspect_plot = (\n",
    "    ggplot(inspect_data, aes(x='x', y='y', color='color'))\n",
    "    .geom_point(size=5, alpha=0.7)\n",
    "    .labs(title=\"Inspection Example\")\n",
    ")\n",
    "\n",
    "# Build and examine the specification\n",
    "spec = inspect_plot.build()\n",
    "\n",
    "print(\"🔍 Plot Specification Structure:\")\n",
    "print(f\"   📊 Data keys: {list(spec['data'].keys())}\")\n",
    "print(f\"   🎨 Global mapping: {spec['mapping']}\")\n",
    "print(f\"   📚 Number of layers: {len(spec['layers'])}\")\n",
    "print(f\"   🏷️  Labels: {spec['labels']}\")\n",
    "\n",
    "print(\"\\n📋 Layer Details:\")\n",
    "for i, layer in enumerate(spec['layers']):\n",
    "    print(f\"   Layer {i+1}:\")\n",
    "    print(f\"     - Geom: {layer['geom_type']}\")\n",
    "    print(f\"     - Mapping: {layer['mapping']}\")\n",
    "    print(f\"     - Params: {layer['params']}\")"
   ]
  },
  {
   "cell_type": "markdown",
   "metadata": {},
   "source": [
    "## 🎉 Congratulations!\n",
    "\n",
    "You've completed the ggoat basic tutorial! Here's what you've learned:\n",
    "\n",
    "### ✅ Key Concepts\n",
    "- **Simple imports**: Just `ggplot` and `aes`\n",
    "- **Method chaining**: Fluent, readable syntax\n",
    "- **Multiple geoms**: Points, lines, bars, histograms\n",
    "- **Aesthetic mappings**: Color, size, shape from data\n",
    "- **Layering**: Combine multiple visualizations\n",
    "- **Labels & titles**: Multiple ways to annotate\n",
    "- **Data flexibility**: Works with dicts and DataFrames\n",
    "- **Export options**: HTML and JSON formats\n",
    "\n",
    "### 🚀 Next Steps\n",
    "- Check out `advanced.ipynb` for complex features\n",
    "- Try ggoat in your own projects\n",
    "- Use in Pyodide/browser environments\n",
    "- Explore the lets-plot integration\n",
    "\n",
    "### 💡 Remember\n",
    "```python\n",
    "from ggoat import ggplot, aes\n",
    "\n",
    "# This is all you need!\n",
    "ggplot(data, aes(x='x', y='y')).geom_point().labs(title='Plot')\n",
    "```\n",
    "\n",
    "Happy plotting with ggoat! 🐐📊✨"
   ]
  }
 ],
 "metadata": {
  "kernelspec": {
   "display_name": "Python 3",
   "language": "python",
   "name": "python3"
  },
  "language_info": {
   "codemirror_mode": {
    "name": "ipython",
    "version": 3
   },
   "file_extension": ".py",
   "mimetype": "text/x-python",
   "name": "python",
   "nbconvert_exporter": "python",
   "pygments_lexer": "ipython3",
   "version": "3.8.0"
  }
 },
 "nbformat": 4,
 "nbformat_minor": 4
}