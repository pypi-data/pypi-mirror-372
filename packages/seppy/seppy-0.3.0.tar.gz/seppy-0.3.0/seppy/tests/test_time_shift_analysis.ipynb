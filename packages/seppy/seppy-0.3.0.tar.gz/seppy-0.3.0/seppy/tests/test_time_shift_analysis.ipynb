{
 "cells": [
  {
   "cell_type": "markdown",
   "id": "dff1322b",
   "metadata": {},
   "source": [
    "#  Visual time shift analysis\n",
    "\n",
    "<div class=\"alert alert-block alert-success\">\n",
    "<b>Please refer to the following paper for more information and cite it if you use this tool in your publication:</b><br><br>\n",
    "Palmroos, C., Gieseler, J., Dresing N., Morosan D. E., Asvestari E., Yli-Laurila A., Price D. J., Valkila S., Vainio R. (2022).\n",
    "Solar energetic particle time series analysis with Python. <i>Front. Astronomy Space Sci.</i> 9. <a href=\"https://doi.org/10.3389/fspas.2022.1073578\">doi:10.3389/fspas.2022.1073578</a>\n",
    "</div>"
   ]
  },
  {
   "cell_type": "code",
   "execution_count": 1,
   "id": "5e05e989",
   "metadata": {},
   "outputs": [],
   "source": [
    "# add parent-parent dir to path so that seppy can be imported from there\n",
    "import sys \n",
    "sys.path.append('../../')"
   ]
  },
  {
   "cell_type": "markdown",
   "id": "0eb22e28",
   "metadata": {},
   "source": [
    "#### First import the necessary library"
   ]
  },
  {
   "cell_type": "code",
   "execution_count": null,
   "id": "2a6f4f3b",
   "metadata": {},
   "outputs": [],
   "source": [
    "from seppy.tools import Event\n",
    "import seppy.tools.widgets as w\n",
    "from seppy.util import jupyterhub_data_path\n",
    "import datetime, os"
   ]
  },
  {
   "cell_type": "markdown",
   "id": "9b30a708",
   "metadata": {},
   "source": [
    "#### Choose spacecraft, sensor, viewing direction and particle species from the drop-down menu:"
   ]
  },
  {
   "cell_type": "code",
   "execution_count": 3,
   "id": "f0f78c1e",
   "metadata": {},
   "outputs": [
    {
     "data": {
      "application/vnd.jupyter.widget-view+json": {
       "model_id": "4e18dbfeecb545ce9937822840229059",
       "version_major": 2,
       "version_minor": 0
      },
      "text/plain": [
       "Dropdown(description='Spacecraft:', options=('PSP', 'SOHO', 'Solar Orbiter', 'STEREO-A', 'STEREO-B', 'Wind'), …"
      ]
     },
     "metadata": {},
     "output_type": "display_data"
    },
    {
     "data": {
      "application/vnd.jupyter.widget-view+json": {
       "model_id": "e4d208c9d56247589e2f6d6e7cdce78c",
       "version_major": 2,
       "version_minor": 0
      },
      "text/plain": [
       "Dropdown(description='Sensor:', options=('isois-epihi', 'isois-epilo'), value='isois-epihi')"
      ]
     },
     "metadata": {},
     "output_type": "display_data"
    },
    {
     "data": {
      "application/vnd.jupyter.widget-view+json": {
       "model_id": "879e5a4a10fa4cbdaf5b80623ebff13e",
       "version_major": 2,
       "version_minor": 0
      },
      "text/plain": [
       "Dropdown(description='Viewing:', options=('A', 'B'), value='A')"
      ]
     },
     "metadata": {},
     "output_type": "display_data"
    },
    {
     "data": {
      "application/vnd.jupyter.widget-view+json": {
       "model_id": "8b70ac3184b04b1e9f9cbc2291682e66",
       "version_major": 2,
       "version_minor": 0
      },
      "text/plain": [
       "Dropdown(description='Species:', options=('protons', 'electrons'), value='protons')"
      ]
     },
     "metadata": {},
     "output_type": "display_data"
    }
   ],
   "source": [
    "display(w.spacecraft_drop, w.sensor_drop, w.view_drop, w.species_drop)"
   ]
  },
  {
   "cell_type": "code",
   "execution_count": 4,
   "id": "cab4dfae",
   "metadata": {},
   "outputs": [],
   "source": [
    "# overwrite GUI returns for testing\n",
    "w.spacecraft_drop.value = 'SOHO'\n",
    "w.sensor_drop.value = 'ERNE-HED'\n",
    "w.view_drop.value = None\n",
    "w.species_drop.value = 'protons'"
   ]
  },
  {
   "cell_type": "markdown",
   "id": "f72fd6b5",
   "metadata": {},
   "source": [
    "#### Set the data path and date range to load data:"
   ]
  },
  {
   "cell_type": "code",
   "execution_count": null,
   "id": "c8b4570e",
   "metadata": {},
   "outputs": [],
   "source": [
    "# Set your local path where you want to save the data files. If run on the project's JupyterHub server, it's set to a common data folder in the base directory. \n",
    "data_path = f\"{os.getcwd()}{os.sep}data\"\n",
    "data_path = jupyterhub_data_path(data_path)\n",
    "\n",
    "# Format of date: year, month, day\n",
    "startdate = datetime.date(2024, 5, 10)\n",
    "enddate = datetime.date(2024, 5, 11)\n",
    "\n",
    "# Set the averaging period, or leave to None to not resample data\n",
    "# averaging should be a pandas-compatible string, e.g. '1h', '2min', '15s'\n",
    "averaging = '1min' #\"1min\""
   ]
  },
  {
   "cell_type": "code",
   "execution_count": 6,
   "id": "b9184561",
   "metadata": {},
   "outputs": [],
   "source": [
    "# Get event data:\n",
    "Event_class = Event(spacecraft=w.spacecraft_drop.value, sensor=w.sensor_drop.value, \n",
    "                    data_level='l2', species = w.species_drop.value, viewing=w.view_drop.value,\n",
    "                    start_date=startdate, end_date=enddate, \n",
    "                    data_path=data_path)"
   ]
  },
  {
   "cell_type": "code",
   "execution_count": 7,
   "id": "af9b46b3",
   "metadata": {},
   "outputs": [],
   "source": [
    "# Select the channels to be plotted (first, last, step), end-exclusively (use None to choose all)\n",
    "channels = (2, 8, 1) #(1, 11, 2)"
   ]
  },
  {
   "cell_type": "code",
   "execution_count": null,
   "id": "3820516e",
   "metadata": {},
   "outputs": [],
   "source": [
    "%matplotlib widget\n",
    "Event_class.tsa_plot(w.view_drop.value, selection=channels, resample=averaging)"
   ]
  },
  {
   "cell_type": "markdown",
   "id": "fb9dd2f1",
   "metadata": {},
   "source": [
    "#### Saving the figure is done in the plot window, by hovering mouse to the left side of the plot and clicking \"Download plot\""
   ]
  },
  {
   "cell_type": "code",
   "execution_count": 9,
   "id": "a17ff153",
   "metadata": {},
   "outputs": [],
   "source": [
    "import matplotlib.pyplot as plt\n",
    "plt.savefig('tsa_test.png')"
   ]
  },
  {
   "cell_type": "markdown",
   "id": "fbc35c0b",
   "metadata": {},
   "source": [
    "---\n",
    "## FAQ / Problems <a class=\"anchor\" id=\"faq\"></a>\n",
    "\n",
    "- **I get some error about missing data, or that the data is broken, or something I don't understand.**\n",
    "\n",
    "Most times such a problem originates in an incomplete download of the corresponding data file. The easiest approach to solve that problem is to delete the file and run the code again to re-download it. \n",
    "To do this, first check if a `path` has been provided. If `path` has *not* been defined (or as `None`), the standard `path` for SunPy downloads should have been used. You can obtain it by running the following code cell:\n"
   ]
  },
  {
   "cell_type": "code",
   "execution_count": 2,
   "id": "5a98af1b",
   "metadata": {},
   "outputs": [
    {
     "data": {
      "text/plain": [
       "'/home/gieseler/sunpy/data'"
      ]
     },
     "execution_count": 2,
     "metadata": {},
     "output_type": "execute_result"
    }
   ],
   "source": [
    "import sunpy \n",
    "sunpy.config.get('downloads', 'download_dir')"
   ]
  },
  {
   "cell_type": "markdown",
   "id": "4ebec703",
   "metadata": {},
   "source": [
    "Open the corresponding directory in your file browser and look for the corresponding data file. Usually it's easiest to order the files by modification date, so that the latest modified file (which usually should be the culprit) comes first. Then delete the corresponding file(s), and run the code again."
   ]
  }
 ],
 "metadata": {
  "kernelspec": {
   "display_name": "serpentine",
   "language": "python",
   "name": "python3"
  },
  "language_info": {
   "codemirror_mode": {
    "name": "ipython",
    "version": 3
   },
   "file_extension": ".py",
   "mimetype": "text/x-python",
   "name": "python",
   "nbconvert_exporter": "python",
   "pygments_lexer": "ipython3",
   "version": "3.12.5"
  }
 },
 "nbformat": 4,
 "nbformat_minor": 5
}
