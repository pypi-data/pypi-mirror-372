{
 "cells": [
  {
   "attachments": {},
   "cell_type": "markdown",
   "id": "877bca97-8718-49c8-9c96-08befafa3899",
   "metadata": {},
   "source": [
    "# Rayx visualization toolbox"
   ]
  },
  {
   "attachments": {},
   "cell_type": "markdown",
   "id": "0ebde0f7-05a0-481b-b55a-90d2f1201dd1",
   "metadata": {},
   "source": [
    "This [Jupyter notebook](https://jupyter.org/) allows for visualization of RAYX' output files. For this, the [environment variables](https://en.wikipedia.org/wiki/Environment_variable) `$RAYX_FILE` or `$RAYX_DIR` can be set.\n",
    "\n",
    "* If `$RAYX_FILE` is set, it will be selected for visualization below.\n",
    "* If `$RAYX_DIR` is set, all `.h5` files recursively residing in that directory will be selectable for visualization below.\n",
    "\n",
    "**※** To run this visualization toolbox, click <kbd>Kernel</kbd> › <kbd>Restart Kernel and Run All Cells...</kbd> › <kbd>Restart</kbd>."
   ]
  },
  {
   "attachments": {},
   "cell_type": "markdown",
   "id": "26427473-def9-4c7f-99a7-1bc732881697",
   "metadata": {
    "jp-MarkdownHeadingCollapsed": true,
    "tags": []
   },
   "source": [
    "## Imports"
   ]
  },
  {
   "cell_type": "code",
   "execution_count": 3,
   "id": "b5b5348c-394b-4a51-b9ef-3393966a3518",
   "metadata": {},
   "outputs": [],
   "source": [
    "import glob\n",
    "import h5py\n",
    "import ipywidgets\n",
    "import natsort\n",
    "import os\n",
    "import re\n",
    "\n",
    "import matplotlib as mpl\n",
    "import numpy as np\n",
    "import pandas as pd\n",
    "import pylab as plt\n",
    "\n",
    "from typing import List"
   ]
  },
  {
   "attachments": {},
   "cell_type": "markdown",
   "id": "9b3e302e-d6eb-4e8a-b1bd-8f9d82ca9f7b",
   "metadata": {
    "jp-MarkdownHeadingCollapsed": true,
    "tags": []
   },
   "source": [
    "## Settings & inputs"
   ]
  },
  {
   "cell_type": "code",
   "execution_count": 4,
   "id": "fca554f1-240d-4d1b-bfda-21563435d7aa",
   "metadata": {},
   "outputs": [],
   "source": [
    "# Select all available HDF5 files in a directory, based on filename\n",
    "h5_file = os.environ.get('RAYX_FILE')\n",
    "h5_dir = os.environ.get('RAYX_DIR')\n",
    "if h5_dir:\n",
    "    h5_files = natsort.natsorted(\n",
    "        glob.glob(f'{h5_dir}/**/*.h5') + \n",
    "        glob.glob(f'{h5_dir}/*.h5')\n",
    "    )\n",
    "else:\n",
    "    h5_files = []"
   ]
  },
  {
   "cell_type": "code",
   "execution_count": 5,
   "id": "e8cf6757-22ec-402c-9828-5c1f4c6ce806",
   "metadata": {},
   "outputs": [],
   "source": [
    "# Allow all color maps, selecting turbo as the default\n",
    "# cf. https://ai.googleblog.com/2019/08/turbo-improved-rainbow-colormap-for.html\n",
    "cmaps = plt.colormaps()\n",
    "cmap_default = 'turbo'"
   ]
  },
  {
   "attachments": {},
   "cell_type": "markdown",
   "id": "ebe4b5c4-f4ca-44d0-95c6-6393028bebb3",
   "metadata": {
    "jp-MarkdownHeadingCollapsed": true,
    "tags": []
   },
   "source": [
    "## Functions"
   ]
  },
  {
   "cell_type": "code",
   "execution_count": 6,
   "id": "87b990fa-d734-43d2-9cee-521d2147389e",
   "metadata": {},
   "outputs": [],
   "source": [
    "def importOutput(filename: str, filter_weight=1, group_names=['Reflection Zoneplate']):\n",
    "    \"\"\"\n",
    "    Import output h5 format and clean data\n",
    "    \n",
    "    filename: absolute path to HDF5 file\n",
    "    filter_weight: 1 = W_JUST_HIT_ELEM\n",
    "    group_strings: Groups multiple strings if the base string matches\n",
    "    \"\"\"\n",
    "    # file will be closed when we exit from WITH scope\n",
    "    with h5py.File(filename, 'r') as h5f:\n",
    "        keys = []\n",
    "        for x in h5f.keys():\n",
    "            if x == \"rays\": continue\n",
    "            keys.append(int(x))\n",
    "        keys = sorted(keys)\n",
    "\n",
    "        names = []\n",
    "        for x in keys:\n",
    "            x = \"\".join([chr(y) for y in h5f[str(x)]])\n",
    "            names.append(x)\n",
    "\n",
    "        dataset = h5f[\"rays\"]\n",
    "        df = pd.DataFrame(dataset, columns=['RayId', 'SnapshotID', 'Xloc', 'Yloc', 'Zloc', 'Weight', 'Xdir', 'Ydir',\n",
    "                                            'Zdir', 'Energy', 'Stokes0', 'Stokes1', 'Stokes2', 'Stokes3', 'pathLength',\n",
    "                                            'order', 'lastElement'])\n",
    "    df = df[df[\"Weight\"] == filter_weight]\n",
    "    df = df[[\"Xloc\", \"Yloc\", \"Zloc\", \"lastElement\"]]\n",
    "    \n",
    "    # Group names based on the group strings\n",
    "    groups = {}\n",
    "    for group_name in group_names:\n",
    "        groups[group_name] = [\n",
    "            name\n",
    "            for name in names\n",
    "            if re.match(f\"^{group_name} [0-9]+$\", name)\n",
    "        ]\n",
    "    # Add all single groups that are not matched\n",
    "    for name in names:\n",
    "        match = False\n",
    "        for group_name, group_members in groups.items():\n",
    "            if name in group_members:\n",
    "                match = True\n",
    "        if not match:\n",
    "            groups[name] = [name]\n",
    "    \n",
    "    return df, names, groups"
   ]
  },
  {
   "cell_type": "code",
   "execution_count": 7,
   "id": "45b82355-d12a-44d5-a06a-065fe78f9c43",
   "metadata": {},
   "outputs": [],
   "source": [
    "def plot_2d_histogram(df: pd.DataFrame, group, groups, names: List[str], cmap, proportional=True,\n",
    "                      bins2d=2048, bins1d=128, logarithmic=False, plane='auto'):\n",
    "    \"\"\"\n",
    "    Plot 2D histogram\n",
    "    \"\"\"\n",
    "    if group == 'Please select file first':\n",
    "        return\n",
    "    es = [\n",
    "        float(names.index(group_member) + 1)\n",
    "        for group_member in groups[group]\n",
    "    ]\n",
    "    d = df[df[\"lastElement\"].isin(es)]\n",
    "\n",
    "    # Cut proportionally if desired\n",
    "    if proportional:\n",
    "        hist_range = np.array([\n",
    "            (-2048 * 26 / 1000 / 2, 2048 * 26 / 1000 / 2),\n",
    "            (-2048 * 26 / 1000 / 2, 2048 * 26 / 1000 / 2)\n",
    "        ])\n",
    "    else:\n",
    "        hist_range = None\n",
    "\n",
    "    # Choose planes based on dominant standard deviation\n",
    "    if plane == 'auto':\n",
    "        xy_plane = d[\"Yloc\"].std() > d[\"Zloc\"].std()\n",
    "    elif plane == 'xz':\n",
    "        xy_plane = False\n",
    "    else:\n",
    "        xy_plane = True\n",
    "    \n",
    "    # Compute 2d histogram\n",
    "    trace, xedges, yedges = np.histogram2d(\n",
    "        d[\"Xloc\"],\n",
    "        d[\"Yloc\"] if xy_plane else d[\"Zloc\"],\n",
    "        bins=bins2d,\n",
    "        range=hist_range,\n",
    "    )\n",
    "    trace = np.flip(trace.T)\n",
    "    extent = [yedges[0], yedges[-1], yedges[0], yedges[-1]]\n",
    "    vmin = trace.min()\n",
    "    vmax = trace.max()\n",
    "\n",
    "    # Create gridspec for multiple plots\n",
    "    fig = plt.figure(figsize=(12, 12))\n",
    "    gs = plt.GridSpec(2, 3, width_ratios=[.03, 1, .2], height_ratios=[.2, 1 - .03])\n",
    "    ax_cbar = fig.add_subplot(gs[1, 0])\n",
    "    ax_hist2d = fig.add_subplot(gs[1, 1])\n",
    "    ax_hist_h = fig.add_subplot(gs[1, 2], sharey=ax_hist2d)\n",
    "    ax_hist_v = fig.add_subplot(gs[0, 1], sharex=ax_hist2d)\n",
    "    \n",
    "    # Plot 2d histogram\n",
    "    lognorm = None\n",
    "    if logarithmic:\n",
    "        if vmin <= 0:\n",
    "            vmin = 1e-1\n",
    "        lognorm = mpl.colors.LogNorm(vmin=vmin, vmax=vmax)\n",
    "        vmin = None\n",
    "        vmax = None\n",
    "    im = ax_hist2d.imshow(trace, vmin=vmin, vmax=vmax, extent=extent, cmap=cmap,\n",
    "                          aspect='auto', norm=lognorm)\n",
    "    cbar = plt.colorbar(im, cax=ax_cbar)\n",
    "    plane = \"XY\" if xy_plane else \"XZ\"\n",
    "    plt.title(f\"{plane} histogram of {group}\")\n",
    "    plt.tight_layout()\n",
    "\n",
    "    # Mean color\n",
    "    cmap = mpl.cm.get_cmap(cmap)\n",
    "    # mcol = cmap(trace.mean())\n",
    "    mcol = cmap(.5)\n",
    "    \n",
    "    # Histograms\n",
    "    mean_v = trace.mean(axis=0)\n",
    "    mean_h = trace.mean(axis=1)\n",
    "    ax_hist_v.plot(np.linspace(extent[0], extent[1], len(mean_v)), mean_v, color=mcol, linewidth=.3)\n",
    "    ax_hist_h.plot(mean_h, np.linspace(extent[3], extent[2], len(mean_h)), color=mcol, linewidth=.3)\n",
    "    if logarithmic:\n",
    "        ax_hist_v.set_yscale('log')\n",
    "        ax_hist_h.set_xscale('log')\n",
    "    plt.show()"
   ]
  },
  {
   "attachments": {},
   "cell_type": "markdown",
   "id": "5481c67a-38ee-4b5d-a7f4-232703e9afc0",
   "metadata": {},
   "source": [
    "## Interactive elements"
   ]
  },
  {
   "attachments": {},
   "cell_type": "markdown",
   "id": "1c8b0763-5704-4f4a-a596-6c2371ae2815",
   "metadata": {},
   "source": [
    "The following settings allow you to control the visualization.\n",
    "\n",
    "Setting | Description\n",
    "-:|-\n",
    "<kbd>h5_file</kbd> | HDF5 file from which to load data from\n",
    "<kbd>group</kbd> | Group within that HDF5 file to visualize\n",
    "<kbd>plane</kbd> | Use XY- or XZ-plane or detect automatically, based on standard deviation\n",
    "<kbd>cmap</kbd> | [Colormap](https://matplotlib.org/stable/tutorials/colors/colormaps.html) for visualization\n",
    "<kbd>proportional</kbd> | Whether data should be scaled to be proportional, or fit the plot's window\n",
    "<kbd>logarithmic</kbd> | Whether to use logarithmic scaling for the colormap\n",
    "<kbd>bins2d</kbd> | Number of bins for the 2D histogram"
   ]
  },
  {
   "cell_type": "code",
   "execution_count": 8,
   "id": "56a09b67-3d3f-4056-9704-3009e1851b54",
   "metadata": {
    "jupyter": {
     "source_hidden": true
    },
    "tags": []
   },
   "outputs": [],
   "source": [
    "h5_file_options = natsort.natsorted(list(set([h5_file] + h5_files))) if h5_file else h5_files\n",
    "h5_file_widget = ipywidgets.Dropdown(value=h5_file, options=h5_file_options)\n",
    "group_widget = ipywidgets.Dropdown(options=['Please select file first'])\n",
    "plane_widget = ipywidgets.Dropdown(value='auto', options=['auto', 'xy', 'xz'])\n",
    "cmap_widget = ipywidgets.Dropdown(value=cmap_default, options=cmaps)\n",
    "proportional_widget = ipywidgets.Checkbox()\n",
    "logarithmic_widget = ipywidgets.Checkbox()\n",
    "bins2d_widget = ipywidgets.IntSlider(value=2048, min=2, max=2048, step=1)"
   ]
  },
  {
   "cell_type": "code",
   "execution_count": 9,
   "id": "b3778fa8-f6a1-46d7-96e6-d5bbb52abeef",
   "metadata": {
    "jupyter": {
     "source_hidden": true
    },
    "tags": []
   },
   "outputs": [
    {
     "data": {
      "application/vnd.jupyter.widget-view+json": {
       "model_id": "571592e57b994a0aaf4bc0efc56bd201",
       "version_major": 2,
       "version_minor": 0
      },
      "text/plain": [
       "interactive(children=(Dropdown(description='h5_file', options=(), value=None), Dropdown(description='group', o…"
      ]
     },
     "metadata": {},
     "output_type": "display_data"
    }
   ],
   "source": [
    "@ipywidgets.interact(h5_file=h5_file_widget, group=group_widget, plane=plane_widget,\n",
    "                     cmap=cmap_widget, proportional=proportional_widget,\n",
    "                     logarithmic=logarithmic_widget, bins2d=bins2d_widget)\n",
    "def print_stuff(h5_file, group, plane, cmap, proportional, logarithmic, bins2d):\n",
    "    if not h5_file:\n",
    "        h5_file_str = \"NOT SET! PLEASE SET $RAYX_FILE WHEN STARTING JUPYTER!\" if not h5_file else h5_file\n",
    "        h5_dir_str = \"NOT SET! PLEASE SET $RAYX_DIR WHEN STARTING JUPYTER!\" if not h5_dir else h5_dir\n",
    "        print(f\"NO HDF5 FILES FOUND FOR PLOTTING! MAKE SURE THE FOLLOWING FILE/DIR ARE CORRECT!\\n\\n  FILE: {h5_file_str}\\n   DIR: {h5_dir_str}\")\n",
    "        return\n",
    "    df, names, groups = importOutput(h5_file)\n",
    "    group_widget.options = groups.keys()\n",
    "    plot_2d_histogram(df, group, groups, names, cmap, proportional=proportional,\n",
    "                      logarithmic=logarithmic, bins2d=bins2d, plane=plane)"
   ]
  },
  {
   "attachments": {},
   "cell_type": "markdown",
   "id": "46f07000-7fdb-41bd-87bf-0b93a92ac236",
   "metadata": {},
   "source": [
    " "
   ]
  },
  {
   "attachments": {},
   "cell_type": "markdown",
   "id": "e5c42b5d-06bb-4497-823f-a57f9b1acebc",
   "metadata": {
    "tags": []
   },
   "source": [
    "<br><br><br><br><br><br><br><br><br><br><br><br><br><br><br><br><br><br><br><br><br><br><br><br>\n",
    "<br><br><br><br><br><br><br><br><br><br><br><br><br><br><br><br><br><br><br><br><br><br><br><br>\n",
    "<br><br><br><br><br><br><br><br><br><br><br><br><br><br><br><br><br><br><br><br><br><br><br><br>\n",
    "<br><br><br><br><br><br><br><br><br><br><br><br><br><br><br><br><br><br><br><br><br><br><br><br>"
   ]
  }
 ],
 "metadata": {
  "kernelspec": {
   "display_name": "Python 3 (ipykernel)",
   "language": "python",
   "name": "python3"
  },
  "language_info": {
   "codemirror_mode": {
    "name": "ipython",
    "version": 3
   },
   "file_extension": ".py",
   "mimetype": "text/x-python",
   "name": "python",
   "nbconvert_exporter": "python",
   "pygments_lexer": "ipython3",
   "version": "3.11.4"
  }
 },
 "nbformat": 4,
 "nbformat_minor": 5
}
