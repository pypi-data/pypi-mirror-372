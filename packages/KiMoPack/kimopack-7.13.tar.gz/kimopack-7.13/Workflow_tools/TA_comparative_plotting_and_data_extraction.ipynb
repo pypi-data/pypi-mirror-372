{
 "cells": [
  {
   "cell_type": "code",
   "execution_count": null,
   "metadata": {},
   "outputs": [],
   "source": [
    "import matplotlib,lmfit\n",
    "import matplotlib.pyplot as plt\n",
    "import numpy as np\n",
    "import pandas as pd\n",
    "%matplotlib tk\n",
    "#for more comfort use\n",
    "#%matplotlib qt\n",
    "import KiMoPack.plot_func as pf"
   ]
  },
  {
   "cell_type": "markdown",
   "metadata": {},
   "source": [
    "### load base project and a few other projects to compare against"
   ]
  },
  {
   "cell_type": "code",
   "execution_count": null,
   "metadata": {},
   "outputs": [],
   "source": [
    "ta=pf.TA('sample_1.hdf5',path='Data')    #load the core project (whose parameters will be used for all settings)\n",
    "project_list=pf.GUI_open(['sample_1.hdf5','sample_2.hdf5'],path='Data')"
   ]
  },
  {
   "cell_type": "markdown",
   "metadata": {},
   "source": [
    "### Gui way to open  base project and a few other projects to compare against"
   ]
  },
  {
   "cell_type": "code",
   "execution_count": null,
   "metadata": {},
   "outputs": [],
   "source": [
    "ta=pf.TA('gui')                           #load the core project (whose parameters will be used for all settings)\n",
    "project_list=pf.GUI_open()      #use a gui to open a few projects that you would you like to compare to"
   ]
  },
  {
   "cell_type": "markdown",
   "metadata": {},
   "source": [
    "### comparing plots of multiple spectra at a set time"
   ]
  },
  {
   "cell_type": "code",
   "execution_count": null,
   "metadata": {},
   "outputs": [],
   "source": [
    "window=[0.9,1.1,450,470] #Normalize in this window (time_start, time_end, wavelength_start, wavelength_stop)\n",
    "ta.Compare_at_time(fitted=False,other=project_list,rel_time=[1,100],norm_window=window)#plot projects at 1ps an 10ps\n",
    "#ta.Compare_at_time(fitted=False,other=project_list,rel_time=[1,10],norm_window=window)#plot projects at 1ps an 10ps"
   ]
  },
  {
   "cell_type": "markdown",
   "metadata": {},
   "source": [
    "### comparing plots of multiple kinetics"
   ]
  },
  {
   "cell_type": "code",
   "execution_count": null,
   "metadata": {},
   "outputs": [],
   "source": [
    "window=[0.6,0.85,450,470] #Normalize in this window (time_start, time_end, wavelength_start, wavelength_stop)\n",
    "ta.Compare_at_wave(fitted=False,other=project_list,rel_wave=[500,400],norm_window=window) "
   ]
  },
  {
   "cell_type": "code",
   "execution_count": null,
   "metadata": {},
   "outputs": [],
   "source": [
    "plt.close('all')\n",
    "window=[0.6,0.85,450,470]\n",
    "ta.save_figures_to_folder=True        #usefull switch that turns on automatic saving to disk\n",
    "for w in [460,500,600]:#at what wavelength to compare for multiple use: [400,460]\n",
    "    ta.Compare_at_wave(fitted=False,other=project_list,rel_wave=w,norm_window=window)    #no normalisation"
   ]
  },
  {
   "cell_type": "markdown",
   "metadata": {},
   "source": [
    "### compare DAS"
   ]
  },
  {
   "cell_type": "code",
   "execution_count": null,
   "metadata": {},
   "outputs": [],
   "source": [
    "plt.close('all')\n",
    "ta.Compare_DAC(other=project_list)"
   ]
  },
  {
   "cell_type": "code",
   "execution_count": null,
   "metadata": {},
   "outputs": [],
   "source": [
    "plt.close('all')\n",
    "ta.Compare_DAC(other=project_list,separate_plots=True)"
   ]
  },
  {
   "cell_type": "markdown",
   "metadata": {},
   "source": [
    "### Intensity analysis"
   ]
  },
  {
   "cell_type": "code",
   "execution_count": null,
   "metadata": {},
   "outputs": [],
   "source": [
    "# for all projects in the list plot intensity in the window\n",
    "window=[0.6,0.85,600,700]\n",
    "intensity={}\n",
    "for project in project_list:\n",
    "    intensity[project.filename]=ta.ds.loc[window[0]:window[1],window[2]:window[3]].mean().mean()\n",
    "fig,ax=plt.subplots()\n",
    "pd.Series(intensity).plot(ax=ax,kind='bar',alpha=0.75, rot=90)\n",
    "fig.tight_layout()"
   ]
  },
  {
   "cell_type": "markdown",
   "metadata": {},
   "source": [
    "### for single project print intensity of spectra at a specfic wavelength"
   ]
  },
  {
   "cell_type": "code",
   "execution_count": null,
   "metadata": {},
   "outputs": [],
   "source": [
    "window=[600,700] #wavelength window for integration\n",
    "ta.re['DAC'].loc[window[0]:window[1]].mean()"
   ]
  },
  {
   "cell_type": "code",
   "execution_count": null,
   "metadata": {},
   "outputs": [],
   "source": [
    "# for all projects in the list print intensity of spectra at a specfic wavelength (assuming they all have same length)\n",
    "window=[600,700] #wavelength window for integration\n",
    "intensity={}\n",
    "for project in project_list:\n",
    "    intensity[project.filename]=(ta.re['DAC'].loc[window[0]:window[1]].mean())\n",
    "fig,ax=plt.subplots()\n",
    "pd.DataFrame(intensity).plot(ax=ax,kind='bar',alpha=0.75, rot=90)\n",
    "fig.tight_layout()"
   ]
  }
 ],
 "metadata": {
  "kernelspec": {
   "display_name": "Python 3 (ipykernel)",
   "language": "python",
   "name": "python3"
  },
  "language_info": {
   "codemirror_mode": {
    "name": "ipython",
    "version": 3
   },
   "file_extension": ".py",
   "mimetype": "text/x-python",
   "name": "python",
   "nbconvert_exporter": "python",
   "pygments_lexer": "ipython3",
   "version": "3.9.16"
  }
 },
 "nbformat": 4,
 "nbformat_minor": 2
}
