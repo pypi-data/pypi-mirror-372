{
 "cells": [
  {
   "cell_type": "markdown",
   "metadata": {},
   "source": [
    "# Standard Features\n",
    "## Working with single measurement scans"
   ]
  },
  {
   "cell_type": "code",
   "execution_count": null,
   "metadata": {},
   "outputs": [],
   "source": [
    "import os,sys\n",
    "import pandas as pd\n",
    "import numpy as np\n",
    "import matplotlib,lmfit\n",
    "import matplotlib.pyplot as plt\n",
    "try:\n",
    "    import KiMoPack.plot_func as pf\n",
    "except:\n",
    "    print(\"General installation did not work, try to import from the same folder as a workaround\")\n",
    "    import plot_func as pf\n",
    "#qt is mandatory for the functioning of this module\n",
    "%matplotlib tk\n",
    "#change this line to \n",
    "#   %matplotlib qt \n",
    "#if you have qt installed"
   ]
  },
  {
   "cell_type": "markdown",
   "metadata": {},
   "source": [
    "## 1) Read and average single scans\n",
    "\n",
    "Load single scans of a data set and select certain scans that are excluded from the summary (```Summarize_scans```). Therefore, up to two windows including lower and upper boundaries for delay times and probe wavelengths (*e.g.* ```[1,10,500,700]```) can be defined. In that region the TA signals are integrated. The respective integrals of each scan are shown in an active plot. The scans to exclude from the average are selcted by right-click on the respective data points in the active window. \n",
    "Advice, the GUI is sometimes hidden on the desktop. The window is recognizable with a little feather in the top left corner."
   ]
  },
  {
   "cell_type": "code",
   "execution_count": null,
   "metadata": {},
   "outputs": [],
   "source": [
    "#simple usage, select all files with \"ACN\" in the name and \"SIA\" ending in the folder with name \"scans\"\n",
    "ta=pf.Summarize_scans('gui',                 # use gui to select files\n",
    "                   list_to_dump='single',    # select single points to be removed\n",
    "                   window1=[1,10,500,700])   # integration window"
   ]
  },
  {
   "cell_type": "markdown",
   "metadata": {},
   "source": [
    "This is the advanced usage of the tool. By using filending, all files with a different ending are rejected. The \"filename_part\" works similar and looks if a certain string is in the filename, so can one e.g. filter all files with \"ACN\" in the name. The save_name is a useful option to keep track of the files. without it the file would be saved as \"combined.SIA\". The \"list_of_scans\" could be used to give e.g. a series of numbers that should be the last part of the filename. This is mainly useful if the option \"return_list_of_names\" is selected. Then e.g. multiple different selection series can be combined. See the Manual for more information on its usage. "
   ]
  },
  {
   "cell_type": "code",
   "execution_count": null,
   "metadata": {},
   "outputs": [],
   "source": [
    "scanfolder = os.path.join(os.getcwd(), 'Data', 'Scans')# Define a folder, This trick works on windows and linux \n",
    "ta=pf.Summarize_scans(path_to_scans=scanfolder,        # define path of the scan files\n",
    "                   list_of_scans=None,                 # read all scans from the given folder\n",
    "                   list_to_dump='single',              # select single points to be removed\n",
    "                   window1=[1,10,500,700],             # integration window \n",
    "                   window2=[1,10,410,470],             # integration window\n",
    "                   fileending='.SIA',                  # file extension, ignore rest\n",
    "                   filename_part='ACN',                # part of the filenames to read\n",
    "                   save_name='TA_Ru-dppz_400nm_'+'ACN'+'_mean.SIA')  # set save name"
   ]
  },
  {
   "cell_type": "code",
   "execution_count": null,
   "metadata": {},
   "outputs": [],
   "source": []
  }
 ],
 "metadata": {
  "ipub": {
   "titlepage": {
    "author": "Jens Uhlig",
    "email": "jens.uhlig@chemphys.lu.se",
    "logo": "http://www.jensuhlig.de//hot_warm_cold.png",
    "subtitle": "Main Worksheet",
    "title": "Transient Absorption Worksheet"
   }
  },
  "kernelspec": {
   "display_name": "Python 3 (ipykernel)",
   "language": "python",
   "name": "python3"
  },
  "language_info": {
   "codemirror_mode": {
    "name": "ipython",
    "version": 3
   },
   "file_extension": ".py",
   "mimetype": "text/x-python",
   "name": "python",
   "nbconvert_exporter": "python",
   "pygments_lexer": "ipython3",
   "version": "3.9.16"
  }
 },
 "nbformat": 4,
 "nbformat_minor": 2
}
