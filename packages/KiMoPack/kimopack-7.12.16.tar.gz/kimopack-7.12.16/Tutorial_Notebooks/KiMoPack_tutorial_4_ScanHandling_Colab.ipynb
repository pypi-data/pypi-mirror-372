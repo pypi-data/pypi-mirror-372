{
 "cells": [
  {
   "cell_type": "markdown",
   "metadata": {},
   "source": [
    "# Standard Features\n",
    "## Working with single measurement scans"
   ]
  },
  {
   "cell_type": "code",
   "execution_count": null,
   "metadata": {},
   "outputs": [],
   "source": [
    "#Colab specific:\n",
    "!pip install kimopack\n",
    "!pip install python-pptx\n",
    "!git clone https://github.com/erdzeichen/KiMoPack.git"
   ]
  },
  {
   "cell_type": "code",
   "execution_count": 2,
   "metadata": {},
   "outputs": [
    {
     "name": "stdout",
     "output_type": "stream",
     "text": [
      "Qt was found consider switching to qt mode with %matplotlib qt (more comfortable)\n",
      "Plot_func version 7.5.5\n",
      "was imported from path:\n",
      " C:\\Users\\jensu\\anaconda3\\Lib\\site-packages\\KiMoPack\n",
      "The current working folder is:\n",
      " c:\\Users\\jensu\\Dropbox\\coding\\github\\KiMoPack\\Tutorial_Notebooks\n"
     ]
    }
   ],
   "source": [
    "import os,sys\n",
    "import pandas as pd\n",
    "import numpy as np\n",
    "import matplotlib,lmfit\n",
    "import matplotlib.pyplot as plt\n",
    "try:\n",
    "    import KiMoPack.plot_func as pf\n",
    "except:\n",
    "    print(\"General installation did not work, try to import from the same folder as a workaround\")\n",
    "    import plot_func as pf\n",
    "#qt is mandatory for the functioning of this module Colab will only work for some of the functions"
   ]
  },
  {
   "cell_type": "markdown",
   "metadata": {},
   "source": [
    "## 1) Read and average single scans\n",
    "\n",
    "Load single scans of a data set and select certain scans that are excluded from the summary (```Summarize_scans```). Therefore, up to two windows including lower and upper boundaries for delay times and probe wavelengths (*e.g.* ```[1,10,500,700]```) can be defined. In that region the TA signals are integrated. The respective integrals of each scan are shown in an active plot. The scans to exclude from the average are selcted by right-click on the respective data points in the active window. \n",
    "Advice, the GUI is sometimes hidden on the desktop. The window is recognizable with a little feather in the top left corner."
   ]
  },
  {
   "cell_type": "markdown",
   "metadata": {},
   "source": [
    "## Please note that these interactive function do not work on mybinder/Colab"
   ]
  },
  {
   "cell_type": "code",
   "execution_count": null,
   "metadata": {},
   "outputs": [],
   "source": [
    "#simple usage, select all files with \"ACN\" in the name and \"SIA\" ending in the folder with name \"scans\"\n",
    "scanfolder = os.path.join('KiMoPack','Tutorial_Notebooks','Data', 'Scans')\n",
    "scanfolder = os.path.join('Data', 'Scans')\n",
    "ta=pf.Summarize_scans(\n",
    "                   path_to_scans=scanfolder,\n",
    "                   fileending='.SIA',                  # file extension, ignore rest\n",
    "                   filename_part='ACN',                # this must be in name, ignore rest\n",
    "                   zscore_filter_level=3,              # Filter sigma=3\n",
    "                   dump_times = True, \n",
    "                   replace_values = None, \n",
    "                   drop_scans = False,\n",
    "                   window1=[1,10,500,700])   # integration window"
   ]
  },
  {
   "cell_type": "markdown",
   "metadata": {},
   "source": [
    "This is the advanced usage of the tool. By using filending, all files with a different ending are rejected. The \"filename_part\" works similar and looks if a certain string is in the filename, so can one e.g. filter all files with \"ACN\" in the name. The save_name is a useful option to keep track of the files. without it the file would be saved as \"combined.SIA\". The \"list_of_scans\" could be used to give e.g. a series of numbers that should be the last part of the filename. This is mainly useful if the option \"return_list_of_names\" is selected. Then e.g. multiple different selection series can be combined. See the Manual for more information on its usage. "
   ]
  },
  {
   "cell_type": "markdown",
   "metadata": {},
   "source": [
    "## Please note that these interactive function do not work on mybinder"
   ]
  },
  {
   "cell_type": "code",
   "execution_count": 1,
   "metadata": {},
   "outputs": [
    {
     "ename": "NameError",
     "evalue": "name 'os' is not defined",
     "output_type": "error",
     "traceback": [
      "\u001b[1;31m---------------------------------------------------------------------------\u001b[0m",
      "\u001b[1;31mNameError\u001b[0m                                 Traceback (most recent call last)",
      "Cell \u001b[1;32mIn[1], line 1\u001b[0m\n\u001b[1;32m----> 1\u001b[0m scanfolder \u001b[38;5;241m=\u001b[39m os\u001b[38;5;241m.\u001b[39mpath\u001b[38;5;241m.\u001b[39mjoin(\u001b[38;5;124m'\u001b[39m\u001b[38;5;124mKiMoPack\u001b[39m\u001b[38;5;124m'\u001b[39m,\u001b[38;5;124m'\u001b[39m\u001b[38;5;124mTutorial_Notebooks\u001b[39m\u001b[38;5;124m'\u001b[39m,\u001b[38;5;124m'\u001b[39m\u001b[38;5;124mData\u001b[39m\u001b[38;5;124m'\u001b[39m, \u001b[38;5;124m'\u001b[39m\u001b[38;5;124mScans\u001b[39m\u001b[38;5;124m'\u001b[39m)\u001b[38;5;66;03m# Define a folder, This trick works on windows and linux \u001b[39;00m\n\u001b[0;32m      2\u001b[0m scanfolder \u001b[38;5;241m=\u001b[39m os\u001b[38;5;241m.\u001b[39mpath\u001b[38;5;241m.\u001b[39mjoin(\u001b[38;5;124m'\u001b[39m\u001b[38;5;124mData\u001b[39m\u001b[38;5;124m'\u001b[39m, \u001b[38;5;124m'\u001b[39m\u001b[38;5;124mScans\u001b[39m\u001b[38;5;124m'\u001b[39m)\n\u001b[0;32m      3\u001b[0m ta\u001b[38;5;241m=\u001b[39mpf\u001b[38;5;241m.\u001b[39mSummarize_scans(path_to_scans\u001b[38;5;241m=\u001b[39mscanfolder,        \u001b[38;5;66;03m# define path of the scan files\u001b[39;00m\n\u001b[0;32m      4\u001b[0m                    list_of_scans\u001b[38;5;241m=\u001b[39m\u001b[38;5;28;01mNone\u001b[39;00m,                 \u001b[38;5;66;03m# read all scans from the given folder\u001b[39;00m\n\u001b[0;32m      5\u001b[0m                    list_to_dump\u001b[38;5;241m=\u001b[39m\u001b[38;5;124m'\u001b[39m\u001b[38;5;124msingle\u001b[39m\u001b[38;5;124m'\u001b[39m,              \u001b[38;5;66;03m# select single points to be removed\u001b[39;00m\n\u001b[1;32m   (...)\u001b[0m\n\u001b[0;32m      9\u001b[0m                    filename_part\u001b[38;5;241m=\u001b[39m\u001b[38;5;124m'\u001b[39m\u001b[38;5;124mACN\u001b[39m\u001b[38;5;124m'\u001b[39m,                \u001b[38;5;66;03m# part of the filenames to read\u001b[39;00m\n\u001b[0;32m     10\u001b[0m                    save_name\u001b[38;5;241m=\u001b[39m\u001b[38;5;124m'\u001b[39m\u001b[38;5;124mTA_Ru-dppz_400nm_\u001b[39m\u001b[38;5;124m'\u001b[39m\u001b[38;5;241m+\u001b[39m\u001b[38;5;124m'\u001b[39m\u001b[38;5;124mACN\u001b[39m\u001b[38;5;124m'\u001b[39m\u001b[38;5;241m+\u001b[39m\u001b[38;5;124m'\u001b[39m\u001b[38;5;124m_mean.SIA\u001b[39m\u001b[38;5;124m'\u001b[39m)\n",
      "\u001b[1;31mNameError\u001b[0m: name 'os' is not defined"
     ]
    }
   ],
   "source": [
    "scanfolder = os.path.join('KiMoPack','Tutorial_Notebooks','Data', 'Scans')# Define a folder, This trick works on windows and linux \n",
    "scanfolder = os.path.join('Data', 'Scans')\n",
    "ta=pf.Summarize_scans(path_to_scans=scanfolder,        # define path of the scan files\n",
    "                   list_of_scans=None,                 # read all scans from the given folder\n",
    "                   list_to_dump='single',              # select single points to be removed\n",
    "                   window1=[1,10,500,700],             # integration window \n",
    "                   window2=[1,10,410,470],             # integration window\n",
    "                   fileending='.SIA',                  # file extension, ignore rest\n",
    "                   filename_part='ACN',                # part of the filenames to read\n",
    "                   save_name='TA_Ru-dppz_400nm_'+'ACN'+'_mean.SIA')  # set save name"
   ]
  },
  {
   "cell_type": "code",
   "execution_count": null,
   "metadata": {},
   "outputs": [],
   "source": []
  }
 ],
 "metadata": {
  "ipub": {
   "titlepage": {
    "author": "Jens Uhlig",
    "email": "jens.uhlig@chemphys.lu.se",
    "logo": "http://www.jensuhlig.de//hot_warm_cold.png",
    "subtitle": "Main Worksheet",
    "title": "Transient Absorption Worksheet"
   }
  },
  "kernelspec": {
   "display_name": "Python 3 (ipykernel)",
   "language": "python",
   "name": "python3"
  },
  "language_info": {
   "codemirror_mode": {
    "name": "ipython",
    "version": 3
   },
   "file_extension": ".py",
   "mimetype": "text/x-python",
   "name": "python",
   "nbconvert_exporter": "python",
   "pygments_lexer": "ipython3",
   "version": "3.11.5"
  }
 },
 "nbformat": 4,
 "nbformat_minor": 2
}
