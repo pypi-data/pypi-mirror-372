{
 "cells": [
  {
   "cell_type": "code",
   "execution_count": null,
   "metadata": {},
   "outputs": [],
   "source": [
    "import matplotlib,lmfit\n",
    "import matplotlib.pyplot as plt\n",
    "import numpy as np\n",
    "import pandas as pd\n",
    "%matplotlib tk\n",
    "#for more comfort use\n",
    "#%matplotlib qt\n",
    "import KiMoPack.plot_func as pf"
   ]
  },
  {
   "cell_type": "markdown",
   "metadata": {},
   "source": [
    "# Manual selection of which scans to drop \n",
    "## this is usually useful fo selecting damaging sample"
   ]
  },
  {
   "cell_type": "markdown",
   "metadata": {},
   "source": [
    "The following command reads (from the beginning to the end):<br>\n",
    "\"ta=\" assign to \"ta\"<br>\n",
    "\"pf.Summarize_scans\" the output of the function Summarize_scans<br>\n",
    "\"list_of_scans='gui'\" use a gui to select the files to open<br>\n",
    "\",list_to_dump='single'\" click on single scans of this list to be removed<br>\n",
    "\",window1=[3,10,950,1000]\" plot the integrated value for each scan from 3-10ps and from 950-1000nm<br>\n",
    "\"window2=[3,10,480,520]\" plot the integrated value for each scan from 3-10ps and from 480-520nm"
   ]
  },
  {
   "cell_type": "code",
   "execution_count": null,
   "metadata": {},
   "outputs": [],
   "source": [
    "ta=pf.Summarize_scans(list_of_scans='gui',list_to_dump='single',window1=[3,10,950,1000],window2=[3,10,480,520])"
   ]
  },
  {
   "cell_type": "code",
   "execution_count": null,
   "metadata": {},
   "outputs": [],
   "source": [
    "# Automatic selection of what to filter\n",
    "## with options to filter single times in the scans"
   ]
  },
  {
   "cell_type": "code",
   "execution_count": null,
   "metadata": {},
   "outputs": [],
   "source": [
    "ta=pf.Summarize_scans('gui',\n",
    "                      value_filter = 20,\n",
    "                      zscore_filter_level =3,\n",
    "                      zscore_in_window=False,\n",
    "                      window1=[1,3,700,800],\n",
    "                      drop_scans=True,\n",
    "                      dump_times=True)"
   ]
  },
  {
   "cell_type": "markdown",
   "metadata": {},
   "source": [
    "## this one is using a base object (prior analysis) to provide scattercut and bordercut as well as chirp correction"
   ]
  },
  {
   "cell_type": "code",
   "execution_count": null,
   "metadata": {},
   "outputs": [],
   "source": [
    "ta=pf.TA('gui')\n",
    "ta.bordercut=[470,1150]\n",
    "ta.intensity_range=1e-3\n",
    "ta.wave_nm_bin=2"
   ]
  },
  {
   "cell_type": "code",
   "execution_count": null,
   "metadata": {},
   "outputs": [],
   "source": [
    "ta_single=pf.Summarize_scans('gui',\n",
    "                      value_filter = 20,\n",
    "                      zscore_filter_level =2.3\n",
    "                      zscore_in_window=False,\n",
    "                      window1=[1,3,700,800],\n",
    "                      drop_scans=False,\n",
    "                      dump_times=True,\n",
    "                      base_TA_object=ta)"
   ]
  },
  {
   "cell_type": "code",
   "execution_count": null,
   "metadata": {},
   "outputs": [],
   "source": []
  }
 ],
 "metadata": {
  "ipub": {
   "titlepage": {
    "author": "Jens Uhlig",
    "email": "jens.uhlig@chemphys.lu.se",
    "logo": "http://www.jensuhlig.de//hot_warm_cold.png",
    "subtitle": "Main Worksheet",
    "title": "Transient Absorption Worksheet"
   }
  },
  "kernelspec": {
   "display_name": "Python 3 (ipykernel)",
   "language": "python",
   "name": "python3"
  },
  "language_info": {
   "codemirror_mode": {
    "name": "ipython",
    "version": 3
   },
   "file_extension": ".py",
   "mimetype": "text/x-python",
   "name": "python",
   "nbconvert_exporter": "python",
   "pygments_lexer": "ipython3",
   "version": "3.9.16"
  }
 },
 "nbformat": 4,
 "nbformat_minor": 2
}
