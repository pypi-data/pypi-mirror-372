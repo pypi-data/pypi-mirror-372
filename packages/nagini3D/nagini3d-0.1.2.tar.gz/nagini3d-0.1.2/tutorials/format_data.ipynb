{
 "cells": [
  {
   "cell_type": "markdown",
   "metadata": {
    "id": "y8KRSmRhckQL"
   },
   "source": [
    "# Pre-processing your data for training\n",
    "\n",
    "This Jupyter Notebook will teach you how to pre-process your data in order to train your own models."
   ]
  },
  {
   "cell_type": "markdown",
   "metadata": {
    "id": "1crk0-b7c3IQ"
   },
   "source": [
    "## Downloading the package\n",
    "\n",
    "Make sure that the notebook is running with Python>=3.10 and with a version of PyTorch >=1.13 installed (preferably with CUDA available).\n",
    "\n",
    "To verify if PyTorch and Cuda are installed, run the following cell."
   ]
  },
  {
   "cell_type": "code",
   "execution_count": 7,
   "metadata": {
    "colab": {
     "base_uri": "https://localhost:8080/"
    },
    "executionInfo": {
     "elapsed": 4,
     "status": "ok",
     "timestamp": 1741192993378,
     "user": {
      "displayName": "Quentin RAPILLY",
      "userId": "13440189952482936627"
     },
     "user_tz": -60
    },
    "id": "-rUueKG1d6Lk",
    "outputId": "1add524f-2ad4-42c6-95cb-45e6baae63c9"
   },
   "outputs": [
    {
     "name": "stdout",
     "output_type": "stream",
     "text": [
      "Current version of Pytorch: 2.5.1+cu124\n",
      "Cuda working properly: True\n"
     ]
    }
   ],
   "source": [
    "import torch\n",
    "print(f\"Current version of Pytorch: {torch.__version__}\")\n",
    "print(f\"Cuda working properly: {torch.cuda.is_available()}\")\n",
    "device = \"cuda\" if torch.cuda.is_available() else \"cpu\""
   ]
  },
  {
   "cell_type": "markdown",
   "metadata": {
    "id": "iuUh9XPzeoDC"
   },
   "source": [
    "If you have the good version of Torch and Cuda is working, you can run the following cell to install our package. Otherwise, fix your Python environment before proceeding."
   ]
  },
  {
   "cell_type": "code",
   "execution_count": 2,
   "metadata": {
    "colab": {
     "base_uri": "https://localhost:8080/",
     "height": 1000
    },
    "executionInfo": {
     "elapsed": 17207,
     "status": "ok",
     "timestamp": 1741192941563,
     "user": {
      "displayName": "Quentin RAPILLY",
      "userId": "13440189952482936627"
     },
     "user_tz": -60
    },
    "id": "qh3iaG2nahrp",
    "outputId": "9f6bb8b4-a97e-4426-aa1d-1e2b68ab715b"
   },
   "outputs": [
    {
     "name": "stdout",
     "output_type": "stream",
     "text": [
      "Collecting nagini3D\n",
      "  Downloading nagini3d-0.0.1-py3-none-any.whl.metadata (7.8 kB)\n",
      "Collecting csbdeep==0.7.4 (from nagini3D)\n",
      "  Downloading csbdeep-0.7.4-py2.py3-none-any.whl.metadata (2.5 kB)\n",
      "Collecting einops==0.7.0 (from nagini3D)\n",
      "  Downloading einops-0.7.0-py3-none-any.whl.metadata (13 kB)\n",
      "Collecting omegaconf==2.3.0 (from nagini3D)\n",
      "  Downloading omegaconf-2.3.0-py3-none-any.whl.metadata (3.9 kB)\n",
      "Collecting scikit-image==0.21.0 (from nagini3D)\n",
      "  Downloading scikit_image-0.21.0-cp311-cp311-manylinux_2_17_x86_64.manylinux2014_x86_64.whl.metadata (14 kB)\n",
      "Collecting scipy==1.11.3 (from nagini3D)\n",
      "  Downloading scipy-1.11.3-cp311-cp311-manylinux_2_17_x86_64.manylinux2014_x86_64.whl.metadata (60 kB)\n",
      "\u001b[2K     \u001b[90m━━━━━━━━━━━━━━━━━━━━━━━━━━━━━━━━━━━━━━━━\u001b[0m \u001b[32m60.4/60.4 kB\u001b[0m \u001b[31m1.3 MB/s\u001b[0m eta \u001b[36m0:00:00\u001b[0m\n",
      "\u001b[?25hRequirement already satisfied: numpy in /usr/local/lib/python3.11/dist-packages (from csbdeep==0.7.4->nagini3D) (1.26.4)\n",
      "Requirement already satisfied: matplotlib in /usr/local/lib/python3.11/dist-packages (from csbdeep==0.7.4->nagini3D) (3.10.0)\n",
      "Requirement already satisfied: six in /usr/local/lib/python3.11/dist-packages (from csbdeep==0.7.4->nagini3D) (1.17.0)\n",
      "Requirement already satisfied: tifffile in /usr/local/lib/python3.11/dist-packages (from csbdeep==0.7.4->nagini3D) (2025.2.18)\n",
      "Requirement already satisfied: tqdm in /usr/local/lib/python3.11/dist-packages (from csbdeep==0.7.4->nagini3D) (4.67.1)\n",
      "Requirement already satisfied: packaging in /usr/local/lib/python3.11/dist-packages (from csbdeep==0.7.4->nagini3D) (24.2)\n",
      "Collecting antlr4-python3-runtime==4.9.* (from omegaconf==2.3.0->nagini3D)\n",
      "  Downloading antlr4-python3-runtime-4.9.3.tar.gz (117 kB)\n",
      "\u001b[2K     \u001b[90m━━━━━━━━━━━━━━━━━━━━━━━━━━━━━━━━━━━━━━━━\u001b[0m \u001b[32m117.0/117.0 kB\u001b[0m \u001b[31m7.6 MB/s\u001b[0m eta \u001b[36m0:00:00\u001b[0m\n",
      "\u001b[?25h  Preparing metadata (setup.py) ... \u001b[?25l\u001b[?25hdone\n",
      "Requirement already satisfied: PyYAML>=5.1.0 in /usr/local/lib/python3.11/dist-packages (from omegaconf==2.3.0->nagini3D) (6.0.2)\n",
      "Requirement already satisfied: networkx>=2.8 in /usr/local/lib/python3.11/dist-packages (from scikit-image==0.21.0->nagini3D) (3.4.2)\n",
      "Requirement already satisfied: pillow>=9.0.1 in /usr/local/lib/python3.11/dist-packages (from scikit-image==0.21.0->nagini3D) (11.1.0)\n",
      "Requirement already satisfied: imageio>=2.27 in /usr/local/lib/python3.11/dist-packages (from scikit-image==0.21.0->nagini3D) (2.37.0)\n",
      "Collecting PyWavelets>=1.1.1 (from scikit-image==0.21.0->nagini3D)\n",
      "  Downloading pywavelets-1.8.0-cp311-cp311-manylinux_2_17_x86_64.manylinux2014_x86_64.whl.metadata (9.0 kB)\n",
      "Requirement already satisfied: lazy_loader>=0.2 in /usr/local/lib/python3.11/dist-packages (from scikit-image==0.21.0->nagini3D) (0.4)\n",
      "Requirement already satisfied: contourpy>=1.0.1 in /usr/local/lib/python3.11/dist-packages (from matplotlib->csbdeep==0.7.4->nagini3D) (1.3.1)\n",
      "Requirement already satisfied: cycler>=0.10 in /usr/local/lib/python3.11/dist-packages (from matplotlib->csbdeep==0.7.4->nagini3D) (0.12.1)\n",
      "Requirement already satisfied: fonttools>=4.22.0 in /usr/local/lib/python3.11/dist-packages (from matplotlib->csbdeep==0.7.4->nagini3D) (4.56.0)\n",
      "Requirement already satisfied: kiwisolver>=1.3.1 in /usr/local/lib/python3.11/dist-packages (from matplotlib->csbdeep==0.7.4->nagini3D) (1.4.8)\n",
      "Requirement already satisfied: pyparsing>=2.3.1 in /usr/local/lib/python3.11/dist-packages (from matplotlib->csbdeep==0.7.4->nagini3D) (3.2.1)\n",
      "Requirement already satisfied: python-dateutil>=2.7 in /usr/local/lib/python3.11/dist-packages (from matplotlib->csbdeep==0.7.4->nagini3D) (2.8.2)\n",
      "Downloading nagini3d-0.0.1-py3-none-any.whl (41 kB)\n",
      "\u001b[2K   \u001b[90m━━━━━━━━━━━━━━━━━━━━━━━━━━━━━━━━━━━━━━━━\u001b[0m \u001b[32m42.0/42.0 kB\u001b[0m \u001b[31m4.0 MB/s\u001b[0m eta \u001b[36m0:00:00\u001b[0m\n",
      "\u001b[?25hDownloading csbdeep-0.7.4-py2.py3-none-any.whl (69 kB)\n",
      "\u001b[2K   \u001b[90m━━━━━━━━━━━━━━━━━━━━━━━━━━━━━━━━━━━━━━━━\u001b[0m \u001b[32m69.8/69.8 kB\u001b[0m \u001b[31m7.1 MB/s\u001b[0m eta \u001b[36m0:00:00\u001b[0m\n",
      "\u001b[?25hDownloading einops-0.7.0-py3-none-any.whl (44 kB)\n",
      "\u001b[2K   \u001b[90m━━━━━━━━━━━━━━━━━━━━━━━━━━━━━━━━━━━━━━━━\u001b[0m \u001b[32m44.6/44.6 kB\u001b[0m \u001b[31m4.0 MB/s\u001b[0m eta \u001b[36m0:00:00\u001b[0m\n",
      "\u001b[?25hDownloading omegaconf-2.3.0-py3-none-any.whl (79 kB)\n",
      "\u001b[2K   \u001b[90m━━━━━━━━━━━━━━━━━━━━━━━━━━━━━━━━━━━━━━━━\u001b[0m \u001b[32m79.5/79.5 kB\u001b[0m \u001b[31m8.0 MB/s\u001b[0m eta \u001b[36m0:00:00\u001b[0m\n",
      "\u001b[?25hDownloading scikit_image-0.21.0-cp311-cp311-manylinux_2_17_x86_64.manylinux2014_x86_64.whl (13.7 MB)\n",
      "\u001b[2K   \u001b[90m━━━━━━━━━━━━━━━━━━━━━━━━━━━━━━━━━━━━━━━━\u001b[0m \u001b[32m13.7/13.7 MB\u001b[0m \u001b[31m106.7 MB/s\u001b[0m eta \u001b[36m0:00:00\u001b[0m\n",
      "\u001b[?25hDownloading scipy-1.11.3-cp311-cp311-manylinux_2_17_x86_64.manylinux2014_x86_64.whl (36.4 MB)\n",
      "\u001b[2K   \u001b[90m━━━━━━━━━━━━━━━━━━━━━━━━━━━━━━━━━━━━━━━━\u001b[0m \u001b[32m36.4/36.4 MB\u001b[0m \u001b[31m27.0 MB/s\u001b[0m eta \u001b[36m0:00:00\u001b[0m\n",
      "\u001b[?25hDownloading pywavelets-1.8.0-cp311-cp311-manylinux_2_17_x86_64.manylinux2014_x86_64.whl (4.5 MB)\n",
      "\u001b[2K   \u001b[90m━━━━━━━━━━━━━━━━━━━━━━━━━━━━━━━━━━━━━━━━\u001b[0m \u001b[32m4.5/4.5 MB\u001b[0m \u001b[31m104.7 MB/s\u001b[0m eta \u001b[36m0:00:00\u001b[0m\n",
      "\u001b[?25hBuilding wheels for collected packages: antlr4-python3-runtime\n",
      "  Building wheel for antlr4-python3-runtime (setup.py) ... \u001b[?25l\u001b[?25hdone\n",
      "  Created wheel for antlr4-python3-runtime: filename=antlr4_python3_runtime-4.9.3-py3-none-any.whl size=144555 sha256=544b819729188dc5715d890afbc7a5e682f77fde711d7eb5f34aa9b89aad65e5\n",
      "  Stored in directory: /root/.cache/pip/wheels/1a/97/32/461f837398029ad76911109f07047fde1d7b661a147c7c56d1\n",
      "Successfully built antlr4-python3-runtime\n",
      "Installing collected packages: antlr4-python3-runtime, scipy, PyWavelets, omegaconf, einops, scikit-image, csbdeep, nagini3D\n",
      "  Attempting uninstall: scipy\n",
      "    Found existing installation: scipy 1.13.1\n",
      "    Uninstalling scipy-1.13.1:\n",
      "      Successfully uninstalled scipy-1.13.1\n",
      "  Attempting uninstall: einops\n",
      "    Found existing installation: einops 0.8.1\n",
      "    Uninstalling einops-0.8.1:\n",
      "      Successfully uninstalled einops-0.8.1\n",
      "  Attempting uninstall: scikit-image\n",
      "    Found existing installation: scikit-image 0.25.2\n",
      "    Uninstalling scikit-image-0.25.2:\n",
      "      Successfully uninstalled scikit-image-0.25.2\n",
      "Successfully installed PyWavelets-1.8.0 antlr4-python3-runtime-4.9.3 csbdeep-0.7.4 einops-0.7.0 nagini3D-0.0.1 omegaconf-2.3.0 scikit-image-0.21.0 scipy-1.11.3\n"
     ]
    },
    {
     "data": {
      "application/vnd.colab-display-data+json": {
       "id": "77f0124525d040c8893fbfb046cd0144",
       "pip_warning": {
        "packages": [
         "pydevd_plugins"
        ]
       }
      }
     },
     "metadata": {},
     "output_type": "display_data"
    }
   ],
   "source": [
    "!pip install nagini3D"
   ]
  },
  {
   "cell_type": "markdown",
   "metadata": {
    "id": "4K41ms0VDKoS"
   },
   "source": [
    "## Loading the tools"
   ]
  },
  {
   "cell_type": "code",
   "execution_count": 1,
   "metadata": {
    "executionInfo": {
     "elapsed": 4497,
     "status": "ok",
     "timestamp": 1741192958067,
     "user": {
      "displayName": "Quentin RAPILLY",
      "userId": "13440189952482936627"
     },
     "user_tz": -60
    },
    "id": "EibYMxUcDMxJ"
   },
   "outputs": [],
   "source": [
    "from nagini3D.data.format_dataset.data_reading_tools import (compute_barycenter, compute_radius, mask_to_contour,\n",
    "                                bound_box, farthest_point_sampling, distance_to_center)"
   ]
  },
  {
   "cell_type": "code",
   "execution_count": 5,
   "metadata": {
    "executionInfo": {
     "elapsed": 2,
     "status": "ok",
     "timestamp": 1741192981555,
     "user": {
      "displayName": "Quentin RAPILLY",
      "userId": "13440189952482936627"
     },
     "user_tz": -60
    },
    "id": "gml8-rsCDR7w"
   },
   "outputs": [],
   "source": [
    "from glob import glob\n",
    "from os.path import join, splitext, basename\n",
    "import tifffile\n",
    "import numpy as np"
   ]
  },
  {
   "cell_type": "markdown",
   "metadata": {
    "id": "L0vjdHo3OBTU"
   },
   "source": [
    "## Setting the parameters"
   ]
  },
  {
   "cell_type": "code",
   "execution_count": null,
   "metadata": {
    "executionInfo": {
     "elapsed": 878,
     "status": "ok",
     "timestamp": 1741192962035,
     "user": {
      "displayName": "Quentin RAPILLY",
      "userId": "13440189952482936627"
     },
     "user_tz": -60
    },
    "id": "PC9Zv-9KDa9Y"
   },
   "outputs": [],
   "source": [
    "input_dir = \"\"        # Path to the directory where the masks are stored\n",
    "output_dir = \"\"       # Path where you want to store the corresponding spot maps and samplings\n",
    "nb_sampling = 61      # Number of points to sample on the surface of each mask\n",
    "verbose = True        # Set to True to print updates on the sampling process\n",
    "anisotropy = [1,1,1]  # Anisotropy ratio, if your image is anisotropic, set each value to the ratio of longuest_dim/current_dim\n",
    "\n",
    "\n",
    "mask_files = glob(join(input_dir,\"*.tif\"))\n",
    "\n",
    "# if sampling type is \"erosion\" then the surface of the object is considered made of the voxels of the masks that are close to the background\n",
    "# if sampling type is \"dilation\" then the surface of the object is considered made of the voxels of the background that are close to the mask\n",
    "#SAMPLING_TYPE = \"erosion\"\n",
    "SAMPLING_TYPE = \"dilation\""
   ]
  },
  {
   "cell_type": "markdown",
   "metadata": {
    "id": "q9K7QP7GOHbR"
   },
   "source": [
    "## Sampling the masks"
   ]
  },
  {
   "cell_type": "code",
   "execution_count": null,
   "metadata": {
    "id": "7VVEM_vSEYKO"
   },
   "outputs": [],
   "source": [
    "for mask_f in mask_files:\n",
    "\n",
    "  filename = basename(mask_f)\n",
    "  name_no_ext = splitext(filename)[0]\n",
    "  if verbose: print(f\"Processing file : {filename}\\n\")\n",
    "\n",
    "  # Loading the current mask\n",
    "  mask = tifffile.imread(mask_f)\n",
    "\n",
    "  # Creating meshgrid used to compute the barycenter\n",
    "  nx,ny,nz = mask.shape\n",
    "  vx,vy,vz = np.arange(nx)[:,None,None], np.arange(ny)[None,:,None], np.arange(nz)[None, None, :]\n",
    "  mesh = (vx, vy, vz)\n",
    "\n",
    "  # Extract all the labels in the mask (try to avoid non-contiguous/missing labels in your data)\n",
    "  mask_idx = np.unique(mask)[1:]\n",
    "\n",
    "  nb_cells = len(mask_idx)\n",
    "\n",
    "  # Initializing the spot map and the samplings list\n",
    "  proba_map = np.zeros_like(mask, dtype=float)\n",
    "  gaussian_mask = np.zeros_like(mask, dtype=int)\n",
    "\n",
    "  center_list = list()\n",
    "  radius_list = list()\n",
    "  sampling_list = list()\n",
    "  idx_list = list()\n",
    "\n",
    "  cells_count = 0\n",
    "\n",
    "  # Processing each label/object\n",
    "  for i,idx in enumerate(mask_idx):\n",
    "    crt_mask = (mask == idx)*1\n",
    "    N = crt_mask.sum()\n",
    "    if verbose: print(f\"\\rCell nb {idx}/{nb_cells}\", end=\"\")\n",
    "\n",
    "    # Computing its barycenter\n",
    "    barycenter = compute_barycenter(crt_mask, mesh)\n",
    "\n",
    "    # Creating a binary mask equal to 1 on the surface of the object\n",
    "    crt_contour = mask_to_contour(crt_mask, mode = SAMPLING_TYPE)\n",
    "\n",
    "    # Computing the radius of the object\n",
    "    radius = compute_radius(crt_contour, mesh, barycenter)\n",
    "\n",
    "    # Extracting the bounding box of the object (useful to avoid processing the whole image during sampling)\n",
    "    bb = bound_box(crt_contour, mesh)\n",
    "\n",
    "    x_min, x_max, y_min, y_max, z_min, z_max = bb\n",
    "\n",
    "    # Cropping mask and contour mask to correspond to the bounding box\n",
    "    small_contour = crt_contour[x_min:x_max+1, y_min:y_max+1, z_min:z_max+1]\n",
    "    small_mask = crt_mask[x_min:x_max+1, y_min:y_max+1, z_min:z_max+1]\n",
    "\n",
    "    # Creating the spot map using the distance of each voxel to the current barycenter\n",
    "    bx, by, bz = barycenter\n",
    "    dist = np.sqrt((anisotropy[0]*(vx-bx))**2+(anisotropy[1]*(vy-by))**2+(anisotropy[2]*(vz-bz)**2))\n",
    "    masked_dist =  dist*crt_mask\n",
    "    M = np.max(masked_dist)\n",
    "    masked_dist = (M - masked_dist)*crt_mask\n",
    "    den = np.max(masked_dist)\n",
    "    if den>0:\n",
    "        masked_dist = masked_dist/den\n",
    "        proba_map += masked_dist\n",
    "\n",
    "    # Sampling the surface of the current object using a Farthest Point Sampling algorithm\n",
    "    sampling = farthest_point_sampling(small_contour, nb_sampling, anisotropy=anisotropy, device = device)\n",
    "    centered_sampling = np.array(sampling) + np.array([x_min, y_min, z_min]) - np.array([barycenter])\n",
    "    sampling_list.append(centered_sampling)\n",
    "\n",
    "    # Storing the sampling\n",
    "    center_list.append(barycenter)\n",
    "    radius_list.append(radius)\n",
    "    idx_list.append(cells_count)\n",
    "\n",
    "    cells_count+=1\n",
    "\n",
    "  # Saving the samplings and the spots map\n",
    "  npz_path = join(output_dir, name_no_ext+\".npz\")\n",
    "  np.savez(npz_path, centers = np.array(center_list), radius = np.array(radius_list), samplings = np.array(sampling_list))\n",
    "\n",
    "  proba_path = join(output_dir, name_no_ext+\".tif\")\n",
    "  tifffile.imwrite(proba_path, proba_map)\n",
    "\n",
    "  print()"
   ]
  }
 ],
 "metadata": {
  "accelerator": "GPU",
  "colab": {
   "authorship_tag": "ABX9TyMPn3N9O+6DDWfaUx81s/GQ",
   "gpuType": "T4",
   "mount_file_id": "1Ia8qk5PgwqGMpADaDJaYPdxqF48O8x51",
   "provenance": []
  },
  "kernelspec": {
   "display_name": "Python 3",
   "name": "python3"
  },
  "language_info": {
   "name": "python"
  }
 },
 "nbformat": 4,
 "nbformat_minor": 0
}
