{
 "cells": [
  {
   "cell_type": "markdown",
   "id": "59b635f6-4d9f-4f95-bff8-4287d943f91a",
   "metadata": {},
   "source": [
    "# Elastic properties"
   ]
  },
  {
   "cell_type": "code",
   "execution_count": 1,
   "id": "4726e73e-94b6-4d84-96dd-39253fdb0bbc",
   "metadata": {},
   "outputs": [],
   "source": [
    "import numpy as np\n",
    "from ase.build import bulk\n",
    "from ase.calculators.emt import EMT\n",
    "from ase.io import read\n",
    "from ase.units import GPa, kg\n",
    "from calorine.calculators import CPUNEP\n",
    "from calorine.tools import get_elastic_stiffness_tensor, get_force_constants, relax_structure\n",
    "from matplotlib import pyplot as plt\n",
    "from pandas import DataFrame"
   ]
  },
  {
   "cell_type": "markdown",
   "id": "43ba3fde-7ecc-436a-b0b6-510bf9bdf333",
   "metadata": {},
   "source": [
    "This tutorial illustrates the calculation of the elastic stiffness tensor $c_{ij}$ and its relation to the sound velocity.\n",
    "In the first part we use silver in its face-centered cubic (FCC) ground state structure described by an effective medium theory (EMT) potential as a particular simple example.\n",
    "In the second part we then consider the orthorhombic structure of CsPbI<sub>3</sub>, which allows us to demonstrate the difference between relaxed $c_{ij}$ and clamped elastic constants $c_{ij}^0$.\n",
    "\n",
    "For background on crystal elasticity and the role of symmetry you can consult, e.g., Nye, *Physical Properties of Crystals: Their Representation by Tensors and Matrices*, Oxford University Press (1957)."
   ]
  },
  {
   "cell_type": "markdown",
   "id": "4406f9a1",
   "metadata": {},
   "source": [
    "All models and structures required for running this and the other tutorial notebooks can be obtained from [Zenodo](https://zenodo.org/record/10658778).\n",
    "The files are also available in the `tutorials/` folder in the [GitLab repository](https://gitlab.com/materials-modeling/calorine/-/tree/master/tutorials)."
   ]
  },
  {
   "cell_type": "markdown",
   "id": "aa3f7c76-8e88-4b4f-86ea-547e67660845",
   "metadata": {},
   "source": [
    "## Face-centered cubic silver\n",
    "\n",
    "### Elastic constants and relation to sound velocities\n",
    "\n",
    "First we set up the primitive structure of FCC Ag and relax the cell."
   ]
  },
  {
   "cell_type": "code",
   "execution_count": 2,
   "id": "95bb7ece-9e8f-4a9a-af69-03533ed14e16",
   "metadata": {},
   "outputs": [],
   "source": [
    "structure = bulk('Ag')\n",
    "calculator = EMT()\n",
    "structure.calc = calculator\n",
    "relax_structure(structure, fmax=0.0001)"
   ]
  },
  {
   "cell_type": "markdown",
   "id": "e8fa677a-303c-452a-84ca-f943ea96b219",
   "metadata": {},
   "source": [
    "The elastic stiffness tensor $c_{ij}$ can then be readily calculated using the `get_elastic_stiffness_tensor` function.\n",
    "The latter applies a series of deformations to the cell and fits the resulting strain energy to a Taylor expansion in strain, in which the components of the elastic stiffness tensor appear as expansion coefficients."
   ]
  },
  {
   "cell_type": "code",
   "execution_count": 3,
   "id": "86b5bb00-2e5b-42ae-9f43-3203e5287c20",
   "metadata": {},
   "outputs": [
    {
     "name": "stdout",
     "output_type": "stream",
     "text": [
      "[[125.9  87.3  87.3   0.   -0.    0. ]\n",
      " [ 87.3 125.9  87.3  -0.    0.    0. ]\n",
      " [ 87.3  87.3 125.9  -0.   -0.    0. ]\n",
      " [ -0.   -0.   -0.   54.2  -0.   -0. ]\n",
      " [ -0.    0.   -0.   -0.   54.2  -0. ]\n",
      " [  0.    0.    0.   -0.   -0.   54.2]]\n"
     ]
    }
   ],
   "source": [
    "cij = get_elastic_stiffness_tensor(structure)\n",
    "with np.printoptions(precision=1, suppress=True):\n",
    "    print(cij)"
   ]
  },
  {
   "cell_type": "markdown",
   "id": "814feee6-0c3f-4faa-830c-8d946387754a",
   "metadata": {},
   "source": [
    "The elastic constants are related to the sound velocity along different crystal directions.\n",
    "In particular $c_{11}$ is related to the longitudinal speed of sound along $\\left<100\\right>$ in the long-wavelength limit (i.e., $\\boldsymbol{q}\\rightarrow 0$) according to\n",
    "\n",
    "$$\n",
    "c_s^{\\left<100\\right>} = \\sqrt{\\frac{c_{11}}{\\rho}},\n",
    "$$\n",
    "\n",
    "where $\\rho$ is the mass density of the material.\n",
    "\n",
    "Let us now test this relationship.\n",
    "For simplicity of presentation, we use the conventional 4-atom unit cell in the following, for which the cell axes are oriented along the Cartesian directions."
   ]
  },
  {
   "cell_type": "code",
   "execution_count": 4,
   "id": "23385494-8037-4615-a2fd-f0b409e386f0",
   "metadata": {},
   "outputs": [],
   "source": [
    "structure = bulk('Ag', cubic=True)\n",
    "calculator = EMT()\n",
    "structure.calc = calculator\n",
    "relax_structure(structure, fmax=0.0001)"
   ]
  },
  {
   "cell_type": "markdown",
   "id": "07274b4b-73ec-4b5c-ace7-21ee662687bd",
   "metadata": {},
   "source": [
    "We compute the force constants using the `get_force_constants` function and then use methods of the [Phonopy object](https://phonopy.github.io/phonopy/phonopy-module.html) returned by the latter to calculate the group velocities at $\\boldsymbol{q}=(\\delta, 0, 0)$ with $\\delta = 0.01$.\n",
    "This $\\boldsymbol{q}$-point lies along $\\left<100\\right>$ and the small $\\delta$-value mimics the long-wavelength limit, i.e., $\\boldsymbol{q} \\rightarrow 0$."
   ]
  },
  {
   "cell_type": "code",
   "execution_count": 5,
   "id": "0102bb7b-e7b2-44be-8d85-a7b55eb349a7",
   "metadata": {},
   "outputs": [],
   "source": [
    "phonon = get_force_constants(structure, calculator, [2, 2, 2])\n",
    "phonon.run_band_structure([[[0.01, 0, 0]]], with_group_velocities=True)\n",
    "band = phonon.get_band_structure_dict()"
   ]
  },
  {
   "cell_type": "markdown",
   "id": "b1f05bf4-07af-4b80-b12a-0f06d0b73cba",
   "metadata": {},
   "source": [
    "Next we select the speed of sound of the LA branch and convert it to SI unitss (m/s)."
   ]
  },
  {
   "cell_type": "code",
   "execution_count": 6,
   "id": "195047a5-b2af-455c-b7b9-3d2a40165162",
   "metadata": {},
   "outputs": [
    {
     "name": "stdout",
     "output_type": "stream",
     "text": [
      "speed of sound, LA, 100 :  3415.1 m/s\n"
     ]
    }
   ],
   "source": [
    "group_velocities = np.linalg.norm(band['group_velocities'][0], axis=2) * 1e-10 / 1e-12  # Å/ps --> m/s\n",
    "speed_of_sound = group_velocities[0][2]\n",
    "print(f'speed of sound, LA, 100 : {speed_of_sound:7.1f} m/s')"
   ]
  },
  {
   "cell_type": "markdown",
   "id": "29290fb1-c931-4dd5-9a39-5beb641860c7",
   "metadata": {},
   "source": [
    "Combining the speed of sound with the mass density, then yields the elastic constant $c_{11}$."
   ]
  },
  {
   "cell_type": "code",
   "execution_count": 7,
   "id": "5205ea40-60bf-4681-8da1-96e7227fce06",
   "metadata": {},
   "outputs": [
    {
     "name": "stdout",
     "output_type": "stream",
     "text": [
      "density                 : 10677.9 kg/m^3\n",
      "elastic constant c11    :   124.5 GPa\n"
     ]
    }
   ],
   "source": [
    "density = np.sum(structure.get_masses()) / structure.get_volume() / kg / 1e-30  # amu/Å^3 --> kg/m^3\n",
    "print(f'density                 : {density:7.1f} kg/m^3')\n",
    "\n",
    "elastic_constant = speed_of_sound ** 2 * density * 1e-9  # Pa --> GPa\n",
    "print(f'elastic constant c11    : {elastic_constant:7.1f} GPa')"
   ]
  },
  {
   "cell_type": "markdown",
   "id": "06dc0dcf-deb3-4123-b6c7-3986ee6d5de4",
   "metadata": {},
   "source": [
    "The result of 124.5 GPa is in good agreement with the value of 125.9 GPa obtained above by direct evaluation of the elastic stiffness tensor."
   ]
  },
  {
   "cell_type": "markdown",
   "id": "3b5d212e-2bb8-4026-8166-cadb2ade8f03",
   "metadata": {},
   "source": [
    "### Presssure dependence\n",
    "\n",
    "We can now also readily evaluate the variation of the elastic constants with pressure."
   ]
  },
  {
   "cell_type": "code",
   "execution_count": 8,
   "id": "c0d887a1-53b0-4887-8196-ed2094e797a4",
   "metadata": {},
   "outputs": [],
   "source": [
    "data = []\n",
    "for volsc in np.arange(0.88, 1.05, 0.04):\n",
    "    structure_strained = structure.copy()\n",
    "    cell = structure_strained.get_cell()\n",
    "    cell *= volsc ** (1 / 3)\n",
    "    structure_strained.set_cell(cell, scale_atoms=True)\n",
    "    structure_strained.calc = calculator\n",
    "    relax_structure(structure_strained, constant_volume=True)\n",
    "    \n",
    "    cij_rlx = get_elastic_stiffness_tensor(structure_strained)\n",
    "    pressure = -np.sum(structure_strained.get_stress()[:3]) / 3 / GPa\n",
    "    \n",
    "    data.append(dict(volsc=volsc,\n",
    "                     pressure=pressure,\n",
    "                     volume=structure_strained.get_volume() / len(structure_strained),\n",
    "                     c11=cij_rlx[0][0],\n",
    "                     c12=cij_rlx[0][1],\n",
    "                     c44=cij_rlx[3][3],\n",
    "                    ))\n",
    "df = DataFrame(data)"
   ]
  },
  {
   "cell_type": "markdown",
   "id": "6ae9d8c4-62fa-4ff1-a2e5-68d21c148aee",
   "metadata": {},
   "source": [
    "The results show a stiffening of the elastic constants with pressure, which is expected for this system."
   ]
  },
  {
   "cell_type": "code",
   "execution_count": 9,
   "id": "664bc3fd-c940-4d46-b237-ae3c4f4bb4ff",
   "metadata": {},
   "outputs": [
    {
     "data": {
      "image/png": "[encoded data removed]",
      "text/plain": [
       "<Figure size 504x364 with 1 Axes>"
      ]
     },
     "metadata": {},
     "output_type": "display_data"
    }
   ],
   "source": [
    "fig, ax = plt.subplots(figsize=(3.6, 2.6), dpi=140)\n",
    "\n",
    "for col in df:\n",
    "    if not col.startswith('c'):\n",
    "        continue\n",
    "    ax.plot(df.pressure, df[col], 'o-', label=col)\n",
    "\n",
    "ax.set_xlabel('Pressure (GPa)')\n",
    "ax.set_ylabel('Elastic constant (GPa)')\n",
    "ax.legend(frameon=False)\n",
    "\n",
    "plt.tight_layout()"
   ]
  },
  {
   "cell_type": "markdown",
   "id": "fcb3b571-11ed-4605-a383-bc80c71371e5",
   "metadata": {},
   "source": [
    "## CsPbI<sub>3</sub>\n",
    "\n",
    "In materials with internal degrees of freedom one can distinguish the so-called relaxed $c_{ij}$ and clamped elastic constants $c_{ij}^0$.\n",
    "In the former case, the ionic positions are allowed to relax after application of a macroscopic strain, whereas in the latter the relative coordinates are kept fixed.\n",
    "\n",
    "To illustrate this effect, we here consider the elastic stiffness tensors in orthorhombic structure of CsPbI<sub>3</sub>, which we describe using a neuroevolution potential (NEP) taken from [Fransson *et al.*](https://pubs.acs.org/doi/10.1021/acs.jpcc.3c01542)."
   ]
  },
  {
   "cell_type": "code",
   "execution_count": 10,
   "id": "37012612-3abc-4d5c-99db-489c8d57edd0",
   "metadata": {},
   "outputs": [],
   "source": [
    "structure = read('CsPbI3-orthorhombic-Pnma.xyz')\n",
    "calculator = CPUNEP('nep-CsPbI3-SCAN.txt')\n",
    "structure.calc = calculator\n",
    "relax_structure(structure, fmax=0.0001)"
   ]
  },
  {
   "cell_type": "markdown",
   "id": "e961bfe6-5d46-40e0-874b-099d51d6fa03",
   "metadata": {},
   "source": [
    "Next we can compute the relaxed (`clamped=True`; default) and clamped (`clamped=False`) elastic stiffness tensors.\n",
    "Since this is a rather soft material, we tighten the condition on the convergence of the forces (`fmax=1e-5`)."
   ]
  },
  {
   "cell_type": "code",
   "execution_count": 11,
   "id": "f8dc5654-9c61-4c1c-8c81-7260033d6d1f",
   "metadata": {},
   "outputs": [
    {
     "name": "stdout",
     "output_type": "stream",
     "text": [
      "Relaxed elastic constants\n",
      "[[16.7 14.9 10.1 -0.  -0.   0. ]\n",
      " [14.9 25.3  9.5  0.  -0.   0. ]\n",
      " [10.1  9.5 31.1 -0.   0.  -0. ]\n",
      " [-0.   0.  -0.   6.1  0.  -0. ]\n",
      " [-0.  -0.   0.   0.   4.6 -0. ]\n",
      " [ 0.   0.  -0.  -0.  -0.  11.4]]\n",
      "\n",
      "Clamped elastic constants\n",
      "[[31.1 17.7  5.9  0.  -0.  -0. ]\n",
      " [17.7 34.9  5.2  0.  -0.   0. ]\n",
      " [ 5.9  5.2 46.8 -0.   0.  -0. ]\n",
      " [ 0.   0.  -0.   7.  -0.  -0. ]\n",
      " [-0.  -0.   0.  -0.   6.5  0. ]\n",
      " [-0.   0.  -0.  -0.   0.  18.4]]\n"
     ]
    }
   ],
   "source": [
    "cij_rlx = get_elastic_stiffness_tensor(structure, fmax=1e-5)\n",
    "cij_clamped = get_elastic_stiffness_tensor(structure, clamped=True)\n",
    "\n",
    "with np.printoptions(precision=1, suppress=True):\n",
    "    print('Relaxed elastic constants')\n",
    "    print(cij_rlx)\n",
    "    print('')\n",
    "    print('Clamped elastic constants')\n",
    "    print(cij_clamped)"
   ]
  },
  {
   "cell_type": "markdown",
   "id": "5e684b03-baf3-4589-9799-7636ed7ad7de",
   "metadata": {},
   "source": [
    "Evidently in this material there is a pronounced difference between the relaxed and clamped elastic constants, which is related to the rather soft interactions."
   ]
  }
 ],
 "metadata": {
  "kernelspec": {
   "display_name": "Python 3 (ipykernel)",
   "language": "python",
   "name": "python3"
  },
  "language_info": {
   "codemirror_mode": {
    "name": "ipython",
    "version": 3
   },
   "file_extension": ".py",
   "mimetype": "text/x-python",
   "name": "python",
   "nbconvert_exporter": "python",
   "pygments_lexer": "ipython3",
   "version": "3.10.12"
  }
 },
 "nbformat": 4,
 "nbformat_minor": 5
}
