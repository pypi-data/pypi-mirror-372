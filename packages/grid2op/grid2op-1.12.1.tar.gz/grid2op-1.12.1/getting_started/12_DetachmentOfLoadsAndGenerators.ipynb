{
 "cells": [
  {
   "cell_type": "markdown",
   "metadata": {},
   "source": [
    "### Detachment of Loads and Generators\n",
    "In emergency conditions, it may be possible / necessary for a grid operator to detach certain loads, generators, or other components in order to prevent a larger blackout. This notebook explores how this can be achieved in Grid2OP. \n",
    "\n",
    "By default detachment is disabled in all environments, to provide the keyword argument allow_detachment when initializing the environment. The backend must be able to support this feature."
   ]
  },
  {
   "cell_type": "code",
   "execution_count": null,
   "metadata": {},
   "outputs": [],
   "source": [
    "import matplotlib.pyplot as plt\n",
    "import grid2op\n",
    "from grid2op.Parameters import Parameters\n",
    "from grid2op.PlotGrid import PlotMatplot\n",
    "from pathlib import Path\n",
    "\n",
    "# Setup Environment\n",
    "env_standard = grid2op.make(\"rte_case5_example\", test=True, allow_detachment=False)\n",
    "env_with_detach = grid2op.make(\"rte_case5_example\", test=True, allow_detachment=True)\n",
    "\n",
    "# Setup Plotter Utility\n",
    "plotter = PlotMatplot(env_standard.observation_space, load_name=True, gen_name=True, dpi=150)\n",
    "for env, env_name in zip([env_standard, env_with_detach], [\"env_standard\", \"env_with_detach\"]):\n",
    "    print(f\"For {env_name}: Loads: {env.n_load}, Generators: {env.n_gen}, Storage: {env.n_storage}, Detachment is allowed: {env.detachment_is_allowed}\")"
   ]
  },
  {
   "cell_type": "markdown",
   "metadata": {},
   "source": [
    "Detach the loads at substation 3 and 4. Normally this would cause a game-over, but if allow_detachment is True, the powerflow will be run. Game over in these cases can only occur if the powerflow does not converge."
   ]
  },
  {
   "cell_type": "code",
   "execution_count": null,
   "metadata": {},
   "outputs": [],
   "source": [
    "act = env_standard.action_space({\"set_bus\":{\"loads_id\": [(\"load_3_1\", -1)]}})\n",
    "print(act)\n",
    "init_obs = env_standard.reset(seed=0, options={\"time serie id\": \"00\"})\n",
    "obs, reward, done, info = env_standard.step(act)\n",
    "plotter.plot_obs(obs, figure=plt.figure(figsize=(8,5)))\n",
    "plt.title(\"Without providing 'allow_detachment=True' grid2op fails if a load is disconnected\")\n",
    "plt.show()"
   ]
  },
  {
   "cell_type": "code",
   "execution_count": null,
   "metadata": {},
   "outputs": [],
   "source": [
    "init_obs = env_with_detach.reset(seed=0, options={\"time serie id\": \"00\"})\n",
    "obs, reward, done, info = env_with_detach.step(act)\n",
    "plotter.plot_obs(obs, figure=plt.figure(figsize=(8,5)))\n",
    "plt.title(\"Providing 'allow_detachment=True' grid2op continues if a load is disconnected\")\n",
    "plt.tight_layout()\n",
    "plt.show()"
   ]
  }
 ],
 "metadata": {
  "kernelspec": {
   "display_name": "Python 3 (ipykernel)",
   "language": "python",
   "name": "python3"
  },
  "language_info": {
   "codemirror_mode": {
    "name": "ipython",
    "version": 3
   },
   "file_extension": ".py",
   "mimetype": "text/x-python",
   "name": "python",
   "nbconvert_exporter": "python",
   "pygments_lexer": "ipython3",
   "version": "3.10.12"
  }
 },
 "nbformat": 4,
 "nbformat_minor": 4
}
