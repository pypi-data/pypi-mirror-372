{
 "cells": [
  {
   "cell_type": "markdown",
   "metadata": {},
   "source": [
    "<div style=\"text-align: center;\">\n",
    "        <img src=\"./static/tokenizer_header.png\" width=\"400px\" style=\"height: auto;\"></img>\n",
    "</div>\n",
    "\n",
    "---"
   ]
  },
  {
   "cell_type": "markdown",
   "metadata": {},
   "source": [
    "This notebook demonstrates how to use the `WordPieceTokenizer` class for training and tokenization."
   ]
  },
  {
   "cell_type": "markdown",
   "metadata": {},
   "source": [
    "#### 📦 Importing dependencies"
   ]
  },
  {
   "cell_type": "markdown",
   "metadata": {},
   "source": [
    "Let's begin by importing the necessary dependencies."
   ]
  },
  {
   "cell_type": "code",
   "execution_count": 1,
   "metadata": {},
   "outputs": [],
   "source": [
    "from babybert.data import load_corpus\n",
    "from babybert.tokenizer import TokenizerConfig, WordPieceTokenizer"
   ]
  },
  {
   "cell_type": "markdown",
   "metadata": {},
   "source": [
    "#### 📖 Loading corpus"
   ]
  },
  {
   "cell_type": "markdown",
   "metadata": {},
   "source": [
    "Next, let's load our corpus, which is simply a `.txt` file containing newline-separated sentences. We'll use this corpus to train our tokenizer."
   ]
  },
  {
   "cell_type": "code",
   "execution_count": 2,
   "metadata": {},
   "outputs": [],
   "source": [
    "corpus = load_corpus(\"./data/corpus.txt\")"
   ]
  },
  {
   "cell_type": "markdown",
   "metadata": {},
   "source": [
    "#### ⚙️ Instantiating tokenizer"
   ]
  },
  {
   "cell_type": "markdown",
   "metadata": {},
   "source": [
    "Here, we instantiate our tokenizer object. Since our corpus is relatively small, let's confine ourselves to a small vocabulary size - 5000 tokens should suffice."
   ]
  },
  {
   "cell_type": "code",
   "execution_count": 3,
   "metadata": {},
   "outputs": [],
   "source": [
    "config = TokenizerConfig(target_vocab_size=5000)\n",
    "\n",
    "tokenizer = WordPieceTokenizer(config)"
   ]
  },
  {
   "cell_type": "markdown",
   "metadata": {},
   "source": [
    "#### 🏋️ Training tokenizer"
   ]
  },
  {
   "cell_type": "markdown",
   "metadata": {},
   "source": [
    "Now that we have everything ready, we can train our model! We simply call the `train` method on our tokenizer, passing in our corpus as an argument."
   ]
  },
  {
   "cell_type": "code",
   "execution_count": 4,
   "metadata": {},
   "outputs": [],
   "source": [
    "tokenizer.train(corpus)"
   ]
  },
  {
   "cell_type": "markdown",
   "metadata": {},
   "source": [
    "Now that training's complete, let's inspect our tokenizer!"
   ]
  },
  {
   "cell_type": "code",
   "execution_count": 5,
   "metadata": {},
   "outputs": [
    {
     "name": "stdout",
     "output_type": "stream",
     "text": [
      "Tokenizer vocab size: 5000\n"
     ]
    }
   ],
   "source": [
    "print(f\"Tokenizer vocab size: {tokenizer.vocab_size}\")"
   ]
  },
  {
   "cell_type": "markdown",
   "metadata": {},
   "source": [
    "It looks like the tokenizer was able to learn the 5000 vocabulary tokens that we specified earlier."
   ]
  },
  {
   "cell_type": "markdown",
   "metadata": {},
   "source": [
    "We can also check out the tokens that the tokenizer learned during training."
   ]
  },
  {
   "cell_type": "code",
   "execution_count": 6,
   "metadata": {},
   "outputs": [
    {
     "name": "stdout",
     "output_type": "stream",
     "text": [
      "First ten tokens in vocab: ['##)', '##f', '##m', 'r', '##s', 'j', 'b', 'p', '4', '##e']\n"
     ]
    }
   ],
   "source": [
    "print(f\"First ten tokens in vocab: {tokenizer.vocab[:10]}\")"
   ]
  },
  {
   "cell_type": "markdown",
   "metadata": {},
   "source": [
    "#### 🚀 Using trained tokenizer"
   ]
  },
  {
   "cell_type": "markdown",
   "metadata": {},
   "source": [
    "Let's put our tokenizer to work! Here, we use it to tokenize a few example sentences."
   ]
  },
  {
   "cell_type": "code",
   "execution_count": 7,
   "metadata": {},
   "outputs": [
    {
     "name": "stdout",
     "output_type": "stream",
     "text": [
      "Original sentence: Hello, world!\n",
      "Tokenized sentence: ['h', '##e', '##ll', '##o', ',', 'world', '!']\n",
      "Original sentence: Here is a sentence.\n",
      "Tokenized sentence: ['h', '##e', '##r', '##e', 'is', 'a', 'sentence', '.']\n",
      "Original sentence: How are you today?\n",
      "Tokenized sentence: ['how', 'ar', '##e', 'you', 'to', '##d', '##ay', '[UNK]']\n"
     ]
    }
   ],
   "source": [
    "examples = [\"Hello, world!\", \"Here is a sentence.\", \"How are you today?\"]\n",
    "\n",
    "for example in examples:\n",
    "    tokenized_example = tokenizer.tokenize(example)\n",
    "    print(f\"Original sentence: {example}\")\n",
    "    print(f\"Tokenized sentence: {tokenized_example}\")"
   ]
  },
  {
   "cell_type": "markdown",
   "metadata": {},
   "source": [
    "Looks like it does a pretty good job, given the small vocabulary size! The one exception is the `'[UNK]'` token in the last example sentence; this occurs because no instances of the `'?'` token appeared in our training corpus, so our tokenizer doesn't know how to handle it. In a production scenario, we would use a much larger corpus containing more varied punctuation."
   ]
  },
  {
   "cell_type": "markdown",
   "metadata": {},
   "source": [
    "We can also use our tokenizer to encode text, converting it to a list of token IDs. This will be handy later one when we're training our model, as these token IDs comprise the input features."
   ]
  },
  {
   "cell_type": "code",
   "execution_count": 8,
   "metadata": {},
   "outputs": [
    {
     "name": "stdout",
     "output_type": "stream",
     "text": [
      "Token IDs: [39, 9, 3671, 75, 62, 4498, 13]\n"
     ]
    }
   ],
   "source": [
    "token_ids = tokenizer.encode(examples[0])\n",
    "print(f\"Token IDs: {token_ids}\")"
   ]
  },
  {
   "cell_type": "markdown",
   "metadata": {},
   "source": [
    "Let's decode these token IDs to make sure they correspond to the proper tokens."
   ]
  },
  {
   "cell_type": "code",
   "execution_count": 9,
   "metadata": {},
   "outputs": [
    {
     "name": "stdout",
     "output_type": "stream",
     "text": [
      "Decoded tokens: ['h', '##e', '##ll', '##o', ',', 'world', '!']\n"
     ]
    }
   ],
   "source": [
    "tokens = tokenizer.decode(token_ids)\n",
    "print(f\"Decoded tokens: {tokens}\")"
   ]
  },
  {
   "cell_type": "markdown",
   "metadata": {},
   "source": [
    "#### 💾 Saving trained tokenizer"
   ]
  },
  {
   "cell_type": "markdown",
   "metadata": {},
   "source": [
    "Now, let's save our model so that we can reuse it later! The `save_pretrained` instance method makes this easy; all we need to do is specify a path to which the tokenizer data should be saved."
   ]
  },
  {
   "cell_type": "code",
   "execution_count": 10,
   "metadata": {},
   "outputs": [],
   "source": [
    "path = \"./my_tokenizer\"\n",
    "tokenizer.save_pretrained(path)"
   ]
  },
  {
   "cell_type": "markdown",
   "metadata": {},
   "source": [
    "If we want to load this tokenizer again later, all we have to do is call the `from_pretrained` class method!"
   ]
  },
  {
   "cell_type": "code",
   "execution_count": 11,
   "metadata": {},
   "outputs": [
    {
     "name": "stdout",
     "output_type": "stream",
     "text": [
      "Tokenized text: ['h', '##e', '##ll', '##o', ',', 'world', '!']\n"
     ]
    }
   ],
   "source": [
    "del tokenizer\n",
    "\n",
    "tokenizer = WordPieceTokenizer.from_pretrained(path)\n",
    "print(f\"Tokenized text: {tokenizer.tokenize(examples[0])}\")"
   ]
  }
 ],
 "metadata": {
  "kernelspec": {
   "display_name": ".venv",
   "language": "python",
   "name": "python3"
  },
  "language_info": {
   "name": "python",
   "version": "3.12.0"
  }
 },
 "nbformat": 4,
 "nbformat_minor": 2
}
